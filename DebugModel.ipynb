{
 "cells": [
  {
   "cell_type": "code",
   "execution_count": 1,
   "id": "integrated-minister",
   "metadata": {},
   "outputs": [],
   "source": [
    "###model test"
   ]
  },
  {
   "cell_type": "code",
   "execution_count": 38,
   "id": "capital-enterprise",
   "metadata": {},
   "outputs": [],
   "source": [
    "##new model\n",
    "\n",
    "### import required libraries and pkgs ###\n",
    "import glob\n",
    "import os\n",
    "import librosa\n",
    "import numpy as np\n",
    "#from sklearn.model_selection import KFold\n",
    "#from sklearn.metrics import accuracy_score\n",
    "from sklearn.model_selection import train_test_split\n",
    "from sklearn.preprocessing import LabelEncoder\n",
    "#import tensorflow as tf\n",
    "from tensorflow import keras\n",
    "import matplotlib.pyplot as plt\n",
    "import pandas as pd\n",
    "\n",
    "\n",
    "\n",
    "\n",
    "### Define feature extraction ### defualt=1024 in MATLAB\n",
    "#MytimeWindow=1024\n",
    "MySampleRate=44100"
   ]
  },
  {
   "cell_type": "code",
   "execution_count": 39,
   "id": "nasty-links",
   "metadata": {},
   "outputs": [],
   "source": [
    "def Myextract_features(filePath, sampleRate=44100):\n",
    "    \n",
    "    signal,sr = librosa.load(filePath, sampleRate)\n",
    "\n",
    "    #centroid = librosa.feature.spectral_centroid(y=signal,sr=sr)\n",
    "    mfcc = librosa.feature.mfcc(y=signal, sr=sr)\n",
    "    #features = librosa.feature.melspectrogram(y=signal,sr=sr, n_mels=1)\n",
    "    mel = librosa.feature.melspectrogram(y=signal, sr=sr)\n",
    "\n",
    "    features = np.concatenate((mel,mfcc),axis=0)\n",
    "\n",
    "    return features"
   ]
  },
  {
   "cell_type": "code",
   "execution_count": 40,
   "id": "accompanied-crawford",
   "metadata": {},
   "outputs": [
    {
     "name": "stdout",
     "output_type": "stream",
     "text": [
      "(8633, 148, 259)\n",
      "(8633,)\n",
      "(1000, 148, 259)\n",
      "(1000,)\n",
      "(9633, 148, 259)\n"
     ]
    }
   ],
   "source": [
    "import pandas as pd\n",
    "\n",
    "filenames = pd.read_csv('/Users/pooyan/Documents/CMMS/normal.csv')\n",
    "#convert filenames from dataframe to array\n",
    "filenames = np.array(filenames['name'].values)\n",
    "#read all noraml files\n",
    "parent_dir = '/Users/pooyan/Desktop/data_cmms/skytraina_06252019/turbo/'\n",
    "sub_dir = 'combine/'\n",
    "file_ext='*.ogg'\n",
    "#all_Normalfiles = glob.glob(os.path.join(parent_dir, sub_dir, file_ext))[0:2500]\n",
    "all_Normalfiles = parent_dir +sub_dir+ filenames\n",
    "\n",
    "\n",
    "all_noraml_features = [] #define an empty array\n",
    "all_noraml_labels = []\n",
    "for i in range(0,len(all_Normalfiles)):\n",
    "    my_features = Myextract_features(all_Normalfiles[i])\n",
    "    all_noraml_features.append(my_features)\n",
    "    all_noraml_labels.append(\"normal\")\n",
    "\n",
    "#use reshape to conver outputs into arrays\n",
    "dim_1 = len(all_Normalfiles)\n",
    "dim_2 = my_features.shape[0] #number of features\n",
    "dim_3 = my_features.shape[1]\n",
    "all_noraml_features = np.asarray(all_noraml_features).reshape(dim_1, dim_2, dim_3)\n",
    "all_noraml_labels = np.asarray(all_noraml_labels).reshape(dim_1)\n",
    "\n",
    "#check the dimentions\n",
    "print(all_noraml_features.shape)\n",
    "print(all_noraml_labels.shape)\n",
    "\n",
    "#read all anoamly files\n",
    "filenames = pd.read_csv('/Users/pooyan/Documents/CMMS/anomaly.csv')\n",
    "#convert filenames from dataframe to array\n",
    "filenames = np.array(filenames['name'].values)\n",
    "\n",
    "parent_dir = '/Users/pooyan/Desktop/data_cmms/skytraina_06252019/turbo/'\n",
    "sub_dir = 'combine/'\n",
    "file_ext='*.ogg'\n",
    "#all_Anomalyfiles = glob.glob(os.path.join(parent_dir, sub_dir, file_ext))[0:1000]\n",
    "#all_Anomalyfiles = parent_dir +sub_dir+ filenames\n",
    "\n",
    "all_anomaly_features = [] #define an empty array\n",
    "all_anomaly_labels = []\n",
    "for i in range(0,len(all_Anomalyfiles)):\n",
    "    my_features = Myextract_features(all_Anomalyfiles[i])\n",
    "    all_anomaly_features.append(my_features)\n",
    "    all_anomaly_labels.append(\"anomaly\")\n",
    "\n",
    "#use reshape to conver outputs into arrays\n",
    "dim_1 = len(all_Anomalyfiles)\n",
    "dim_2 = my_features.shape[0] #number of features\n",
    "dim_3 = my_features.shape[1]\n",
    "all_anomaly_features = np.asarray(all_anomaly_features).reshape(dim_1, dim_2, dim_3)\n",
    "all_anomaly_labels = np.asarray(all_anomaly_labels).reshape(dim_1)\n",
    "\n",
    "#check the dimentions\n",
    "print(all_anomaly_features.shape)\n",
    "print(all_anomaly_labels.shape)\n",
    "\n",
    "#Merge noraml and anomaly arrays\n",
    "all_data = np.concatenate((all_noraml_features,all_anomaly_features),axis=0)\n",
    "all_label = np.concatenate((all_noraml_labels,all_anomaly_labels),axis=0)\n",
    "\n",
    "#check the dimentions\n",
    "print(all_data.shape)"
   ]
  },
  {
   "cell_type": "code",
   "execution_count": 41,
   "id": "reported-geneva",
   "metadata": {},
   "outputs": [
    {
     "name": "stdout",
     "output_type": "stream",
     "text": [
      "(7802, 148, 259)\n",
      "(964, 148, 259)\n",
      "(867, 148, 259)\n",
      "(7802, 148, 259)\n",
      "(964, 148, 259)\n",
      "(867, 148, 259)\n"
     ]
    }
   ],
   "source": [
    "#endocding labels\n",
    "my_ec = LabelEncoder()\n",
    "all_label = my_ec.fit_transform(all_label)\n",
    "\n",
    "my_ec.transform([\"normal\"])\n",
    "my_ec.inverse_transform(all_label)\n",
    "\n",
    "#split data into train. validation, and test\n",
    "X_train, X_test, y_train, y_test = train_test_split(all_data,all_label,test_size=0.1,shuffle=True)\n",
    "X_train, X_validation, y_train, y_validation = train_test_split(X_train,y_train,test_size=0.1,shuffle=True)\n",
    "\n",
    "#check the dimentions\n",
    "print(X_train.shape)\n",
    "print(X_test.shape)\n",
    "print(X_validation.shape)\n",
    "\n",
    "#check the dimentions\n",
    "print(X_train.shape)\n",
    "print(X_test.shape)\n",
    "print(X_validation.shape)"
   ]
  },
  {
   "cell_type": "code",
   "execution_count": 35,
   "id": "martial-broadway",
   "metadata": {},
   "outputs": [
    {
     "name": "stdout",
     "output_type": "stream",
     "text": [
      "Model: \"sequential_12\"\n",
      "_________________________________________________________________\n",
      " Layer (type)                Output Shape              Param #   \n",
      "=================================================================\n",
      " lstm_7 (LSTM)               (None, 50)                62000     \n",
      "                                                                 \n",
      " dropout_4 (Dropout)         (None, 50)                0         \n",
      "                                                                 \n",
      " dense_9 (Dense)             (None, 2)                 102       \n",
      "                                                                 \n",
      "=================================================================\n",
      "Total params: 62,102\n",
      "Trainable params: 62,102\n",
      "Non-trainable params: 0\n",
      "_________________________________________________________________\n"
     ]
    }
   ],
   "source": [
    "import keras\n",
    "from keras.models import Sequential\n",
    "from keras.layers import Dense, Dropout, LSTM\n",
    "#from tensorflow.keras.utils import to_categorical\n",
    "from keras import optimizers\n",
    "model = Sequential()\n",
    "model.add(LSTM(50, input_shape=(148,259)))\n",
    "model.add(Dropout(0.1)) #recommnedded rate is 0.1\n",
    "#model.add(Dense(1, activation=\"sigmoid\"))\n",
    "model.add(Dense(2, activation = \"softmax\"))\n",
    "#model.compile(optimizer='adam',loss=SparseCategoricalCrossentropy(), metrics=[\"accuracy\"])\n",
    "model.summary()"
   ]
  },
  {
   "cell_type": "code",
   "execution_count": 16,
   "id": "eleven-poster",
   "metadata": {},
   "outputs": [
    {
     "name": "stdout",
     "output_type": "stream",
     "text": [
      "Epoch 1/30\n",
      "9/9 [==============================] - 3s 120ms/step - loss: 0.6575 - accuracy: 0.6693 - val_loss: 0.6440 - val_accuracy: 0.6349\n",
      "Epoch 2/30\n",
      "9/9 [==============================] - 1s 78ms/step - loss: 0.6337 - accuracy: 0.6781 - val_loss: 0.6427 - val_accuracy: 0.6508\n",
      "Epoch 3/30\n",
      "9/9 [==============================] - 1s 74ms/step - loss: 0.6305 - accuracy: 0.6746 - val_loss: 0.6441 - val_accuracy: 0.6746\n",
      "Epoch 4/30\n",
      "9/9 [==============================] - 1s 75ms/step - loss: 0.6193 - accuracy: 0.6887 - val_loss: 0.6470 - val_accuracy: 0.6746\n",
      "Epoch 5/30\n",
      "9/9 [==============================] - 1s 76ms/step - loss: 0.6129 - accuracy: 0.7011 - val_loss: 0.6497 - val_accuracy: 0.6825\n",
      "Epoch 6/30\n",
      "9/9 [==============================] - 1s 75ms/step - loss: 0.6089 - accuracy: 0.6922 - val_loss: 0.6547 - val_accuracy: 0.6746\n",
      "Epoch 7/30\n",
      "9/9 [==============================] - 1s 75ms/step - loss: 0.6023 - accuracy: 0.6958 - val_loss: 0.6587 - val_accuracy: 0.6746\n",
      "Epoch 8/30\n",
      "9/9 [==============================] - 1s 75ms/step - loss: 0.5945 - accuracy: 0.6993 - val_loss: 0.6620 - val_accuracy: 0.6746\n",
      "Epoch 9/30\n",
      "9/9 [==============================] - 1s 75ms/step - loss: 0.5911 - accuracy: 0.7011 - val_loss: 0.6656 - val_accuracy: 0.6429\n",
      "Epoch 10/30\n",
      "9/9 [==============================] - 1s 74ms/step - loss: 0.5850 - accuracy: 0.7152 - val_loss: 0.6686 - val_accuracy: 0.6508\n",
      "Epoch 11/30\n",
      "9/9 [==============================] - 1s 73ms/step - loss: 0.5872 - accuracy: 0.7011 - val_loss: 0.6731 - val_accuracy: 0.6508\n",
      "Epoch 12/30\n",
      "9/9 [==============================] - 1s 75ms/step - loss: 0.5762 - accuracy: 0.7037 - val_loss: 0.6765 - val_accuracy: 0.6429\n",
      "Epoch 13/30\n",
      "9/9 [==============================] - 1s 75ms/step - loss: 0.5741 - accuracy: 0.7037 - val_loss: 0.6792 - val_accuracy: 0.6429\n",
      "Epoch 14/30\n",
      "9/9 [==============================] - 1s 74ms/step - loss: 0.5747 - accuracy: 0.7081 - val_loss: 0.6844 - val_accuracy: 0.6349\n",
      "Epoch 15/30\n",
      "9/9 [==============================] - 1s 76ms/step - loss: 0.5682 - accuracy: 0.7169 - val_loss: 0.6889 - val_accuracy: 0.6349\n",
      "Epoch 16/30\n",
      "9/9 [==============================] - 1s 74ms/step - loss: 0.5645 - accuracy: 0.7249 - val_loss: 0.6915 - val_accuracy: 0.6349\n",
      "Epoch 17/30\n",
      "9/9 [==============================] - 1s 75ms/step - loss: 0.5675 - accuracy: 0.7116 - val_loss: 0.6950 - val_accuracy: 0.6349\n",
      "Epoch 18/30\n",
      "9/9 [==============================] - 1s 75ms/step - loss: 0.5631 - accuracy: 0.7090 - val_loss: 0.6971 - val_accuracy: 0.6349\n",
      "Epoch 19/30\n",
      "9/9 [==============================] - 1s 75ms/step - loss: 0.5550 - accuracy: 0.7169 - val_loss: 0.7010 - val_accuracy: 0.6349\n",
      "Epoch 20/30\n",
      "9/9 [==============================] - 1s 76ms/step - loss: 0.5536 - accuracy: 0.7205 - val_loss: 0.7059 - val_accuracy: 0.6349\n",
      "Epoch 21/30\n",
      "9/9 [==============================] - 1s 74ms/step - loss: 0.5530 - accuracy: 0.7213 - val_loss: 0.7097 - val_accuracy: 0.6349\n",
      "Epoch 22/30\n",
      "9/9 [==============================] - 1s 79ms/step - loss: 0.5494 - accuracy: 0.7160 - val_loss: 0.7114 - val_accuracy: 0.6270\n",
      "Epoch 23/30\n",
      "9/9 [==============================] - 1s 75ms/step - loss: 0.5455 - accuracy: 0.7134 - val_loss: 0.7158 - val_accuracy: 0.6270\n",
      "Epoch 24/30\n",
      "9/9 [==============================] - 1s 78ms/step - loss: 0.5469 - accuracy: 0.7160 - val_loss: 0.7197 - val_accuracy: 0.6270\n",
      "Epoch 25/30\n",
      "9/9 [==============================] - 1s 76ms/step - loss: 0.5418 - accuracy: 0.7222 - val_loss: 0.7234 - val_accuracy: 0.6270\n",
      "Epoch 26/30\n",
      "9/9 [==============================] - 1s 81ms/step - loss: 0.5394 - accuracy: 0.7116 - val_loss: 0.7276 - val_accuracy: 0.6190\n",
      "Epoch 27/30\n",
      "9/9 [==============================] - 1s 76ms/step - loss: 0.5319 - accuracy: 0.7284 - val_loss: 0.7313 - val_accuracy: 0.6190\n",
      "Epoch 28/30\n",
      "9/9 [==============================] - 1s 75ms/step - loss: 0.5327 - accuracy: 0.7302 - val_loss: 0.7335 - val_accuracy: 0.6111\n",
      "Epoch 29/30\n",
      "9/9 [==============================] - 1s 74ms/step - loss: 0.5271 - accuracy: 0.7310 - val_loss: 0.7371 - val_accuracy: 0.6190\n",
      "Epoch 30/30\n",
      "9/9 [==============================] - 1s 73ms/step - loss: 0.5220 - accuracy: 0.7257 - val_loss: 0.7413 - val_accuracy: 0.6190\n"
     ]
    }
   ],
   "source": [
    "import numpy as np\n",
    "import tensorflow as tf\n",
    "from tensorflow import keras\n",
    "from tensorflow.keras import layers\n",
    "\n",
    "from keras.layers import LSTM\n",
    "\n",
    "model.compile(optimizer=keras.optimizers.Adam(1e-4),loss=tf.losses.SparseCategoricalCrossentropy(), metrics=[\"accuracy\"])\n",
    "history=model.fit(X_train, y_train, validation_data=(X_validation, y_validation),epochs = 30, batch_size = 128, verbose = 1)\n"
   ]
  },
  {
   "cell_type": "code",
   "execution_count": 17,
   "id": "oriental-newton",
   "metadata": {},
   "outputs": [
    {
     "name": "stdout",
     "output_type": "stream",
     "text": [
      "Model: \"sequential_5\"\n",
      "_________________________________________________________________\n",
      " Layer (type)                Output Shape              Param #   \n",
      "=================================================================\n",
      " lstm_3 (LSTM)               (None, 50)                62000     \n",
      "                                                                 \n",
      " dense_3 (Dense)             (None, 64)                3264      \n",
      "                                                                 \n",
      " dense_4 (Dense)             (None, 2)                 130       \n",
      "                                                                 \n",
      "=================================================================\n",
      "Total params: 65,394\n",
      "Trainable params: 65,394\n",
      "Non-trainable params: 0\n",
      "_________________________________________________________________\n"
     ]
    }
   ],
   "source": [
    "input_shape = (148,259)\n",
    "model = tf.keras.Sequential()\n",
    "model.add(LSTM(50, input_shape=(148,259)))\n",
    "#model.add(tf.keras.layers.LSTM(64))\n",
    "model.add(tf.keras.layers.Dense(64, activation='relu'))\n",
    "model.add(tf.keras.layers.Dense(2,activation = 'softmax'))\n",
    "model.summary()"
   ]
  },
  {
   "cell_type": "code",
   "execution_count": 18,
   "id": "tutorial-twenty",
   "metadata": {},
   "outputs": [
    {
     "name": "stdout",
     "output_type": "stream",
     "text": [
      "Epoch 1/30\n",
      "9/9 [==============================] - 2s 115ms/step - loss: 0.6959 - accuracy: 0.5564 - val_loss: 0.6767 - val_accuracy: 0.5714\n",
      "Epoch 2/30\n",
      "9/9 [==============================] - 1s 74ms/step - loss: 0.6348 - accuracy: 0.6684 - val_loss: 0.6520 - val_accuracy: 0.6429\n",
      "Epoch 3/30\n",
      "9/9 [==============================] - 1s 74ms/step - loss: 0.6128 - accuracy: 0.6958 - val_loss: 0.6514 - val_accuracy: 0.6587\n",
      "Epoch 4/30\n",
      "9/9 [==============================] - 1s 74ms/step - loss: 0.6042 - accuracy: 0.7072 - val_loss: 0.6543 - val_accuracy: 0.6587\n",
      "Epoch 5/30\n",
      "9/9 [==============================] - 1s 76ms/step - loss: 0.5976 - accuracy: 0.7125 - val_loss: 0.6557 - val_accuracy: 0.6667\n",
      "Epoch 6/30\n",
      "9/9 [==============================] - 1s 74ms/step - loss: 0.5920 - accuracy: 0.7125 - val_loss: 0.6578 - val_accuracy: 0.6667\n",
      "Epoch 7/30\n",
      "9/9 [==============================] - 1s 74ms/step - loss: 0.5871 - accuracy: 0.7143 - val_loss: 0.6594 - val_accuracy: 0.6587\n",
      "Epoch 8/30\n",
      "9/9 [==============================] - 1s 74ms/step - loss: 0.5829 - accuracy: 0.7169 - val_loss: 0.6629 - val_accuracy: 0.6587\n",
      "Epoch 9/30\n",
      "9/9 [==============================] - 1s 75ms/step - loss: 0.5786 - accuracy: 0.7178 - val_loss: 0.6645 - val_accuracy: 0.6587\n",
      "Epoch 10/30\n",
      "9/9 [==============================] - 1s 76ms/step - loss: 0.5747 - accuracy: 0.7187 - val_loss: 0.6670 - val_accuracy: 0.6667\n",
      "Epoch 11/30\n",
      "9/9 [==============================] - 1s 75ms/step - loss: 0.5710 - accuracy: 0.7213 - val_loss: 0.6698 - val_accuracy: 0.6667\n",
      "Epoch 12/30\n",
      "9/9 [==============================] - 1s 75ms/step - loss: 0.5673 - accuracy: 0.7205 - val_loss: 0.6717 - val_accuracy: 0.6667\n",
      "Epoch 13/30\n",
      "9/9 [==============================] - 1s 74ms/step - loss: 0.5640 - accuracy: 0.7213 - val_loss: 0.6743 - val_accuracy: 0.6667\n",
      "Epoch 14/30\n",
      "9/9 [==============================] - 1s 74ms/step - loss: 0.5609 - accuracy: 0.7205 - val_loss: 0.6771 - val_accuracy: 0.6587\n",
      "Epoch 15/30\n",
      "9/9 [==============================] - 1s 75ms/step - loss: 0.5577 - accuracy: 0.7222 - val_loss: 0.6782 - val_accuracy: 0.6508\n",
      "Epoch 16/30\n",
      "9/9 [==============================] - 1s 76ms/step - loss: 0.5547 - accuracy: 0.7213 - val_loss: 0.6812 - val_accuracy: 0.6508\n",
      "Epoch 17/30\n",
      "9/9 [==============================] - 1s 76ms/step - loss: 0.5515 - accuracy: 0.7205 - val_loss: 0.6842 - val_accuracy: 0.6508\n",
      "Epoch 18/30\n",
      "9/9 [==============================] - 1s 77ms/step - loss: 0.5487 - accuracy: 0.7222 - val_loss: 0.6877 - val_accuracy: 0.6587\n",
      "Epoch 19/30\n",
      "9/9 [==============================] - 1s 75ms/step - loss: 0.5458 - accuracy: 0.7222 - val_loss: 0.6906 - val_accuracy: 0.6587\n",
      "Epoch 20/30\n",
      "9/9 [==============================] - 1s 74ms/step - loss: 0.5428 - accuracy: 0.7222 - val_loss: 0.6937 - val_accuracy: 0.6587\n",
      "Epoch 21/30\n",
      "9/9 [==============================] - 1s 78ms/step - loss: 0.5400 - accuracy: 0.7240 - val_loss: 0.6972 - val_accuracy: 0.6587\n",
      "Epoch 22/30\n",
      "9/9 [==============================] - 1s 78ms/step - loss: 0.5373 - accuracy: 0.7240 - val_loss: 0.7000 - val_accuracy: 0.6587\n",
      "Epoch 23/30\n",
      "9/9 [==============================] - 1s 77ms/step - loss: 0.5346 - accuracy: 0.7240 - val_loss: 0.7044 - val_accuracy: 0.6587\n",
      "Epoch 24/30\n",
      "9/9 [==============================] - 1s 76ms/step - loss: 0.5316 - accuracy: 0.7213 - val_loss: 0.7073 - val_accuracy: 0.6587\n",
      "Epoch 25/30\n",
      "9/9 [==============================] - 1s 77ms/step - loss: 0.5290 - accuracy: 0.7249 - val_loss: 0.7125 - val_accuracy: 0.6587\n",
      "Epoch 26/30\n",
      "9/9 [==============================] - 1s 76ms/step - loss: 0.5266 - accuracy: 0.7231 - val_loss: 0.7165 - val_accuracy: 0.6587\n",
      "Epoch 27/30\n",
      "9/9 [==============================] - 1s 76ms/step - loss: 0.5238 - accuracy: 0.7231 - val_loss: 0.7199 - val_accuracy: 0.6429\n",
      "Epoch 28/30\n",
      "9/9 [==============================] - 1s 76ms/step - loss: 0.5211 - accuracy: 0.7249 - val_loss: 0.7245 - val_accuracy: 0.6190\n",
      "Epoch 29/30\n",
      "9/9 [==============================] - 1s 74ms/step - loss: 0.5182 - accuracy: 0.7293 - val_loss: 0.7288 - val_accuracy: 0.6190\n",
      "Epoch 30/30\n",
      "9/9 [==============================] - 1s 74ms/step - loss: 0.5155 - accuracy: 0.7310 - val_loss: 0.7323 - val_accuracy: 0.6111\n"
     ]
    }
   ],
   "source": [
    "model.compile(optimizer=keras.optimizers.Adam(1e-4),loss=tf.losses.SparseCategoricalCrossentropy(), metrics=[\"accuracy\"])\n",
    "history=model.fit(X_train, y_train, validation_data=(X_validation, y_validation),epochs = 30, batch_size = 128, verbose = 1)\n"
   ]
  },
  {
   "cell_type": "code",
   "execution_count": 23,
   "id": "civic-midnight",
   "metadata": {},
   "outputs": [
    {
     "name": "stdout",
     "output_type": "stream",
     "text": [
      "Model: \"sequential_10\"\n",
      "_________________________________________________________________\n",
      " Layer (type)                Output Shape              Param #   \n",
      "=================================================================\n",
      " conv1d_3 (Conv1D)           (None, 147, 256)          132864    \n",
      "                                                                 \n",
      " max_pooling1d_3 (MaxPooling  (None, 73, 256)          0         \n",
      " 1D)                                                             \n",
      "                                                                 \n",
      " flatten_2 (Flatten)         (None, 18688)             0         \n",
      "                                                                 \n",
      " repeat_vector_1 (RepeatVect  (None, 30, 18688)        0         \n",
      " or)                                                             \n",
      "                                                                 \n",
      " lstm_5 (LSTM)               (None, 30, 50)            3747800   \n",
      "                                                                 \n",
      " bidirectional (Bidirectiona  (None, 256)              183296    \n",
      " l)                                                              \n",
      "                                                                 \n",
      " dense_5 (Dense)             (None, 50)                12850     \n",
      "                                                                 \n",
      " dense_6 (Dense)             (None, 2)                 102       \n",
      "                                                                 \n",
      "=================================================================\n",
      "Total params: 4,076,912\n",
      "Trainable params: 4,076,912\n",
      "Non-trainable params: 0\n",
      "_________________________________________________________________\n"
     ]
    }
   ],
   "source": [
    "from keras import layers as keras_layers\n",
    "import numpy as np    \n",
    "from keras.layers.convolutional import Conv1D    \n",
    "from keras.layers.convolutional import MaxPooling1D \n",
    "from keras.layers import Flatten, RepeatVector, Bidirectional\n",
    "\n",
    "model = Sequential()\n",
    "model.add(Conv1D(filters=256, kernel_size=2, activation='relu', input_shape=(148,259)))\n",
    "#model.add(Conv1D(filters=128, kernel_size=2, activation='relu'))\n",
    "model.add(MaxPooling1D(pool_size=2))\n",
    "model.add(Flatten())\n",
    "model.add(RepeatVector(30))\n",
    "#model.add(LSTM(units=25, return_sequences=True, activation='relu'))\n",
    "#model.add(Dropout(0.2))\n",
    "#model.add(LSTM(units=25, return_sequences=True, activation='relu'))\n",
    "#model.add(Dropout(0.2))\n",
    "#model.add(LSTM(units=25, return_sequences=True, activation='relu'))\n",
    "model.add(LSTM(units=50, return_sequences=True, activation='relu'))\n",
    "model.add(Bidirectional(LSTM(128, activation='relu')))\n",
    "model.add(Dense(50, activation='relu'))\n",
    "model.add(Dense(2))\n",
    "#model.compile(loss='mae', optimizer='adam', metrics=['mse'])\n",
    "model.summary()"
   ]
  },
  {
   "cell_type": "code",
   "execution_count": 24,
   "id": "competent-lending",
   "metadata": {},
   "outputs": [
    {
     "name": "stdout",
     "output_type": "stream",
     "text": [
      "Epoch 1/30\n",
      "9/9 [==============================] - 10s 787ms/step - loss: 2.9666 - accuracy: 0.6781 - val_loss: 4.0123 - val_accuracy: 0.6667\n",
      "Epoch 2/30\n",
      "9/9 [==============================] - 7s 734ms/step - loss: 2.7815 - accuracy: 0.6799 - val_loss: 2.5157 - val_accuracy: 0.6746\n",
      "Epoch 3/30\n",
      "9/9 [==============================] - 7s 737ms/step - loss: 2.6904 - accuracy: 0.6781 - val_loss: 2.6602 - val_accuracy: 0.6746\n",
      "Epoch 4/30\n",
      "9/9 [==============================] - 7s 724ms/step - loss: 2.7543 - accuracy: 0.6896 - val_loss: 2.6657 - val_accuracy: 0.6825\n",
      "Epoch 5/30\n",
      "9/9 [==============================] - 7s 726ms/step - loss: 2.9551 - accuracy: 0.6914 - val_loss: 2.5322 - val_accuracy: 0.6508\n",
      "Epoch 6/30\n",
      "9/9 [==============================] - 7s 742ms/step - loss: 2.8558 - accuracy: 0.6790 - val_loss: 2.8610 - val_accuracy: 0.6905\n",
      "Epoch 7/30\n",
      "9/9 [==============================] - 7s 733ms/step - loss: 2.7783 - accuracy: 0.6896 - val_loss: 2.8995 - val_accuracy: 0.6667\n",
      "Epoch 8/30\n",
      "9/9 [==============================] - 7s 748ms/step - loss: 3.0493 - accuracy: 0.6825 - val_loss: 2.8885 - val_accuracy: 0.6905\n",
      "Epoch 9/30\n",
      "9/9 [==============================] - 7s 740ms/step - loss: 3.1048 - accuracy: 0.6878 - val_loss: 3.3163 - val_accuracy: 0.6429\n",
      "Epoch 10/30\n",
      "9/9 [==============================] - 7s 729ms/step - loss: 2.7840 - accuracy: 0.6922 - val_loss: 3.0659 - val_accuracy: 0.6190\n",
      "Epoch 11/30\n",
      "9/9 [==============================] - 7s 746ms/step - loss: 2.7820 - accuracy: 0.6817 - val_loss: 2.9160 - val_accuracy: 0.6667\n",
      "Epoch 12/30\n",
      "9/9 [==============================] - 7s 735ms/step - loss: 2.8347 - accuracy: 0.6896 - val_loss: 2.8101 - val_accuracy: 0.6587\n",
      "Epoch 13/30\n",
      "9/9 [==============================] - 7s 747ms/step - loss: 2.8093 - accuracy: 0.6869 - val_loss: 2.9050 - val_accuracy: 0.6587\n",
      "Epoch 14/30\n",
      "9/9 [==============================] - 7s 731ms/step - loss: 2.7377 - accuracy: 0.6852 - val_loss: 2.7881 - val_accuracy: 0.6587\n",
      "Epoch 15/30\n",
      "9/9 [==============================] - 7s 745ms/step - loss: 2.9141 - accuracy: 0.6878 - val_loss: 3.0054 - val_accuracy: 0.6667\n",
      "Epoch 16/30\n",
      "9/9 [==============================] - 7s 748ms/step - loss: 2.9047 - accuracy: 0.6825 - val_loss: 3.6285 - val_accuracy: 0.6429\n",
      "Epoch 17/30\n",
      "9/9 [==============================] - 7s 743ms/step - loss: 3.2484 - accuracy: 0.6675 - val_loss: 3.2228 - val_accuracy: 0.6825\n",
      "Epoch 18/30\n",
      "9/9 [==============================] - 7s 739ms/step - loss: 2.8980 - accuracy: 0.7028 - val_loss: 3.6120 - val_accuracy: 0.6825\n",
      "Epoch 19/30\n",
      "9/9 [==============================] - 6s 718ms/step - loss: 3.0866 - accuracy: 0.6878 - val_loss: 2.8610 - val_accuracy: 0.7063\n",
      "Epoch 20/30\n",
      "9/9 [==============================] - 7s 760ms/step - loss: 3.0366 - accuracy: 0.6852 - val_loss: 2.5102 - val_accuracy: 0.7063\n",
      "Epoch 21/30\n",
      "9/9 [==============================] - 7s 746ms/step - loss: 3.0805 - accuracy: 0.6852 - val_loss: 3.5845 - val_accuracy: 0.6905\n",
      "Epoch 22/30\n",
      "9/9 [==============================] - 7s 747ms/step - loss: 3.2114 - accuracy: 0.6878 - val_loss: 2.8610 - val_accuracy: 0.7143\n",
      "Epoch 23/30\n",
      "9/9 [==============================] - 7s 745ms/step - loss: 3.0681 - accuracy: 0.6825 - val_loss: 3.5900 - val_accuracy: 0.6667\n",
      "Epoch 24/30\n",
      "9/9 [==============================] - 7s 741ms/step - loss: 3.2313 - accuracy: 0.6843 - val_loss: 3.4786 - val_accuracy: 0.6825\n",
      "Epoch 25/30\n",
      "9/9 [==============================] - 7s 731ms/step - loss: 3.1905 - accuracy: 0.6843 - val_loss: 3.7344 - val_accuracy: 0.6667\n",
      "Epoch 26/30\n",
      "9/9 [==============================] - 7s 751ms/step - loss: 3.1150 - accuracy: 0.6825 - val_loss: 3.6010 - val_accuracy: 0.6746\n",
      "Epoch 27/30\n",
      "9/9 [==============================] - 7s 726ms/step - loss: 2.9376 - accuracy: 0.6878 - val_loss: 3.7069 - val_accuracy: 0.6825\n",
      "Epoch 28/30\n",
      "9/9 [==============================] - 7s 733ms/step - loss: 2.9684 - accuracy: 0.6825 - val_loss: 3.5955 - val_accuracy: 0.6825\n",
      "Epoch 29/30\n",
      "9/9 [==============================] - 7s 735ms/step - loss: 2.9808 - accuracy: 0.6869 - val_loss: 3.5955 - val_accuracy: 0.6825\n",
      "Epoch 30/30\n",
      "9/9 [==============================] - 7s 741ms/step - loss: 3.0080 - accuracy: 0.6887 - val_loss: 3.5900 - val_accuracy: 0.6905\n"
     ]
    }
   ],
   "source": [
    "model.compile(optimizer=keras.optimizers.Adam(1e-4),loss=tf.losses.SparseCategoricalCrossentropy(), metrics=[\"accuracy\"])\n",
    "history=model.fit(X_train, y_train, validation_data=(X_validation, y_validation),epochs = 30, batch_size = 128, verbose = 1)\n"
   ]
  },
  {
   "cell_type": "code",
   "execution_count": 26,
   "id": "marked-remains",
   "metadata": {},
   "outputs": [
    {
     "name": "stdout",
     "output_type": "stream",
     "text": [
      "train set\n",
      "0:anomaly - 1:normal\n",
      "[[ 13 310]\n",
      " [ 44 767]]\n",
      "accuracy=0.69 f1score=0.07\n",
      "precision=0.23 recall=0.04\n"
     ]
    }
   ],
   "source": [
    "from sklearn.metrics import confusion_matrix\n",
    "\n",
    "pred = model.predict(X_train)\n",
    "y_pred = [0 if y[0]>y[1] else 1 for y in pred]   #thereshold=50 y[0]>0.50\n",
    "\n",
    "cm=confusion_matrix(y_train,y_pred)\n",
    "print(\"train set\")\n",
    "print(\"0:%s - 1:%s\"%(my_ec.inverse_transform([0])[0],my_ec.inverse_transform([1])[0]))\n",
    "print(cm)\n",
    "\n",
    "accuracy = (cm[0,0]+cm[1,1])/cm.sum()\n",
    "precision= (cm[0,0])/(cm[0,0]+cm[1,0])\n",
    "recall = (cm[0,0])/(cm[0,0]+cm[0,1])\n",
    "f1=2*precision*recall/(precision+recall)\n",
    "\n",
    "print(\"accuracy=%.2f f1score=%.2f\"%(accuracy, f1))\n",
    "print(\"precision=%.2f recall=%.2f\"%(precision, recall))"
   ]
  },
  {
   "cell_type": "code",
   "execution_count": 42,
   "id": "indie-delaware",
   "metadata": {},
   "outputs": [
    {
     "name": "stdout",
     "output_type": "stream",
     "text": [
      "Model: \"sequential_13\"\n",
      "_________________________________________________________________\n",
      " Layer (type)                Output Shape              Param #   \n",
      "=================================================================\n",
      " conv1d_6 (Conv1D)           (None, 146, 64)           49792     \n",
      "                                                                 \n",
      " conv1d_7 (Conv1D)           (None, 144, 64)           12352     \n",
      "                                                                 \n",
      " dropout_5 (Dropout)         (None, 144, 64)           0         \n",
      "                                                                 \n",
      " max_pooling1d_5 (MaxPooling  (None, 72, 64)           0         \n",
      " 1D)                                                             \n",
      "                                                                 \n",
      " flatten_4 (Flatten)         (None, 4608)              0         \n",
      "                                                                 \n",
      " dense_10 (Dense)            (None, 100)               460900    \n",
      "                                                                 \n",
      " dense_11 (Dense)            (None, 2)                 202       \n",
      "                                                                 \n",
      "=================================================================\n",
      "Total params: 523,246\n",
      "Trainable params: 523,246\n",
      "Non-trainable params: 0\n",
      "_________________________________________________________________\n"
     ]
    }
   ],
   "source": [
    "from keras import layers as keras_layers\n",
    "import numpy as np    \n",
    "from keras.layers.convolutional import Conv1D    \n",
    "from keras.layers.convolutional import MaxPooling1D \n",
    "\n",
    "model = Sequential()\n",
    "model.add(Conv1D(filters=64, kernel_size=3, activation='relu', input_shape=(148,259)))\n",
    "model.add(Conv1D(filters=64, kernel_size=3, activation='relu'))\n",
    "model.add(Dropout(0.5))\n",
    "model.add(MaxPooling1D(pool_size=2))\n",
    "model.add(Flatten())\n",
    "model.add(Dense(100, activation='relu'))\n",
    "model.add(Dense(2, activation='softmax'))\n",
    "model.summary()"
   ]
  },
  {
   "cell_type": "code",
   "execution_count": 43,
   "id": "competitive-priest",
   "metadata": {},
   "outputs": [
    {
     "name": "stdout",
     "output_type": "stream",
     "text": [
      "Epoch 1/30\n",
      "61/61 [==============================] - 4s 53ms/step - loss: 64.9138 - accuracy: 0.8238 - val_loss: 18.6187 - val_accuracy: 0.9112\n",
      "Epoch 2/30\n",
      "61/61 [==============================] - 3s 50ms/step - loss: 19.3958 - accuracy: 0.8386 - val_loss: 9.9191 - val_accuracy: 0.9043\n",
      "Epoch 3/30\n",
      "61/61 [==============================] - 3s 50ms/step - loss: 12.1556 - accuracy: 0.8445 - val_loss: 6.7233 - val_accuracy: 0.9089\n",
      "Epoch 4/30\n",
      "61/61 [==============================] - 3s 53ms/step - loss: 9.2541 - accuracy: 0.8540 - val_loss: 4.4451 - val_accuracy: 0.8812\n",
      "Epoch 5/30\n",
      "61/61 [==============================] - 3s 49ms/step - loss: 6.9335 - accuracy: 0.8476 - val_loss: 3.4443 - val_accuracy: 0.8720\n",
      "Epoch 6/30\n",
      "61/61 [==============================] - 3s 49ms/step - loss: 5.7872 - accuracy: 0.8507 - val_loss: 2.5881 - val_accuracy: 0.8512\n",
      "Epoch 7/30\n",
      "61/61 [==============================] - 3s 49ms/step - loss: 4.8195 - accuracy: 0.8509 - val_loss: 2.2293 - val_accuracy: 0.8328\n",
      "Epoch 8/30\n",
      "61/61 [==============================] - 3s 50ms/step - loss: 4.0807 - accuracy: 0.8443 - val_loss: 2.2163 - val_accuracy: 0.7739\n",
      "Epoch 9/30\n",
      "61/61 [==============================] - 3s 50ms/step - loss: 3.6364 - accuracy: 0.8512 - val_loss: 1.8481 - val_accuracy: 0.8824\n",
      "Epoch 10/30\n",
      "61/61 [==============================] - 3s 53ms/step - loss: 2.9073 - accuracy: 0.8467 - val_loss: 1.7515 - val_accuracy: 0.9031\n",
      "Epoch 11/30\n",
      "61/61 [==============================] - 3s 51ms/step - loss: 2.4502 - accuracy: 0.8518 - val_loss: 1.2831 - val_accuracy: 0.8697\n",
      "Epoch 12/30\n",
      "61/61 [==============================] - 3s 51ms/step - loss: 2.0365 - accuracy: 0.8514 - val_loss: 1.3185 - val_accuracy: 0.9054\n",
      "Epoch 13/30\n",
      "61/61 [==============================] - 3s 52ms/step - loss: 1.7202 - accuracy: 0.8518 - val_loss: 0.9432 - val_accuracy: 0.8731\n",
      "Epoch 14/30\n",
      "61/61 [==============================] - 3s 51ms/step - loss: 1.4422 - accuracy: 0.8527 - val_loss: 0.8554 - val_accuracy: 0.8754\n",
      "Epoch 15/30\n",
      "61/61 [==============================] - 3s 53ms/step - loss: 1.2963 - accuracy: 0.8461 - val_loss: 0.7177 - val_accuracy: 0.8939\n",
      "Epoch 16/30\n",
      "61/61 [==============================] - 3s 54ms/step - loss: 1.0314 - accuracy: 0.8599 - val_loss: 0.6182 - val_accuracy: 0.8950\n",
      "Epoch 17/30\n",
      "61/61 [==============================] - 3s 54ms/step - loss: 0.8297 - accuracy: 0.8611 - val_loss: 0.4687 - val_accuracy: 0.8777\n",
      "Epoch 18/30\n",
      "61/61 [==============================] - 3s 53ms/step - loss: 0.6760 - accuracy: 0.8636 - val_loss: 0.3879 - val_accuracy: 0.8985\n",
      "Epoch 19/30\n",
      "61/61 [==============================] - 3s 54ms/step - loss: 0.5195 - accuracy: 0.8784 - val_loss: 0.3299 - val_accuracy: 0.9100\n",
      "Epoch 20/30\n",
      "61/61 [==============================] - 3s 53ms/step - loss: 0.4201 - accuracy: 0.8982 - val_loss: 0.3155 - val_accuracy: 0.9112\n",
      "Epoch 21/30\n",
      "61/61 [==============================] - 3s 57ms/step - loss: 0.3810 - accuracy: 0.9054 - val_loss: 0.3117 - val_accuracy: 0.9123\n",
      "Epoch 22/30\n",
      "61/61 [==============================] - 3s 52ms/step - loss: 0.3374 - accuracy: 0.9100 - val_loss: 0.3103 - val_accuracy: 0.9123\n",
      "Epoch 23/30\n",
      "61/61 [==============================] - 3s 54ms/step - loss: 0.3146 - accuracy: 0.9135 - val_loss: 0.3154 - val_accuracy: 0.9123\n",
      "Epoch 24/30\n",
      "61/61 [==============================] - 3s 55ms/step - loss: 0.3127 - accuracy: 0.9145 - val_loss: 0.3063 - val_accuracy: 0.9123\n",
      "Epoch 25/30\n",
      "61/61 [==============================] - 3s 53ms/step - loss: 0.3090 - accuracy: 0.9145 - val_loss: 0.3064 - val_accuracy: 0.9123\n",
      "Epoch 26/30\n",
      "61/61 [==============================] - 3s 51ms/step - loss: 0.2994 - accuracy: 0.9151 - val_loss: 0.3113 - val_accuracy: 0.9123\n",
      "Epoch 27/30\n",
      "61/61 [==============================] - 3s 51ms/step - loss: 0.3018 - accuracy: 0.9159 - val_loss: 0.3057 - val_accuracy: 0.9123\n",
      "Epoch 28/30\n",
      "61/61 [==============================] - 3s 50ms/step - loss: 0.2984 - accuracy: 0.9154 - val_loss: 0.3049 - val_accuracy: 0.9123\n",
      "Epoch 29/30\n",
      "61/61 [==============================] - 3s 51ms/step - loss: 0.2951 - accuracy: 0.9158 - val_loss: 0.2998 - val_accuracy: 0.9123\n",
      "Epoch 30/30\n",
      "61/61 [==============================] - 3s 51ms/step - loss: 0.2984 - accuracy: 0.9153 - val_loss: 0.3024 - val_accuracy: 0.9123\n"
     ]
    }
   ],
   "source": [
    "model.compile(optimizer=keras.optimizers.Adam(1e-4),loss=tf.losses.SparseCategoricalCrossentropy(), metrics=[\"accuracy\"])\n",
    "history=model.fit(X_train, y_train, validation_data=(X_validation, y_validation),epochs = 30, batch_size = 128, verbose = 1)\n"
   ]
  },
  {
   "cell_type": "code",
   "execution_count": 44,
   "id": "ongoing-liability",
   "metadata": {},
   "outputs": [
    {
     "name": "stdout",
     "output_type": "stream",
     "text": [
      "train set\n",
      "0:anomaly - 1:normal\n",
      "[[ 153  652]\n",
      " [   0 6997]]\n",
      "accuracy=0.92 f1score=0.32\n",
      "precision=1.00 recall=0.19\n"
     ]
    }
   ],
   "source": [
    "from sklearn.metrics import confusion_matrix\n",
    "\n",
    "pred = model.predict(X_train)\n",
    "y_pred = [0 if y[0]>y[1] else 1 for y in pred]   #thereshold=50 y[0]>0.50\n",
    "\n",
    "cm=confusion_matrix(y_train,y_pred)\n",
    "print(\"train set\")\n",
    "print(\"0:%s - 1:%s\"%(my_ec.inverse_transform([0])[0],my_ec.inverse_transform([1])[0]))\n",
    "print(cm)\n",
    "\n",
    "accuracy = (cm[0,0]+cm[1,1])/cm.sum()\n",
    "precision= (cm[0,0])/(cm[0,0]+cm[1,0])\n",
    "recall = (cm[0,0])/(cm[0,0]+cm[0,1])\n",
    "f1=2*precision*recall/(precision+recall)\n",
    "\n",
    "print(\"accuracy=%.2f f1score=%.2f\"%(accuracy, f1))\n",
    "print(\"precision=%.2f recall=%.2f\"%(precision, recall))"
   ]
  },
  {
   "cell_type": "code",
   "execution_count": 45,
   "id": "instrumental-indie",
   "metadata": {},
   "outputs": [
    {
     "name": "stdout",
     "output_type": "stream",
     "text": [
      "[[0.12484161 0.87515837]\n",
      " [0.11108045 0.8889195 ]\n",
      " [0.10468406 0.89531595]\n",
      " ...\n",
      " [0.09448382 0.9055162 ]\n",
      " [0.10150696 0.89849305]\n",
      " [0.14010492 0.85989505]]\n",
      "test set\n",
      "0:anomaly - 1:normal\n",
      "[[ 14  89]\n",
      " [  0 861]]\n",
      "accuracy=0.91 f1score=0.24\n",
      "precision=1.00 recall=0.14\n"
     ]
    }
   ],
   "source": [
    "pred = model.predict(X_test)\n",
    "y_pred = [0 if y[0]>y[1] else 1 for y in pred]\n",
    "\n",
    "print(pred)\n",
    "\n",
    "cm=confusion_matrix(y_test,y_pred)\n",
    "print(\"test set\")\n",
    "print(\"0:%s - 1:%s\"%(my_ec.inverse_transform([0])[0],my_ec.inverse_transform([1])[0]))\n",
    "print(cm)\n",
    "\n",
    "\n",
    "accuracy = (cm[0,0]+cm[1,1])/cm.sum() #tp+tn/sum\n",
    "precision= (cm[0,0])/(cm[0,0]+cm[1,0]) #tp/tp+fp\n",
    "recall = (cm[0,0])/(cm[0,0]+cm[0,1]) #tp/tp+fn\n",
    "f1=2*precision*recall/(precision+recall)\n",
    "\n",
    "print(\"accuracy=%.2f f1score=%.2f\"%(accuracy, f1))\n",
    "\n",
    "\n",
    "print(\"precision=%.2f recall=%.2f\"%(precision, recall))"
   ]
  },
  {
   "cell_type": "code",
   "execution_count": 46,
   "id": "expired-steering",
   "metadata": {},
   "outputs": [
    {
     "data": {
      "image/png": "[encoded data removed]",
      "text/plain": [
       "<Figure size 432x288 with 1 Axes>"
      ]
     },
     "metadata": {
      "needs_background": "light"
     },
     "output_type": "display_data"
    },
    {
     "data": {
      "image/png": "[encoded data removed]",
      "text/plain": [
       "<Figure size 432x288 with 1 Axes>"
      ]
     },
     "metadata": {
      "needs_background": "light"
     },
     "output_type": "display_data"
    }
   ],
   "source": [
    "# summarize history for accuracy\n",
    "plt.plot(history.history['accuracy'])\n",
    "plt.plot(history.history['val_accuracy'])\n",
    "plt.title('model accuracy')\n",
    "plt.ylabel('accuracy')\n",
    "plt.xlabel('epoch')\n",
    "plt.legend(['train', 'validation'], loc='upper left')\n",
    "plt.show()\n",
    "# summarize history for loss\n",
    "plt.plot(history.history['loss'])\n",
    "plt.plot(history.history['val_loss'][1:43])\n",
    "plt.title('model loss')\n",
    "plt.ylabel('loss')\n",
    "plt.xlabel('epoch')\n",
    "plt.legend(['train', 'validation'], loc='upper left')\n",
    "plt.show()\n"
   ]
  },
  {
   "cell_type": "code",
   "execution_count": 49,
   "id": "external-community",
   "metadata": {},
   "outputs": [
    {
     "name": "stdout",
     "output_type": "stream",
     "text": [
      "Model: \"sequential_16\"\n",
      "_________________________________________________________________\n",
      " Layer (type)                Output Shape              Param #   \n",
      "=================================================================\n",
      " bidirectional_3 (Bidirectio  (None, 148, 100)         124000    \n",
      " nal)                                                            \n",
      "                                                                 \n",
      " time_distributed_2 (TimeDis  (None, 148, 2)           202       \n",
      " tributed)                                                       \n",
      "                                                                 \n",
      "=================================================================\n",
      "Total params: 124,202\n",
      "Trainable params: 124,202\n",
      "Non-trainable params: 0\n",
      "_________________________________________________________________\n"
     ]
    }
   ],
   "source": [
    "# define Bi directional LSTM\n",
    "\n",
    "from keras.layers import Bidirectional\n",
    "from keras.layers import RepeatVector\n",
    "from keras.layers import TimeDistributed\n",
    "from keras.layers import LSTM\n",
    "\n",
    "model = Sequential()\n",
    "model.add(Bidirectional(LSTM(50, return_sequences=True), input_shape=(148,259)))\n",
    "model.add(TimeDistributed(Dense(1, activation='sigmoid')))\n",
    "model.summary()"
   ]
  },
  {
   "cell_type": "code",
   "execution_count": 51,
   "id": "emerging-aluminum",
   "metadata": {},
   "outputs": [
    {
     "name": "stdout",
     "output_type": "stream",
     "text": [
      "Epoch 1/30\n"
     ]
    },
    {
     "ename": "InvalidArgumentError",
     "evalue": "Graph execution error:\n\nDetected at node 'sparse_categorical_crossentropy/SparseSoftmaxCrossEntropyWithLogits/SparseSoftmaxCrossEntropyWithLogits' defined at (most recent call last):\n    File \"/Users/pooyan/opt/miniconda3/lib/python3.8/runpy.py\", line 194, in _run_module_as_main\n      return _run_code(code, main_globals, None,\n    File \"/Users/pooyan/opt/miniconda3/lib/python3.8/runpy.py\", line 87, in _run_code\n      exec(code, run_globals)\n    File \"/Users/pooyan/opt/miniconda3/lib/python3.8/site-packages/ipykernel_launcher.py\", line 16, in <module>\n      app.launch_new_instance()\n    File \"/Users/pooyan/opt/miniconda3/lib/python3.8/site-packages/traitlets/config/application.py\", line 845, in launch_instance\n      app.start()\n    File \"/Users/pooyan/opt/miniconda3/lib/python3.8/site-packages/ipykernel/kernelapp.py\", line 612, in start\n      self.io_loop.start()\n    File \"/Users/pooyan/opt/miniconda3/lib/python3.8/site-packages/tornado/platform/asyncio.py\", line 199, in start\n      self.asyncio_loop.run_forever()\n    File \"/Users/pooyan/opt/miniconda3/lib/python3.8/asyncio/base_events.py\", line 570, in run_forever\n      self._run_once()\n    File \"/Users/pooyan/opt/miniconda3/lib/python3.8/asyncio/base_events.py\", line 1859, in _run_once\n      handle._run()\n    File \"/Users/pooyan/opt/miniconda3/lib/python3.8/asyncio/events.py\", line 81, in _run\n      self._context.run(self._callback, *self._args)\n    File \"/Users/pooyan/opt/miniconda3/lib/python3.8/site-packages/tornado/ioloop.py\", line 688, in <lambda>\n      lambda f: self._run_callback(functools.partial(callback, future))\n    File \"/Users/pooyan/opt/miniconda3/lib/python3.8/site-packages/tornado/ioloop.py\", line 741, in _run_callback\n      ret = callback()\n    File \"/Users/pooyan/opt/miniconda3/lib/python3.8/site-packages/tornado/gen.py\", line 814, in inner\n      self.ctx_run(self.run)\n    File \"/Users/pooyan/opt/miniconda3/lib/python3.8/site-packages/tornado/gen.py\", line 775, in run\n      yielded = self.gen.send(value)\n    File \"/Users/pooyan/opt/miniconda3/lib/python3.8/site-packages/ipykernel/kernelbase.py\", line 365, in process_one\n      yield gen.maybe_future(dispatch(*args))\n    File \"/Users/pooyan/opt/miniconda3/lib/python3.8/site-packages/tornado/gen.py\", line 234, in wrapper\n      yielded = ctx_run(next, result)\n    File \"/Users/pooyan/opt/miniconda3/lib/python3.8/site-packages/ipykernel/kernelbase.py\", line 268, in dispatch_shell\n      yield gen.maybe_future(handler(stream, idents, msg))\n    File \"/Users/pooyan/opt/miniconda3/lib/python3.8/site-packages/tornado/gen.py\", line 234, in wrapper\n      yielded = ctx_run(next, result)\n    File \"/Users/pooyan/opt/miniconda3/lib/python3.8/site-packages/ipykernel/kernelbase.py\", line 543, in execute_request\n      self.do_execute(\n    File \"/Users/pooyan/opt/miniconda3/lib/python3.8/site-packages/tornado/gen.py\", line 234, in wrapper\n      yielded = ctx_run(next, result)\n    File \"/Users/pooyan/opt/miniconda3/lib/python3.8/site-packages/ipykernel/ipkernel.py\", line 306, in do_execute\n      res = shell.run_cell(code, store_history=store_history, silent=silent)\n    File \"/Users/pooyan/opt/miniconda3/lib/python3.8/site-packages/ipykernel/zmqshell.py\", line 536, in run_cell\n      return super(ZMQInteractiveShell, self).run_cell(*args, **kwargs)\n    File \"/Users/pooyan/opt/miniconda3/lib/python3.8/site-packages/IPython/core/interactiveshell.py\", line 2886, in run_cell\n      result = self._run_cell(\n    File \"/Users/pooyan/opt/miniconda3/lib/python3.8/site-packages/IPython/core/interactiveshell.py\", line 2932, in _run_cell\n      return runner(coro)\n    File \"/Users/pooyan/opt/miniconda3/lib/python3.8/site-packages/IPython/core/async_helpers.py\", line 68, in _pseudo_sync_runner\n      coro.send(None)\n    File \"/Users/pooyan/opt/miniconda3/lib/python3.8/site-packages/IPython/core/interactiveshell.py\", line 3155, in run_cell_async\n      has_raised = await self.run_ast_nodes(code_ast.body, cell_name,\n    File \"/Users/pooyan/opt/miniconda3/lib/python3.8/site-packages/IPython/core/interactiveshell.py\", line 3347, in run_ast_nodes\n      if (await self.run_code(code, result,  async_=asy)):\n    File \"/Users/pooyan/opt/miniconda3/lib/python3.8/site-packages/IPython/core/interactiveshell.py\", line 3427, in run_code\n      exec(code_obj, self.user_global_ns, self.user_ns)\n    File \"<ipython-input-51-f2624ce4e97b>\", line 2, in <module>\n      history=model.fit(X_train, y_train, validation_data=(X_validation, y_validation),epochs = 30, batch_size = 128, verbose = 1)\n    File \"/Users/pooyan/opt/miniconda3/lib/python3.8/site-packages/keras/utils/traceback_utils.py\", line 64, in error_handler\n      return fn(*args, **kwargs)\n    File \"/Users/pooyan/opt/miniconda3/lib/python3.8/site-packages/keras/engine/training.py\", line 1384, in fit\n      tmp_logs = self.train_function(iterator)\n    File \"/Users/pooyan/opt/miniconda3/lib/python3.8/site-packages/keras/engine/training.py\", line 1021, in train_function\n      return step_function(self, iterator)\n    File \"/Users/pooyan/opt/miniconda3/lib/python3.8/site-packages/keras/engine/training.py\", line 1010, in step_function\n      outputs = model.distribute_strategy.run(run_step, args=(data,))\n    File \"/Users/pooyan/opt/miniconda3/lib/python3.8/site-packages/keras/engine/training.py\", line 1000, in run_step\n      outputs = model.train_step(data)\n    File \"/Users/pooyan/opt/miniconda3/lib/python3.8/site-packages/keras/engine/training.py\", line 860, in train_step\n      loss = self.compute_loss(x, y, y_pred, sample_weight)\n    File \"/Users/pooyan/opt/miniconda3/lib/python3.8/site-packages/keras/engine/training.py\", line 918, in compute_loss\n      return self.compiled_loss(\n    File \"/Users/pooyan/opt/miniconda3/lib/python3.8/site-packages/keras/engine/compile_utils.py\", line 201, in __call__\n      loss_value = loss_obj(y_t, y_p, sample_weight=sw)\n    File \"/Users/pooyan/opt/miniconda3/lib/python3.8/site-packages/keras/losses.py\", line 141, in __call__\n      losses = call_fn(y_true, y_pred)\n    File \"/Users/pooyan/opt/miniconda3/lib/python3.8/site-packages/keras/losses.py\", line 245, in call\n      return ag_fn(y_true, y_pred, **self._fn_kwargs)\n    File \"/Users/pooyan/opt/miniconda3/lib/python3.8/site-packages/keras/losses.py\", line 1862, in sparse_categorical_crossentropy\n      return backend.sparse_categorical_crossentropy(\n    File \"/Users/pooyan/opt/miniconda3/lib/python3.8/site-packages/keras/backend.py\", line 5202, in sparse_categorical_crossentropy\n      res = tf.nn.sparse_softmax_cross_entropy_with_logits(\nNode: 'sparse_categorical_crossentropy/SparseSoftmaxCrossEntropyWithLogits/SparseSoftmaxCrossEntropyWithLogits'\nlogits and labels must have the same first dimension, got logits shape [18944,2] and labels shape [128]\n\t [[{{node sparse_categorical_crossentropy/SparseSoftmaxCrossEntropyWithLogits/SparseSoftmaxCrossEntropyWithLogits}}]] [Op:__inference_train_function_46806]",
     "output_type": "error",
     "traceback": [
      "\u001b[0;31m---------------------------------------------------------------------------\u001b[0m",
      "\u001b[0;31mInvalidArgumentError\u001b[0m                      Traceback (most recent call last)",
      "\u001b[0;32m<ipython-input-51-f2624ce4e97b>\u001b[0m in \u001b[0;36m<module>\u001b[0;34m\u001b[0m\n\u001b[1;32m      1\u001b[0m \u001b[0mmodel\u001b[0m\u001b[0;34m.\u001b[0m\u001b[0mcompile\u001b[0m\u001b[0;34m(\u001b[0m\u001b[0moptimizer\u001b[0m\u001b[0;34m=\u001b[0m\u001b[0mkeras\u001b[0m\u001b[0;34m.\u001b[0m\u001b[0moptimizers\u001b[0m\u001b[0;34m.\u001b[0m\u001b[0mAdam\u001b[0m\u001b[0;34m(\u001b[0m\u001b[0;36m1e-4\u001b[0m\u001b[0;34m)\u001b[0m\u001b[0;34m,\u001b[0m\u001b[0mloss\u001b[0m\u001b[0;34m=\u001b[0m\u001b[0mtf\u001b[0m\u001b[0;34m.\u001b[0m\u001b[0mlosses\u001b[0m\u001b[0;34m.\u001b[0m\u001b[0mSparseCategoricalCrossentropy\u001b[0m\u001b[0;34m(\u001b[0m\u001b[0;34m)\u001b[0m\u001b[0;34m,\u001b[0m \u001b[0mmetrics\u001b[0m\u001b[0;34m=\u001b[0m\u001b[0;34m[\u001b[0m\u001b[0;34m\"accuracy\"\u001b[0m\u001b[0;34m]\u001b[0m\u001b[0;34m)\u001b[0m\u001b[0;34m\u001b[0m\u001b[0;34m\u001b[0m\u001b[0m\n\u001b[0;32m----> 2\u001b[0;31m \u001b[0mhistory\u001b[0m\u001b[0;34m=\u001b[0m\u001b[0mmodel\u001b[0m\u001b[0;34m.\u001b[0m\u001b[0mfit\u001b[0m\u001b[0;34m(\u001b[0m\u001b[0mX_train\u001b[0m\u001b[0;34m,\u001b[0m \u001b[0my_train\u001b[0m\u001b[0;34m,\u001b[0m \u001b[0mvalidation_data\u001b[0m\u001b[0;34m=\u001b[0m\u001b[0;34m(\u001b[0m\u001b[0mX_validation\u001b[0m\u001b[0;34m,\u001b[0m \u001b[0my_validation\u001b[0m\u001b[0;34m)\u001b[0m\u001b[0;34m,\u001b[0m\u001b[0mepochs\u001b[0m \u001b[0;34m=\u001b[0m \u001b[0;36m30\u001b[0m\u001b[0;34m,\u001b[0m \u001b[0mbatch_size\u001b[0m \u001b[0;34m=\u001b[0m \u001b[0;36m128\u001b[0m\u001b[0;34m,\u001b[0m \u001b[0mverbose\u001b[0m \u001b[0;34m=\u001b[0m \u001b[0;36m1\u001b[0m\u001b[0;34m)\u001b[0m\u001b[0;34m\u001b[0m\u001b[0;34m\u001b[0m\u001b[0m\n\u001b[0m",
      "\u001b[0;32m~/opt/miniconda3/lib/python3.8/site-packages/keras/utils/traceback_utils.py\u001b[0m in \u001b[0;36merror_handler\u001b[0;34m(*args, **kwargs)\u001b[0m\n\u001b[1;32m     65\u001b[0m     \u001b[0;32mexcept\u001b[0m \u001b[0mException\u001b[0m \u001b[0;32mas\u001b[0m \u001b[0me\u001b[0m\u001b[0;34m:\u001b[0m  \u001b[0;31m# pylint: disable=broad-except\u001b[0m\u001b[0;34m\u001b[0m\u001b[0;34m\u001b[0m\u001b[0m\n\u001b[1;32m     66\u001b[0m       \u001b[0mfiltered_tb\u001b[0m \u001b[0;34m=\u001b[0m \u001b[0m_process_traceback_frames\u001b[0m\u001b[0;34m(\u001b[0m\u001b[0me\u001b[0m\u001b[0;34m.\u001b[0m\u001b[0m__traceback__\u001b[0m\u001b[0;34m)\u001b[0m\u001b[0;34m\u001b[0m\u001b[0;34m\u001b[0m\u001b[0m\n\u001b[0;32m---> 67\u001b[0;31m       \u001b[0;32mraise\u001b[0m \u001b[0me\u001b[0m\u001b[0;34m.\u001b[0m\u001b[0mwith_traceback\u001b[0m\u001b[0;34m(\u001b[0m\u001b[0mfiltered_tb\u001b[0m\u001b[0;34m)\u001b[0m \u001b[0;32mfrom\u001b[0m \u001b[0;32mNone\u001b[0m\u001b[0;34m\u001b[0m\u001b[0;34m\u001b[0m\u001b[0m\n\u001b[0m\u001b[1;32m     68\u001b[0m     \u001b[0;32mfinally\u001b[0m\u001b[0;34m:\u001b[0m\u001b[0;34m\u001b[0m\u001b[0;34m\u001b[0m\u001b[0m\n\u001b[1;32m     69\u001b[0m       \u001b[0;32mdel\u001b[0m \u001b[0mfiltered_tb\u001b[0m\u001b[0;34m\u001b[0m\u001b[0;34m\u001b[0m\u001b[0m\n",
      "\u001b[0;32m~/opt/miniconda3/lib/python3.8/site-packages/tensorflow/python/eager/execute.py\u001b[0m in \u001b[0;36mquick_execute\u001b[0;34m(op_name, num_outputs, inputs, attrs, ctx, name)\u001b[0m\n\u001b[1;32m     52\u001b[0m   \u001b[0;32mtry\u001b[0m\u001b[0;34m:\u001b[0m\u001b[0;34m\u001b[0m\u001b[0;34m\u001b[0m\u001b[0m\n\u001b[1;32m     53\u001b[0m     \u001b[0mctx\u001b[0m\u001b[0;34m.\u001b[0m\u001b[0mensure_initialized\u001b[0m\u001b[0;34m(\u001b[0m\u001b[0;34m)\u001b[0m\u001b[0;34m\u001b[0m\u001b[0;34m\u001b[0m\u001b[0m\n\u001b[0;32m---> 54\u001b[0;31m     tensors = pywrap_tfe.TFE_Py_Execute(ctx._handle, device_name, op_name,\n\u001b[0m\u001b[1;32m     55\u001b[0m                                         inputs, attrs, num_outputs)\n\u001b[1;32m     56\u001b[0m   \u001b[0;32mexcept\u001b[0m \u001b[0mcore\u001b[0m\u001b[0;34m.\u001b[0m\u001b[0m_NotOkStatusException\u001b[0m \u001b[0;32mas\u001b[0m \u001b[0me\u001b[0m\u001b[0;34m:\u001b[0m\u001b[0;34m\u001b[0m\u001b[0;34m\u001b[0m\u001b[0m\n",
      "\u001b[0;31mInvalidArgumentError\u001b[0m: Graph execution error:\n\nDetected at node 'sparse_categorical_crossentropy/SparseSoftmaxCrossEntropyWithLogits/SparseSoftmaxCrossEntropyWithLogits' defined at (most recent call last):\n    File \"/Users/pooyan/opt/miniconda3/lib/python3.8/runpy.py\", line 194, in _run_module_as_main\n      return _run_code(code, main_globals, None,\n    File \"/Users/pooyan/opt/miniconda3/lib/python3.8/runpy.py\", line 87, in _run_code\n      exec(code, run_globals)\n    File \"/Users/pooyan/opt/miniconda3/lib/python3.8/site-packages/ipykernel_launcher.py\", line 16, in <module>\n      app.launch_new_instance()\n    File \"/Users/pooyan/opt/miniconda3/lib/python3.8/site-packages/traitlets/config/application.py\", line 845, in launch_instance\n      app.start()\n    File \"/Users/pooyan/opt/miniconda3/lib/python3.8/site-packages/ipykernel/kernelapp.py\", line 612, in start\n      self.io_loop.start()\n    File \"/Users/pooyan/opt/miniconda3/lib/python3.8/site-packages/tornado/platform/asyncio.py\", line 199, in start\n      self.asyncio_loop.run_forever()\n    File \"/Users/pooyan/opt/miniconda3/lib/python3.8/asyncio/base_events.py\", line 570, in run_forever\n      self._run_once()\n    File \"/Users/pooyan/opt/miniconda3/lib/python3.8/asyncio/base_events.py\", line 1859, in _run_once\n      handle._run()\n    File \"/Users/pooyan/opt/miniconda3/lib/python3.8/asyncio/events.py\", line 81, in _run\n      self._context.run(self._callback, *self._args)\n    File \"/Users/pooyan/opt/miniconda3/lib/python3.8/site-packages/tornado/ioloop.py\", line 688, in <lambda>\n      lambda f: self._run_callback(functools.partial(callback, future))\n    File \"/Users/pooyan/opt/miniconda3/lib/python3.8/site-packages/tornado/ioloop.py\", line 741, in _run_callback\n      ret = callback()\n    File \"/Users/pooyan/opt/miniconda3/lib/python3.8/site-packages/tornado/gen.py\", line 814, in inner\n      self.ctx_run(self.run)\n    File \"/Users/pooyan/opt/miniconda3/lib/python3.8/site-packages/tornado/gen.py\", line 775, in run\n      yielded = self.gen.send(value)\n    File \"/Users/pooyan/opt/miniconda3/lib/python3.8/site-packages/ipykernel/kernelbase.py\", line 365, in process_one\n      yield gen.maybe_future(dispatch(*args))\n    File \"/Users/pooyan/opt/miniconda3/lib/python3.8/site-packages/tornado/gen.py\", line 234, in wrapper\n      yielded = ctx_run(next, result)\n    File \"/Users/pooyan/opt/miniconda3/lib/python3.8/site-packages/ipykernel/kernelbase.py\", line 268, in dispatch_shell\n      yield gen.maybe_future(handler(stream, idents, msg))\n    File \"/Users/pooyan/opt/miniconda3/lib/python3.8/site-packages/tornado/gen.py\", line 234, in wrapper\n      yielded = ctx_run(next, result)\n    File \"/Users/pooyan/opt/miniconda3/lib/python3.8/site-packages/ipykernel/kernelbase.py\", line 543, in execute_request\n      self.do_execute(\n    File \"/Users/pooyan/opt/miniconda3/lib/python3.8/site-packages/tornado/gen.py\", line 234, in wrapper\n      yielded = ctx_run(next, result)\n    File \"/Users/pooyan/opt/miniconda3/lib/python3.8/site-packages/ipykernel/ipkernel.py\", line 306, in do_execute\n      res = shell.run_cell(code, store_history=store_history, silent=silent)\n    File \"/Users/pooyan/opt/miniconda3/lib/python3.8/site-packages/ipykernel/zmqshell.py\", line 536, in run_cell\n      return super(ZMQInteractiveShell, self).run_cell(*args, **kwargs)\n    File \"/Users/pooyan/opt/miniconda3/lib/python3.8/site-packages/IPython/core/interactiveshell.py\", line 2886, in run_cell\n      result = self._run_cell(\n    File \"/Users/pooyan/opt/miniconda3/lib/python3.8/site-packages/IPython/core/interactiveshell.py\", line 2932, in _run_cell\n      return runner(coro)\n    File \"/Users/pooyan/opt/miniconda3/lib/python3.8/site-packages/IPython/core/async_helpers.py\", line 68, in _pseudo_sync_runner\n      coro.send(None)\n    File \"/Users/pooyan/opt/miniconda3/lib/python3.8/site-packages/IPython/core/interactiveshell.py\", line 3155, in run_cell_async\n      has_raised = await self.run_ast_nodes(code_ast.body, cell_name,\n    File \"/Users/pooyan/opt/miniconda3/lib/python3.8/site-packages/IPython/core/interactiveshell.py\", line 3347, in run_ast_nodes\n      if (await self.run_code(code, result,  async_=asy)):\n    File \"/Users/pooyan/opt/miniconda3/lib/python3.8/site-packages/IPython/core/interactiveshell.py\", line 3427, in run_code\n      exec(code_obj, self.user_global_ns, self.user_ns)\n    File \"<ipython-input-51-f2624ce4e97b>\", line 2, in <module>\n      history=model.fit(X_train, y_train, validation_data=(X_validation, y_validation),epochs = 30, batch_size = 128, verbose = 1)\n    File \"/Users/pooyan/opt/miniconda3/lib/python3.8/site-packages/keras/utils/traceback_utils.py\", line 64, in error_handler\n      return fn(*args, **kwargs)\n    File \"/Users/pooyan/opt/miniconda3/lib/python3.8/site-packages/keras/engine/training.py\", line 1384, in fit\n      tmp_logs = self.train_function(iterator)\n    File \"/Users/pooyan/opt/miniconda3/lib/python3.8/site-packages/keras/engine/training.py\", line 1021, in train_function\n      return step_function(self, iterator)\n    File \"/Users/pooyan/opt/miniconda3/lib/python3.8/site-packages/keras/engine/training.py\", line 1010, in step_function\n      outputs = model.distribute_strategy.run(run_step, args=(data,))\n    File \"/Users/pooyan/opt/miniconda3/lib/python3.8/site-packages/keras/engine/training.py\", line 1000, in run_step\n      outputs = model.train_step(data)\n    File \"/Users/pooyan/opt/miniconda3/lib/python3.8/site-packages/keras/engine/training.py\", line 860, in train_step\n      loss = self.compute_loss(x, y, y_pred, sample_weight)\n    File \"/Users/pooyan/opt/miniconda3/lib/python3.8/site-packages/keras/engine/training.py\", line 918, in compute_loss\n      return self.compiled_loss(\n    File \"/Users/pooyan/opt/miniconda3/lib/python3.8/site-packages/keras/engine/compile_utils.py\", line 201, in __call__\n      loss_value = loss_obj(y_t, y_p, sample_weight=sw)\n    File \"/Users/pooyan/opt/miniconda3/lib/python3.8/site-packages/keras/losses.py\", line 141, in __call__\n      losses = call_fn(y_true, y_pred)\n    File \"/Users/pooyan/opt/miniconda3/lib/python3.8/site-packages/keras/losses.py\", line 245, in call\n      return ag_fn(y_true, y_pred, **self._fn_kwargs)\n    File \"/Users/pooyan/opt/miniconda3/lib/python3.8/site-packages/keras/losses.py\", line 1862, in sparse_categorical_crossentropy\n      return backend.sparse_categorical_crossentropy(\n    File \"/Users/pooyan/opt/miniconda3/lib/python3.8/site-packages/keras/backend.py\", line 5202, in sparse_categorical_crossentropy\n      res = tf.nn.sparse_softmax_cross_entropy_with_logits(\nNode: 'sparse_categorical_crossentropy/SparseSoftmaxCrossEntropyWithLogits/SparseSoftmaxCrossEntropyWithLogits'\nlogits and labels must have the same first dimension, got logits shape [18944,2] and labels shape [128]\n\t [[{{node sparse_categorical_crossentropy/SparseSoftmaxCrossEntropyWithLogits/SparseSoftmaxCrossEntropyWithLogits}}]] [Op:__inference_train_function_46806]"
     ]
    }
   ],
   "source": [
    "model.compile(optimizer=keras.optimizers.Adam(1e-4),loss=tf.losses.SparseCategoricalCrossentropy(), metrics=[\"accuracy\"])\n",
    "history=model.fit(X_train, y_train, validation_data=(X_validation, y_validation),epochs = 30, batch_size = 128, verbose = 1)\n"
   ]
  },
  {
   "cell_type": "code",
   "execution_count": 52,
   "id": "australian-montana",
   "metadata": {},
   "outputs": [
    {
     "name": "stdout",
     "output_type": "stream",
     "text": [
      "Model: \"sequential_17\"\n",
      "_________________________________________________________________\n",
      " Layer (type)                Output Shape              Param #   \n",
      "=================================================================\n",
      " conv1d_8 (Conv1D)           (None, 147, 256)          132864    \n",
      "                                                                 \n",
      " max_pooling1d_6 (MaxPooling  (None, 73, 256)          0         \n",
      " 1D)                                                             \n",
      "                                                                 \n",
      " flatten_5 (Flatten)         (None, 18688)             0         \n",
      "                                                                 \n",
      " repeat_vector_2 (RepeatVect  (None, 30, 18688)        0         \n",
      " or)                                                             \n",
      "                                                                 \n",
      " lstm_11 (LSTM)              (None, 30, 50)            3747800   \n",
      "                                                                 \n",
      " bidirectional_4 (Bidirectio  (None, 256)              183296    \n",
      " nal)                                                            \n",
      "                                                                 \n",
      " dense_15 (Dense)            (None, 50)                12850     \n",
      "                                                                 \n",
      " dense_16 (Dense)            (None, 2)                 102       \n",
      "                                                                 \n",
      "=================================================================\n",
      "Total params: 4,076,912\n",
      "Trainable params: 4,076,912\n",
      "Non-trainable params: 0\n",
      "_________________________________________________________________\n"
     ]
    }
   ],
   "source": [
    "model = Sequential()\n",
    "model.add(Conv1D(filters=256, kernel_size=2, activation='relu', input_shape=(148,259)))\n",
    "#model.add(Conv1D(filters=128, kernel_size=2, activation='relu'))\n",
    "model.add(MaxPooling1D(pool_size=2))\n",
    "model.add(Flatten())\n",
    "model.add(RepeatVector(30))\n",
    "#model.add(LSTM(units=25, return_sequences=True, activation='relu'))\n",
    "#model.add(Dropout(0.2))\n",
    "#model.add(LSTM(units=25, return_sequences=True, activation='relu'))\n",
    "#model.add(Dropout(0.2))\n",
    "#model.add(LSTM(units=25, return_sequences=True, activation='relu'))\n",
    "model.add(LSTM(units=50, return_sequences=True, activation='relu'))\n",
    "model.add(Bidirectional(LSTM(128, activation='relu')))\n",
    "model.add(Dense(2, activation='softmax'))\n",
    "#model.add(Dense(2))\n",
    "#model.compile(loss='mae', optimizer='adam', metrics=['mse'])\n",
    "model.summary()"
   ]
  },
  {
   "cell_type": "code",
   "execution_count": 53,
   "id": "alien-jacket",
   "metadata": {
    "scrolled": true
   },
   "outputs": [
    {
     "name": "stdout",
     "output_type": "stream",
     "text": [
      "Epoch 1/30\n",
      "61/61 [==============================] - 45s 703ms/step - loss: 3.6293 - accuracy: 0.3969 - val_loss: 2.9846 - val_accuracy: 0.4498\n",
      "Epoch 2/30\n",
      "61/61 [==============================] - 43s 710ms/step - loss: 3.0108 - accuracy: 0.4284 - val_loss: 3.2843 - val_accuracy: 0.3714\n",
      "Epoch 3/30\n",
      "61/61 [==============================] - 43s 708ms/step - loss: 2.9690 - accuracy: 0.3561 - val_loss: 2.8569 - val_accuracy: 0.4060\n",
      "Epoch 4/30\n",
      "61/61 [==============================] - 44s 715ms/step - loss: 2.8835 - accuracy: 0.4235 - val_loss: 2.7605 - val_accuracy: 0.4648\n",
      "Epoch 5/30\n",
      "61/61 [==============================] - 44s 719ms/step - loss: 2.8454 - accuracy: 0.4141 - val_loss: 2.8145 - val_accuracy: 0.4187\n",
      "Epoch 6/30\n",
      "61/61 [==============================] - 44s 716ms/step - loss: 2.7733 - accuracy: 0.4157 - val_loss: 2.8007 - val_accuracy: 0.4014\n",
      "Epoch 7/30\n",
      "61/61 [==============================] - 44s 717ms/step - loss: 2.8830 - accuracy: 0.4030 - val_loss: 2.0315 - val_accuracy: 0.4475\n",
      "Epoch 8/30\n",
      "61/61 [==============================] - 44s 719ms/step - loss: 1.6622 - accuracy: 0.4148 - val_loss: 1.5525 - val_accuracy: 0.4141\n",
      "Epoch 9/30\n",
      "61/61 [==============================] - 44s 727ms/step - loss: 1.6104 - accuracy: 0.4222 - val_loss: 1.6513 - val_accuracy: 0.4533\n",
      "Epoch 10/30\n",
      "61/61 [==============================] - 44s 721ms/step - loss: 1.6115 - accuracy: 0.4258 - val_loss: 1.7686 - val_accuracy: 0.4418\n",
      "Epoch 11/30\n",
      "61/61 [==============================] - 44s 726ms/step - loss: 1.4808 - accuracy: 0.4259 - val_loss: 1.4690 - val_accuracy: 0.4083\n",
      "Epoch 12/30\n",
      "61/61 [==============================] - 44s 723ms/step - loss: 1.4097 - accuracy: 0.4344 - val_loss: 1.2923 - val_accuracy: 0.4798\n",
      "Epoch 13/30\n",
      "61/61 [==============================] - 44s 721ms/step - loss: 1.4620 - accuracy: 0.4940 - val_loss: 1.8918 - val_accuracy: 0.5652\n",
      "Epoch 14/30\n",
      "61/61 [==============================] - 44s 715ms/step - loss: 1.8749 - accuracy: 0.5518 - val_loss: 1.4332 - val_accuracy: 0.5075\n",
      "Epoch 15/30\n",
      "61/61 [==============================] - 43s 710ms/step - loss: 2.1788 - accuracy: 0.3191 - val_loss: 2.2972 - val_accuracy: 0.2745\n",
      "Epoch 16/30\n",
      "61/61 [==============================] - 45s 731ms/step - loss: 2.3799 - accuracy: 0.2754 - val_loss: 2.3391 - val_accuracy: 0.2710\n",
      "Epoch 17/30\n",
      "61/61 [==============================] - 46s 750ms/step - loss: 1.9691 - accuracy: 0.3891 - val_loss: 1.4322 - val_accuracy: 0.5052\n",
      "Epoch 18/30\n",
      "61/61 [==============================] - 45s 728ms/step - loss: 1.4344 - accuracy: 0.5091 - val_loss: 1.3352 - val_accuracy: 0.5098\n",
      "Epoch 19/30\n",
      "61/61 [==============================] - 44s 727ms/step - loss: 1.4120 - accuracy: 0.4926 - val_loss: 1.3408 - val_accuracy: 0.5017\n",
      "Epoch 20/30\n",
      "61/61 [==============================] - 44s 723ms/step - loss: 1.4212 - accuracy: 0.4887 - val_loss: 1.3392 - val_accuracy: 0.4994\n",
      "Epoch 21/30\n",
      "61/61 [==============================] - 44s 720ms/step - loss: 1.4196 - accuracy: 0.4887 - val_loss: 1.3392 - val_accuracy: 0.4994\n",
      "Epoch 22/30\n",
      "61/61 [==============================] - 44s 726ms/step - loss: 1.4194 - accuracy: 0.4887 - val_loss: 1.3392 - val_accuracy: 0.4994\n",
      "Epoch 23/30\n",
      "61/61 [==============================] - 45s 731ms/step - loss: 1.4215 - accuracy: 0.4887 - val_loss: 1.3392 - val_accuracy: 0.4994\n",
      "Epoch 24/30\n",
      "61/61 [==============================] - 44s 719ms/step - loss: 1.4195 - accuracy: 0.4888 - val_loss: 1.3392 - val_accuracy: 0.4994\n",
      "Epoch 25/30\n",
      "61/61 [==============================] - 45s 738ms/step - loss: 1.4194 - accuracy: 0.4891 - val_loss: 1.3392 - val_accuracy: 0.4994\n",
      "Epoch 26/30\n",
      "61/61 [==============================] - 45s 739ms/step - loss: 1.4195 - accuracy: 0.4890 - val_loss: 1.3392 - val_accuracy: 0.4994\n",
      "Epoch 27/30\n",
      "61/61 [==============================] - 47s 769ms/step - loss: 1.4215 - accuracy: 0.4886 - val_loss: 1.3392 - val_accuracy: 0.4994\n",
      "Epoch 28/30\n",
      "61/61 [==============================] - 47s 769ms/step - loss: 1.4195 - accuracy: 0.4885 - val_loss: 1.3392 - val_accuracy: 0.4994\n",
      "Epoch 29/30\n",
      "61/61 [==============================] - 45s 739ms/step - loss: 1.4194 - accuracy: 0.4886 - val_loss: 1.3392 - val_accuracy: 0.4994\n",
      "Epoch 30/30\n",
      "61/61 [==============================] - 47s 772ms/step - loss: 1.4216 - accuracy: 0.4886 - val_loss: 1.3392 - val_accuracy: 0.4994\n"
     ]
    }
   ],
   "source": [
    "model.compile(optimizer=keras.optimizers.Adam(1e-4),loss=tf.losses.SparseCategoricalCrossentropy(), metrics=[\"accuracy\"])\n",
    "history=model.fit(X_train, y_train, validation_data=(X_validation, y_validation),epochs = 30, batch_size = 128, verbose = 1)\n"
   ]
  },
  {
   "cell_type": "code",
   "execution_count": null,
   "id": "hungry-pacific",
   "metadata": {},
   "outputs": [],
   "source": []
  },
  {
   "cell_type": "code",
   "execution_count": 54,
   "id": "reserved-adolescent",
   "metadata": {},
   "outputs": [
    {
     "name": "stdout",
     "output_type": "stream",
     "text": [
      "train set\n",
      "0:anomaly - 1:normal\n",
      "[[ 448  357]\n",
      " [3633 3364]]\n",
      "accuracy=0.49 f1score=0.18\n",
      "precision=0.11 recall=0.56\n"
     ]
    }
   ],
   "source": [
    "from sklearn.metrics import confusion_matrix\n",
    "\n",
    "pred = model.predict(X_train)\n",
    "y_pred = [0 if y[0]>y[1] else 1 for y in pred]   #thereshold=50 y[0]>0.50\n",
    "\n",
    "cm=confusion_matrix(y_train,y_pred)\n",
    "print(\"train set\")\n",
    "print(\"0:%s - 1:%s\"%(my_ec.inverse_transform([0])[0],my_ec.inverse_transform([1])[0]))\n",
    "print(cm)\n",
    "\n",
    "accuracy = (cm[0,0]+cm[1,1])/cm.sum()\n",
    "precision= (cm[0,0])/(cm[0,0]+cm[1,0])\n",
    "recall = (cm[0,0])/(cm[0,0]+cm[0,1])\n",
    "f1=2*precision*recall/(precision+recall)\n",
    "\n",
    "print(\"accuracy=%.2f f1score=%.2f\"%(accuracy, f1))\n",
    "print(\"precision=%.2f recall=%.2f\"%(precision, recall))"
   ]
  },
  {
   "cell_type": "code",
   "execution_count": 60,
   "id": "instant-flooring",
   "metadata": {},
   "outputs": [
    {
     "name": "stdout",
     "output_type": "stream",
     "text": [
      "Model: \"sequential_22\"\n",
      "_________________________________________________________________\n",
      " Layer (type)                Output Shape              Param #   \n",
      "=================================================================\n",
      " bidirectional_7 (Bidirectio  (None, 148, 20)          21600     \n",
      " nal)                                                            \n",
      "                                                                 \n",
      " bidirectional_8 (Bidirectio  (None, 20)               2480      \n",
      " nal)                                                            \n",
      "                                                                 \n",
      " dense_20 (Dense)            (None, 2)                 42        \n",
      "                                                                 \n",
      "=================================================================\n",
      "Total params: 24,122\n",
      "Trainable params: 24,122\n",
      "Non-trainable params: 0\n",
      "_________________________________________________________________\n"
     ]
    }
   ],
   "source": [
    "model = Sequential()\n",
    "model.add(Bidirectional(LSTM(10, return_sequences=True),\n",
    "                             input_shape=(148,259)))\n",
    "model.add(Bidirectional(LSTM(10)))\n",
    "model.add(Dense(2, activation='softmax'))\n",
    "#model.compile(loss='categorical_crossentropy', optimizer='rmsprop')\n",
    "model.summary()"
   ]
  },
  {
   "cell_type": "code",
   "execution_count": 61,
   "id": "material-reputation",
   "metadata": {
    "scrolled": true
   },
   "outputs": [
    {
     "name": "stdout",
     "output_type": "stream",
     "text": [
      "Epoch 1/30\n",
      "61/61 [==============================] - 11s 117ms/step - loss: 0.4814 - accuracy: 0.8438 - val_loss: 0.3703 - val_accuracy: 0.8939\n",
      "Epoch 2/30\n",
      "61/61 [==============================] - 6s 98ms/step - loss: 0.3443 - accuracy: 0.8968 - val_loss: 0.3346 - val_accuracy: 0.8939\n",
      "Epoch 3/30\n",
      "61/61 [==============================] - 6s 98ms/step - loss: 0.3298 - accuracy: 0.8968 - val_loss: 0.3316 - val_accuracy: 0.8939\n",
      "Epoch 4/30\n",
      "61/61 [==============================] - 6s 102ms/step - loss: 0.3275 - accuracy: 0.8968 - val_loss: 0.3310 - val_accuracy: 0.8939\n",
      "Epoch 5/30\n",
      "61/61 [==============================] - 6s 105ms/step - loss: 0.3262 - accuracy: 0.8968 - val_loss: 0.3302 - val_accuracy: 0.8939\n",
      "Epoch 6/30\n",
      "61/61 [==============================] - 6s 101ms/step - loss: 0.3251 - accuracy: 0.8968 - val_loss: 0.3297 - val_accuracy: 0.8939\n",
      "Epoch 7/30\n",
      "61/61 [==============================] - 6s 99ms/step - loss: 0.3238 - accuracy: 0.8968 - val_loss: 0.3285 - val_accuracy: 0.8939\n",
      "Epoch 8/30\n",
      "61/61 [==============================] - 6s 103ms/step - loss: 0.3230 - accuracy: 0.8968 - val_loss: 0.3281 - val_accuracy: 0.8939\n",
      "Epoch 9/30\n",
      "61/61 [==============================] - 6s 106ms/step - loss: 0.3220 - accuracy: 0.8968 - val_loss: 0.3280 - val_accuracy: 0.8939\n",
      "Epoch 10/30\n",
      "61/61 [==============================] - 6s 103ms/step - loss: 0.3211 - accuracy: 0.8968 - val_loss: 0.3281 - val_accuracy: 0.8939\n",
      "Epoch 11/30\n",
      "61/61 [==============================] - 7s 107ms/step - loss: 0.3201 - accuracy: 0.8968 - val_loss: 0.3281 - val_accuracy: 0.8939\n",
      "Epoch 12/30\n",
      "61/61 [==============================] - 7s 111ms/step - loss: 0.3192 - accuracy: 0.8968 - val_loss: 0.3277 - val_accuracy: 0.8939\n",
      "Epoch 13/30\n",
      "61/61 [==============================] - 7s 110ms/step - loss: 0.3182 - accuracy: 0.8968 - val_loss: 0.3279 - val_accuracy: 0.8939\n",
      "Epoch 14/30\n",
      "61/61 [==============================] - 7s 107ms/step - loss: 0.3174 - accuracy: 0.8968 - val_loss: 0.3278 - val_accuracy: 0.8939\n",
      "Epoch 15/30\n",
      "61/61 [==============================] - 6s 103ms/step - loss: 0.3165 - accuracy: 0.8968 - val_loss: 0.3278 - val_accuracy: 0.8939\n",
      "Epoch 16/30\n",
      "61/61 [==============================] - 6s 101ms/step - loss: 0.3155 - accuracy: 0.8968 - val_loss: 0.3274 - val_accuracy: 0.8939\n",
      "Epoch 17/30\n",
      "61/61 [==============================] - 6s 104ms/step - loss: 0.3145 - accuracy: 0.8968 - val_loss: 0.3272 - val_accuracy: 0.8939\n",
      "Epoch 18/30\n",
      "61/61 [==============================] - 6s 106ms/step - loss: 0.3136 - accuracy: 0.8968 - val_loss: 0.3268 - val_accuracy: 0.8939\n",
      "Epoch 19/30\n",
      "61/61 [==============================] - 6s 106ms/step - loss: 0.3126 - accuracy: 0.8969 - val_loss: 0.3268 - val_accuracy: 0.8939\n",
      "Epoch 20/30\n",
      "61/61 [==============================] - 7s 107ms/step - loss: 0.3115 - accuracy: 0.8969 - val_loss: 0.3265 - val_accuracy: 0.8939\n",
      "Epoch 21/30\n",
      "61/61 [==============================] - 7s 109ms/step - loss: 0.3104 - accuracy: 0.8969 - val_loss: 0.3273 - val_accuracy: 0.8939\n",
      "Epoch 22/30\n",
      "61/61 [==============================] - 7s 109ms/step - loss: 0.3091 - accuracy: 0.8969 - val_loss: 0.3269 - val_accuracy: 0.8939\n",
      "Epoch 23/30\n",
      "61/61 [==============================] - 7s 110ms/step - loss: 0.3082 - accuracy: 0.8969 - val_loss: 0.3267 - val_accuracy: 0.8939\n",
      "Epoch 24/30\n",
      "61/61 [==============================] - 6s 105ms/step - loss: 0.3069 - accuracy: 0.8972 - val_loss: 0.3263 - val_accuracy: 0.8939\n",
      "Epoch 25/30\n",
      "61/61 [==============================] - 6s 104ms/step - loss: 0.3059 - accuracy: 0.8975 - val_loss: 0.3255 - val_accuracy: 0.8939\n",
      "Epoch 26/30\n",
      "61/61 [==============================] - 6s 105ms/step - loss: 0.3042 - accuracy: 0.8973 - val_loss: 0.3257 - val_accuracy: 0.8939\n",
      "Epoch 27/30\n",
      "61/61 [==============================] - 6s 105ms/step - loss: 0.3029 - accuracy: 0.8980 - val_loss: 0.3262 - val_accuracy: 0.8939\n",
      "Epoch 28/30\n",
      "61/61 [==============================] - 6s 105ms/step - loss: 0.3016 - accuracy: 0.8978 - val_loss: 0.3268 - val_accuracy: 0.8939\n",
      "Epoch 29/30\n",
      "61/61 [==============================] - 6s 105ms/step - loss: 0.3005 - accuracy: 0.8980 - val_loss: 0.3264 - val_accuracy: 0.8939\n",
      "Epoch 30/30\n",
      "61/61 [==============================] - 6s 104ms/step - loss: 0.2985 - accuracy: 0.8985 - val_loss: 0.3253 - val_accuracy: 0.8939\n"
     ]
    }
   ],
   "source": [
    "model.compile(optimizer=keras.optimizers.Adam(1e-4),loss=tf.losses.SparseCategoricalCrossentropy(), metrics=[\"accuracy\"])\n",
    "history=model.fit(X_train, y_train, validation_data=(X_validation, y_validation),epochs = 30, batch_size = 128, verbose = 1)\n"
   ]
  },
  {
   "cell_type": "code",
   "execution_count": 62,
   "id": "elementary-stockholm",
   "metadata": {},
   "outputs": [
    {
     "data": {
      "image/png": "[encoded data removed]",
      "text/plain": [
       "<Figure size 432x288 with 1 Axes>"
      ]
     },
     "metadata": {
      "needs_background": "light"
     },
     "output_type": "display_data"
    },
    {
     "data": {
      "image/png": "[encoded data removed]",
      "text/plain": [
       "<Figure size 432x288 with 1 Axes>"
      ]
     },
     "metadata": {
      "needs_background": "light"
     },
     "output_type": "display_data"
    }
   ],
   "source": [
    "# summarize history for accuracy\n",
    "plt.plot(history.history['accuracy'])\n",
    "plt.plot(history.history['val_accuracy'])\n",
    "plt.title('model accuracy')\n",
    "plt.ylabel('accuracy')\n",
    "plt.xlabel('epoch')\n",
    "plt.legend(['train', 'validation'], loc='upper left')\n",
    "plt.show()\n",
    "# summarize history for loss\n",
    "plt.plot(history.history['loss'])\n",
    "plt.plot(history.history['val_loss'][1:43])\n",
    "plt.title('model loss')\n",
    "plt.ylabel('loss')\n",
    "plt.xlabel('epoch')\n",
    "plt.legend(['train', 'validation'], loc='upper left')\n",
    "plt.show()"
   ]
  },
  {
   "cell_type": "code",
   "execution_count": 63,
   "id": "ordered-inflation",
   "metadata": {},
   "outputs": [
    {
     "name": "stdout",
     "output_type": "stream",
     "text": [
      "train set\n",
      "0:anomaly - 1:normal\n",
      "[[  18  787]\n",
      " [   0 6997]]\n",
      "accuracy=0.90 f1score=0.04\n",
      "precision=1.00 recall=0.02\n"
     ]
    }
   ],
   "source": [
    "from sklearn.metrics import confusion_matrix\n",
    "\n",
    "pred = model.predict(X_train)\n",
    "y_pred = [0 if y[0]>y[1] else 1 for y in pred]   #thereshold=50 y[0]>0.50\n",
    "\n",
    "cm=confusion_matrix(y_train,y_pred)\n",
    "print(\"train set\")\n",
    "print(\"0:%s - 1:%s\"%(my_ec.inverse_transform([0])[0],my_ec.inverse_transform([1])[0]))\n",
    "print(cm)\n",
    "\n",
    "accuracy = (cm[0,0]+cm[1,1])/cm.sum()\n",
    "precision= (cm[0,0])/(cm[0,0]+cm[1,0])\n",
    "recall = (cm[0,0])/(cm[0,0]+cm[0,1])\n",
    "f1=2*precision*recall/(precision+recall)\n",
    "\n",
    "print(\"accuracy=%.2f f1score=%.2f\"%(accuracy, f1))\n",
    "print(\"precision=%.2f recall=%.2f\"%(precision, recall))"
   ]
  },
  {
   "cell_type": "code",
   "execution_count": 64,
   "id": "authentic-emperor",
   "metadata": {},
   "outputs": [
    {
     "name": "stdout",
     "output_type": "stream",
     "text": [
      "Model: \"sequential_23\"\n",
      "_________________________________________________________________\n",
      " Layer (type)                Output Shape              Param #   \n",
      "=================================================================\n",
      " conv1d_13 (Conv1D)          (None, 147, 256)          132864    \n",
      "                                                                 \n",
      " max_pooling1d_7 (MaxPooling  (None, 73, 256)          0         \n",
      " 1D)                                                             \n",
      "                                                                 \n",
      " flatten_6 (Flatten)         (None, 18688)             0         \n",
      "                                                                 \n",
      " repeat_vector_5 (RepeatVect  (None, 30, 18688)        0         \n",
      " or)                                                             \n",
      "                                                                 \n",
      " lstm_18 (LSTM)              (None, 30, 50)            3747800   \n",
      "                                                                 \n",
      " bidirectional_9 (Bidirectio  (None, 256)              183296    \n",
      " nal)                                                            \n",
      "                                                                 \n",
      " dense_21 (Dense)            (None, 2)                 514       \n",
      "                                                                 \n",
      "=================================================================\n",
      "Total params: 4,064,474\n",
      "Trainable params: 4,064,474\n",
      "Non-trainable params: 0\n",
      "_________________________________________________________________\n"
     ]
    }
   ],
   "source": [
    "model = Sequential()\n",
    "model.add(Conv1D(filters=256, kernel_size=2, activation='relu', input_shape=(148,259)))\n",
    "#model.add(Conv1D(filters=128, kernel_size=2, activation='relu'))\n",
    "model.add(MaxPooling1D(pool_size=2))\n",
    "model.add(Flatten())\n",
    "model.add(RepeatVector(30))\n",
    "#model.add(LSTM(units=25, return_sequences=True, activation='relu'))\n",
    "#model.add(Dropout(0.2))\n",
    "#model.add(LSTM(units=25, return_sequences=True, activation='relu'))\n",
    "#model.add(Dropout(0.2))\n",
    "#model.add(LSTM(units=25, return_sequences=True, activation='relu'))\n",
    "model.add(LSTM(units=50, return_sequences=True, activation='relu'))\n",
    "model.add(Bidirectional(LSTM(128, activation='relu')))\n",
    "model.add(Dense(2, activation='softmax'))\n",
    "#model.add(Dense(2))\n",
    "#model.compile(loss='mae', optimizer='adam', metrics=['mse'])\n",
    "model.summary()"
   ]
  },
  {
   "cell_type": "code",
   "execution_count": 65,
   "id": "corresponding-calendar",
   "metadata": {},
   "outputs": [
    {
     "name": "stdout",
     "output_type": "stream",
     "text": [
      "Epoch 1/3\n",
      "61/61 [==============================] - 48s 745ms/step - loss: 1313.9136 - accuracy: 0.6774 - val_loss: 2166.0779 - val_accuracy: 0.7993\n",
      "Epoch 2/3\n",
      "61/61 [==============================] - 45s 735ms/step - loss: 2626.6067 - accuracy: 0.7370 - val_loss: 4492.1138 - val_accuracy: 0.6032\n",
      "Epoch 3/3\n",
      "61/61 [==============================] - 45s 730ms/step - loss: 1250.6357 - accuracy: 0.7462 - val_loss: 542.1602 - val_accuracy: 0.8166\n"
     ]
    }
   ],
   "source": [
    "model.compile(optimizer=keras.optimizers.Adam(1e-4),loss=tf.losses.SparseCategoricalCrossentropy(), metrics=[\"accuracy\"])\n",
    "history=model.fit(X_train, y_train, validation_data=(X_validation, y_validation),epochs = 3, batch_size = 128, verbose = 1)\n"
   ]
  },
  {
   "cell_type": "code",
   "execution_count": 66,
   "id": "literary-alcohol",
   "metadata": {},
   "outputs": [
    {
     "name": "stdout",
     "output_type": "stream",
     "text": [
      "train set\n",
      "0:anomaly - 1:normal\n",
      "[[ 143  662]\n",
      " [ 986 6011]]\n",
      "accuracy=0.79 f1score=0.15\n",
      "precision=0.13 recall=0.18\n"
     ]
    }
   ],
   "source": [
    "from sklearn.metrics import confusion_matrix\n",
    "\n",
    "pred = model.predict(X_train)\n",
    "y_pred = [0 if y[0]>y[1] else 1 for y in pred]   #thereshold=50 y[0]>0.50\n",
    "\n",
    "cm=confusion_matrix(y_train,y_pred)\n",
    "print(\"train set\")\n",
    "print(\"0:%s - 1:%s\"%(my_ec.inverse_transform([0])[0],my_ec.inverse_transform([1])[0]))\n",
    "print(cm)\n",
    "\n",
    "accuracy = (cm[0,0]+cm[1,1])/cm.sum()\n",
    "precision= (cm[0,0])/(cm[0,0]+cm[1,0])\n",
    "recall = (cm[0,0])/(cm[0,0]+cm[0,1])\n",
    "f1=2*precision*recall/(precision+recall)\n",
    "\n",
    "print(\"accuracy=%.2f f1score=%.2f\"%(accuracy, f1))\n",
    "print(\"precision=%.2f recall=%.2f\"%(precision, recall))"
   ]
  },
  {
   "cell_type": "code",
   "execution_count": 69,
   "id": "typical-creativity",
   "metadata": {},
   "outputs": [
    {
     "name": "stdout",
     "output_type": "stream",
     "text": [
      "Model: \"sequential_26\"\n",
      "_________________________________________________________________\n",
      " Layer (type)                Output Shape              Param #   \n",
      "=================================================================\n",
      " lstm_20 (LSTM)              (None, 50)                62000     \n",
      "                                                                 \n",
      " dense_22 (Dense)            (None, 64)                3264      \n",
      "                                                                 \n",
      " dense_23 (Dense)            (None, 2)                 130       \n",
      "                                                                 \n",
      "=================================================================\n",
      "Total params: 65,394\n",
      "Trainable params: 65,394\n",
      "Non-trainable params: 0\n",
      "_________________________________________________________________\n",
      "Model: \"sequential_26\"\n",
      "_________________________________________________________________\n",
      " Layer (type)                Output Shape              Param #   \n",
      "=================================================================\n",
      " lstm_20 (LSTM)              (None, 50)                62000     \n",
      "                                                                 \n",
      " dense_22 (Dense)            (None, 64)                3264      \n",
      "                                                                 \n",
      " dense_23 (Dense)            (None, 2)                 130       \n",
      "                                                                 \n",
      "=================================================================\n",
      "Total params: 65,394\n",
      "Trainable params: 65,394\n",
      "Non-trainable params: 0\n",
      "_________________________________________________________________\n"
     ]
    }
   ],
   "source": [
    "from keras.layers import Bidirectional, CuDNNLSTM, Attention, ELU\n",
    "\n",
    "input_shape = (148,259)\n",
    "model = tf.keras.Sequential()\n",
    "model.add(LSTM(64, input_shape=(148,259)))\n",
    "model.add(tf.keras.layers.LSTM(32))\n",
    "#model.add(tf.keras.layers.Dense(64, activation='relu'))\n",
    "model.add(tf.keras.layers.Dense(2,activation = 'softmax'))\n",
    "model.summary()\n",
    "#model.summary()"
   ]
  },
  {
   "cell_type": "code",
   "execution_count": 70,
   "id": "flush-health",
   "metadata": {},
   "outputs": [
    {
     "name": "stdout",
     "output_type": "stream",
     "text": [
      "Epoch 1/20\n",
      "61/61 [==============================] - 6s 79ms/step - loss: 0.6119 - accuracy: 0.6355 - val_loss: 0.3543 - val_accuracy: 0.8754\n",
      "Epoch 2/20\n",
      "61/61 [==============================] - 5s 75ms/step - loss: 0.3424 - accuracy: 0.8816 - val_loss: 0.3406 - val_accuracy: 0.8777\n",
      "Epoch 3/20\n",
      "61/61 [==============================] - 5s 75ms/step - loss: 0.3354 - accuracy: 0.8881 - val_loss: 0.3393 - val_accuracy: 0.8824\n",
      "Epoch 4/20\n",
      "61/61 [==============================] - 5s 76ms/step - loss: 0.3301 - accuracy: 0.8930 - val_loss: 0.3374 - val_accuracy: 0.8870\n",
      "Epoch 5/20\n",
      "61/61 [==============================] - 5s 78ms/step - loss: 0.3258 - accuracy: 0.8950 - val_loss: 0.3370 - val_accuracy: 0.8870\n",
      "Epoch 6/20\n",
      "61/61 [==============================] - 5s 76ms/step - loss: 0.3217 - accuracy: 0.8958 - val_loss: 0.3372 - val_accuracy: 0.8870\n",
      "Epoch 7/20\n",
      "61/61 [==============================] - 5s 77ms/step - loss: 0.3179 - accuracy: 0.8966 - val_loss: 0.3372 - val_accuracy: 0.8881\n",
      "Epoch 8/20\n",
      "61/61 [==============================] - 5s 77ms/step - loss: 0.3142 - accuracy: 0.8978 - val_loss: 0.3380 - val_accuracy: 0.8881\n",
      "Epoch 9/20\n",
      "61/61 [==============================] - 5s 79ms/step - loss: 0.3108 - accuracy: 0.8982 - val_loss: 0.3380 - val_accuracy: 0.8893\n",
      "Epoch 10/20\n",
      "61/61 [==============================] - 5s 80ms/step - loss: 0.3074 - accuracy: 0.8995 - val_loss: 0.3393 - val_accuracy: 0.8893\n",
      "Epoch 11/20\n",
      "61/61 [==============================] - 5s 77ms/step - loss: 0.3044 - accuracy: 0.8995 - val_loss: 0.3398 - val_accuracy: 0.8904\n",
      "Epoch 12/20\n",
      "61/61 [==============================] - 5s 77ms/step - loss: 0.3010 - accuracy: 0.9002 - val_loss: 0.3406 - val_accuracy: 0.8916\n",
      "Epoch 13/20\n",
      "61/61 [==============================] - 5s 75ms/step - loss: 0.2979 - accuracy: 0.9016 - val_loss: 0.3411 - val_accuracy: 0.8904\n",
      "Epoch 14/20\n",
      "61/61 [==============================] - 5s 76ms/step - loss: 0.2950 - accuracy: 0.9025 - val_loss: 0.3424 - val_accuracy: 0.8904\n",
      "Epoch 15/20\n",
      "61/61 [==============================] - 5s 76ms/step - loss: 0.2919 - accuracy: 0.9032 - val_loss: 0.3439 - val_accuracy: 0.8916\n",
      "Epoch 16/20\n",
      "61/61 [==============================] - 5s 75ms/step - loss: 0.2887 - accuracy: 0.9034 - val_loss: 0.3443 - val_accuracy: 0.8927\n",
      "Epoch 17/20\n",
      "61/61 [==============================] - 5s 75ms/step - loss: 0.2859 - accuracy: 0.9035 - val_loss: 0.3464 - val_accuracy: 0.8916\n",
      "Epoch 18/20\n",
      "61/61 [==============================] - 5s 76ms/step - loss: 0.2825 - accuracy: 0.9045 - val_loss: 0.3481 - val_accuracy: 0.8927\n",
      "Epoch 19/20\n",
      "61/61 [==============================] - 5s 78ms/step - loss: 0.2791 - accuracy: 0.9055 - val_loss: 0.3502 - val_accuracy: 0.8916\n",
      "Epoch 20/20\n",
      "61/61 [==============================] - 5s 79ms/step - loss: 0.2761 - accuracy: 0.9066 - val_loss: 0.3508 - val_accuracy: 0.8916\n"
     ]
    }
   ],
   "source": [
    "model.compile(optimizer=keras.optimizers.Adam(1e-4),loss=tf.losses.SparseCategoricalCrossentropy(), metrics=[\"accuracy\"])\n",
    "history=model.fit(X_train, y_train, validation_data=(X_validation, y_validation),epochs = 20, batch_size = 128, verbose = 1)\n"
   ]
  },
  {
   "cell_type": "code",
   "execution_count": 71,
   "id": "younger-summit",
   "metadata": {},
   "outputs": [
    {
     "name": "stdout",
     "output_type": "stream",
     "text": [
      "train set\n",
      "0:anomaly - 1:normal\n",
      "[[  82  723]\n",
      " [   2 6995]]\n",
      "accuracy=0.91 f1score=0.18\n",
      "precision=0.98 recall=0.10\n"
     ]
    }
   ],
   "source": [
    "from sklearn.metrics import confusion_matrix\n",
    "\n",
    "pred = model.predict(X_train)\n",
    "y_pred = [0 if y[0]>y[1] else 1 for y in pred]   #thereshold=50 y[0]>0.50\n",
    "\n",
    "cm=confusion_matrix(y_train,y_pred)\n",
    "print(\"train set\")\n",
    "print(\"0:%s - 1:%s\"%(my_ec.inverse_transform([0])[0],my_ec.inverse_transform([1])[0]))\n",
    "print(cm)\n",
    "\n",
    "accuracy = (cm[0,0]+cm[1,1])/cm.sum()\n",
    "precision= (cm[0,0])/(cm[0,0]+cm[1,0])\n",
    "recall = (cm[0,0])/(cm[0,0]+cm[0,1])\n",
    "f1=2*precision*recall/(precision+recall)\n",
    "\n",
    "print(\"accuracy=%.2f f1score=%.2f\"%(accuracy, f1))\n",
    "print(\"precision=%.2f recall=%.2f\"%(precision, recall))"
   ]
  },
  {
   "cell_type": "code",
   "execution_count": 72,
   "id": "competent-bookmark",
   "metadata": {},
   "outputs": [
    {
     "data": {
      "image/png": "[encoded data removed]",
      "text/plain": [
       "<Figure size 432x288 with 1 Axes>"
      ]
     },
     "metadata": {
      "needs_background": "light"
     },
     "output_type": "display_data"
    },
    {
     "data": {
      "image/png": "[encoded data removed]",
      "text/plain": [
       "<Figure size 432x288 with 1 Axes>"
      ]
     },
     "metadata": {
      "needs_background": "light"
     },
     "output_type": "display_data"
    },
    {
     "name": "stdout",
     "output_type": "stream",
     "text": [
      "train set\n",
      "0:anomaly - 1:normal\n",
      "[[  82  723]\n",
      " [   2 6995]]\n"
     ]
    }
   ],
   "source": [
    "# summarize history for accuracy\n",
    "plt.plot(history.history['accuracy'])\n",
    "plt.plot(history.history['val_accuracy'])\n",
    "plt.title('model accuracy')\n",
    "plt.ylabel('accuracy')\n",
    "plt.xlabel('epoch')\n",
    "plt.legend(['train', 'validation'], loc='upper left')\n",
    "plt.show()\n",
    "# summarize history for loss\n",
    "plt.plot(history.history['loss'])\n",
    "plt.plot(history.history['val_loss'][1:43])\n",
    "plt.title('model loss')\n",
    "plt.ylabel('loss')\n",
    "plt.xlabel('epoch')\n",
    "plt.legend(['train', 'validation'], loc='upper left')\n",
    "plt.show()\n",
    "\n",
    "\n",
    "#plot confusion matrix\n",
    "from sklearn.metrics import confusion_matrix\n",
    "from sklearn.metrics import mean_squared_error\n",
    "\n",
    "\n",
    "pred = model.predict(X_train)\n",
    "y_pred = [0 if y[0]>y[1] else 1 for y in pred]\n",
    "\n",
    "cm=confusion_matrix(y_train,y_pred)\n",
    "print(\"train set\")\n",
    "print(\"0:%s - 1:%s\"%(my_ec.inverse_transform([0])[0],my_ec.inverse_transform([1])[0]))\n",
    "print(cm)"
   ]
  },
  {
   "cell_type": "code",
   "execution_count": 73,
   "id": "unique-jonathan",
   "metadata": {},
   "outputs": [],
   "source": [
    "#new features\n",
    "\n",
    "def Myextract_features(filePath, sampleRate=44100):\n",
    "    \n",
    "    signal,sr = librosa.load(filePath, sampleRate)\n",
    "\n",
    "    centroid = librosa.feature.spectral_centroid(y=signal,sr=sr)\n",
    "    #mfcc = librosa.feature.mfcc(y=signal, sr=sr)\n",
    "    #features = librosa.feature.melspectrogram(y=signal,sr=sr, n_mels=1)\n",
    "    slope = librosa.feature.melspectrogram(y=signal, sr=sr)\n",
    "\n",
    "    #features = np.concatenate((mel,mfcc),axis=0)\n",
    "    features = np.concatenate((centroid,slope),axis=0)\n",
    "    \n",
    "    return features"
   ]
  },
  {
   "cell_type": "code",
   "execution_count": 74,
   "id": "immune-parameter",
   "metadata": {},
   "outputs": [
    {
     "name": "stdout",
     "output_type": "stream",
     "text": [
      "(8633, 129, 259)\n",
      "(8633,)\n",
      "(1000, 129, 259)\n",
      "(1000,)\n",
      "(9633, 129, 259)\n"
     ]
    }
   ],
   "source": [
    "import pandas as pd\n",
    "\n",
    "filenames = pd.read_csv('/Users/pooyan/Documents/CMMS/normal.csv')\n",
    "#convert filenames from dataframe to array\n",
    "filenames = np.array(filenames['name'].values)\n",
    "#read all noraml files\n",
    "parent_dir = '/Users/pooyan/Desktop/data_cmms/skytraina_06252019/turbo/'\n",
    "sub_dir = 'combine/'\n",
    "file_ext='*.ogg'\n",
    "#all_Normalfiles = glob.glob(os.path.join(parent_dir, sub_dir, file_ext))[0:2500]\n",
    "all_Normalfiles = parent_dir +sub_dir+ filenames\n",
    "\n",
    "\n",
    "all_noraml_features = [] #define an empty array\n",
    "all_noraml_labels = []\n",
    "for i in range(0,len(all_Normalfiles)):\n",
    "    my_features = Myextract_features(all_Normalfiles[i])\n",
    "    all_noraml_features.append(my_features)\n",
    "    all_noraml_labels.append(\"normal\")\n",
    "\n",
    "#use reshape to conver outputs into arrays\n",
    "dim_1 = len(all_Normalfiles)\n",
    "dim_2 = my_features.shape[0] #number of features\n",
    "dim_3 = my_features.shape[1]\n",
    "all_noraml_features = np.asarray(all_noraml_features).reshape(dim_1, dim_2, dim_3)\n",
    "all_noraml_labels = np.asarray(all_noraml_labels).reshape(dim_1)\n",
    "\n",
    "#check the dimentions\n",
    "print(all_noraml_features.shape)\n",
    "print(all_noraml_labels.shape)\n",
    "\n",
    "#read all anoamly files\n",
    "filenames = pd.read_csv('/Users/pooyan/Documents/CMMS/anomaly.csv')\n",
    "#convert filenames from dataframe to array\n",
    "filenames = np.array(filenames['name'].values)\n",
    "\n",
    "parent_dir = '/Users/pooyan/Desktop/data_cmms/skytraina_06252019/turbo/'\n",
    "sub_dir = 'combine/'\n",
    "file_ext='*.ogg'\n",
    "#all_Anomalyfiles = glob.glob(os.path.join(parent_dir, sub_dir, file_ext))[0:1000]\n",
    "#all_Anomalyfiles = parent_dir +sub_dir+ filenames\n",
    "\n",
    "all_anomaly_features = [] #define an empty array\n",
    "all_anomaly_labels = []\n",
    "for i in range(0,len(all_Anomalyfiles)):\n",
    "    my_features = Myextract_features(all_Anomalyfiles[i])\n",
    "    all_anomaly_features.append(my_features)\n",
    "    all_anomaly_labels.append(\"anomaly\")\n",
    "\n",
    "#use reshape to conver outputs into arrays\n",
    "dim_1 = len(all_Anomalyfiles)\n",
    "dim_2 = my_features.shape[0] #number of features\n",
    "dim_3 = my_features.shape[1]\n",
    "all_anomaly_features = np.asarray(all_anomaly_features).reshape(dim_1, dim_2, dim_3)\n",
    "all_anomaly_labels = np.asarray(all_anomaly_labels).reshape(dim_1)\n",
    "\n",
    "#check the dimentions\n",
    "print(all_anomaly_features.shape)\n",
    "print(all_anomaly_labels.shape)\n",
    "\n",
    "#Merge noraml and anomaly arrays\n",
    "all_data = np.concatenate((all_noraml_features,all_anomaly_features),axis=0)\n",
    "all_label = np.concatenate((all_noraml_labels,all_anomaly_labels),axis=0)\n",
    "\n",
    "#check the dimentions\n",
    "print(all_data.shape)"
   ]
  },
  {
   "cell_type": "code",
   "execution_count": 75,
   "id": "collected-bikini",
   "metadata": {},
   "outputs": [
    {
     "name": "stdout",
     "output_type": "stream",
     "text": [
      "(6164, 129, 259)\n",
      "(1927, 129, 259)\n",
      "(1542, 129, 259)\n",
      "(6164, 129, 259)\n",
      "(1927, 129, 259)\n",
      "(1542, 129, 259)\n"
     ]
    }
   ],
   "source": [
    "#endocding labels\n",
    "my_ec = LabelEncoder()\n",
    "all_label = my_ec.fit_transform(all_label)\n",
    "\n",
    "my_ec.transform([\"normal\"])\n",
    "my_ec.inverse_transform(all_label)\n",
    "\n",
    "#split data into train. validation, and test\n",
    "X_train, X_test, y_train, y_test = train_test_split(all_data,all_label,test_size=0.2,shuffle=True)\n",
    "X_train, X_validation, y_train, y_validation = train_test_split(X_train,y_train,test_size=0.2,shuffle=True)\n",
    "\n",
    "#check the dimentions\n",
    "print(X_train.shape)\n",
    "print(X_test.shape)\n",
    "print(X_validation.shape)\n",
    "\n",
    "#check the dimentions\n",
    "print(X_train.shape)\n",
    "print(X_test.shape)\n",
    "print(X_validation.shape)"
   ]
  },
  {
   "cell_type": "code",
   "execution_count": 78,
   "id": "timely-keyboard",
   "metadata": {},
   "outputs": [
    {
     "ename": "ValueError",
     "evalue": "Input 0 of layer \"lstm_26\" is incompatible with the layer: expected ndim=3, found ndim=2. Full shape received: (None, 50)",
     "output_type": "error",
     "traceback": [
      "\u001b[0;31m---------------------------------------------------------------------------\u001b[0m",
      "\u001b[0;31mValueError\u001b[0m                                Traceback (most recent call last)",
      "\u001b[0;32m<ipython-input-78-06d7116f107a>\u001b[0m in \u001b[0;36m<module>\u001b[0;34m\u001b[0m\n\u001b[1;32m      4\u001b[0m \u001b[0mmodel\u001b[0m \u001b[0;34m=\u001b[0m \u001b[0mtf\u001b[0m\u001b[0;34m.\u001b[0m\u001b[0mkeras\u001b[0m\u001b[0;34m.\u001b[0m\u001b[0mSequential\u001b[0m\u001b[0;34m(\u001b[0m\u001b[0;34m)\u001b[0m\u001b[0;34m\u001b[0m\u001b[0;34m\u001b[0m\u001b[0m\n\u001b[1;32m      5\u001b[0m \u001b[0mmodel\u001b[0m\u001b[0;34m.\u001b[0m\u001b[0madd\u001b[0m\u001b[0;34m(\u001b[0m\u001b[0mLSTM\u001b[0m\u001b[0;34m(\u001b[0m\u001b[0;36m50\u001b[0m\u001b[0;34m,\u001b[0m \u001b[0minput_shape\u001b[0m\u001b[0;34m=\u001b[0m\u001b[0;34m(\u001b[0m\u001b[0;36m129\u001b[0m\u001b[0;34m,\u001b[0m\u001b[0;36m259\u001b[0m\u001b[0;34m)\u001b[0m\u001b[0;34m)\u001b[0m\u001b[0;34m)\u001b[0m\u001b[0;34m\u001b[0m\u001b[0;34m\u001b[0m\u001b[0m\n\u001b[0;32m----> 6\u001b[0;31m \u001b[0mmodel\u001b[0m\u001b[0;34m.\u001b[0m\u001b[0madd\u001b[0m\u001b[0;34m(\u001b[0m\u001b[0mtf\u001b[0m\u001b[0;34m.\u001b[0m\u001b[0mkeras\u001b[0m\u001b[0;34m.\u001b[0m\u001b[0mlayers\u001b[0m\u001b[0;34m.\u001b[0m\u001b[0mLSTM\u001b[0m\u001b[0;34m(\u001b[0m\u001b[0;36m32\u001b[0m\u001b[0;34m)\u001b[0m\u001b[0;34m)\u001b[0m\u001b[0;34m\u001b[0m\u001b[0;34m\u001b[0m\u001b[0m\n\u001b[0m\u001b[1;32m      7\u001b[0m \u001b[0;31m#model.add(tf.keras.layers.Dense(64, activation='relu'))\u001b[0m\u001b[0;34m\u001b[0m\u001b[0;34m\u001b[0m\u001b[0;34m\u001b[0m\u001b[0m\n\u001b[1;32m      8\u001b[0m \u001b[0mmodel\u001b[0m\u001b[0;34m.\u001b[0m\u001b[0madd\u001b[0m\u001b[0;34m(\u001b[0m\u001b[0mtf\u001b[0m\u001b[0;34m.\u001b[0m\u001b[0mkeras\u001b[0m\u001b[0;34m.\u001b[0m\u001b[0mlayers\u001b[0m\u001b[0;34m.\u001b[0m\u001b[0mDense\u001b[0m\u001b[0;34m(\u001b[0m\u001b[0;36m2\u001b[0m\u001b[0;34m,\u001b[0m\u001b[0mactivation\u001b[0m \u001b[0;34m=\u001b[0m \u001b[0;34m'softmax'\u001b[0m\u001b[0;34m)\u001b[0m\u001b[0;34m)\u001b[0m\u001b[0;34m\u001b[0m\u001b[0;34m\u001b[0m\u001b[0m\n",
      "\u001b[0;32m~/opt/miniconda3/lib/python3.8/site-packages/tensorflow/python/training/tracking/base.py\u001b[0m in \u001b[0;36m_method_wrapper\u001b[0;34m(self, *args, **kwargs)\u001b[0m\n\u001b[1;32m    627\u001b[0m     \u001b[0mself\u001b[0m\u001b[0;34m.\u001b[0m\u001b[0m_self_setattr_tracking\u001b[0m \u001b[0;34m=\u001b[0m \u001b[0;32mFalse\u001b[0m  \u001b[0;31m# pylint: disable=protected-access\u001b[0m\u001b[0;34m\u001b[0m\u001b[0;34m\u001b[0m\u001b[0m\n\u001b[1;32m    628\u001b[0m     \u001b[0;32mtry\u001b[0m\u001b[0;34m:\u001b[0m\u001b[0;34m\u001b[0m\u001b[0;34m\u001b[0m\u001b[0m\n\u001b[0;32m--> 629\u001b[0;31m       \u001b[0mresult\u001b[0m \u001b[0;34m=\u001b[0m \u001b[0mmethod\u001b[0m\u001b[0;34m(\u001b[0m\u001b[0mself\u001b[0m\u001b[0;34m,\u001b[0m \u001b[0;34m*\u001b[0m\u001b[0margs\u001b[0m\u001b[0;34m,\u001b[0m \u001b[0;34m**\u001b[0m\u001b[0mkwargs\u001b[0m\u001b[0;34m)\u001b[0m\u001b[0;34m\u001b[0m\u001b[0;34m\u001b[0m\u001b[0m\n\u001b[0m\u001b[1;32m    630\u001b[0m     \u001b[0;32mfinally\u001b[0m\u001b[0;34m:\u001b[0m\u001b[0;34m\u001b[0m\u001b[0;34m\u001b[0m\u001b[0m\n\u001b[1;32m    631\u001b[0m       \u001b[0mself\u001b[0m\u001b[0;34m.\u001b[0m\u001b[0m_self_setattr_tracking\u001b[0m \u001b[0;34m=\u001b[0m \u001b[0mprevious_value\u001b[0m  \u001b[0;31m# pylint: disable=protected-access\u001b[0m\u001b[0;34m\u001b[0m\u001b[0;34m\u001b[0m\u001b[0m\n",
      "\u001b[0;32m~/opt/miniconda3/lib/python3.8/site-packages/keras/utils/traceback_utils.py\u001b[0m in \u001b[0;36merror_handler\u001b[0;34m(*args, **kwargs)\u001b[0m\n\u001b[1;32m     65\u001b[0m     \u001b[0;32mexcept\u001b[0m \u001b[0mException\u001b[0m \u001b[0;32mas\u001b[0m \u001b[0me\u001b[0m\u001b[0;34m:\u001b[0m  \u001b[0;31m# pylint: disable=broad-except\u001b[0m\u001b[0;34m\u001b[0m\u001b[0;34m\u001b[0m\u001b[0m\n\u001b[1;32m     66\u001b[0m       \u001b[0mfiltered_tb\u001b[0m \u001b[0;34m=\u001b[0m \u001b[0m_process_traceback_frames\u001b[0m\u001b[0;34m(\u001b[0m\u001b[0me\u001b[0m\u001b[0;34m.\u001b[0m\u001b[0m__traceback__\u001b[0m\u001b[0;34m)\u001b[0m\u001b[0;34m\u001b[0m\u001b[0;34m\u001b[0m\u001b[0m\n\u001b[0;32m---> 67\u001b[0;31m       \u001b[0;32mraise\u001b[0m \u001b[0me\u001b[0m\u001b[0;34m.\u001b[0m\u001b[0mwith_traceback\u001b[0m\u001b[0;34m(\u001b[0m\u001b[0mfiltered_tb\u001b[0m\u001b[0;34m)\u001b[0m \u001b[0;32mfrom\u001b[0m \u001b[0;32mNone\u001b[0m\u001b[0;34m\u001b[0m\u001b[0;34m\u001b[0m\u001b[0m\n\u001b[0m\u001b[1;32m     68\u001b[0m     \u001b[0;32mfinally\u001b[0m\u001b[0;34m:\u001b[0m\u001b[0;34m\u001b[0m\u001b[0;34m\u001b[0m\u001b[0m\n\u001b[1;32m     69\u001b[0m       \u001b[0;32mdel\u001b[0m \u001b[0mfiltered_tb\u001b[0m\u001b[0;34m\u001b[0m\u001b[0;34m\u001b[0m\u001b[0m\n",
      "\u001b[0;32m~/opt/miniconda3/lib/python3.8/site-packages/keras/engine/input_spec.py\u001b[0m in \u001b[0;36massert_input_compatibility\u001b[0;34m(input_spec, inputs, layer_name)\u001b[0m\n\u001b[1;32m    212\u001b[0m       \u001b[0mndim\u001b[0m \u001b[0;34m=\u001b[0m \u001b[0mshape\u001b[0m\u001b[0;34m.\u001b[0m\u001b[0mrank\u001b[0m\u001b[0;34m\u001b[0m\u001b[0;34m\u001b[0m\u001b[0m\n\u001b[1;32m    213\u001b[0m       \u001b[0;32mif\u001b[0m \u001b[0mndim\u001b[0m \u001b[0;34m!=\u001b[0m \u001b[0mspec\u001b[0m\u001b[0;34m.\u001b[0m\u001b[0mndim\u001b[0m\u001b[0;34m:\u001b[0m\u001b[0;34m\u001b[0m\u001b[0;34m\u001b[0m\u001b[0m\n\u001b[0;32m--> 214\u001b[0;31m         raise ValueError(f'Input {input_index} of layer \"{layer_name}\" '\n\u001b[0m\u001b[1;32m    215\u001b[0m                          \u001b[0;34m'is incompatible with the layer: '\u001b[0m\u001b[0;34m\u001b[0m\u001b[0;34m\u001b[0m\u001b[0m\n\u001b[1;32m    216\u001b[0m                          \u001b[0;34mf'expected ndim={spec.ndim}, found ndim={ndim}. '\u001b[0m\u001b[0;34m\u001b[0m\u001b[0;34m\u001b[0m\u001b[0m\n",
      "\u001b[0;31mValueError\u001b[0m: Input 0 of layer \"lstm_26\" is incompatible with the layer: expected ndim=3, found ndim=2. Full shape received: (None, 50)"
     ]
    }
   ],
   "source": [
    "from keras.layers import Bidirectional, CuDNNLSTM, Attention, ELU\n",
    "\n",
    "#input_shape = (148,259)\n",
    "model = tf.keras.Sequential()\n",
    "model.add(LSTM(50, input_shape=(129,259)))\n",
    "#model.add(tf.keras.layers.LSTM(32))\n",
    "#model.add(tf.keras.layers.Dense(64, activation='relu'))\n",
    "model.add(tf.keras.layers.Dense(2,activation = 'softmax'))\n",
    "model.summary()\n",
    "#model.summary()"
   ]
  },
  {
   "cell_type": "code",
   "execution_count": 79,
   "id": "dynamic-jewelry",
   "metadata": {},
   "outputs": [
    {
     "name": "stdout",
     "output_type": "stream",
     "text": [
      "Model: \"sequential_30\"\n",
      "_________________________________________________________________\n",
      " Layer (type)                Output Shape              Param #   \n",
      "=================================================================\n",
      " conv1d_14 (Conv1D)          (None, 128, 256)          132864    \n",
      "                                                                 \n",
      " max_pooling1d_8 (MaxPooling  (None, 64, 256)          0         \n",
      " 1D)                                                             \n",
      "                                                                 \n",
      " flatten_7 (Flatten)         (None, 16384)             0         \n",
      "                                                                 \n",
      " repeat_vector_6 (RepeatVect  (None, 30, 16384)        0         \n",
      " or)                                                             \n",
      "                                                                 \n",
      " lstm_27 (LSTM)              (None, 30, 50)            3287000   \n",
      "                                                                 \n",
      " bidirectional_11 (Bidirecti  (None, 256)              183296    \n",
      " onal)                                                           \n",
      "                                                                 \n",
      " dense_24 (Dense)            (None, 2)                 514       \n",
      "                                                                 \n",
      "=================================================================\n",
      "Total params: 3,603,674\n",
      "Trainable params: 3,603,674\n",
      "Non-trainable params: 0\n",
      "_________________________________________________________________\n"
     ]
    }
   ],
   "source": [
    "model = Sequential()\n",
    "model.add(Conv1D(filters=256, kernel_size=2, activation='relu', input_shape=(129,259)))\n",
    "#model.add(Conv1D(filters=128, kernel_size=2, activation='relu'))\n",
    "model.add(MaxPooling1D(pool_size=2))\n",
    "model.add(Flatten())\n",
    "model.add(RepeatVector(30))\n",
    "#model.add(LSTM(units=25, return_sequences=True, activation='relu'))\n",
    "#model.add(Dropout(0.2))\n",
    "#model.add(LSTM(units=25, return_sequences=True, activation='relu'))\n",
    "#model.add(Dropout(0.2))\n",
    "#model.add(LSTM(units=25, return_sequences=True, activation='relu'))\n",
    "model.add(LSTM(units=50, return_sequences=True, activation='relu'))\n",
    "model.add(Bidirectional(LSTM(128, activation='relu')))\n",
    "model.add(Dense(2, activation='softmax'))\n",
    "#model.add(Dense(2))\n",
    "#model.compile(loss='mae', optimizer='adam', metrics=['mse'])\n",
    "model.summary()"
   ]
  },
  {
   "cell_type": "code",
   "execution_count": 80,
   "id": "static-sweden",
   "metadata": {},
   "outputs": [
    {
     "name": "stdout",
     "output_type": "stream",
     "text": [
      "Epoch 1/20\n",
      "49/49 [==============================] - 37s 695ms/step - loss: 5693.4917 - accuracy: 0.5501 - val_loss: 4507.0073 - val_accuracy: 0.6946\n",
      "Epoch 2/20\n",
      "49/49 [==============================] - 34s 692ms/step - loss: 5459.0527 - accuracy: 0.7383 - val_loss: 5345.2354 - val_accuracy: 0.7711\n",
      "Epoch 3/20\n",
      "49/49 [==============================] - 33s 683ms/step - loss: 4748.0161 - accuracy: 0.7803 - val_loss: 5397.6343 - val_accuracy: 0.7763\n",
      "Epoch 4/20\n",
      "49/49 [==============================] - 34s 697ms/step - loss: 4600.1855 - accuracy: 0.8058 - val_loss: 4356.8125 - val_accuracy: 0.8022\n",
      "Epoch 5/20\n",
      "49/49 [==============================] - 34s 687ms/step - loss: 4260.6113 - accuracy: 0.8029 - val_loss: 4005.7256 - val_accuracy: 0.7970\n",
      "Epoch 6/20\n",
      "49/49 [==============================] - 34s 691ms/step - loss: 3949.9951 - accuracy: 0.8284 - val_loss: 3815.9858 - val_accuracy: 0.8307\n",
      "Epoch 7/20\n",
      "49/49 [==============================] - 34s 698ms/step - loss: 3387.5854 - accuracy: 0.8409 - val_loss: 3318.2029 - val_accuracy: 0.8340\n",
      "Epoch 8/20\n",
      "49/49 [==============================] - 33s 683ms/step - loss: 3237.4751 - accuracy: 0.8288 - val_loss: 3529.5671 - val_accuracy: 0.8398\n",
      "Epoch 9/20\n",
      "49/49 [==============================] - 35s 714ms/step - loss: 3086.8450 - accuracy: 0.8405 - val_loss: 3314.6001 - val_accuracy: 0.8307\n",
      "Epoch 10/20\n",
      "49/49 [==============================] - 35s 721ms/step - loss: 6836.7812 - accuracy: 0.7768 - val_loss: 29428.2422 - val_accuracy: 0.6291\n",
      "Epoch 11/20\n",
      "49/49 [==============================] - 34s 703ms/step - loss: 5635.9355 - accuracy: 0.8009 - val_loss: 4203.1577 - val_accuracy: 0.8145\n",
      "Epoch 12/20\n",
      "49/49 [==============================] - 34s 694ms/step - loss: 4543.3613 - accuracy: 0.8209 - val_loss: 6578.8716 - val_accuracy: 0.8573\n",
      "Epoch 13/20\n",
      "49/49 [==============================] - 35s 712ms/step - loss: 5822.6128 - accuracy: 0.8199 - val_loss: 5129.1733 - val_accuracy: 0.7873\n",
      "Epoch 14/20\n",
      "49/49 [==============================] - 34s 696ms/step - loss: 4784.9058 - accuracy: 0.8152 - val_loss: 4307.1973 - val_accuracy: 0.8009\n",
      "Epoch 15/20\n",
      "49/49 [==============================] - 36s 729ms/step - loss: 3227.5007 - accuracy: 0.8068 - val_loss: 3022.0059 - val_accuracy: 0.7853\n",
      "Epoch 16/20\n",
      "49/49 [==============================] - 35s 722ms/step - loss: 4394.4048 - accuracy: 0.8042 - val_loss: 4971.6064 - val_accuracy: 0.8230\n",
      "Epoch 17/20\n",
      "49/49 [==============================] - 35s 713ms/step - loss: 4392.3799 - accuracy: 0.8240 - val_loss: 3791.4221 - val_accuracy: 0.7704\n",
      "Epoch 18/20\n",
      "49/49 [==============================] - 37s 755ms/step - loss: 4795.0908 - accuracy: 0.8204 - val_loss: 5917.6836 - val_accuracy: 0.8223\n",
      "Epoch 19/20\n",
      "49/49 [==============================] - 36s 738ms/step - loss: 4499.3364 - accuracy: 0.8350 - val_loss: 4407.1650 - val_accuracy: 0.7944\n",
      "Epoch 20/20\n",
      "49/49 [==============================] - 35s 723ms/step - loss: 3445.8394 - accuracy: 0.8277 - val_loss: 2944.5879 - val_accuracy: 0.8087\n"
     ]
    }
   ],
   "source": [
    "model.compile(optimizer=keras.optimizers.Adam(1e-4),loss=tf.losses.SparseCategoricalCrossentropy(), metrics=[\"accuracy\"])\n",
    "history=model.fit(X_train, y_train, validation_data=(X_validation, y_validation),epochs = 20, batch_size = 128, verbose = 1)\n"
   ]
  },
  {
   "cell_type": "code",
   "execution_count": 81,
   "id": "victorian-dairy",
   "metadata": {},
   "outputs": [
    {
     "name": "stdout",
     "output_type": "stream",
     "text": [
      "train set\n",
      "0:anomaly - 1:normal\n",
      "[[  62  556]\n",
      " [ 609 4937]]\n",
      "accuracy=0.81 f1score=0.10\n",
      "precision=0.09 recall=0.10\n"
     ]
    }
   ],
   "source": [
    "from sklearn.metrics import confusion_matrix\n",
    "\n",
    "pred = model.predict(X_train)\n",
    "y_pred = [0 if y[0]>y[1] else 1 for y in pred]   #thereshold=50 y[0]>0.50\n",
    "\n",
    "cm=confusion_matrix(y_train,y_pred)\n",
    "print(\"train set\")\n",
    "print(\"0:%s - 1:%s\"%(my_ec.inverse_transform([0])[0],my_ec.inverse_transform([1])[0]))\n",
    "print(cm)\n",
    "\n",
    "accuracy = (cm[0,0]+cm[1,1])/cm.sum()\n",
    "precision= (cm[0,0])/(cm[0,0]+cm[1,0])\n",
    "recall = (cm[0,0])/(cm[0,0]+cm[0,1])\n",
    "f1=2*precision*recall/(precision+recall)\n",
    "\n",
    "print(\"accuracy=%.2f f1score=%.2f\"%(accuracy, f1))\n",
    "print(\"precision=%.2f recall=%.2f\"%(precision, recall))"
   ]
  },
  {
   "cell_type": "code",
   "execution_count": 82,
   "id": "analyzed-moldova",
   "metadata": {},
   "outputs": [
    {
     "data": {
      "image/png": "[encoded data removed]",
      "text/plain": [
       "<Figure size 432x288 with 1 Axes>"
      ]
     },
     "metadata": {
      "needs_background": "light"
     },
     "output_type": "display_data"
    },
    {
     "data": {
      "image/png": "[encoded data removed]",
      "text/plain": [
       "<Figure size 432x288 with 1 Axes>"
      ]
     },
     "metadata": {
      "needs_background": "light"
     },
     "output_type": "display_data"
    },
    {
     "name": "stdout",
     "output_type": "stream",
     "text": [
      "train set\n",
      "0:anomaly - 1:normal\n",
      "[[  62  556]\n",
      " [ 609 4937]]\n"
     ]
    }
   ],
   "source": [
    "# summarize history for accuracy\n",
    "plt.plot(history.history['accuracy'])\n",
    "plt.plot(history.history['val_accuracy'])\n",
    "plt.title('model accuracy')\n",
    "plt.ylabel('accuracy')\n",
    "plt.xlabel('epoch')\n",
    "plt.legend(['train', 'validation'], loc='upper left')\n",
    "plt.show()\n",
    "# summarize history for loss\n",
    "plt.plot(history.history['loss'])\n",
    "plt.plot(history.history['val_loss'][1:43])\n",
    "plt.title('model loss')\n",
    "plt.ylabel('loss')\n",
    "plt.xlabel('epoch')\n",
    "plt.legend(['train', 'validation'], loc='upper left')\n",
    "plt.show()\n",
    "\n",
    "\n",
    "#plot confusion matrix\n",
    "from sklearn.metrics import confusion_matrix\n",
    "from sklearn.metrics import mean_squared_error\n",
    "\n",
    "\n",
    "pred = model.predict(X_train)\n",
    "y_pred = [0 if y[0]>y[1] else 1 for y in pred]\n",
    "\n",
    "cm=confusion_matrix(y_train,y_pred)\n",
    "print(\"train set\")\n",
    "print(\"0:%s - 1:%s\"%(my_ec.inverse_transform([0])[0],my_ec.inverse_transform([1])[0]))\n",
    "print(cm)"
   ]
  },
  {
   "cell_type": "code",
   "execution_count": 88,
   "id": "clinical-worth",
   "metadata": {},
   "outputs": [],
   "source": [
    "\n",
    "model = Sequential()\n",
    "model.add(Conv1D(filters=32, kernel_size=7, padding=\"same\", strides=1, activation='relu', \n",
    "input_shape=(129, 259)))\n",
    "model.add(Conv1D(filters=16, kernel_size=7, padding=\"same\", strides=1, activation='relu'))\n",
    "model.add(MaxPooling1D(pool_size=2)) \n",
    "model.add(Flatten())\n",
    "model.add(RepeatVector(5))\n",
    "model.add(LSTM(units=32, return_sequences=True))\n",
    "model.add(Dropout(0.5))\n",
    "model.add(TimeDistributed(Dense(5, activation='relu')))\n",
    "model.add(Flatten())\n",
    "model.add(Dense(25,activation='relu'))\n",
    "model.add(tf.keras.layers.Reshape((5,5)))\n",
    "model.add(tf.keras.layers.UpSampling1D(size=3))\n",
    "model.add(TimeDistributed(Dense(15, activation='relu')))\n",
    "\n",
    "model.add(tf.keras.layers.Conv1DTranspose(filters=8, kernel_size=7, padding=\"same\", strides=1, \n",
    " activation=\"relu\"))\n",
    "model.add(tf.keras.layers.Conv1DTranspose(filters=16, kernel_size=7, padding=\"same\", strides=1, \n",
    "activation=\"relu\"))\n",
    "model.add(tf.keras.layers.Conv1DTranspose(filters=32, kernel_size=7, padding=\"same\", strides=1, \n",
    "activation=\"relu\"))\n",
    "model.add(Dropout(0.2))\n",
    "model.add(TimeDistributed(Dense( 2)))"
   ]
  },
  {
   "cell_type": "code",
   "execution_count": 89,
   "id": "musical-motor",
   "metadata": {},
   "outputs": [
    {
     "name": "stdout",
     "output_type": "stream",
     "text": [
      "Model: \"sequential_36\"\n",
      "_________________________________________________________________\n",
      " Layer (type)                Output Shape              Param #   \n",
      "=================================================================\n",
      " conv1d_25 (Conv1D)          (None, 129, 32)           58048     \n",
      "                                                                 \n",
      " conv1d_26 (Conv1D)          (None, 129, 16)           3600      \n",
      "                                                                 \n",
      " max_pooling1d_14 (MaxPoolin  (None, 64, 16)           0         \n",
      " g1D)                                                            \n",
      "                                                                 \n",
      " flatten_18 (Flatten)        (None, 1024)              0         \n",
      "                                                                 \n",
      " repeat_vector_12 (RepeatVec  (None, 5, 1024)          0         \n",
      " tor)                                                            \n",
      "                                                                 \n",
      " lstm_34 (LSTM)              (None, 5, 32)             135296    \n",
      "                                                                 \n",
      " dropout_11 (Dropout)        (None, 5, 32)             0         \n",
      "                                                                 \n",
      " time_distributed_11 (TimeDi  (None, 5, 5)             165       \n",
      " stributed)                                                      \n",
      "                                                                 \n",
      " flatten_19 (Flatten)        (None, 25)                0         \n",
      "                                                                 \n",
      " dense_37 (Dense)            (None, 25)                650       \n",
      "                                                                 \n",
      " reshape_2 (Reshape)         (None, 5, 5)              0         \n",
      "                                                                 \n",
      " up_sampling1d_1 (UpSampling  (None, 15, 5)            0         \n",
      " 1D)                                                             \n",
      "                                                                 \n",
      " time_distributed_12 (TimeDi  (None, 15, 15)           90        \n",
      " stributed)                                                      \n",
      "                                                                 \n",
      " conv1d_transpose (Conv1DTra  (None, 15, 8)            848       \n",
      " nspose)                                                         \n",
      "                                                                 \n",
      " conv1d_transpose_1 (Conv1DT  (None, 15, 16)           912       \n",
      " ranspose)                                                       \n",
      "                                                                 \n",
      " conv1d_transpose_2 (Conv1DT  (None, 15, 32)           3616      \n",
      " ranspose)                                                       \n",
      "                                                                 \n",
      " dropout_12 (Dropout)        (None, 15, 32)            0         \n",
      "                                                                 \n",
      " time_distributed_13 (TimeDi  (None, 15, 2)            66        \n",
      " stributed)                                                      \n",
      "                                                                 \n",
      "=================================================================\n",
      "Total params: 203,291\n",
      "Trainable params: 203,291\n",
      "Non-trainable params: 0\n",
      "_________________________________________________________________\n"
     ]
    }
   ],
   "source": [
    "model.summary()"
   ]
  },
  {
   "cell_type": "code",
   "execution_count": 90,
   "id": "stainless-italy",
   "metadata": {},
   "outputs": [
    {
     "name": "stdout",
     "output_type": "stream",
     "text": [
      "Epoch 1/20\n"
     ]
    },
    {
     "ename": "InvalidArgumentError",
     "evalue": "Graph execution error:\n\nDetected at node 'sparse_categorical_crossentropy/SparseSoftmaxCrossEntropyWithLogits/SparseSoftmaxCrossEntropyWithLogits' defined at (most recent call last):\n    File \"/Users/pooyan/opt/miniconda3/lib/python3.8/runpy.py\", line 194, in _run_module_as_main\n      return _run_code(code, main_globals, None,\n    File \"/Users/pooyan/opt/miniconda3/lib/python3.8/runpy.py\", line 87, in _run_code\n      exec(code, run_globals)\n    File \"/Users/pooyan/opt/miniconda3/lib/python3.8/site-packages/ipykernel_launcher.py\", line 16, in <module>\n      app.launch_new_instance()\n    File \"/Users/pooyan/opt/miniconda3/lib/python3.8/site-packages/traitlets/config/application.py\", line 845, in launch_instance\n      app.start()\n    File \"/Users/pooyan/opt/miniconda3/lib/python3.8/site-packages/ipykernel/kernelapp.py\", line 612, in start\n      self.io_loop.start()\n    File \"/Users/pooyan/opt/miniconda3/lib/python3.8/site-packages/tornado/platform/asyncio.py\", line 199, in start\n      self.asyncio_loop.run_forever()\n    File \"/Users/pooyan/opt/miniconda3/lib/python3.8/asyncio/base_events.py\", line 570, in run_forever\n      self._run_once()\n    File \"/Users/pooyan/opt/miniconda3/lib/python3.8/asyncio/base_events.py\", line 1859, in _run_once\n      handle._run()\n    File \"/Users/pooyan/opt/miniconda3/lib/python3.8/asyncio/events.py\", line 81, in _run\n      self._context.run(self._callback, *self._args)\n    File \"/Users/pooyan/opt/miniconda3/lib/python3.8/site-packages/tornado/ioloop.py\", line 688, in <lambda>\n      lambda f: self._run_callback(functools.partial(callback, future))\n    File \"/Users/pooyan/opt/miniconda3/lib/python3.8/site-packages/tornado/ioloop.py\", line 741, in _run_callback\n      ret = callback()\n    File \"/Users/pooyan/opt/miniconda3/lib/python3.8/site-packages/tornado/gen.py\", line 814, in inner\n      self.ctx_run(self.run)\n    File \"/Users/pooyan/opt/miniconda3/lib/python3.8/site-packages/tornado/gen.py\", line 775, in run\n      yielded = self.gen.send(value)\n    File \"/Users/pooyan/opt/miniconda3/lib/python3.8/site-packages/ipykernel/kernelbase.py\", line 365, in process_one\n      yield gen.maybe_future(dispatch(*args))\n    File \"/Users/pooyan/opt/miniconda3/lib/python3.8/site-packages/tornado/gen.py\", line 234, in wrapper\n      yielded = ctx_run(next, result)\n    File \"/Users/pooyan/opt/miniconda3/lib/python3.8/site-packages/ipykernel/kernelbase.py\", line 268, in dispatch_shell\n      yield gen.maybe_future(handler(stream, idents, msg))\n    File \"/Users/pooyan/opt/miniconda3/lib/python3.8/site-packages/tornado/gen.py\", line 234, in wrapper\n      yielded = ctx_run(next, result)\n    File \"/Users/pooyan/opt/miniconda3/lib/python3.8/site-packages/ipykernel/kernelbase.py\", line 543, in execute_request\n      self.do_execute(\n    File \"/Users/pooyan/opt/miniconda3/lib/python3.8/site-packages/tornado/gen.py\", line 234, in wrapper\n      yielded = ctx_run(next, result)\n    File \"/Users/pooyan/opt/miniconda3/lib/python3.8/site-packages/ipykernel/ipkernel.py\", line 306, in do_execute\n      res = shell.run_cell(code, store_history=store_history, silent=silent)\n    File \"/Users/pooyan/opt/miniconda3/lib/python3.8/site-packages/ipykernel/zmqshell.py\", line 536, in run_cell\n      return super(ZMQInteractiveShell, self).run_cell(*args, **kwargs)\n    File \"/Users/pooyan/opt/miniconda3/lib/python3.8/site-packages/IPython/core/interactiveshell.py\", line 2886, in run_cell\n      result = self._run_cell(\n    File \"/Users/pooyan/opt/miniconda3/lib/python3.8/site-packages/IPython/core/interactiveshell.py\", line 2932, in _run_cell\n      return runner(coro)\n    File \"/Users/pooyan/opt/miniconda3/lib/python3.8/site-packages/IPython/core/async_helpers.py\", line 68, in _pseudo_sync_runner\n      coro.send(None)\n    File \"/Users/pooyan/opt/miniconda3/lib/python3.8/site-packages/IPython/core/interactiveshell.py\", line 3155, in run_cell_async\n      has_raised = await self.run_ast_nodes(code_ast.body, cell_name,\n    File \"/Users/pooyan/opt/miniconda3/lib/python3.8/site-packages/IPython/core/interactiveshell.py\", line 3347, in run_ast_nodes\n      if (await self.run_code(code, result,  async_=asy)):\n    File \"/Users/pooyan/opt/miniconda3/lib/python3.8/site-packages/IPython/core/interactiveshell.py\", line 3427, in run_code\n      exec(code_obj, self.user_global_ns, self.user_ns)\n    File \"<ipython-input-90-f86132fb0aba>\", line 2, in <module>\n      history=model.fit(X_train, y_train, validation_data=(X_validation, y_validation),epochs = 20, batch_size = 128, verbose = 1)\n    File \"/Users/pooyan/opt/miniconda3/lib/python3.8/site-packages/keras/utils/traceback_utils.py\", line 64, in error_handler\n      return fn(*args, **kwargs)\n    File \"/Users/pooyan/opt/miniconda3/lib/python3.8/site-packages/keras/engine/training.py\", line 1384, in fit\n      tmp_logs = self.train_function(iterator)\n    File \"/Users/pooyan/opt/miniconda3/lib/python3.8/site-packages/keras/engine/training.py\", line 1021, in train_function\n      return step_function(self, iterator)\n    File \"/Users/pooyan/opt/miniconda3/lib/python3.8/site-packages/keras/engine/training.py\", line 1010, in step_function\n      outputs = model.distribute_strategy.run(run_step, args=(data,))\n    File \"/Users/pooyan/opt/miniconda3/lib/python3.8/site-packages/keras/engine/training.py\", line 1000, in run_step\n      outputs = model.train_step(data)\n    File \"/Users/pooyan/opt/miniconda3/lib/python3.8/site-packages/keras/engine/training.py\", line 860, in train_step\n      loss = self.compute_loss(x, y, y_pred, sample_weight)\n    File \"/Users/pooyan/opt/miniconda3/lib/python3.8/site-packages/keras/engine/training.py\", line 918, in compute_loss\n      return self.compiled_loss(\n    File \"/Users/pooyan/opt/miniconda3/lib/python3.8/site-packages/keras/engine/compile_utils.py\", line 201, in __call__\n      loss_value = loss_obj(y_t, y_p, sample_weight=sw)\n    File \"/Users/pooyan/opt/miniconda3/lib/python3.8/site-packages/keras/losses.py\", line 141, in __call__\n      losses = call_fn(y_true, y_pred)\n    File \"/Users/pooyan/opt/miniconda3/lib/python3.8/site-packages/keras/losses.py\", line 245, in call\n      return ag_fn(y_true, y_pred, **self._fn_kwargs)\n    File \"/Users/pooyan/opt/miniconda3/lib/python3.8/site-packages/keras/losses.py\", line 1862, in sparse_categorical_crossentropy\n      return backend.sparse_categorical_crossentropy(\n    File \"/Users/pooyan/opt/miniconda3/lib/python3.8/site-packages/keras/backend.py\", line 5202, in sparse_categorical_crossentropy\n      res = tf.nn.sparse_softmax_cross_entropy_with_logits(\nNode: 'sparse_categorical_crossentropy/SparseSoftmaxCrossEntropyWithLogits/SparseSoftmaxCrossEntropyWithLogits'\nlogits and labels must have the same first dimension, got logits shape [1920,2] and labels shape [128]\n\t [[{{node sparse_categorical_crossentropy/SparseSoftmaxCrossEntropyWithLogits/SparseSoftmaxCrossEntropyWithLogits}}]] [Op:__inference_train_function_135991]",
     "output_type": "error",
     "traceback": [
      "\u001b[0;31m---------------------------------------------------------------------------\u001b[0m",
      "\u001b[0;31mInvalidArgumentError\u001b[0m                      Traceback (most recent call last)",
      "\u001b[0;32m<ipython-input-90-f86132fb0aba>\u001b[0m in \u001b[0;36m<module>\u001b[0;34m\u001b[0m\n\u001b[1;32m      1\u001b[0m \u001b[0mmodel\u001b[0m\u001b[0;34m.\u001b[0m\u001b[0mcompile\u001b[0m\u001b[0;34m(\u001b[0m\u001b[0moptimizer\u001b[0m\u001b[0;34m=\u001b[0m\u001b[0mkeras\u001b[0m\u001b[0;34m.\u001b[0m\u001b[0moptimizers\u001b[0m\u001b[0;34m.\u001b[0m\u001b[0mAdam\u001b[0m\u001b[0;34m(\u001b[0m\u001b[0;36m1e-4\u001b[0m\u001b[0;34m)\u001b[0m\u001b[0;34m,\u001b[0m\u001b[0mloss\u001b[0m\u001b[0;34m=\u001b[0m\u001b[0mtf\u001b[0m\u001b[0;34m.\u001b[0m\u001b[0mlosses\u001b[0m\u001b[0;34m.\u001b[0m\u001b[0mSparseCategoricalCrossentropy\u001b[0m\u001b[0;34m(\u001b[0m\u001b[0;34m)\u001b[0m\u001b[0;34m,\u001b[0m \u001b[0mmetrics\u001b[0m\u001b[0;34m=\u001b[0m\u001b[0;34m[\u001b[0m\u001b[0;34m\"accuracy\"\u001b[0m\u001b[0;34m]\u001b[0m\u001b[0;34m)\u001b[0m\u001b[0;34m\u001b[0m\u001b[0;34m\u001b[0m\u001b[0m\n\u001b[0;32m----> 2\u001b[0;31m \u001b[0mhistory\u001b[0m\u001b[0;34m=\u001b[0m\u001b[0mmodel\u001b[0m\u001b[0;34m.\u001b[0m\u001b[0mfit\u001b[0m\u001b[0;34m(\u001b[0m\u001b[0mX_train\u001b[0m\u001b[0;34m,\u001b[0m \u001b[0my_train\u001b[0m\u001b[0;34m,\u001b[0m \u001b[0mvalidation_data\u001b[0m\u001b[0;34m=\u001b[0m\u001b[0;34m(\u001b[0m\u001b[0mX_validation\u001b[0m\u001b[0;34m,\u001b[0m \u001b[0my_validation\u001b[0m\u001b[0;34m)\u001b[0m\u001b[0;34m,\u001b[0m\u001b[0mepochs\u001b[0m \u001b[0;34m=\u001b[0m \u001b[0;36m20\u001b[0m\u001b[0;34m,\u001b[0m \u001b[0mbatch_size\u001b[0m \u001b[0;34m=\u001b[0m \u001b[0;36m128\u001b[0m\u001b[0;34m,\u001b[0m \u001b[0mverbose\u001b[0m \u001b[0;34m=\u001b[0m \u001b[0;36m1\u001b[0m\u001b[0;34m)\u001b[0m\u001b[0;34m\u001b[0m\u001b[0;34m\u001b[0m\u001b[0m\n\u001b[0m",
      "\u001b[0;32m~/opt/miniconda3/lib/python3.8/site-packages/keras/utils/traceback_utils.py\u001b[0m in \u001b[0;36merror_handler\u001b[0;34m(*args, **kwargs)\u001b[0m\n\u001b[1;32m     65\u001b[0m     \u001b[0;32mexcept\u001b[0m \u001b[0mException\u001b[0m \u001b[0;32mas\u001b[0m \u001b[0me\u001b[0m\u001b[0;34m:\u001b[0m  \u001b[0;31m# pylint: disable=broad-except\u001b[0m\u001b[0;34m\u001b[0m\u001b[0;34m\u001b[0m\u001b[0m\n\u001b[1;32m     66\u001b[0m       \u001b[0mfiltered_tb\u001b[0m \u001b[0;34m=\u001b[0m \u001b[0m_process_traceback_frames\u001b[0m\u001b[0;34m(\u001b[0m\u001b[0me\u001b[0m\u001b[0;34m.\u001b[0m\u001b[0m__traceback__\u001b[0m\u001b[0;34m)\u001b[0m\u001b[0;34m\u001b[0m\u001b[0;34m\u001b[0m\u001b[0m\n\u001b[0;32m---> 67\u001b[0;31m       \u001b[0;32mraise\u001b[0m \u001b[0me\u001b[0m\u001b[0;34m.\u001b[0m\u001b[0mwith_traceback\u001b[0m\u001b[0;34m(\u001b[0m\u001b[0mfiltered_tb\u001b[0m\u001b[0;34m)\u001b[0m \u001b[0;32mfrom\u001b[0m \u001b[0;32mNone\u001b[0m\u001b[0;34m\u001b[0m\u001b[0;34m\u001b[0m\u001b[0m\n\u001b[0m\u001b[1;32m     68\u001b[0m     \u001b[0;32mfinally\u001b[0m\u001b[0;34m:\u001b[0m\u001b[0;34m\u001b[0m\u001b[0;34m\u001b[0m\u001b[0m\n\u001b[1;32m     69\u001b[0m       \u001b[0;32mdel\u001b[0m \u001b[0mfiltered_tb\u001b[0m\u001b[0;34m\u001b[0m\u001b[0;34m\u001b[0m\u001b[0m\n",
      "\u001b[0;32m~/opt/miniconda3/lib/python3.8/site-packages/tensorflow/python/eager/execute.py\u001b[0m in \u001b[0;36mquick_execute\u001b[0;34m(op_name, num_outputs, inputs, attrs, ctx, name)\u001b[0m\n\u001b[1;32m     52\u001b[0m   \u001b[0;32mtry\u001b[0m\u001b[0;34m:\u001b[0m\u001b[0;34m\u001b[0m\u001b[0;34m\u001b[0m\u001b[0m\n\u001b[1;32m     53\u001b[0m     \u001b[0mctx\u001b[0m\u001b[0;34m.\u001b[0m\u001b[0mensure_initialized\u001b[0m\u001b[0;34m(\u001b[0m\u001b[0;34m)\u001b[0m\u001b[0;34m\u001b[0m\u001b[0;34m\u001b[0m\u001b[0m\n\u001b[0;32m---> 54\u001b[0;31m     tensors = pywrap_tfe.TFE_Py_Execute(ctx._handle, device_name, op_name,\n\u001b[0m\u001b[1;32m     55\u001b[0m                                         inputs, attrs, num_outputs)\n\u001b[1;32m     56\u001b[0m   \u001b[0;32mexcept\u001b[0m \u001b[0mcore\u001b[0m\u001b[0;34m.\u001b[0m\u001b[0m_NotOkStatusException\u001b[0m \u001b[0;32mas\u001b[0m \u001b[0me\u001b[0m\u001b[0;34m:\u001b[0m\u001b[0;34m\u001b[0m\u001b[0;34m\u001b[0m\u001b[0m\n",
      "\u001b[0;31mInvalidArgumentError\u001b[0m: Graph execution error:\n\nDetected at node 'sparse_categorical_crossentropy/SparseSoftmaxCrossEntropyWithLogits/SparseSoftmaxCrossEntropyWithLogits' defined at (most recent call last):\n    File \"/Users/pooyan/opt/miniconda3/lib/python3.8/runpy.py\", line 194, in _run_module_as_main\n      return _run_code(code, main_globals, None,\n    File \"/Users/pooyan/opt/miniconda3/lib/python3.8/runpy.py\", line 87, in _run_code\n      exec(code, run_globals)\n    File \"/Users/pooyan/opt/miniconda3/lib/python3.8/site-packages/ipykernel_launcher.py\", line 16, in <module>\n      app.launch_new_instance()\n    File \"/Users/pooyan/opt/miniconda3/lib/python3.8/site-packages/traitlets/config/application.py\", line 845, in launch_instance\n      app.start()\n    File \"/Users/pooyan/opt/miniconda3/lib/python3.8/site-packages/ipykernel/kernelapp.py\", line 612, in start\n      self.io_loop.start()\n    File \"/Users/pooyan/opt/miniconda3/lib/python3.8/site-packages/tornado/platform/asyncio.py\", line 199, in start\n      self.asyncio_loop.run_forever()\n    File \"/Users/pooyan/opt/miniconda3/lib/python3.8/asyncio/base_events.py\", line 570, in run_forever\n      self._run_once()\n    File \"/Users/pooyan/opt/miniconda3/lib/python3.8/asyncio/base_events.py\", line 1859, in _run_once\n      handle._run()\n    File \"/Users/pooyan/opt/miniconda3/lib/python3.8/asyncio/events.py\", line 81, in _run\n      self._context.run(self._callback, *self._args)\n    File \"/Users/pooyan/opt/miniconda3/lib/python3.8/site-packages/tornado/ioloop.py\", line 688, in <lambda>\n      lambda f: self._run_callback(functools.partial(callback, future))\n    File \"/Users/pooyan/opt/miniconda3/lib/python3.8/site-packages/tornado/ioloop.py\", line 741, in _run_callback\n      ret = callback()\n    File \"/Users/pooyan/opt/miniconda3/lib/python3.8/site-packages/tornado/gen.py\", line 814, in inner\n      self.ctx_run(self.run)\n    File \"/Users/pooyan/opt/miniconda3/lib/python3.8/site-packages/tornado/gen.py\", line 775, in run\n      yielded = self.gen.send(value)\n    File \"/Users/pooyan/opt/miniconda3/lib/python3.8/site-packages/ipykernel/kernelbase.py\", line 365, in process_one\n      yield gen.maybe_future(dispatch(*args))\n    File \"/Users/pooyan/opt/miniconda3/lib/python3.8/site-packages/tornado/gen.py\", line 234, in wrapper\n      yielded = ctx_run(next, result)\n    File \"/Users/pooyan/opt/miniconda3/lib/python3.8/site-packages/ipykernel/kernelbase.py\", line 268, in dispatch_shell\n      yield gen.maybe_future(handler(stream, idents, msg))\n    File \"/Users/pooyan/opt/miniconda3/lib/python3.8/site-packages/tornado/gen.py\", line 234, in wrapper\n      yielded = ctx_run(next, result)\n    File \"/Users/pooyan/opt/miniconda3/lib/python3.8/site-packages/ipykernel/kernelbase.py\", line 543, in execute_request\n      self.do_execute(\n    File \"/Users/pooyan/opt/miniconda3/lib/python3.8/site-packages/tornado/gen.py\", line 234, in wrapper\n      yielded = ctx_run(next, result)\n    File \"/Users/pooyan/opt/miniconda3/lib/python3.8/site-packages/ipykernel/ipkernel.py\", line 306, in do_execute\n      res = shell.run_cell(code, store_history=store_history, silent=silent)\n    File \"/Users/pooyan/opt/miniconda3/lib/python3.8/site-packages/ipykernel/zmqshell.py\", line 536, in run_cell\n      return super(ZMQInteractiveShell, self).run_cell(*args, **kwargs)\n    File \"/Users/pooyan/opt/miniconda3/lib/python3.8/site-packages/IPython/core/interactiveshell.py\", line 2886, in run_cell\n      result = self._run_cell(\n    File \"/Users/pooyan/opt/miniconda3/lib/python3.8/site-packages/IPython/core/interactiveshell.py\", line 2932, in _run_cell\n      return runner(coro)\n    File \"/Users/pooyan/opt/miniconda3/lib/python3.8/site-packages/IPython/core/async_helpers.py\", line 68, in _pseudo_sync_runner\n      coro.send(None)\n    File \"/Users/pooyan/opt/miniconda3/lib/python3.8/site-packages/IPython/core/interactiveshell.py\", line 3155, in run_cell_async\n      has_raised = await self.run_ast_nodes(code_ast.body, cell_name,\n    File \"/Users/pooyan/opt/miniconda3/lib/python3.8/site-packages/IPython/core/interactiveshell.py\", line 3347, in run_ast_nodes\n      if (await self.run_code(code, result,  async_=asy)):\n    File \"/Users/pooyan/opt/miniconda3/lib/python3.8/site-packages/IPython/core/interactiveshell.py\", line 3427, in run_code\n      exec(code_obj, self.user_global_ns, self.user_ns)\n    File \"<ipython-input-90-f86132fb0aba>\", line 2, in <module>\n      history=model.fit(X_train, y_train, validation_data=(X_validation, y_validation),epochs = 20, batch_size = 128, verbose = 1)\n    File \"/Users/pooyan/opt/miniconda3/lib/python3.8/site-packages/keras/utils/traceback_utils.py\", line 64, in error_handler\n      return fn(*args, **kwargs)\n    File \"/Users/pooyan/opt/miniconda3/lib/python3.8/site-packages/keras/engine/training.py\", line 1384, in fit\n      tmp_logs = self.train_function(iterator)\n    File \"/Users/pooyan/opt/miniconda3/lib/python3.8/site-packages/keras/engine/training.py\", line 1021, in train_function\n      return step_function(self, iterator)\n    File \"/Users/pooyan/opt/miniconda3/lib/python3.8/site-packages/keras/engine/training.py\", line 1010, in step_function\n      outputs = model.distribute_strategy.run(run_step, args=(data,))\n    File \"/Users/pooyan/opt/miniconda3/lib/python3.8/site-packages/keras/engine/training.py\", line 1000, in run_step\n      outputs = model.train_step(data)\n    File \"/Users/pooyan/opt/miniconda3/lib/python3.8/site-packages/keras/engine/training.py\", line 860, in train_step\n      loss = self.compute_loss(x, y, y_pred, sample_weight)\n    File \"/Users/pooyan/opt/miniconda3/lib/python3.8/site-packages/keras/engine/training.py\", line 918, in compute_loss\n      return self.compiled_loss(\n    File \"/Users/pooyan/opt/miniconda3/lib/python3.8/site-packages/keras/engine/compile_utils.py\", line 201, in __call__\n      loss_value = loss_obj(y_t, y_p, sample_weight=sw)\n    File \"/Users/pooyan/opt/miniconda3/lib/python3.8/site-packages/keras/losses.py\", line 141, in __call__\n      losses = call_fn(y_true, y_pred)\n    File \"/Users/pooyan/opt/miniconda3/lib/python3.8/site-packages/keras/losses.py\", line 245, in call\n      return ag_fn(y_true, y_pred, **self._fn_kwargs)\n    File \"/Users/pooyan/opt/miniconda3/lib/python3.8/site-packages/keras/losses.py\", line 1862, in sparse_categorical_crossentropy\n      return backend.sparse_categorical_crossentropy(\n    File \"/Users/pooyan/opt/miniconda3/lib/python3.8/site-packages/keras/backend.py\", line 5202, in sparse_categorical_crossentropy\n      res = tf.nn.sparse_softmax_cross_entropy_with_logits(\nNode: 'sparse_categorical_crossentropy/SparseSoftmaxCrossEntropyWithLogits/SparseSoftmaxCrossEntropyWithLogits'\nlogits and labels must have the same first dimension, got logits shape [1920,2] and labels shape [128]\n\t [[{{node sparse_categorical_crossentropy/SparseSoftmaxCrossEntropyWithLogits/SparseSoftmaxCrossEntropyWithLogits}}]] [Op:__inference_train_function_135991]"
     ]
    }
   ],
   "source": [
    "model.compile(optimizer=keras.optimizers.Adam(1e-4),loss=tf.losses.SparseCategoricalCrossentropy(), metrics=[\"accuracy\"])\n",
    "history=model.fit(X_train, y_train, validation_data=(X_validation, y_validation),epochs = 20, batch_size = 128, verbose = 1)\n"
   ]
  },
  {
   "cell_type": "code",
   "execution_count": 94,
   "id": "incomplete-ireland",
   "metadata": {},
   "outputs": [
    {
     "name": "stdout",
     "output_type": "stream",
     "text": [
      "Model: \"sequential_38\"\n",
      "_________________________________________________________________\n",
      " Layer (type)                Output Shape              Param #   \n",
      "=================================================================\n",
      " conv2d_1 (Conv2D)           (None, 127, 257, 32)      896       \n",
      "                                                                 \n",
      " max_pooling2d_1 (MaxPooling  (None, 63, 128, 32)      0         \n",
      " 2D)                                                             \n",
      "                                                                 \n",
      " flatten_21 (Flatten)        (None, 258048)            0         \n",
      "                                                                 \n",
      " dense_42 (Dense)            (None, 32)                8257568   \n",
      "                                                                 \n",
      " dense_43 (Dense)            (None, 2)                 66        \n",
      "                                                                 \n",
      "=================================================================\n",
      "Total params: 8,258,530\n",
      "Trainable params: 8,258,530\n",
      "Non-trainable params: 0\n",
      "_________________________________________________________________\n"
     ]
    }
   ],
   "source": [
    "input_shape=(129,259,3)\n",
    "CNNmodel = Sequential()\n",
    "CNNmodel.add(layers.Conv2D(32, (3, 3), activation='relu', input_shape=input_shape))\n",
    "CNNmodel.add(layers.MaxPooling2D((2, 2)))\n",
    "CNNmodel.add(layers.Flatten())\n",
    "CNNmodel.add(layers.Dense(32, activation='relu'))\n",
    "CNNmodel.add(layers.Dense(2, activation='softmax'))\n",
    "CNNmodel.summary()"
   ]
  },
  {
   "cell_type": "code",
   "execution_count": 95,
   "id": "organized-garage",
   "metadata": {},
   "outputs": [
    {
     "name": "stdout",
     "output_type": "stream",
     "text": [
      "Epoch 1/20\n"
     ]
    },
    {
     "ename": "InvalidArgumentError",
     "evalue": "Graph execution error:\n\nDetected at node 'Equal' defined at (most recent call last):\n    File \"/Users/pooyan/opt/miniconda3/lib/python3.8/runpy.py\", line 194, in _run_module_as_main\n      return _run_code(code, main_globals, None,\n    File \"/Users/pooyan/opt/miniconda3/lib/python3.8/runpy.py\", line 87, in _run_code\n      exec(code, run_globals)\n    File \"/Users/pooyan/opt/miniconda3/lib/python3.8/site-packages/ipykernel_launcher.py\", line 16, in <module>\n      app.launch_new_instance()\n    File \"/Users/pooyan/opt/miniconda3/lib/python3.8/site-packages/traitlets/config/application.py\", line 845, in launch_instance\n      app.start()\n    File \"/Users/pooyan/opt/miniconda3/lib/python3.8/site-packages/ipykernel/kernelapp.py\", line 612, in start\n      self.io_loop.start()\n    File \"/Users/pooyan/opt/miniconda3/lib/python3.8/site-packages/tornado/platform/asyncio.py\", line 199, in start\n      self.asyncio_loop.run_forever()\n    File \"/Users/pooyan/opt/miniconda3/lib/python3.8/asyncio/base_events.py\", line 570, in run_forever\n      self._run_once()\n    File \"/Users/pooyan/opt/miniconda3/lib/python3.8/asyncio/base_events.py\", line 1859, in _run_once\n      handle._run()\n    File \"/Users/pooyan/opt/miniconda3/lib/python3.8/asyncio/events.py\", line 81, in _run\n      self._context.run(self._callback, *self._args)\n    File \"/Users/pooyan/opt/miniconda3/lib/python3.8/site-packages/tornado/ioloop.py\", line 688, in <lambda>\n      lambda f: self._run_callback(functools.partial(callback, future))\n    File \"/Users/pooyan/opt/miniconda3/lib/python3.8/site-packages/tornado/ioloop.py\", line 741, in _run_callback\n      ret = callback()\n    File \"/Users/pooyan/opt/miniconda3/lib/python3.8/site-packages/tornado/gen.py\", line 814, in inner\n      self.ctx_run(self.run)\n    File \"/Users/pooyan/opt/miniconda3/lib/python3.8/site-packages/tornado/gen.py\", line 775, in run\n      yielded = self.gen.send(value)\n    File \"/Users/pooyan/opt/miniconda3/lib/python3.8/site-packages/ipykernel/kernelbase.py\", line 365, in process_one\n      yield gen.maybe_future(dispatch(*args))\n    File \"/Users/pooyan/opt/miniconda3/lib/python3.8/site-packages/tornado/gen.py\", line 234, in wrapper\n      yielded = ctx_run(next, result)\n    File \"/Users/pooyan/opt/miniconda3/lib/python3.8/site-packages/ipykernel/kernelbase.py\", line 268, in dispatch_shell\n      yield gen.maybe_future(handler(stream, idents, msg))\n    File \"/Users/pooyan/opt/miniconda3/lib/python3.8/site-packages/tornado/gen.py\", line 234, in wrapper\n      yielded = ctx_run(next, result)\n    File \"/Users/pooyan/opt/miniconda3/lib/python3.8/site-packages/ipykernel/kernelbase.py\", line 543, in execute_request\n      self.do_execute(\n    File \"/Users/pooyan/opt/miniconda3/lib/python3.8/site-packages/tornado/gen.py\", line 234, in wrapper\n      yielded = ctx_run(next, result)\n    File \"/Users/pooyan/opt/miniconda3/lib/python3.8/site-packages/ipykernel/ipkernel.py\", line 306, in do_execute\n      res = shell.run_cell(code, store_history=store_history, silent=silent)\n    File \"/Users/pooyan/opt/miniconda3/lib/python3.8/site-packages/ipykernel/zmqshell.py\", line 536, in run_cell\n      return super(ZMQInteractiveShell, self).run_cell(*args, **kwargs)\n    File \"/Users/pooyan/opt/miniconda3/lib/python3.8/site-packages/IPython/core/interactiveshell.py\", line 2886, in run_cell\n      result = self._run_cell(\n    File \"/Users/pooyan/opt/miniconda3/lib/python3.8/site-packages/IPython/core/interactiveshell.py\", line 2932, in _run_cell\n      return runner(coro)\n    File \"/Users/pooyan/opt/miniconda3/lib/python3.8/site-packages/IPython/core/async_helpers.py\", line 68, in _pseudo_sync_runner\n      coro.send(None)\n    File \"/Users/pooyan/opt/miniconda3/lib/python3.8/site-packages/IPython/core/interactiveshell.py\", line 3155, in run_cell_async\n      has_raised = await self.run_ast_nodes(code_ast.body, cell_name,\n    File \"/Users/pooyan/opt/miniconda3/lib/python3.8/site-packages/IPython/core/interactiveshell.py\", line 3347, in run_ast_nodes\n      if (await self.run_code(code, result,  async_=asy)):\n    File \"/Users/pooyan/opt/miniconda3/lib/python3.8/site-packages/IPython/core/interactiveshell.py\", line 3427, in run_code\n      exec(code_obj, self.user_global_ns, self.user_ns)\n    File \"<ipython-input-95-f86132fb0aba>\", line 2, in <module>\n      history=model.fit(X_train, y_train, validation_data=(X_validation, y_validation),epochs = 20, batch_size = 128, verbose = 1)\n    File \"/Users/pooyan/opt/miniconda3/lib/python3.8/site-packages/keras/utils/traceback_utils.py\", line 64, in error_handler\n      return fn(*args, **kwargs)\n    File \"/Users/pooyan/opt/miniconda3/lib/python3.8/site-packages/keras/engine/training.py\", line 1384, in fit\n      tmp_logs = self.train_function(iterator)\n    File \"/Users/pooyan/opt/miniconda3/lib/python3.8/site-packages/keras/engine/training.py\", line 1021, in train_function\n      return step_function(self, iterator)\n    File \"/Users/pooyan/opt/miniconda3/lib/python3.8/site-packages/keras/engine/training.py\", line 1010, in step_function\n      outputs = model.distribute_strategy.run(run_step, args=(data,))\n    File \"/Users/pooyan/opt/miniconda3/lib/python3.8/site-packages/keras/engine/training.py\", line 1000, in run_step\n      outputs = model.train_step(data)\n    File \"/Users/pooyan/opt/miniconda3/lib/python3.8/site-packages/keras/engine/training.py\", line 864, in train_step\n      return self.compute_metrics(x, y, y_pred, sample_weight)\n    File \"/Users/pooyan/opt/miniconda3/lib/python3.8/site-packages/keras/engine/training.py\", line 957, in compute_metrics\n      self.compiled_metrics.update_state(y, y_pred, sample_weight)\n    File \"/Users/pooyan/opt/miniconda3/lib/python3.8/site-packages/keras/engine/compile_utils.py\", line 459, in update_state\n      metric_obj.update_state(y_t, y_p, sample_weight=mask)\n    File \"/Users/pooyan/opt/miniconda3/lib/python3.8/site-packages/keras/utils/metrics_utils.py\", line 70, in decorated\n      update_op = update_state_fn(*args, **kwargs)\n    File \"/Users/pooyan/opt/miniconda3/lib/python3.8/site-packages/keras/metrics.py\", line 178, in update_state_fn\n      return ag_update_state(*args, **kwargs)\n    File \"/Users/pooyan/opt/miniconda3/lib/python3.8/site-packages/keras/metrics.py\", line 729, in update_state\n      matches = ag_fn(y_true, y_pred, **self._fn_kwargs)\n    File \"/Users/pooyan/opt/miniconda3/lib/python3.8/site-packages/keras/metrics.py\", line 4086, in sparse_categorical_accuracy\n      return tf.cast(tf.equal(y_true, y_pred), backend.floatx())\nNode: 'Equal'\nIncompatible shapes: [128] vs. [128,15]\n\t [[{{node Equal}}]] [Op:__inference_train_function_139779]",
     "output_type": "error",
     "traceback": [
      "\u001b[0;31m---------------------------------------------------------------------------\u001b[0m",
      "\u001b[0;31mInvalidArgumentError\u001b[0m                      Traceback (most recent call last)",
      "\u001b[0;32m<ipython-input-95-f86132fb0aba>\u001b[0m in \u001b[0;36m<module>\u001b[0;34m\u001b[0m\n\u001b[1;32m      1\u001b[0m \u001b[0mmodel\u001b[0m\u001b[0;34m.\u001b[0m\u001b[0mcompile\u001b[0m\u001b[0;34m(\u001b[0m\u001b[0moptimizer\u001b[0m\u001b[0;34m=\u001b[0m\u001b[0mkeras\u001b[0m\u001b[0;34m.\u001b[0m\u001b[0moptimizers\u001b[0m\u001b[0;34m.\u001b[0m\u001b[0mAdam\u001b[0m\u001b[0;34m(\u001b[0m\u001b[0;36m1e-4\u001b[0m\u001b[0;34m)\u001b[0m\u001b[0;34m,\u001b[0m\u001b[0mloss\u001b[0m\u001b[0;34m=\u001b[0m\u001b[0mtf\u001b[0m\u001b[0;34m.\u001b[0m\u001b[0mlosses\u001b[0m\u001b[0;34m.\u001b[0m\u001b[0mSparseCategoricalCrossentropy\u001b[0m\u001b[0;34m(\u001b[0m\u001b[0;34m)\u001b[0m\u001b[0;34m,\u001b[0m \u001b[0mmetrics\u001b[0m\u001b[0;34m=\u001b[0m\u001b[0;34m[\u001b[0m\u001b[0;34m\"accuracy\"\u001b[0m\u001b[0;34m]\u001b[0m\u001b[0;34m)\u001b[0m\u001b[0;34m\u001b[0m\u001b[0;34m\u001b[0m\u001b[0m\n\u001b[0;32m----> 2\u001b[0;31m \u001b[0mhistory\u001b[0m\u001b[0;34m=\u001b[0m\u001b[0mmodel\u001b[0m\u001b[0;34m.\u001b[0m\u001b[0mfit\u001b[0m\u001b[0;34m(\u001b[0m\u001b[0mX_train\u001b[0m\u001b[0;34m,\u001b[0m \u001b[0my_train\u001b[0m\u001b[0;34m,\u001b[0m \u001b[0mvalidation_data\u001b[0m\u001b[0;34m=\u001b[0m\u001b[0;34m(\u001b[0m\u001b[0mX_validation\u001b[0m\u001b[0;34m,\u001b[0m \u001b[0my_validation\u001b[0m\u001b[0;34m)\u001b[0m\u001b[0;34m,\u001b[0m\u001b[0mepochs\u001b[0m \u001b[0;34m=\u001b[0m \u001b[0;36m20\u001b[0m\u001b[0;34m,\u001b[0m \u001b[0mbatch_size\u001b[0m \u001b[0;34m=\u001b[0m \u001b[0;36m128\u001b[0m\u001b[0;34m,\u001b[0m \u001b[0mverbose\u001b[0m \u001b[0;34m=\u001b[0m \u001b[0;36m1\u001b[0m\u001b[0;34m)\u001b[0m\u001b[0;34m\u001b[0m\u001b[0;34m\u001b[0m\u001b[0m\n\u001b[0m",
      "\u001b[0;32m~/opt/miniconda3/lib/python3.8/site-packages/keras/utils/traceback_utils.py\u001b[0m in \u001b[0;36merror_handler\u001b[0;34m(*args, **kwargs)\u001b[0m\n\u001b[1;32m     65\u001b[0m     \u001b[0;32mexcept\u001b[0m \u001b[0mException\u001b[0m \u001b[0;32mas\u001b[0m \u001b[0me\u001b[0m\u001b[0;34m:\u001b[0m  \u001b[0;31m# pylint: disable=broad-except\u001b[0m\u001b[0;34m\u001b[0m\u001b[0;34m\u001b[0m\u001b[0m\n\u001b[1;32m     66\u001b[0m       \u001b[0mfiltered_tb\u001b[0m \u001b[0;34m=\u001b[0m \u001b[0m_process_traceback_frames\u001b[0m\u001b[0;34m(\u001b[0m\u001b[0me\u001b[0m\u001b[0;34m.\u001b[0m\u001b[0m__traceback__\u001b[0m\u001b[0;34m)\u001b[0m\u001b[0;34m\u001b[0m\u001b[0;34m\u001b[0m\u001b[0m\n\u001b[0;32m---> 67\u001b[0;31m       \u001b[0;32mraise\u001b[0m \u001b[0me\u001b[0m\u001b[0;34m.\u001b[0m\u001b[0mwith_traceback\u001b[0m\u001b[0;34m(\u001b[0m\u001b[0mfiltered_tb\u001b[0m\u001b[0;34m)\u001b[0m \u001b[0;32mfrom\u001b[0m \u001b[0;32mNone\u001b[0m\u001b[0;34m\u001b[0m\u001b[0;34m\u001b[0m\u001b[0m\n\u001b[0m\u001b[1;32m     68\u001b[0m     \u001b[0;32mfinally\u001b[0m\u001b[0;34m:\u001b[0m\u001b[0;34m\u001b[0m\u001b[0;34m\u001b[0m\u001b[0m\n\u001b[1;32m     69\u001b[0m       \u001b[0;32mdel\u001b[0m \u001b[0mfiltered_tb\u001b[0m\u001b[0;34m\u001b[0m\u001b[0;34m\u001b[0m\u001b[0m\n",
      "\u001b[0;32m~/opt/miniconda3/lib/python3.8/site-packages/tensorflow/python/eager/execute.py\u001b[0m in \u001b[0;36mquick_execute\u001b[0;34m(op_name, num_outputs, inputs, attrs, ctx, name)\u001b[0m\n\u001b[1;32m     52\u001b[0m   \u001b[0;32mtry\u001b[0m\u001b[0;34m:\u001b[0m\u001b[0;34m\u001b[0m\u001b[0;34m\u001b[0m\u001b[0m\n\u001b[1;32m     53\u001b[0m     \u001b[0mctx\u001b[0m\u001b[0;34m.\u001b[0m\u001b[0mensure_initialized\u001b[0m\u001b[0;34m(\u001b[0m\u001b[0;34m)\u001b[0m\u001b[0;34m\u001b[0m\u001b[0;34m\u001b[0m\u001b[0m\n\u001b[0;32m---> 54\u001b[0;31m     tensors = pywrap_tfe.TFE_Py_Execute(ctx._handle, device_name, op_name,\n\u001b[0m\u001b[1;32m     55\u001b[0m                                         inputs, attrs, num_outputs)\n\u001b[1;32m     56\u001b[0m   \u001b[0;32mexcept\u001b[0m \u001b[0mcore\u001b[0m\u001b[0;34m.\u001b[0m\u001b[0m_NotOkStatusException\u001b[0m \u001b[0;32mas\u001b[0m \u001b[0me\u001b[0m\u001b[0;34m:\u001b[0m\u001b[0;34m\u001b[0m\u001b[0;34m\u001b[0m\u001b[0m\n",
      "\u001b[0;31mInvalidArgumentError\u001b[0m: Graph execution error:\n\nDetected at node 'Equal' defined at (most recent call last):\n    File \"/Users/pooyan/opt/miniconda3/lib/python3.8/runpy.py\", line 194, in _run_module_as_main\n      return _run_code(code, main_globals, None,\n    File \"/Users/pooyan/opt/miniconda3/lib/python3.8/runpy.py\", line 87, in _run_code\n      exec(code, run_globals)\n    File \"/Users/pooyan/opt/miniconda3/lib/python3.8/site-packages/ipykernel_launcher.py\", line 16, in <module>\n      app.launch_new_instance()\n    File \"/Users/pooyan/opt/miniconda3/lib/python3.8/site-packages/traitlets/config/application.py\", line 845, in launch_instance\n      app.start()\n    File \"/Users/pooyan/opt/miniconda3/lib/python3.8/site-packages/ipykernel/kernelapp.py\", line 612, in start\n      self.io_loop.start()\n    File \"/Users/pooyan/opt/miniconda3/lib/python3.8/site-packages/tornado/platform/asyncio.py\", line 199, in start\n      self.asyncio_loop.run_forever()\n    File \"/Users/pooyan/opt/miniconda3/lib/python3.8/asyncio/base_events.py\", line 570, in run_forever\n      self._run_once()\n    File \"/Users/pooyan/opt/miniconda3/lib/python3.8/asyncio/base_events.py\", line 1859, in _run_once\n      handle._run()\n    File \"/Users/pooyan/opt/miniconda3/lib/python3.8/asyncio/events.py\", line 81, in _run\n      self._context.run(self._callback, *self._args)\n    File \"/Users/pooyan/opt/miniconda3/lib/python3.8/site-packages/tornado/ioloop.py\", line 688, in <lambda>\n      lambda f: self._run_callback(functools.partial(callback, future))\n    File \"/Users/pooyan/opt/miniconda3/lib/python3.8/site-packages/tornado/ioloop.py\", line 741, in _run_callback\n      ret = callback()\n    File \"/Users/pooyan/opt/miniconda3/lib/python3.8/site-packages/tornado/gen.py\", line 814, in inner\n      self.ctx_run(self.run)\n    File \"/Users/pooyan/opt/miniconda3/lib/python3.8/site-packages/tornado/gen.py\", line 775, in run\n      yielded = self.gen.send(value)\n    File \"/Users/pooyan/opt/miniconda3/lib/python3.8/site-packages/ipykernel/kernelbase.py\", line 365, in process_one\n      yield gen.maybe_future(dispatch(*args))\n    File \"/Users/pooyan/opt/miniconda3/lib/python3.8/site-packages/tornado/gen.py\", line 234, in wrapper\n      yielded = ctx_run(next, result)\n    File \"/Users/pooyan/opt/miniconda3/lib/python3.8/site-packages/ipykernel/kernelbase.py\", line 268, in dispatch_shell\n      yield gen.maybe_future(handler(stream, idents, msg))\n    File \"/Users/pooyan/opt/miniconda3/lib/python3.8/site-packages/tornado/gen.py\", line 234, in wrapper\n      yielded = ctx_run(next, result)\n    File \"/Users/pooyan/opt/miniconda3/lib/python3.8/site-packages/ipykernel/kernelbase.py\", line 543, in execute_request\n      self.do_execute(\n    File \"/Users/pooyan/opt/miniconda3/lib/python3.8/site-packages/tornado/gen.py\", line 234, in wrapper\n      yielded = ctx_run(next, result)\n    File \"/Users/pooyan/opt/miniconda3/lib/python3.8/site-packages/ipykernel/ipkernel.py\", line 306, in do_execute\n      res = shell.run_cell(code, store_history=store_history, silent=silent)\n    File \"/Users/pooyan/opt/miniconda3/lib/python3.8/site-packages/ipykernel/zmqshell.py\", line 536, in run_cell\n      return super(ZMQInteractiveShell, self).run_cell(*args, **kwargs)\n    File \"/Users/pooyan/opt/miniconda3/lib/python3.8/site-packages/IPython/core/interactiveshell.py\", line 2886, in run_cell\n      result = self._run_cell(\n    File \"/Users/pooyan/opt/miniconda3/lib/python3.8/site-packages/IPython/core/interactiveshell.py\", line 2932, in _run_cell\n      return runner(coro)\n    File \"/Users/pooyan/opt/miniconda3/lib/python3.8/site-packages/IPython/core/async_helpers.py\", line 68, in _pseudo_sync_runner\n      coro.send(None)\n    File \"/Users/pooyan/opt/miniconda3/lib/python3.8/site-packages/IPython/core/interactiveshell.py\", line 3155, in run_cell_async\n      has_raised = await self.run_ast_nodes(code_ast.body, cell_name,\n    File \"/Users/pooyan/opt/miniconda3/lib/python3.8/site-packages/IPython/core/interactiveshell.py\", line 3347, in run_ast_nodes\n      if (await self.run_code(code, result,  async_=asy)):\n    File \"/Users/pooyan/opt/miniconda3/lib/python3.8/site-packages/IPython/core/interactiveshell.py\", line 3427, in run_code\n      exec(code_obj, self.user_global_ns, self.user_ns)\n    File \"<ipython-input-95-f86132fb0aba>\", line 2, in <module>\n      history=model.fit(X_train, y_train, validation_data=(X_validation, y_validation),epochs = 20, batch_size = 128, verbose = 1)\n    File \"/Users/pooyan/opt/miniconda3/lib/python3.8/site-packages/keras/utils/traceback_utils.py\", line 64, in error_handler\n      return fn(*args, **kwargs)\n    File \"/Users/pooyan/opt/miniconda3/lib/python3.8/site-packages/keras/engine/training.py\", line 1384, in fit\n      tmp_logs = self.train_function(iterator)\n    File \"/Users/pooyan/opt/miniconda3/lib/python3.8/site-packages/keras/engine/training.py\", line 1021, in train_function\n      return step_function(self, iterator)\n    File \"/Users/pooyan/opt/miniconda3/lib/python3.8/site-packages/keras/engine/training.py\", line 1010, in step_function\n      outputs = model.distribute_strategy.run(run_step, args=(data,))\n    File \"/Users/pooyan/opt/miniconda3/lib/python3.8/site-packages/keras/engine/training.py\", line 1000, in run_step\n      outputs = model.train_step(data)\n    File \"/Users/pooyan/opt/miniconda3/lib/python3.8/site-packages/keras/engine/training.py\", line 864, in train_step\n      return self.compute_metrics(x, y, y_pred, sample_weight)\n    File \"/Users/pooyan/opt/miniconda3/lib/python3.8/site-packages/keras/engine/training.py\", line 957, in compute_metrics\n      self.compiled_metrics.update_state(y, y_pred, sample_weight)\n    File \"/Users/pooyan/opt/miniconda3/lib/python3.8/site-packages/keras/engine/compile_utils.py\", line 459, in update_state\n      metric_obj.update_state(y_t, y_p, sample_weight=mask)\n    File \"/Users/pooyan/opt/miniconda3/lib/python3.8/site-packages/keras/utils/metrics_utils.py\", line 70, in decorated\n      update_op = update_state_fn(*args, **kwargs)\n    File \"/Users/pooyan/opt/miniconda3/lib/python3.8/site-packages/keras/metrics.py\", line 178, in update_state_fn\n      return ag_update_state(*args, **kwargs)\n    File \"/Users/pooyan/opt/miniconda3/lib/python3.8/site-packages/keras/metrics.py\", line 729, in update_state\n      matches = ag_fn(y_true, y_pred, **self._fn_kwargs)\n    File \"/Users/pooyan/opt/miniconda3/lib/python3.8/site-packages/keras/metrics.py\", line 4086, in sparse_categorical_accuracy\n      return tf.cast(tf.equal(y_true, y_pred), backend.floatx())\nNode: 'Equal'\nIncompatible shapes: [128] vs. [128,15]\n\t [[{{node Equal}}]] [Op:__inference_train_function_139779]"
     ]
    }
   ],
   "source": [
    "model.compile(optimizer=keras.optimizers.Adam(1e-4),loss=tf.losses.SparseCategoricalCrossentropy(), metrics=[\"accuracy\"])\n",
    "history=model.fit(X_train, y_train, validation_data=(X_validation, y_validation),epochs = 20, batch_size = 128, verbose = 1)\n"
   ]
  },
  {
   "cell_type": "code",
   "execution_count": 96,
   "id": "italian-balance",
   "metadata": {},
   "outputs": [
    {
     "name": "stdout",
     "output_type": "stream",
     "text": [
      "Model: \"sequential_39\"\n",
      "_________________________________________________________________\n",
      " Layer (type)                Output Shape              Param #   \n",
      "=================================================================\n",
      " conv1d_27 (Conv1D)          (None, 128, 64)           33216     \n",
      "                                                                 \n",
      " dense_44 (Dense)            (None, 128, 16)           1040      \n",
      "                                                                 \n",
      " max_pooling1d_15 (MaxPoolin  (None, 64, 16)           0         \n",
      " g1D)                                                            \n",
      "                                                                 \n",
      " flatten_22 (Flatten)        (None, 1024)              0         \n",
      "                                                                 \n",
      " dense_45 (Dense)            (None, 2)                 2050      \n",
      "                                                                 \n",
      "=================================================================\n",
      "Total params: 36,306\n",
      "Trainable params: 36,306\n",
      "Non-trainable params: 0\n",
      "_________________________________________________________________\n"
     ]
    }
   ],
   "source": [
    "model = Sequential()\n",
    "model.add(Conv1D(64, 2, activation=\"relu\", input_shape=(129,259)))\n",
    "model.add(Dense(16, activation=\"relu\"))\n",
    "model.add(MaxPooling1D())\n",
    "model.add(Flatten())\n",
    "model.add(Dense(2, activation = 'softmax'))\n",
    "model.summary()"
   ]
  },
  {
   "cell_type": "code",
   "execution_count": 97,
   "id": "selective-angola",
   "metadata": {},
   "outputs": [
    {
     "name": "stdout",
     "output_type": "stream",
     "text": [
      "Epoch 1/20\n",
      "49/49 [==============================] - 2s 31ms/step - loss: 27.9020 - accuracy: 0.8389 - val_loss: 18.1502 - val_accuracy: 0.8029\n",
      "Epoch 2/20\n",
      "49/49 [==============================] - 1s 28ms/step - loss: 16.1560 - accuracy: 0.8381 - val_loss: 13.6038 - val_accuracy: 0.8327\n",
      "Epoch 3/20\n",
      "49/49 [==============================] - 1s 29ms/step - loss: 11.6945 - accuracy: 0.8430 - val_loss: 9.9616 - val_accuracy: 0.8625\n",
      "Epoch 4/20\n",
      "49/49 [==============================] - 1s 28ms/step - loss: 7.8646 - accuracy: 0.8433 - val_loss: 7.0663 - val_accuracy: 0.8547\n",
      "Epoch 5/20\n",
      "49/49 [==============================] - 1s 29ms/step - loss: 6.1301 - accuracy: 0.8389 - val_loss: 5.5919 - val_accuracy: 0.8080\n",
      "Epoch 6/20\n",
      "49/49 [==============================] - 1s 28ms/step - loss: 4.4823 - accuracy: 0.8379 - val_loss: 3.8643 - val_accuracy: 0.8353\n",
      "Epoch 7/20\n",
      "49/49 [==============================] - 1s 29ms/step - loss: 3.1910 - accuracy: 0.8397 - val_loss: 2.9184 - val_accuracy: 0.8061\n",
      "Epoch 8/20\n",
      "49/49 [==============================] - 1s 29ms/step - loss: 2.5109 - accuracy: 0.8407 - val_loss: 2.3054 - val_accuracy: 0.8217\n",
      "Epoch 9/20\n",
      "49/49 [==============================] - 1s 30ms/step - loss: 1.7438 - accuracy: 0.8269 - val_loss: 1.7456 - val_accuracy: 0.7951\n",
      "Epoch 10/20\n",
      "49/49 [==============================] - 1s 29ms/step - loss: 1.2992 - accuracy: 0.8224 - val_loss: 1.4276 - val_accuracy: 0.7821\n",
      "Epoch 11/20\n",
      "49/49 [==============================] - 1s 29ms/step - loss: 1.0540 - accuracy: 0.8250 - val_loss: 1.1893 - val_accuracy: 0.7938\n",
      "Epoch 12/20\n",
      "49/49 [==============================] - 1s 29ms/step - loss: 0.8769 - accuracy: 0.8254 - val_loss: 1.0206 - val_accuracy: 0.8048\n",
      "Epoch 13/20\n",
      "49/49 [==============================] - 1s 29ms/step - loss: 0.7594 - accuracy: 0.8292 - val_loss: 0.8933 - val_accuracy: 0.8003\n",
      "Epoch 14/20\n",
      "49/49 [==============================] - 1s 30ms/step - loss: 0.6698 - accuracy: 0.8434 - val_loss: 0.8059 - val_accuracy: 0.8262\n",
      "Epoch 15/20\n",
      "49/49 [==============================] - 1s 30ms/step - loss: 0.6034 - accuracy: 0.8483 - val_loss: 0.7402 - val_accuracy: 0.8320\n",
      "Epoch 16/20\n",
      "49/49 [==============================] - 1s 30ms/step - loss: 0.5530 - accuracy: 0.8611 - val_loss: 0.6793 - val_accuracy: 0.8372\n",
      "Epoch 17/20\n",
      "49/49 [==============================] - 1s 31ms/step - loss: 0.5128 - accuracy: 0.8653 - val_loss: 0.6399 - val_accuracy: 0.8508\n",
      "Epoch 18/20\n",
      "49/49 [==============================] - 1s 29ms/step - loss: 0.4783 - accuracy: 0.8715 - val_loss: 0.6033 - val_accuracy: 0.8528\n",
      "Epoch 19/20\n",
      "49/49 [==============================] - 2s 31ms/step - loss: 0.4505 - accuracy: 0.8769 - val_loss: 0.5774 - val_accuracy: 0.8580\n",
      "Epoch 20/20\n",
      "49/49 [==============================] - 1s 29ms/step - loss: 0.4261 - accuracy: 0.8832 - val_loss: 0.5545 - val_accuracy: 0.8664\n"
     ]
    }
   ],
   "source": [
    "model.compile(optimizer=keras.optimizers.Adam(1e-4),loss=tf.losses.SparseCategoricalCrossentropy(), metrics=[\"accuracy\"])\n",
    "history=model.fit(X_train, y_train, validation_data=(X_validation, y_validation),epochs = 20, batch_size = 128, verbose = 1)\n"
   ]
  },
  {
   "cell_type": "code",
   "execution_count": 98,
   "id": "novel-duplicate",
   "metadata": {},
   "outputs": [
    {
     "name": "stdout",
     "output_type": "stream",
     "text": [
      "train set\n",
      "0:anomaly - 1:normal\n",
      "[[ 101  517]\n",
      " [ 212 5334]]\n",
      "accuracy=0.88 f1score=0.22\n",
      "precision=0.32 recall=0.16\n"
     ]
    }
   ],
   "source": [
    "from sklearn.metrics import confusion_matrix\n",
    "\n",
    "pred = model.predict(X_train)\n",
    "y_pred = [0 if y[0]>y[1] else 1 for y in pred]   #thereshold=50 y[0]>0.50\n",
    "\n",
    "cm=confusion_matrix(y_train,y_pred)\n",
    "print(\"train set\")\n",
    "print(\"0:%s - 1:%s\"%(my_ec.inverse_transform([0])[0],my_ec.inverse_transform([1])[0]))\n",
    "print(cm)\n",
    "\n",
    "accuracy = (cm[0,0]+cm[1,1])/cm.sum()\n",
    "precision= (cm[0,0])/(cm[0,0]+cm[1,0])\n",
    "recall = (cm[0,0])/(cm[0,0]+cm[0,1])\n",
    "f1=2*precision*recall/(precision+recall)\n",
    "\n",
    "print(\"accuracy=%.2f f1score=%.2f\"%(accuracy, f1))\n",
    "print(\"precision=%.2f recall=%.2f\"%(precision, recall))"
   ]
  },
  {
   "cell_type": "code",
   "execution_count": 102,
   "id": "alive-attention",
   "metadata": {},
   "outputs": [
    {
     "ename": "ValueError",
     "evalue": "One of the dimensions in the output is <= 0 due to downsampling in conv1d_34. Consider increasing the input size. Received input shape [None, 2, 64] which would produce output shape with a zero or negative value in a dimension.",
     "output_type": "error",
     "traceback": [
      "\u001b[0;31m---------------------------------------------------------------------------\u001b[0m",
      "\u001b[0;31mValueError\u001b[0m                                Traceback (most recent call last)",
      "\u001b[0;32m<ipython-input-102-511d0417fbc2>\u001b[0m in \u001b[0;36m<module>\u001b[0;34m\u001b[0m\n\u001b[1;32m      9\u001b[0m \u001b[0mcnn\u001b[0m\u001b[0;34m.\u001b[0m\u001b[0madd\u001b[0m\u001b[0;34m(\u001b[0m\u001b[0mMaxPooling1D\u001b[0m\u001b[0;34m(\u001b[0m\u001b[0mpool_size\u001b[0m\u001b[0;34m=\u001b[0m\u001b[0;36m2\u001b[0m\u001b[0;34m)\u001b[0m\u001b[0;34m)\u001b[0m\u001b[0;34m\u001b[0m\u001b[0;34m\u001b[0m\u001b[0m\n\u001b[1;32m     10\u001b[0m \u001b[0mcnn\u001b[0m\u001b[0;34m.\u001b[0m\u001b[0madd\u001b[0m\u001b[0;34m(\u001b[0m\u001b[0mDropout\u001b[0m\u001b[0;34m(\u001b[0m\u001b[0;36m0.25\u001b[0m\u001b[0;34m)\u001b[0m\u001b[0;34m)\u001b[0m\u001b[0;34m\u001b[0m\u001b[0;34m\u001b[0m\u001b[0m\n\u001b[0;32m---> 11\u001b[0;31m \u001b[0mcnn\u001b[0m\u001b[0;34m.\u001b[0m\u001b[0madd\u001b[0m\u001b[0;34m(\u001b[0m\u001b[0mConv1D\u001b[0m\u001b[0;34m(\u001b[0m\u001b[0;36m64\u001b[0m\u001b[0;34m,\u001b[0m \u001b[0mkernel_size\u001b[0m\u001b[0;34m=\u001b[0m\u001b[0;36m7\u001b[0m\u001b[0;34m,\u001b[0m \u001b[0mstrides\u001b[0m\u001b[0;34m=\u001b[0m\u001b[0;36m3\u001b[0m\u001b[0;34m,\u001b[0m \u001b[0mactivation\u001b[0m\u001b[0;34m=\u001b[0m\u001b[0;34m'relu'\u001b[0m\u001b[0;34m)\u001b[0m\u001b[0;34m)\u001b[0m\u001b[0;34m\u001b[0m\u001b[0;34m\u001b[0m\u001b[0m\n\u001b[0m\u001b[1;32m     12\u001b[0m \u001b[0mcnn\u001b[0m\u001b[0;34m.\u001b[0m\u001b[0madd\u001b[0m\u001b[0;34m(\u001b[0m\u001b[0mMaxPooling1D\u001b[0m\u001b[0;34m(\u001b[0m\u001b[0mpool_size\u001b[0m\u001b[0;34m=\u001b[0m\u001b[0;36m2\u001b[0m\u001b[0;34m)\u001b[0m\u001b[0;34m)\u001b[0m\u001b[0;34m\u001b[0m\u001b[0;34m\u001b[0m\u001b[0m\n\u001b[1;32m     13\u001b[0m \u001b[0mcnn\u001b[0m\u001b[0;34m.\u001b[0m\u001b[0madd\u001b[0m\u001b[0;34m(\u001b[0m\u001b[0mDropout\u001b[0m\u001b[0;34m(\u001b[0m\u001b[0;36m0.25\u001b[0m\u001b[0;34m)\u001b[0m\u001b[0;34m)\u001b[0m\u001b[0;34m\u001b[0m\u001b[0;34m\u001b[0m\u001b[0m\n",
      "\u001b[0;32m~/opt/miniconda3/lib/python3.8/site-packages/tensorflow/python/training/tracking/base.py\u001b[0m in \u001b[0;36m_method_wrapper\u001b[0;34m(self, *args, **kwargs)\u001b[0m\n\u001b[1;32m    627\u001b[0m     \u001b[0mself\u001b[0m\u001b[0;34m.\u001b[0m\u001b[0m_self_setattr_tracking\u001b[0m \u001b[0;34m=\u001b[0m \u001b[0;32mFalse\u001b[0m  \u001b[0;31m# pylint: disable=protected-access\u001b[0m\u001b[0;34m\u001b[0m\u001b[0;34m\u001b[0m\u001b[0m\n\u001b[1;32m    628\u001b[0m     \u001b[0;32mtry\u001b[0m\u001b[0;34m:\u001b[0m\u001b[0;34m\u001b[0m\u001b[0;34m\u001b[0m\u001b[0m\n\u001b[0;32m--> 629\u001b[0;31m       \u001b[0mresult\u001b[0m \u001b[0;34m=\u001b[0m \u001b[0mmethod\u001b[0m\u001b[0;34m(\u001b[0m\u001b[0mself\u001b[0m\u001b[0;34m,\u001b[0m \u001b[0;34m*\u001b[0m\u001b[0margs\u001b[0m\u001b[0;34m,\u001b[0m \u001b[0;34m**\u001b[0m\u001b[0mkwargs\u001b[0m\u001b[0;34m)\u001b[0m\u001b[0;34m\u001b[0m\u001b[0;34m\u001b[0m\u001b[0m\n\u001b[0m\u001b[1;32m    630\u001b[0m     \u001b[0;32mfinally\u001b[0m\u001b[0;34m:\u001b[0m\u001b[0;34m\u001b[0m\u001b[0;34m\u001b[0m\u001b[0m\n\u001b[1;32m    631\u001b[0m       \u001b[0mself\u001b[0m\u001b[0;34m.\u001b[0m\u001b[0m_self_setattr_tracking\u001b[0m \u001b[0;34m=\u001b[0m \u001b[0mprevious_value\u001b[0m  \u001b[0;31m# pylint: disable=protected-access\u001b[0m\u001b[0;34m\u001b[0m\u001b[0;34m\u001b[0m\u001b[0m\n",
      "\u001b[0;32m~/opt/miniconda3/lib/python3.8/site-packages/keras/utils/traceback_utils.py\u001b[0m in \u001b[0;36merror_handler\u001b[0;34m(*args, **kwargs)\u001b[0m\n\u001b[1;32m     65\u001b[0m     \u001b[0;32mexcept\u001b[0m \u001b[0mException\u001b[0m \u001b[0;32mas\u001b[0m \u001b[0me\u001b[0m\u001b[0;34m:\u001b[0m  \u001b[0;31m# pylint: disable=broad-except\u001b[0m\u001b[0;34m\u001b[0m\u001b[0;34m\u001b[0m\u001b[0m\n\u001b[1;32m     66\u001b[0m       \u001b[0mfiltered_tb\u001b[0m \u001b[0;34m=\u001b[0m \u001b[0m_process_traceback_frames\u001b[0m\u001b[0;34m(\u001b[0m\u001b[0me\u001b[0m\u001b[0;34m.\u001b[0m\u001b[0m__traceback__\u001b[0m\u001b[0;34m)\u001b[0m\u001b[0;34m\u001b[0m\u001b[0;34m\u001b[0m\u001b[0m\n\u001b[0;32m---> 67\u001b[0;31m       \u001b[0;32mraise\u001b[0m \u001b[0me\u001b[0m\u001b[0;34m.\u001b[0m\u001b[0mwith_traceback\u001b[0m\u001b[0;34m(\u001b[0m\u001b[0mfiltered_tb\u001b[0m\u001b[0;34m)\u001b[0m \u001b[0;32mfrom\u001b[0m \u001b[0;32mNone\u001b[0m\u001b[0;34m\u001b[0m\u001b[0;34m\u001b[0m\u001b[0m\n\u001b[0m\u001b[1;32m     68\u001b[0m     \u001b[0;32mfinally\u001b[0m\u001b[0;34m:\u001b[0m\u001b[0;34m\u001b[0m\u001b[0;34m\u001b[0m\u001b[0m\n\u001b[1;32m     69\u001b[0m       \u001b[0;32mdel\u001b[0m \u001b[0mfiltered_tb\u001b[0m\u001b[0;34m\u001b[0m\u001b[0;34m\u001b[0m\u001b[0m\n",
      "\u001b[0;32m~/opt/miniconda3/lib/python3.8/site-packages/keras/layers/convolutional.py\u001b[0m in \u001b[0;36mcompute_output_shape\u001b[0;34m(self, input_shape)\u001b[0m\n\u001b[1;32m    302\u001b[0m \u001b[0;34m\u001b[0m\u001b[0m\n\u001b[1;32m    303\u001b[0m     \u001b[0;32mexcept\u001b[0m \u001b[0mValueError\u001b[0m\u001b[0;34m:\u001b[0m\u001b[0;34m\u001b[0m\u001b[0;34m\u001b[0m\u001b[0m\n\u001b[0;32m--> 304\u001b[0;31m       raise ValueError(\n\u001b[0m\u001b[1;32m    305\u001b[0m           \u001b[0;34mf'One of the dimensions in the output is <= 0 '\u001b[0m\u001b[0;34m\u001b[0m\u001b[0;34m\u001b[0m\u001b[0m\n\u001b[1;32m    306\u001b[0m           \u001b[0;34mf'due to downsampling in {self.name}. Consider '\u001b[0m\u001b[0;34m\u001b[0m\u001b[0;34m\u001b[0m\u001b[0m\n",
      "\u001b[0;31mValueError\u001b[0m: One of the dimensions in the output is <= 0 due to downsampling in conv1d_34. Consider increasing the input size. Received input shape [None, 2, 64] which would produce output shape with a zero or negative value in a dimension."
     ]
    }
   ],
   "source": [
    "\n",
    "\n"
   ]
  },
  {
   "cell_type": "code",
   "execution_count": 105,
   "id": "confident-jordan",
   "metadata": {},
   "outputs": [
    {
     "name": "stdout",
     "output_type": "stream",
     "text": [
      "Model: \"sequential_45\"\n",
      "_________________________________________________________________\n",
      " Layer (type)                Output Shape              Param #   \n",
      "=================================================================\n",
      " conv1d_36 (Conv1D)          (None, 128, 64)           33216     \n",
      "                                                                 \n",
      " max_pooling1d_21 (MaxPoolin  (None, 64, 64)           0         \n",
      " g1D)                                                            \n",
      "                                                                 \n",
      " flatten_24 (Flatten)        (None, 4096)              0         \n",
      "                                                                 \n",
      " repeat_vector_14 (RepeatVec  (None, 30, 4096)         0         \n",
      " tor)                                                            \n",
      "                                                                 \n",
      " lstm_36 (LSTM)              (None, 30, 64)            1065216   \n",
      "                                                                 \n",
      " dense_47 (Dense)            (None, 30, 2)             130       \n",
      "                                                                 \n",
      "=================================================================\n",
      "Total params: 1,098,562\n",
      "Trainable params: 1,098,562\n",
      "Non-trainable params: 0\n",
      "_________________________________________________________________\n"
     ]
    }
   ],
   "source": [
    "model = Sequential()\n",
    "model.add(Conv1D(64, 2, activation=\"relu\", input_shape=(129,259)))\n",
    "#model.add(Conv1D(filters=128, kernel_size=2, activation='relu'))\n",
    "model.add(MaxPooling1D(pool_size=2))\n",
    "model.add(Flatten())\n",
    "model.add(RepeatVector(30))\n",
    "#model.add(LSTM(units=25, return_sequences=True, activation='relu'))\n",
    "#model.add(Dropout(0.2))\n",
    "#model.add(LSTM(units=25, return_sequences=True, activation='relu'))\n",
    "#model.add(Dropout(0.2))\n",
    "#model.add(LSTM(units=25, return_sequences=True, activation='relu'))\n",
    "model.add(LSTM(units=64, return_sequences=True, activation='relu'))\n",
    "#model.add(Bidirectional(LSTM(128, activation='relu')))\n",
    "model.add(Dense(2, activation='softmax'))\n",
    "#model.add(Dense(2))\n",
    "#model.compile(loss='mae', optimizer='adam', metrics=['mse'])\n",
    "model.summary()"
   ]
  },
  {
   "cell_type": "code",
   "execution_count": 106,
   "id": "bizarre-simple",
   "metadata": {},
   "outputs": [
    {
     "name": "stdout",
     "output_type": "stream",
     "text": [
      "Epoch 1/20\n"
     ]
    },
    {
     "ename": "InvalidArgumentError",
     "evalue": "Graph execution error:\n\nDetected at node 'sparse_categorical_crossentropy/SparseSoftmaxCrossEntropyWithLogits/SparseSoftmaxCrossEntropyWithLogits' defined at (most recent call last):\n    File \"/Users/pooyan/opt/miniconda3/lib/python3.8/runpy.py\", line 194, in _run_module_as_main\n      return _run_code(code, main_globals, None,\n    File \"/Users/pooyan/opt/miniconda3/lib/python3.8/runpy.py\", line 87, in _run_code\n      exec(code, run_globals)\n    File \"/Users/pooyan/opt/miniconda3/lib/python3.8/site-packages/ipykernel_launcher.py\", line 16, in <module>\n      app.launch_new_instance()\n    File \"/Users/pooyan/opt/miniconda3/lib/python3.8/site-packages/traitlets/config/application.py\", line 845, in launch_instance\n      app.start()\n    File \"/Users/pooyan/opt/miniconda3/lib/python3.8/site-packages/ipykernel/kernelapp.py\", line 612, in start\n      self.io_loop.start()\n    File \"/Users/pooyan/opt/miniconda3/lib/python3.8/site-packages/tornado/platform/asyncio.py\", line 199, in start\n      self.asyncio_loop.run_forever()\n    File \"/Users/pooyan/opt/miniconda3/lib/python3.8/asyncio/base_events.py\", line 570, in run_forever\n      self._run_once()\n    File \"/Users/pooyan/opt/miniconda3/lib/python3.8/asyncio/base_events.py\", line 1859, in _run_once\n      handle._run()\n    File \"/Users/pooyan/opt/miniconda3/lib/python3.8/asyncio/events.py\", line 81, in _run\n      self._context.run(self._callback, *self._args)\n    File \"/Users/pooyan/opt/miniconda3/lib/python3.8/site-packages/tornado/ioloop.py\", line 688, in <lambda>\n      lambda f: self._run_callback(functools.partial(callback, future))\n    File \"/Users/pooyan/opt/miniconda3/lib/python3.8/site-packages/tornado/ioloop.py\", line 741, in _run_callback\n      ret = callback()\n    File \"/Users/pooyan/opt/miniconda3/lib/python3.8/site-packages/tornado/gen.py\", line 814, in inner\n      self.ctx_run(self.run)\n    File \"/Users/pooyan/opt/miniconda3/lib/python3.8/site-packages/tornado/gen.py\", line 775, in run\n      yielded = self.gen.send(value)\n    File \"/Users/pooyan/opt/miniconda3/lib/python3.8/site-packages/ipykernel/kernelbase.py\", line 365, in process_one\n      yield gen.maybe_future(dispatch(*args))\n    File \"/Users/pooyan/opt/miniconda3/lib/python3.8/site-packages/tornado/gen.py\", line 234, in wrapper\n      yielded = ctx_run(next, result)\n    File \"/Users/pooyan/opt/miniconda3/lib/python3.8/site-packages/ipykernel/kernelbase.py\", line 268, in dispatch_shell\n      yield gen.maybe_future(handler(stream, idents, msg))\n    File \"/Users/pooyan/opt/miniconda3/lib/python3.8/site-packages/tornado/gen.py\", line 234, in wrapper\n      yielded = ctx_run(next, result)\n    File \"/Users/pooyan/opt/miniconda3/lib/python3.8/site-packages/ipykernel/kernelbase.py\", line 543, in execute_request\n      self.do_execute(\n    File \"/Users/pooyan/opt/miniconda3/lib/python3.8/site-packages/tornado/gen.py\", line 234, in wrapper\n      yielded = ctx_run(next, result)\n    File \"/Users/pooyan/opt/miniconda3/lib/python3.8/site-packages/ipykernel/ipkernel.py\", line 306, in do_execute\n      res = shell.run_cell(code, store_history=store_history, silent=silent)\n    File \"/Users/pooyan/opt/miniconda3/lib/python3.8/site-packages/ipykernel/zmqshell.py\", line 536, in run_cell\n      return super(ZMQInteractiveShell, self).run_cell(*args, **kwargs)\n    File \"/Users/pooyan/opt/miniconda3/lib/python3.8/site-packages/IPython/core/interactiveshell.py\", line 2886, in run_cell\n      result = self._run_cell(\n    File \"/Users/pooyan/opt/miniconda3/lib/python3.8/site-packages/IPython/core/interactiveshell.py\", line 2932, in _run_cell\n      return runner(coro)\n    File \"/Users/pooyan/opt/miniconda3/lib/python3.8/site-packages/IPython/core/async_helpers.py\", line 68, in _pseudo_sync_runner\n      coro.send(None)\n    File \"/Users/pooyan/opt/miniconda3/lib/python3.8/site-packages/IPython/core/interactiveshell.py\", line 3155, in run_cell_async\n      has_raised = await self.run_ast_nodes(code_ast.body, cell_name,\n    File \"/Users/pooyan/opt/miniconda3/lib/python3.8/site-packages/IPython/core/interactiveshell.py\", line 3347, in run_ast_nodes\n      if (await self.run_code(code, result,  async_=asy)):\n    File \"/Users/pooyan/opt/miniconda3/lib/python3.8/site-packages/IPython/core/interactiveshell.py\", line 3427, in run_code\n      exec(code_obj, self.user_global_ns, self.user_ns)\n    File \"<ipython-input-106-f86132fb0aba>\", line 2, in <module>\n      history=model.fit(X_train, y_train, validation_data=(X_validation, y_validation),epochs = 20, batch_size = 128, verbose = 1)\n    File \"/Users/pooyan/opt/miniconda3/lib/python3.8/site-packages/keras/utils/traceback_utils.py\", line 64, in error_handler\n      return fn(*args, **kwargs)\n    File \"/Users/pooyan/opt/miniconda3/lib/python3.8/site-packages/keras/engine/training.py\", line 1384, in fit\n      tmp_logs = self.train_function(iterator)\n    File \"/Users/pooyan/opt/miniconda3/lib/python3.8/site-packages/keras/engine/training.py\", line 1021, in train_function\n      return step_function(self, iterator)\n    File \"/Users/pooyan/opt/miniconda3/lib/python3.8/site-packages/keras/engine/training.py\", line 1010, in step_function\n      outputs = model.distribute_strategy.run(run_step, args=(data,))\n    File \"/Users/pooyan/opt/miniconda3/lib/python3.8/site-packages/keras/engine/training.py\", line 1000, in run_step\n      outputs = model.train_step(data)\n    File \"/Users/pooyan/opt/miniconda3/lib/python3.8/site-packages/keras/engine/training.py\", line 860, in train_step\n      loss = self.compute_loss(x, y, y_pred, sample_weight)\n    File \"/Users/pooyan/opt/miniconda3/lib/python3.8/site-packages/keras/engine/training.py\", line 918, in compute_loss\n      return self.compiled_loss(\n    File \"/Users/pooyan/opt/miniconda3/lib/python3.8/site-packages/keras/engine/compile_utils.py\", line 201, in __call__\n      loss_value = loss_obj(y_t, y_p, sample_weight=sw)\n    File \"/Users/pooyan/opt/miniconda3/lib/python3.8/site-packages/keras/losses.py\", line 141, in __call__\n      losses = call_fn(y_true, y_pred)\n    File \"/Users/pooyan/opt/miniconda3/lib/python3.8/site-packages/keras/losses.py\", line 245, in call\n      return ag_fn(y_true, y_pred, **self._fn_kwargs)\n    File \"/Users/pooyan/opt/miniconda3/lib/python3.8/site-packages/keras/losses.py\", line 1862, in sparse_categorical_crossentropy\n      return backend.sparse_categorical_crossentropy(\n    File \"/Users/pooyan/opt/miniconda3/lib/python3.8/site-packages/keras/backend.py\", line 5202, in sparse_categorical_crossentropy\n      res = tf.nn.sparse_softmax_cross_entropy_with_logits(\nNode: 'sparse_categorical_crossentropy/SparseSoftmaxCrossEntropyWithLogits/SparseSoftmaxCrossEntropyWithLogits'\nlogits and labels must have the same first dimension, got logits shape [3840,2] and labels shape [128]\n\t [[{{node sparse_categorical_crossentropy/SparseSoftmaxCrossEntropyWithLogits/SparseSoftmaxCrossEntropyWithLogits}}]] [Op:__inference_train_function_151426]",
     "output_type": "error",
     "traceback": [
      "\u001b[0;31m---------------------------------------------------------------------------\u001b[0m",
      "\u001b[0;31mInvalidArgumentError\u001b[0m                      Traceback (most recent call last)",
      "\u001b[0;32m<ipython-input-106-f86132fb0aba>\u001b[0m in \u001b[0;36m<module>\u001b[0;34m\u001b[0m\n\u001b[1;32m      1\u001b[0m \u001b[0mmodel\u001b[0m\u001b[0;34m.\u001b[0m\u001b[0mcompile\u001b[0m\u001b[0;34m(\u001b[0m\u001b[0moptimizer\u001b[0m\u001b[0;34m=\u001b[0m\u001b[0mkeras\u001b[0m\u001b[0;34m.\u001b[0m\u001b[0moptimizers\u001b[0m\u001b[0;34m.\u001b[0m\u001b[0mAdam\u001b[0m\u001b[0;34m(\u001b[0m\u001b[0;36m1e-4\u001b[0m\u001b[0;34m)\u001b[0m\u001b[0;34m,\u001b[0m\u001b[0mloss\u001b[0m\u001b[0;34m=\u001b[0m\u001b[0mtf\u001b[0m\u001b[0;34m.\u001b[0m\u001b[0mlosses\u001b[0m\u001b[0;34m.\u001b[0m\u001b[0mSparseCategoricalCrossentropy\u001b[0m\u001b[0;34m(\u001b[0m\u001b[0;34m)\u001b[0m\u001b[0;34m,\u001b[0m \u001b[0mmetrics\u001b[0m\u001b[0;34m=\u001b[0m\u001b[0;34m[\u001b[0m\u001b[0;34m\"accuracy\"\u001b[0m\u001b[0;34m]\u001b[0m\u001b[0;34m)\u001b[0m\u001b[0;34m\u001b[0m\u001b[0;34m\u001b[0m\u001b[0m\n\u001b[0;32m----> 2\u001b[0;31m \u001b[0mhistory\u001b[0m\u001b[0;34m=\u001b[0m\u001b[0mmodel\u001b[0m\u001b[0;34m.\u001b[0m\u001b[0mfit\u001b[0m\u001b[0;34m(\u001b[0m\u001b[0mX_train\u001b[0m\u001b[0;34m,\u001b[0m \u001b[0my_train\u001b[0m\u001b[0;34m,\u001b[0m \u001b[0mvalidation_data\u001b[0m\u001b[0;34m=\u001b[0m\u001b[0;34m(\u001b[0m\u001b[0mX_validation\u001b[0m\u001b[0;34m,\u001b[0m \u001b[0my_validation\u001b[0m\u001b[0;34m)\u001b[0m\u001b[0;34m,\u001b[0m\u001b[0mepochs\u001b[0m \u001b[0;34m=\u001b[0m \u001b[0;36m20\u001b[0m\u001b[0;34m,\u001b[0m \u001b[0mbatch_size\u001b[0m \u001b[0;34m=\u001b[0m \u001b[0;36m128\u001b[0m\u001b[0;34m,\u001b[0m \u001b[0mverbose\u001b[0m \u001b[0;34m=\u001b[0m \u001b[0;36m1\u001b[0m\u001b[0;34m)\u001b[0m\u001b[0;34m\u001b[0m\u001b[0;34m\u001b[0m\u001b[0m\n\u001b[0m",
      "\u001b[0;32m~/opt/miniconda3/lib/python3.8/site-packages/keras/utils/traceback_utils.py\u001b[0m in \u001b[0;36merror_handler\u001b[0;34m(*args, **kwargs)\u001b[0m\n\u001b[1;32m     65\u001b[0m     \u001b[0;32mexcept\u001b[0m \u001b[0mException\u001b[0m \u001b[0;32mas\u001b[0m \u001b[0me\u001b[0m\u001b[0;34m:\u001b[0m  \u001b[0;31m# pylint: disable=broad-except\u001b[0m\u001b[0;34m\u001b[0m\u001b[0;34m\u001b[0m\u001b[0m\n\u001b[1;32m     66\u001b[0m       \u001b[0mfiltered_tb\u001b[0m \u001b[0;34m=\u001b[0m \u001b[0m_process_traceback_frames\u001b[0m\u001b[0;34m(\u001b[0m\u001b[0me\u001b[0m\u001b[0;34m.\u001b[0m\u001b[0m__traceback__\u001b[0m\u001b[0;34m)\u001b[0m\u001b[0;34m\u001b[0m\u001b[0;34m\u001b[0m\u001b[0m\n\u001b[0;32m---> 67\u001b[0;31m       \u001b[0;32mraise\u001b[0m \u001b[0me\u001b[0m\u001b[0;34m.\u001b[0m\u001b[0mwith_traceback\u001b[0m\u001b[0;34m(\u001b[0m\u001b[0mfiltered_tb\u001b[0m\u001b[0;34m)\u001b[0m \u001b[0;32mfrom\u001b[0m \u001b[0;32mNone\u001b[0m\u001b[0;34m\u001b[0m\u001b[0;34m\u001b[0m\u001b[0m\n\u001b[0m\u001b[1;32m     68\u001b[0m     \u001b[0;32mfinally\u001b[0m\u001b[0;34m:\u001b[0m\u001b[0;34m\u001b[0m\u001b[0;34m\u001b[0m\u001b[0m\n\u001b[1;32m     69\u001b[0m       \u001b[0;32mdel\u001b[0m \u001b[0mfiltered_tb\u001b[0m\u001b[0;34m\u001b[0m\u001b[0;34m\u001b[0m\u001b[0m\n",
      "\u001b[0;32m~/opt/miniconda3/lib/python3.8/site-packages/tensorflow/python/eager/execute.py\u001b[0m in \u001b[0;36mquick_execute\u001b[0;34m(op_name, num_outputs, inputs, attrs, ctx, name)\u001b[0m\n\u001b[1;32m     52\u001b[0m   \u001b[0;32mtry\u001b[0m\u001b[0;34m:\u001b[0m\u001b[0;34m\u001b[0m\u001b[0;34m\u001b[0m\u001b[0m\n\u001b[1;32m     53\u001b[0m     \u001b[0mctx\u001b[0m\u001b[0;34m.\u001b[0m\u001b[0mensure_initialized\u001b[0m\u001b[0;34m(\u001b[0m\u001b[0;34m)\u001b[0m\u001b[0;34m\u001b[0m\u001b[0;34m\u001b[0m\u001b[0m\n\u001b[0;32m---> 54\u001b[0;31m     tensors = pywrap_tfe.TFE_Py_Execute(ctx._handle, device_name, op_name,\n\u001b[0m\u001b[1;32m     55\u001b[0m                                         inputs, attrs, num_outputs)\n\u001b[1;32m     56\u001b[0m   \u001b[0;32mexcept\u001b[0m \u001b[0mcore\u001b[0m\u001b[0;34m.\u001b[0m\u001b[0m_NotOkStatusException\u001b[0m \u001b[0;32mas\u001b[0m \u001b[0me\u001b[0m\u001b[0;34m:\u001b[0m\u001b[0;34m\u001b[0m\u001b[0;34m\u001b[0m\u001b[0m\n",
      "\u001b[0;31mInvalidArgumentError\u001b[0m: Graph execution error:\n\nDetected at node 'sparse_categorical_crossentropy/SparseSoftmaxCrossEntropyWithLogits/SparseSoftmaxCrossEntropyWithLogits' defined at (most recent call last):\n    File \"/Users/pooyan/opt/miniconda3/lib/python3.8/runpy.py\", line 194, in _run_module_as_main\n      return _run_code(code, main_globals, None,\n    File \"/Users/pooyan/opt/miniconda3/lib/python3.8/runpy.py\", line 87, in _run_code\n      exec(code, run_globals)\n    File \"/Users/pooyan/opt/miniconda3/lib/python3.8/site-packages/ipykernel_launcher.py\", line 16, in <module>\n      app.launch_new_instance()\n    File \"/Users/pooyan/opt/miniconda3/lib/python3.8/site-packages/traitlets/config/application.py\", line 845, in launch_instance\n      app.start()\n    File \"/Users/pooyan/opt/miniconda3/lib/python3.8/site-packages/ipykernel/kernelapp.py\", line 612, in start\n      self.io_loop.start()\n    File \"/Users/pooyan/opt/miniconda3/lib/python3.8/site-packages/tornado/platform/asyncio.py\", line 199, in start\n      self.asyncio_loop.run_forever()\n    File \"/Users/pooyan/opt/miniconda3/lib/python3.8/asyncio/base_events.py\", line 570, in run_forever\n      self._run_once()\n    File \"/Users/pooyan/opt/miniconda3/lib/python3.8/asyncio/base_events.py\", line 1859, in _run_once\n      handle._run()\n    File \"/Users/pooyan/opt/miniconda3/lib/python3.8/asyncio/events.py\", line 81, in _run\n      self._context.run(self._callback, *self._args)\n    File \"/Users/pooyan/opt/miniconda3/lib/python3.8/site-packages/tornado/ioloop.py\", line 688, in <lambda>\n      lambda f: self._run_callback(functools.partial(callback, future))\n    File \"/Users/pooyan/opt/miniconda3/lib/python3.8/site-packages/tornado/ioloop.py\", line 741, in _run_callback\n      ret = callback()\n    File \"/Users/pooyan/opt/miniconda3/lib/python3.8/site-packages/tornado/gen.py\", line 814, in inner\n      self.ctx_run(self.run)\n    File \"/Users/pooyan/opt/miniconda3/lib/python3.8/site-packages/tornado/gen.py\", line 775, in run\n      yielded = self.gen.send(value)\n    File \"/Users/pooyan/opt/miniconda3/lib/python3.8/site-packages/ipykernel/kernelbase.py\", line 365, in process_one\n      yield gen.maybe_future(dispatch(*args))\n    File \"/Users/pooyan/opt/miniconda3/lib/python3.8/site-packages/tornado/gen.py\", line 234, in wrapper\n      yielded = ctx_run(next, result)\n    File \"/Users/pooyan/opt/miniconda3/lib/python3.8/site-packages/ipykernel/kernelbase.py\", line 268, in dispatch_shell\n      yield gen.maybe_future(handler(stream, idents, msg))\n    File \"/Users/pooyan/opt/miniconda3/lib/python3.8/site-packages/tornado/gen.py\", line 234, in wrapper\n      yielded = ctx_run(next, result)\n    File \"/Users/pooyan/opt/miniconda3/lib/python3.8/site-packages/ipykernel/kernelbase.py\", line 543, in execute_request\n      self.do_execute(\n    File \"/Users/pooyan/opt/miniconda3/lib/python3.8/site-packages/tornado/gen.py\", line 234, in wrapper\n      yielded = ctx_run(next, result)\n    File \"/Users/pooyan/opt/miniconda3/lib/python3.8/site-packages/ipykernel/ipkernel.py\", line 306, in do_execute\n      res = shell.run_cell(code, store_history=store_history, silent=silent)\n    File \"/Users/pooyan/opt/miniconda3/lib/python3.8/site-packages/ipykernel/zmqshell.py\", line 536, in run_cell\n      return super(ZMQInteractiveShell, self).run_cell(*args, **kwargs)\n    File \"/Users/pooyan/opt/miniconda3/lib/python3.8/site-packages/IPython/core/interactiveshell.py\", line 2886, in run_cell\n      result = self._run_cell(\n    File \"/Users/pooyan/opt/miniconda3/lib/python3.8/site-packages/IPython/core/interactiveshell.py\", line 2932, in _run_cell\n      return runner(coro)\n    File \"/Users/pooyan/opt/miniconda3/lib/python3.8/site-packages/IPython/core/async_helpers.py\", line 68, in _pseudo_sync_runner\n      coro.send(None)\n    File \"/Users/pooyan/opt/miniconda3/lib/python3.8/site-packages/IPython/core/interactiveshell.py\", line 3155, in run_cell_async\n      has_raised = await self.run_ast_nodes(code_ast.body, cell_name,\n    File \"/Users/pooyan/opt/miniconda3/lib/python3.8/site-packages/IPython/core/interactiveshell.py\", line 3347, in run_ast_nodes\n      if (await self.run_code(code, result,  async_=asy)):\n    File \"/Users/pooyan/opt/miniconda3/lib/python3.8/site-packages/IPython/core/interactiveshell.py\", line 3427, in run_code\n      exec(code_obj, self.user_global_ns, self.user_ns)\n    File \"<ipython-input-106-f86132fb0aba>\", line 2, in <module>\n      history=model.fit(X_train, y_train, validation_data=(X_validation, y_validation),epochs = 20, batch_size = 128, verbose = 1)\n    File \"/Users/pooyan/opt/miniconda3/lib/python3.8/site-packages/keras/utils/traceback_utils.py\", line 64, in error_handler\n      return fn(*args, **kwargs)\n    File \"/Users/pooyan/opt/miniconda3/lib/python3.8/site-packages/keras/engine/training.py\", line 1384, in fit\n      tmp_logs = self.train_function(iterator)\n    File \"/Users/pooyan/opt/miniconda3/lib/python3.8/site-packages/keras/engine/training.py\", line 1021, in train_function\n      return step_function(self, iterator)\n    File \"/Users/pooyan/opt/miniconda3/lib/python3.8/site-packages/keras/engine/training.py\", line 1010, in step_function\n      outputs = model.distribute_strategy.run(run_step, args=(data,))\n    File \"/Users/pooyan/opt/miniconda3/lib/python3.8/site-packages/keras/engine/training.py\", line 1000, in run_step\n      outputs = model.train_step(data)\n    File \"/Users/pooyan/opt/miniconda3/lib/python3.8/site-packages/keras/engine/training.py\", line 860, in train_step\n      loss = self.compute_loss(x, y, y_pred, sample_weight)\n    File \"/Users/pooyan/opt/miniconda3/lib/python3.8/site-packages/keras/engine/training.py\", line 918, in compute_loss\n      return self.compiled_loss(\n    File \"/Users/pooyan/opt/miniconda3/lib/python3.8/site-packages/keras/engine/compile_utils.py\", line 201, in __call__\n      loss_value = loss_obj(y_t, y_p, sample_weight=sw)\n    File \"/Users/pooyan/opt/miniconda3/lib/python3.8/site-packages/keras/losses.py\", line 141, in __call__\n      losses = call_fn(y_true, y_pred)\n    File \"/Users/pooyan/opt/miniconda3/lib/python3.8/site-packages/keras/losses.py\", line 245, in call\n      return ag_fn(y_true, y_pred, **self._fn_kwargs)\n    File \"/Users/pooyan/opt/miniconda3/lib/python3.8/site-packages/keras/losses.py\", line 1862, in sparse_categorical_crossentropy\n      return backend.sparse_categorical_crossentropy(\n    File \"/Users/pooyan/opt/miniconda3/lib/python3.8/site-packages/keras/backend.py\", line 5202, in sparse_categorical_crossentropy\n      res = tf.nn.sparse_softmax_cross_entropy_with_logits(\nNode: 'sparse_categorical_crossentropy/SparseSoftmaxCrossEntropyWithLogits/SparseSoftmaxCrossEntropyWithLogits'\nlogits and labels must have the same first dimension, got logits shape [3840,2] and labels shape [128]\n\t [[{{node sparse_categorical_crossentropy/SparseSoftmaxCrossEntropyWithLogits/SparseSoftmaxCrossEntropyWithLogits}}]] [Op:__inference_train_function_151426]"
     ]
    }
   ],
   "source": [
    "model.compile(optimizer=keras.optimizers.Adam(1e-4),loss=tf.losses.SparseCategoricalCrossentropy(), metrics=[\"accuracy\"])\n",
    "history=model.fit(X_train, y_train, validation_data=(X_validation, y_validation),epochs = 20, batch_size = 128, verbose = 1)\n"
   ]
  },
  {
   "cell_type": "code",
   "execution_count": 115,
   "id": "answering-extraction",
   "metadata": {},
   "outputs": [
    {
     "name": "stdout",
     "output_type": "stream",
     "text": [
      "Model: \"sequential_51\"\n",
      "_________________________________________________________________\n",
      " Layer (type)                Output Shape              Param #   \n",
      "=================================================================\n",
      " conv1d_46 (Conv1D)          (None, 129, 30)           7800      \n",
      "                                                                 \n",
      " max_pooling1d_29 (MaxPoolin  (None, 32, 30)           0         \n",
      " g1D)                                                            \n",
      "                                                                 \n",
      " conv1d_47 (Conv1D)          (None, 32, 25)            775       \n",
      "                                                                 \n",
      " max_pooling1d_30 (MaxPoolin  (None, 8, 25)            0         \n",
      " g1D)                                                            \n",
      "                                                                 \n",
      " conv1d_48 (Conv1D)          (None, 8, 12)             312       \n",
      "                                                                 \n",
      " max_pooling1d_31 (MaxPoolin  (None, 1, 12)            0         \n",
      " g1D)                                                            \n",
      "                                                                 \n",
      " lstm_43 (LSTM)              (None, 1, 20)             2640      \n",
      "                                                                 \n",
      " lstm_44 (LSTM)              (None, 1, 20)             3280      \n",
      "                                                                 \n",
      " lstm_45 (LSTM)              (None, 1, 20)             3280      \n",
      "                                                                 \n",
      " dense_52 (Dense)            (None, 1, 2)              42        \n",
      "                                                                 \n",
      "=================================================================\n",
      "Total params: 18,129\n",
      "Trainable params: 18,129\n",
      "Non-trainable params: 0\n",
      "_________________________________________________________________\n"
     ]
    }
   ],
   "source": [
    "model = Sequential()\n",
    "model.add(Conv1D(30, 1, activation=\"relu\", input_shape=(129,259)))\n",
    "model.add(MaxPooling1D(4))\n",
    "model.add(Conv1D(25, 1, activation=\"relu\"))\n",
    "model.add(MaxPooling1D(4))\n",
    "model.add(Conv1D(12, 1, activation=\"relu\"))\n",
    "model.add(MaxPooling1D(5))\n",
    "\n",
    "model.add(LSTM(20, return_sequences=True))\n",
    "model.add(LSTM(20, return_sequences=True))\n",
    "model.add(LSTM(20, return_sequences=True))\n",
    "model.add(Dense(2, activation='softmax'))\n",
    "model.summary()"
   ]
  },
  {
   "cell_type": "code",
   "execution_count": 116,
   "id": "continental-relative",
   "metadata": {},
   "outputs": [
    {
     "name": "stdout",
     "output_type": "stream",
     "text": [
      "Epoch 1/20\n",
      "49/49 [==============================] - 6s 39ms/step - loss: 0.6705 - accuracy: 0.8992 - val_loss: 0.6613 - val_accuracy: 0.8951\n",
      "Epoch 2/20\n",
      "49/49 [==============================] - 1s 20ms/step - loss: 0.6498 - accuracy: 0.8995 - val_loss: 0.6383 - val_accuracy: 0.8951\n",
      "Epoch 3/20\n",
      "49/49 [==============================] - 1s 20ms/step - loss: 0.6244 - accuracy: 0.8999 - val_loss: 0.6114 - val_accuracy: 0.8951\n",
      "Epoch 4/20\n",
      "49/49 [==============================] - 1s 20ms/step - loss: 0.5970 - accuracy: 0.8996 - val_loss: 0.5846 - val_accuracy: 0.8951\n",
      "Epoch 5/20\n",
      "49/49 [==============================] - 1s 20ms/step - loss: 0.5691 - accuracy: 0.8995 - val_loss: 0.5562 - val_accuracy: 0.8951\n",
      "Epoch 6/20\n",
      "49/49 [==============================] - 1s 20ms/step - loss: 0.5390 - accuracy: 0.8996 - val_loss: 0.5251 - val_accuracy: 0.8951\n",
      "Epoch 7/20\n",
      "49/49 [==============================] - 1s 19ms/step - loss: 0.5067 - accuracy: 0.8999 - val_loss: 0.4927 - val_accuracy: 0.8951\n",
      "Epoch 8/20\n",
      "49/49 [==============================] - 1s 20ms/step - loss: 0.4733 - accuracy: 0.8997 - val_loss: 0.4603 - val_accuracy: 0.8951\n",
      "Epoch 9/20\n",
      "49/49 [==============================] - 1s 20ms/step - loss: 0.4404 - accuracy: 0.9000 - val_loss: 0.4292 - val_accuracy: 0.8951\n",
      "Epoch 10/20\n",
      "49/49 [==============================] - 1s 20ms/step - loss: 0.4103 - accuracy: 0.8997 - val_loss: 0.4030 - val_accuracy: 0.8951\n",
      "Epoch 11/20\n",
      "49/49 [==============================] - 1s 20ms/step - loss: 0.3844 - accuracy: 0.8995 - val_loss: 0.3798 - val_accuracy: 0.8951\n",
      "Epoch 12/20\n",
      "49/49 [==============================] - 1s 20ms/step - loss: 0.3633 - accuracy: 0.8996 - val_loss: 0.3630 - val_accuracy: 0.8951\n",
      "Epoch 13/20\n",
      "49/49 [==============================] - 1s 20ms/step - loss: 0.3480 - accuracy: 0.8999 - val_loss: 0.3512 - val_accuracy: 0.8951\n",
      "Epoch 14/20\n",
      "49/49 [==============================] - 1s 20ms/step - loss: 0.3380 - accuracy: 0.8999 - val_loss: 0.3437 - val_accuracy: 0.8951\n",
      "Epoch 15/20\n",
      "49/49 [==============================] - 1s 20ms/step - loss: 0.3395 - accuracy: 0.8999 - val_loss: 0.3529 - val_accuracy: 0.8951\n",
      "Epoch 16/20\n",
      "49/49 [==============================] - 1s 20ms/step - loss: 0.3392 - accuracy: 0.8999 - val_loss: 0.3455 - val_accuracy: 0.8951\n",
      "Epoch 17/20\n",
      "49/49 [==============================] - 1s 20ms/step - loss: 0.3306 - accuracy: 0.9002 - val_loss: 0.3372 - val_accuracy: 0.8951\n",
      "Epoch 18/20\n",
      "49/49 [==============================] - 1s 20ms/step - loss: 0.3247 - accuracy: 0.9003 - val_loss: 0.3349 - val_accuracy: 0.8951\n",
      "Epoch 19/20\n",
      "49/49 [==============================] - 1s 20ms/step - loss: 0.3228 - accuracy: 0.8996 - val_loss: 0.3355 - val_accuracy: 0.8951\n",
      "Epoch 20/20\n",
      "49/49 [==============================] - 1s 20ms/step - loss: 0.3230 - accuracy: 0.8997 - val_loss: 0.3348 - val_accuracy: 0.8951\n"
     ]
    }
   ],
   "source": [
    "model.compile(optimizer=keras.optimizers.Adam(1e-4),loss=tf.losses.SparseCategoricalCrossentropy(), metrics=[\"accuracy\"])\n",
    "history=model.fit(X_train, y_train, validation_data=(X_validation, y_validation),epochs = 20, batch_size = 128, verbose = 1)\n"
   ]
  },
  {
   "cell_type": "code",
   "execution_count": 117,
   "id": "determined-gabriel",
   "metadata": {},
   "outputs": [
    {
     "ename": "IndexError",
     "evalue": "index 1 is out of bounds for axis 0 with size 1",
     "output_type": "error",
     "traceback": [
      "\u001b[0;31m---------------------------------------------------------------------------\u001b[0m",
      "\u001b[0;31mIndexError\u001b[0m                                Traceback (most recent call last)",
      "\u001b[0;32m<ipython-input-117-667f4ece9758>\u001b[0m in \u001b[0;36m<module>\u001b[0;34m\u001b[0m\n\u001b[1;32m      2\u001b[0m \u001b[0;34m\u001b[0m\u001b[0m\n\u001b[1;32m      3\u001b[0m \u001b[0mpred\u001b[0m \u001b[0;34m=\u001b[0m \u001b[0mmodel\u001b[0m\u001b[0;34m.\u001b[0m\u001b[0mpredict\u001b[0m\u001b[0;34m(\u001b[0m\u001b[0mX_train\u001b[0m\u001b[0;34m)\u001b[0m\u001b[0;34m\u001b[0m\u001b[0;34m\u001b[0m\u001b[0m\n\u001b[0;32m----> 4\u001b[0;31m \u001b[0my_pred\u001b[0m \u001b[0;34m=\u001b[0m \u001b[0;34m[\u001b[0m\u001b[0;36m0\u001b[0m \u001b[0;32mif\u001b[0m \u001b[0my\u001b[0m\u001b[0;34m[\u001b[0m\u001b[0;36m0\u001b[0m\u001b[0;34m]\u001b[0m\u001b[0;34m>\u001b[0m\u001b[0my\u001b[0m\u001b[0;34m[\u001b[0m\u001b[0;36m1\u001b[0m\u001b[0;34m]\u001b[0m \u001b[0;32melse\u001b[0m \u001b[0;36m1\u001b[0m \u001b[0;32mfor\u001b[0m \u001b[0my\u001b[0m \u001b[0;32min\u001b[0m \u001b[0mpred\u001b[0m\u001b[0;34m]\u001b[0m   \u001b[0;31m#thereshold=50 y[0]>0.50\u001b[0m\u001b[0;34m\u001b[0m\u001b[0;34m\u001b[0m\u001b[0m\n\u001b[0m\u001b[1;32m      5\u001b[0m \u001b[0;34m\u001b[0m\u001b[0m\n\u001b[1;32m      6\u001b[0m \u001b[0mcm\u001b[0m\u001b[0;34m=\u001b[0m\u001b[0mconfusion_matrix\u001b[0m\u001b[0;34m(\u001b[0m\u001b[0my_train\u001b[0m\u001b[0;34m,\u001b[0m\u001b[0my_pred\u001b[0m\u001b[0;34m)\u001b[0m\u001b[0;34m\u001b[0m\u001b[0;34m\u001b[0m\u001b[0m\n",
      "\u001b[0;32m<ipython-input-117-667f4ece9758>\u001b[0m in \u001b[0;36m<listcomp>\u001b[0;34m(.0)\u001b[0m\n\u001b[1;32m      2\u001b[0m \u001b[0;34m\u001b[0m\u001b[0m\n\u001b[1;32m      3\u001b[0m \u001b[0mpred\u001b[0m \u001b[0;34m=\u001b[0m \u001b[0mmodel\u001b[0m\u001b[0;34m.\u001b[0m\u001b[0mpredict\u001b[0m\u001b[0;34m(\u001b[0m\u001b[0mX_train\u001b[0m\u001b[0;34m)\u001b[0m\u001b[0;34m\u001b[0m\u001b[0;34m\u001b[0m\u001b[0m\n\u001b[0;32m----> 4\u001b[0;31m \u001b[0my_pred\u001b[0m \u001b[0;34m=\u001b[0m \u001b[0;34m[\u001b[0m\u001b[0;36m0\u001b[0m \u001b[0;32mif\u001b[0m \u001b[0my\u001b[0m\u001b[0;34m[\u001b[0m\u001b[0;36m0\u001b[0m\u001b[0;34m]\u001b[0m\u001b[0;34m>\u001b[0m\u001b[0my\u001b[0m\u001b[0;34m[\u001b[0m\u001b[0;36m1\u001b[0m\u001b[0;34m]\u001b[0m \u001b[0;32melse\u001b[0m \u001b[0;36m1\u001b[0m \u001b[0;32mfor\u001b[0m \u001b[0my\u001b[0m \u001b[0;32min\u001b[0m \u001b[0mpred\u001b[0m\u001b[0;34m]\u001b[0m   \u001b[0;31m#thereshold=50 y[0]>0.50\u001b[0m\u001b[0;34m\u001b[0m\u001b[0;34m\u001b[0m\u001b[0m\n\u001b[0m\u001b[1;32m      5\u001b[0m \u001b[0;34m\u001b[0m\u001b[0m\n\u001b[1;32m      6\u001b[0m \u001b[0mcm\u001b[0m\u001b[0;34m=\u001b[0m\u001b[0mconfusion_matrix\u001b[0m\u001b[0;34m(\u001b[0m\u001b[0my_train\u001b[0m\u001b[0;34m,\u001b[0m\u001b[0my_pred\u001b[0m\u001b[0;34m)\u001b[0m\u001b[0;34m\u001b[0m\u001b[0;34m\u001b[0m\u001b[0m\n",
      "\u001b[0;31mIndexError\u001b[0m: index 1 is out of bounds for axis 0 with size 1"
     ]
    }
   ],
   "source": [
    "from sklearn.metrics import confusion_matrix\n",
    "\n",
    "pred = model.predict(X_train)\n",
    "y_pred = [0 if y[0]>y[1] else 1 for y in pred]   #thereshold=50 y[0]>0.50\n",
    "\n",
    "cm=confusion_matrix(y_train,y_pred)\n",
    "print(\"train set\")\n",
    "print(\"0:%s - 1:%s\"%(my_ec.inverse_transform([0])[0],my_ec.inverse_transform([1])[0]))\n",
    "print(cm)\n",
    "\n",
    "accuracy = (cm[0,0]+cm[1,1])/cm.sum()\n",
    "precision= (cm[0,0])/(cm[0,0]+cm[1,0])\n",
    "recall = (cm[0,0])/(cm[0,0]+cm[0,1])\n",
    "f1=2*precision*recall/(precision+recall)\n",
    "\n",
    "print(\"accuracy=%.2f f1score=%.2f\"%(accuracy, f1))\n",
    "print(\"precision=%.2f recall=%.2f\"%(precision, recall))"
   ]
  },
  {
   "cell_type": "code",
   "execution_count": 120,
   "id": "manual-familiar",
   "metadata": {},
   "outputs": [
    {
     "name": "stdout",
     "output_type": "stream",
     "text": [
      "Model: \"sequential_54\"\n",
      "_________________________________________________________________\n",
      " Layer (type)                Output Shape              Param #   \n",
      "=================================================================\n",
      " conv1d_50 (Conv1D)          (None, 127, 200)          155600    \n",
      "                                                                 \n",
      " lstm_47 (LSTM)              (None, 200)               320800    \n",
      "                                                                 \n",
      " dense_55 (Dense)            (None, 100)               20100     \n",
      "                                                                 \n",
      " dense_56 (Dense)            (None, 2)                 202       \n",
      "                                                                 \n",
      "=================================================================\n",
      "Total params: 496,702\n",
      "Trainable params: 496,702\n",
      "Non-trainable params: 0\n",
      "_________________________________________________________________\n"
     ]
    }
   ],
   "source": [
    "model = Sequential()\n",
    "model.add(Conv1D(200, kernel_size=3, activation = 'relu', input_shape=(129,259)))\n",
    "model.add(LSTM(200))\n",
    "model.add(Dense(100))\n",
    "model.add(Dense(2, activation='softmax'))\n",
    "model.summary()"
   ]
  },
  {
   "cell_type": "code",
   "execution_count": 121,
   "id": "hawaiian-pittsburgh",
   "metadata": {},
   "outputs": [
    {
     "name": "stdout",
     "output_type": "stream",
     "text": [
      "Epoch 1/20\n",
      "49/49 [==============================] - 13s 239ms/step - loss: 0.3953 - accuracy: 0.8838 - val_loss: 0.3176 - val_accuracy: 0.8943\n",
      "Epoch 2/20\n",
      "49/49 [==============================] - 11s 226ms/step - loss: 0.3065 - accuracy: 0.8997 - val_loss: 0.3180 - val_accuracy: 0.8943\n",
      "Epoch 3/20\n",
      "49/49 [==============================] - 12s 247ms/step - loss: 0.3043 - accuracy: 0.8997 - val_loss: 0.3136 - val_accuracy: 0.8943\n",
      "Epoch 4/20\n",
      "49/49 [==============================] - 12s 245ms/step - loss: 0.3022 - accuracy: 0.8997 - val_loss: 0.3088 - val_accuracy: 0.8943\n",
      "Epoch 5/20\n",
      "49/49 [==============================] - 12s 247ms/step - loss: 0.2965 - accuracy: 0.9054 - val_loss: 0.3051 - val_accuracy: 0.9137\n",
      "Epoch 6/20\n",
      "49/49 [==============================] - 12s 249ms/step - loss: 0.2931 - accuracy: 0.9179 - val_loss: 0.3012 - val_accuracy: 0.9144\n",
      "Epoch 7/20\n",
      "49/49 [==============================] - 12s 247ms/step - loss: 0.2908 - accuracy: 0.9182 - val_loss: 0.3008 - val_accuracy: 0.9144\n",
      "Epoch 8/20\n",
      "49/49 [==============================] - 12s 239ms/step - loss: 0.2863 - accuracy: 0.9182 - val_loss: 0.2940 - val_accuracy: 0.9144\n",
      "Epoch 9/20\n",
      "49/49 [==============================] - 12s 237ms/step - loss: 0.2830 - accuracy: 0.9181 - val_loss: 0.3003 - val_accuracy: 0.9144\n",
      "Epoch 10/20\n",
      "49/49 [==============================] - 12s 238ms/step - loss: 0.2836 - accuracy: 0.9182 - val_loss: 0.2915 - val_accuracy: 0.9144\n",
      "Epoch 11/20\n",
      "49/49 [==============================] - 13s 263ms/step - loss: 0.2830 - accuracy: 0.9181 - val_loss: 0.2913 - val_accuracy: 0.9144\n",
      "Epoch 12/20\n",
      "49/49 [==============================] - 13s 272ms/step - loss: 0.2818 - accuracy: 0.9181 - val_loss: 0.2912 - val_accuracy: 0.9144\n",
      "Epoch 13/20\n",
      "49/49 [==============================] - 13s 265ms/step - loss: 0.2818 - accuracy: 0.9182 - val_loss: 0.2913 - val_accuracy: 0.9144\n",
      "Epoch 14/20\n",
      "49/49 [==============================] - 13s 266ms/step - loss: 0.2825 - accuracy: 0.9182 - val_loss: 0.2913 - val_accuracy: 0.9144\n",
      "Epoch 15/20\n",
      "49/49 [==============================] - 13s 266ms/step - loss: 0.2817 - accuracy: 0.9182 - val_loss: 0.2935 - val_accuracy: 0.9144\n",
      "Epoch 16/20\n",
      "49/49 [==============================] - 14s 296ms/step - loss: 0.2840 - accuracy: 0.9182 - val_loss: 0.2929 - val_accuracy: 0.9144\n",
      "Epoch 17/20\n",
      "49/49 [==============================] - 13s 263ms/step - loss: 0.2829 - accuracy: 0.9182 - val_loss: 0.2914 - val_accuracy: 0.9144\n",
      "Epoch 18/20\n",
      "49/49 [==============================] - 12s 249ms/step - loss: 0.2820 - accuracy: 0.9182 - val_loss: 0.2911 - val_accuracy: 0.9144\n",
      "Epoch 19/20\n",
      "49/49 [==============================] - 12s 250ms/step - loss: 0.2823 - accuracy: 0.9181 - val_loss: 0.2913 - val_accuracy: 0.9144\n",
      "Epoch 20/20\n",
      "49/49 [==============================] - 12s 249ms/step - loss: 0.2825 - accuracy: 0.9181 - val_loss: 0.2920 - val_accuracy: 0.9144\n"
     ]
    }
   ],
   "source": [
    "model.compile(optimizer=keras.optimizers.Adam(1e-4),loss=tf.losses.SparseCategoricalCrossentropy(), metrics=[\"accuracy\"])\n",
    "history=model.fit(X_train, y_train, validation_data=(X_validation, y_validation),epochs = 20, batch_size = 128, verbose = 1)\n"
   ]
  },
  {
   "cell_type": "code",
   "execution_count": 122,
   "id": "proprietary-speaker",
   "metadata": {},
   "outputs": [
    {
     "name": "stdout",
     "output_type": "stream",
     "text": [
      "train set\n",
      "0:anomaly - 1:normal\n",
      "[[ 114  504]\n",
      " [   0 5546]]\n",
      "accuracy=0.92 f1score=0.31\n",
      "precision=1.00 recall=0.18\n"
     ]
    }
   ],
   "source": [
    "from sklearn.metrics import confusion_matrix\n",
    "\n",
    "pred = model.predict(X_train)\n",
    "y_pred = [0 if y[0]>y[1] else 1 for y in pred]   #thereshold=50 y[0]>0.50\n",
    "\n",
    "cm=confusion_matrix(y_train,y_pred)\n",
    "print(\"train set\")\n",
    "print(\"0:%s - 1:%s\"%(my_ec.inverse_transform([0])[0],my_ec.inverse_transform([1])[0]))\n",
    "print(cm)\n",
    "\n",
    "accuracy = (cm[0,0]+cm[1,1])/cm.sum()\n",
    "precision= (cm[0,0])/(cm[0,0]+cm[1,0])\n",
    "recall = (cm[0,0])/(cm[0,0]+cm[0,1])\n",
    "f1=2*precision*recall/(precision+recall)\n",
    "\n",
    "print(\"accuracy=%.2f f1score=%.2f\"%(accuracy, f1))\n",
    "print(\"precision=%.2f recall=%.2f\"%(precision, recall))"
   ]
  },
  {
   "cell_type": "code",
   "execution_count": 123,
   "id": "yellow-approach",
   "metadata": {},
   "outputs": [
    {
     "data": {
      "image/png": "[encoded data removed]",
      "text/plain": [
       "<Figure size 432x288 with 1 Axes>"
      ]
     },
     "metadata": {
      "needs_background": "light"
     },
     "output_type": "display_data"
    },
    {
     "data": {
      "image/png": "[encoded data removed]",
      "text/plain": [
       "<Figure size 432x288 with 1 Axes>"
      ]
     },
     "metadata": {
      "needs_background": "light"
     },
     "output_type": "display_data"
    }
   ],
   "source": [
    "# summarize history for accuracy\n",
    "plt.plot(history.history['accuracy'])\n",
    "plt.plot(history.history['val_accuracy'])\n",
    "plt.title('model accuracy')\n",
    "plt.ylabel('accuracy')\n",
    "plt.xlabel('epoch')\n",
    "plt.legend(['train', 'validation'], loc='upper left')\n",
    "plt.show()\n",
    "# summarize history for loss\n",
    "plt.plot(history.history['loss'])\n",
    "plt.plot(history.history['val_loss'][1:43])\n",
    "plt.title('model loss')\n",
    "plt.ylabel('loss')\n",
    "plt.xlabel('epoch')\n",
    "plt.legend(['train', 'validation'], loc='upper left')\n",
    "plt.show()\n"
   ]
  },
  {
   "cell_type": "code",
   "execution_count": 126,
   "id": "comparable-mitchell",
   "metadata": {},
   "outputs": [
    {
     "name": "stdout",
     "output_type": "stream",
     "text": [
      "Model: \"sequential_57\"\n",
      "_________________________________________________________________\n",
      " Layer (type)                Output Shape              Param #   \n",
      "=================================================================\n",
      " lstm_50 (LSTM)              (None, 129, 200)          368000    \n",
      "                                                                 \n",
      " conv1d_52 (Conv1D)          (None, 127, 200)          120200    \n",
      "                                                                 \n",
      " global_max_pooling1d (Globa  (None, 200)              0         \n",
      " lMaxPooling1D)                                                  \n",
      "                                                                 \n",
      " dense_57 (Dense)            (None, 100)               20100     \n",
      "                                                                 \n",
      " dense_58 (Dense)            (None, 2)                 202       \n",
      "                                                                 \n",
      "=================================================================\n",
      "Total params: 508,502\n",
      "Trainable params: 508,502\n",
      "Non-trainable params: 0\n",
      "_________________________________________________________________\n"
     ]
    }
   ],
   "source": [
    "model = Sequential()\n",
    "model.add(LSTM(200, return_sequences=True, input_shape=(129,259)))\n",
    "model.add(Conv1D(200, kernel_size=3, activation = 'relu'))\n",
    "model.add(tf.keras.layers.GlobalMaxPooling1D())\n",
    "model.add(Dense(100))\n",
    "model.add(Dense(2, activation='sigmoid'))\n",
    "model.summary()"
   ]
  },
  {
   "cell_type": "code",
   "execution_count": 127,
   "id": "increasing-bottle",
   "metadata": {},
   "outputs": [
    {
     "name": "stdout",
     "output_type": "stream",
     "text": [
      "Epoch 1/20\n",
      "49/49 [==============================] - 13s 225ms/step - loss: 0.4204 - accuracy: 0.8624 - val_loss: 0.3469 - val_accuracy: 0.8943\n",
      "Epoch 2/20\n",
      "49/49 [==============================] - 11s 222ms/step - loss: 0.3243 - accuracy: 0.8997 - val_loss: 0.3456 - val_accuracy: 0.8943\n",
      "Epoch 3/20\n",
      "49/49 [==============================] - 11s 225ms/step - loss: 0.3190 - accuracy: 0.8997 - val_loss: 0.3527 - val_accuracy: 0.8943\n",
      "Epoch 4/20\n",
      "49/49 [==============================] - 12s 245ms/step - loss: 0.3137 - accuracy: 0.8997 - val_loss: 0.3390 - val_accuracy: 0.8943\n",
      "Epoch 5/20\n",
      "49/49 [==============================] - 12s 251ms/step - loss: 0.3069 - accuracy: 0.8999 - val_loss: 0.3368 - val_accuracy: 0.8943\n",
      "Epoch 6/20\n",
      "49/49 [==============================] - 12s 251ms/step - loss: 0.2983 - accuracy: 0.8997 - val_loss: 0.3269 - val_accuracy: 0.8962\n",
      "Epoch 7/20\n",
      "49/49 [==============================] - 12s 248ms/step - loss: 0.2945 - accuracy: 0.9033 - val_loss: 0.3376 - val_accuracy: 0.9027\n",
      "Epoch 8/20\n",
      "49/49 [==============================] - 12s 246ms/step - loss: 0.2937 - accuracy: 0.9072 - val_loss: 0.3169 - val_accuracy: 0.9001\n",
      "Epoch 9/20\n",
      "49/49 [==============================] - 12s 243ms/step - loss: 0.2860 - accuracy: 0.9100 - val_loss: 0.3198 - val_accuracy: 0.9086\n",
      "Epoch 10/20\n",
      "49/49 [==============================] - 11s 234ms/step - loss: 0.2829 - accuracy: 0.9135 - val_loss: 0.3201 - val_accuracy: 0.9060\n",
      "Epoch 11/20\n",
      "49/49 [==============================] - 12s 240ms/step - loss: 0.2783 - accuracy: 0.9152 - val_loss: 0.3224 - val_accuracy: 0.9112\n",
      "Epoch 12/20\n",
      "49/49 [==============================] - 12s 248ms/step - loss: 0.2717 - accuracy: 0.9153 - val_loss: 0.3228 - val_accuracy: 0.9118\n",
      "Epoch 13/20\n",
      "49/49 [==============================] - 14s 279ms/step - loss: 0.2681 - accuracy: 0.9160 - val_loss: 0.3222 - val_accuracy: 0.9137\n",
      "Epoch 14/20\n",
      "49/49 [==============================] - 13s 270ms/step - loss: 0.2692 - accuracy: 0.9161 - val_loss: 0.3205 - val_accuracy: 0.9131\n",
      "Epoch 15/20\n",
      "49/49 [==============================] - 12s 252ms/step - loss: 0.2656 - accuracy: 0.9173 - val_loss: 0.3200 - val_accuracy: 0.9131\n",
      "Epoch 16/20\n",
      "49/49 [==============================] - 12s 245ms/step - loss: 0.2680 - accuracy: 0.9163 - val_loss: 0.3284 - val_accuracy: 0.9125\n",
      "Epoch 17/20\n",
      "49/49 [==============================] - 13s 265ms/step - loss: 0.2702 - accuracy: 0.9169 - val_loss: 0.3284 - val_accuracy: 0.9118\n",
      "Epoch 18/20\n",
      "49/49 [==============================] - 13s 262ms/step - loss: 0.2653 - accuracy: 0.9166 - val_loss: 0.3223 - val_accuracy: 0.9125\n",
      "Epoch 19/20\n",
      "49/49 [==============================] - 13s 265ms/step - loss: 0.2642 - accuracy: 0.9169 - val_loss: 0.3161 - val_accuracy: 0.9137\n",
      "Epoch 20/20\n",
      "49/49 [==============================] - 13s 262ms/step - loss: 0.2609 - accuracy: 0.9173 - val_loss: 0.3269 - val_accuracy: 0.9118\n"
     ]
    }
   ],
   "source": [
    "model.compile(optimizer=keras.optimizers.Adam(1e-4),loss=tf.losses.SparseCategoricalCrossentropy(), metrics=[\"accuracy\"])\n",
    "history=model.fit(X_train, y_train, validation_data=(X_validation, y_validation),epochs = 20, batch_size = 128, verbose = 1)\n"
   ]
  },
  {
   "cell_type": "code",
   "execution_count": 137,
   "id": "cultural-pickup",
   "metadata": {},
   "outputs": [
    {
     "name": "stdout",
     "output_type": "stream",
     "text": [
      "train set\n",
      "0:anomaly - 1:normal\n",
      "[[ 135  483]\n",
      " [  31 5515]]\n",
      "accuracy=0.92 f1score=0.34\n",
      "precision=0.81 recall=0.22\n"
     ]
    }
   ],
   "source": [
    "from sklearn.metrics import confusion_matrix\n",
    "\n",
    "pred = model.predict(X_train)\n",
    "y_pred = [0 if y[0]>0.40 else 1 for y in pred]   #thereshold=50 y[0]>0.50\n",
    "\n",
    "cm=confusion_matrix(y_train,y_pred)\n",
    "print(\"train set\")\n",
    "print(\"0:%s - 1:%s\"%(my_ec.inverse_transform([0])[0],my_ec.inverse_transform([1])[0]))\n",
    "print(cm)\n",
    "\n",
    "accuracy = (cm[0,0]+cm[1,1])/cm.sum()\n",
    "precision= (cm[0,0])/(cm[0,0]+cm[1,0])\n",
    "recall = (cm[0,0])/(cm[0,0]+cm[0,1])\n",
    "f1=2*precision*recall/(precision+recall)\n",
    "\n",
    "print(\"accuracy=%.2f f1score=%.2f\"%(accuracy, f1))\n",
    "print(\"precision=%.2f recall=%.2f\"%(precision, recall))"
   ]
  },
  {
   "cell_type": "code",
   "execution_count": 129,
   "id": "undefined-yorkshire",
   "metadata": {},
   "outputs": [
    {
     "data": {
      "text/plain": [
       "array([[0.11154404, 0.75394046],\n",
       "       [0.14748341, 0.64702183],\n",
       "       [0.23451436, 0.61340106],\n",
       "       ...,\n",
       "       [0.13610646, 0.6533523 ],\n",
       "       [0.16164413, 0.7226128 ],\n",
       "       [0.21547365, 0.66170824]], dtype=float32)"
      ]
     },
     "execution_count": 129,
     "metadata": {},
     "output_type": "execute_result"
    }
   ],
   "source": [
    "pred"
   ]
  },
  {
   "cell_type": "code",
   "execution_count": 144,
   "id": "metallic-fence",
   "metadata": {},
   "outputs": [
    {
     "name": "stdout",
     "output_type": "stream",
     "text": [
      "Accuracy: 0.916613\n",
      "Precision: 0.919473\n",
      "Recall: 0.994410\n",
      "F1 score: 0.955475\n",
      "Cohens kappa: 0.315318\n",
      "ROC AUC: 0.606428\n",
      "[[ 135  483]\n",
      " [  31 5515]]\n"
     ]
    }
   ],
   "source": [
    "# demonstration of calculating metrics for a neural network model using sklearn\n",
    "from sklearn.datasets import make_circles\n",
    "from sklearn.metrics import accuracy_score\n",
    "from sklearn.metrics import precision_score\n",
    "from sklearn.metrics import recall_score\n",
    "from sklearn.metrics import f1_score\n",
    "from sklearn.metrics import cohen_kappa_score\n",
    "from sklearn.metrics import roc_auc_score\n",
    "from sklearn.metrics import confusion_matrix\n",
    "# accuracy: (tp + tn) / (p + n)\n",
    "accuracy = accuracy_score(y_train, y_pred)\n",
    "print('Accuracy: %f' % accuracy)\n",
    "# precision tp / (tp + fp)\n",
    "precision = precision_score(y_train, y_pred)\n",
    "print('Precision: %f' % precision)\n",
    "# recall: tp / (tp + fn)\n",
    "recall = recall_score(y_train, y_pred)\n",
    "print('Recall: %f' % recall)\n",
    "# f1: 2 tp / (2 tp + fp + fn)\n",
    "f1 = f1_score(y_train, y_pred)\n",
    "print('F1 score: %f' % f1)\n",
    "# kappa\n",
    "kappa = cohen_kappa_score(y_train, y_pred)\n",
    "print('Cohens kappa: %f' % kappa)\n",
    "# ROC AUC\n",
    "auc = roc_auc_score(y_train, y_pred)\n",
    "print('ROC AUC: %f' % auc)\n",
    "# confusion matrix\n",
    "matrix = confusion_matrix(y_train, y_pred)\n",
    "print(matrix)"
   ]
  },
  {
   "cell_type": "code",
   "execution_count": 147,
   "id": "fallen-death",
   "metadata": {},
   "outputs": [
    {
     "name": "stdout",
     "output_type": "stream",
     "text": [
      "Model: \"sequential_60\"\n",
      "_________________________________________________________________\n",
      " Layer (type)                Output Shape              Param #   \n",
      "=================================================================\n",
      " conv1d_55 (Conv1D)          (None, 127, 15)           11670     \n",
      "                                                                 \n",
      " lstm_53 (LSTM)              (None, 127, 30)           5520      \n",
      "                                                                 \n",
      " conv1d_56 (Conv1D)          (None, 125, 70)           6370      \n",
      "                                                                 \n",
      " dropout_20 (Dropout)        (None, 125, 70)           0         \n",
      "                                                                 \n",
      " lstm_54 (LSTM)              (None, 100)               68400     \n",
      "                                                                 \n",
      " dropout_21 (Dropout)        (None, 100)               0         \n",
      "                                                                 \n",
      " dense_61 (Dense)            (None, 100)               10100     \n",
      "                                                                 \n",
      " dropout_22 (Dropout)        (None, 100)               0         \n",
      "                                                                 \n",
      " dense_62 (Dense)            (None, 2)                 202       \n",
      "                                                                 \n",
      "=================================================================\n",
      "Total params: 102,262\n",
      "Trainable params: 102,262\n",
      "Non-trainable params: 0\n",
      "_________________________________________________________________\n"
     ]
    }
   ],
   "source": [
    "model = Sequential()\n",
    "model.add(Conv1D(40, kernel_size=3, activation = 'relu', input_shape=(129,259)))\n",
    "model.add(LSTM(30, return_sequences=True))\n",
    "model.add(Conv1D(20, kernel_size=3, activation = 'relu'))\n",
    "model.add(Dropout(rate=0.2))\n",
    "model.add(LSTM(100))\n",
    "model.add(Dropout(rate=0.2))\n",
    "model.add(Dense(100))\n",
    "model.add(Dropout(rate=0.2))\n",
    "model.add(Dense(2, activation='softmax'))\n",
    "model.summary()\n",
    "\n"
   ]
  },
  {
   "cell_type": "code",
   "execution_count": 148,
   "id": "proof-delhi",
   "metadata": {},
   "outputs": [
    {
     "name": "stdout",
     "output_type": "stream",
     "text": [
      "Epoch 1/20\n",
      "49/49 [==============================] - 11s 173ms/step - loss: 0.4972 - accuracy: 0.8861 - val_loss: 0.3242 - val_accuracy: 0.8943\n",
      "Epoch 2/20\n",
      "49/49 [==============================] - 8s 159ms/step - loss: 0.3134 - accuracy: 0.8997 - val_loss: 0.3186 - val_accuracy: 0.8943\n",
      "Epoch 3/20\n",
      "49/49 [==============================] - 8s 162ms/step - loss: 0.3106 - accuracy: 0.8997 - val_loss: 0.3138 - val_accuracy: 0.8943\n",
      "Epoch 4/20\n",
      "49/49 [==============================] - 8s 164ms/step - loss: 0.3085 - accuracy: 0.8997 - val_loss: 0.3125 - val_accuracy: 0.8943\n",
      "Epoch 5/20\n",
      "49/49 [==============================] - 8s 161ms/step - loss: 0.3065 - accuracy: 0.8997 - val_loss: 0.3111 - val_accuracy: 0.8943\n",
      "Epoch 6/20\n",
      "49/49 [==============================] - 8s 163ms/step - loss: 0.3032 - accuracy: 0.8997 - val_loss: 0.3090 - val_accuracy: 0.8943\n",
      "Epoch 7/20\n",
      "49/49 [==============================] - 8s 164ms/step - loss: 0.3007 - accuracy: 0.9031 - val_loss: 0.3056 - val_accuracy: 0.9137\n",
      "Epoch 8/20\n",
      "49/49 [==============================] - 8s 161ms/step - loss: 0.2988 - accuracy: 0.9177 - val_loss: 0.3052 - val_accuracy: 0.9144\n",
      "Epoch 9/20\n",
      "49/49 [==============================] - 8s 164ms/step - loss: 0.2943 - accuracy: 0.9182 - val_loss: 0.2992 - val_accuracy: 0.9144\n",
      "Epoch 10/20\n",
      "49/49 [==============================] - 8s 166ms/step - loss: 0.2906 - accuracy: 0.9181 - val_loss: 0.2942 - val_accuracy: 0.9144\n",
      "Epoch 11/20\n",
      "49/49 [==============================] - 8s 166ms/step - loss: 0.2896 - accuracy: 0.9181 - val_loss: 0.2951 - val_accuracy: 0.9144\n",
      "Epoch 12/20\n",
      "49/49 [==============================] - 8s 163ms/step - loss: 0.2865 - accuracy: 0.9181 - val_loss: 0.2933 - val_accuracy: 0.9144\n",
      "Epoch 13/20\n",
      "49/49 [==============================] - 8s 164ms/step - loss: 0.2855 - accuracy: 0.9181 - val_loss: 0.2918 - val_accuracy: 0.9144\n",
      "Epoch 14/20\n",
      "49/49 [==============================] - 8s 167ms/step - loss: 0.2864 - accuracy: 0.9181 - val_loss: 0.2916 - val_accuracy: 0.9144\n",
      "Epoch 15/20\n",
      "49/49 [==============================] - 8s 171ms/step - loss: 0.2864 - accuracy: 0.9181 - val_loss: 0.2915 - val_accuracy: 0.9144\n",
      "Epoch 16/20\n",
      "49/49 [==============================] - 8s 166ms/step - loss: 0.2844 - accuracy: 0.9181 - val_loss: 0.2938 - val_accuracy: 0.9144\n",
      "Epoch 17/20\n",
      "49/49 [==============================] - 8s 163ms/step - loss: 0.2850 - accuracy: 0.9181 - val_loss: 0.2914 - val_accuracy: 0.9144\n",
      "Epoch 18/20\n",
      "49/49 [==============================] - 8s 164ms/step - loss: 0.2844 - accuracy: 0.9181 - val_loss: 0.2963 - val_accuracy: 0.9144\n",
      "Epoch 19/20\n",
      "49/49 [==============================] - 8s 164ms/step - loss: 0.2849 - accuracy: 0.9182 - val_loss: 0.2913 - val_accuracy: 0.9144\n",
      "Epoch 20/20\n",
      "49/49 [==============================] - 8s 165ms/step - loss: 0.2857 - accuracy: 0.9181 - val_loss: 0.2911 - val_accuracy: 0.9144\n"
     ]
    }
   ],
   "source": [
    "model.compile(optimizer=keras.optimizers.Adam(1e-4),loss=tf.losses.SparseCategoricalCrossentropy(), metrics=[\"accuracy\"])\n",
    "history=model.fit(X_train, y_train, validation_data=(X_validation, y_validation),epochs = 20, batch_size = 128, verbose = 1)\n"
   ]
  },
  {
   "cell_type": "code",
   "execution_count": 149,
   "id": "arranged-tumor",
   "metadata": {},
   "outputs": [],
   "source": [
    "from sklearn.metrics import confusion_matrix\n",
    "\n",
    "pred = model.predict(X_train)\n",
    "y_pred = [0 if y[0]>0.40 else 1 for y in pred]   #thereshold=50 y[0]>0.50"
   ]
  },
  {
   "cell_type": "code",
   "execution_count": 150,
   "id": "sought-parcel",
   "metadata": {},
   "outputs": [
    {
     "name": "stdout",
     "output_type": "stream",
     "text": [
      "Accuracy: 0.918073\n",
      "Precision: 0.916680\n",
      "Recall: 0.999820\n",
      "F1 score: 0.956447\n",
      "Cohens kappa: 0.288673\n",
      "ROC AUC: 0.592143\n",
      "[[ 114  504]\n",
      " [   1 5545]]\n"
     ]
    }
   ],
   "source": [
    "# demonstration of calculating metrics for a neural network model using sklearn\n",
    "from sklearn.datasets import make_circles\n",
    "from sklearn.metrics import accuracy_score\n",
    "from sklearn.metrics import precision_score\n",
    "from sklearn.metrics import recall_score\n",
    "from sklearn.metrics import f1_score\n",
    "from sklearn.metrics import cohen_kappa_score\n",
    "from sklearn.metrics import roc_auc_score\n",
    "from sklearn.metrics import confusion_matrix\n",
    "# accuracy: (tp + tn) / (p + n)\n",
    "accuracy = accuracy_score(y_train, y_pred)\n",
    "print('Accuracy: %f' % accuracy)\n",
    "# precision tp / (tp + fp)\n",
    "precision = precision_score(y_train, y_pred)\n",
    "print('Precision: %f' % precision)\n",
    "# recall: tp / (tp + fn)\n",
    "recall = recall_score(y_train, y_pred)\n",
    "print('Recall: %f' % recall)\n",
    "# f1: 2 tp / (2 tp + fp + fn)\n",
    "f1 = f1_score(y_train, y_pred)\n",
    "print('F1 score: %f' % f1)\n",
    "# kappa\n",
    "kappa = cohen_kappa_score(y_train, y_pred)\n",
    "print('Cohens kappa: %f' % kappa)\n",
    "# ROC AUC\n",
    "auc = roc_auc_score(y_train, y_pred)\n",
    "print('ROC AUC: %f' % auc)\n",
    "# confusion matrix\n",
    "matrix = confusion_matrix(y_train, y_pred)\n",
    "print(matrix)"
   ]
  },
  {
   "cell_type": "code",
   "execution_count": 188,
   "id": "unusual-karma",
   "metadata": {},
   "outputs": [],
   "source": [
    "# two sided model\n",
    "#from keras.layers.core import Input, Model\n",
    "from keras.layers import *\n",
    "from keras.models import *\n",
    "from keras.utils import *\n",
    "from keras.initializers import *\n",
    "import tensorflow as tf\n",
    "\n",
    "\n",
    "inputs = Input((129,259))\n",
    "\n",
    "side1 = Bidirectional(LSTM(100, return_sequences=True))(inputs) #200 total units\n",
    "side2 = Conv1D(200, kernel_size=3, activation = 'tanh', padding = 'same')(inputs) #same activation \n",
    "                                                                   #same length\n",
    "\n",
    "merged = Add()([side1, side2]) \n",
    "     #or Concatenate()([side1, side2]) if different number of units/channels/features\n",
    "\n",
    "outputs = Conv1D(200, kernel_size=3)(merged)\n",
    "outputs = GlobalMaxPooling1D()(outputs)\n",
    "outputs = Dense(100)(outputs)\n",
    "outputs = Dense(2, activation='sigmoid')(outputs)\n",
    "\n",
    "model = Model(inputs, outputs)"
   ]
  },
  {
   "cell_type": "code",
   "execution_count": 189,
   "id": "electoral-heritage",
   "metadata": {},
   "outputs": [
    {
     "name": "stdout",
     "output_type": "stream",
     "text": [
      "Model: \"model_2\"\n",
      "__________________________________________________________________________________________________\n",
      " Layer (type)                   Output Shape         Param #     Connected to                     \n",
      "==================================================================================================\n",
      " input_9 (InputLayer)           [(None, 129, 259)]   0           []                               \n",
      "                                                                                                  \n",
      " bidirectional_16 (Bidirectiona  (None, 129, 200)    288000      ['input_9[0][0]']                \n",
      " l)                                                                                               \n",
      "                                                                                                  \n",
      " conv1d_66 (Conv1D)             (None, 129, 200)     155600      ['input_9[0][0]']                \n",
      "                                                                                                  \n",
      " add_3 (Add)                    (None, 129, 200)     0           ['bidirectional_16[0][0]',       \n",
      "                                                                  'conv1d_66[0][0]']              \n",
      "                                                                                                  \n",
      " conv1d_67 (Conv1D)             (None, 127, 200)     120200      ['add_3[0][0]']                  \n",
      "                                                                                                  \n",
      " global_max_pooling1d_3 (Global  (None, 200)         0           ['conv1d_67[0][0]']              \n",
      " MaxPooling1D)                                                                                    \n",
      "                                                                                                  \n",
      " dense_68 (Dense)               (None, 100)          20100       ['global_max_pooling1d_3[0][0]'] \n",
      "                                                                                                  \n",
      " dense_69 (Dense)               (None, 2)            202         ['dense_68[0][0]']               \n",
      "                                                                                                  \n",
      "==================================================================================================\n",
      "Total params: 584,102\n",
      "Trainable params: 584,102\n",
      "Non-trainable params: 0\n",
      "__________________________________________________________________________________________________\n"
     ]
    }
   ],
   "source": [
    "model.summary()"
   ]
  },
  {
   "cell_type": "code",
   "execution_count": 158,
   "id": "rapid-turkey",
   "metadata": {},
   "outputs": [
    {
     "name": "stdout",
     "output_type": "stream",
     "text": [
      "Epoch 1/20\n",
      "49/49 [==============================] - 15s 264ms/step - loss: 0.9201 - accuracy: 0.8340 - val_loss: 0.4203 - val_accuracy: 0.8936\n",
      "Epoch 2/20\n",
      "49/49 [==============================] - 11s 223ms/step - loss: 0.3384 - accuracy: 0.8967 - val_loss: 0.3699 - val_accuracy: 0.8930\n",
      "Epoch 3/20\n",
      "49/49 [==============================] - 11s 226ms/step - loss: 0.3277 - accuracy: 0.8986 - val_loss: 0.3618 - val_accuracy: 0.8917\n",
      "Epoch 4/20\n",
      "49/49 [==============================] - 11s 231ms/step - loss: 0.3250 - accuracy: 0.8978 - val_loss: 0.3618 - val_accuracy: 0.8943\n",
      "Epoch 5/20\n",
      "49/49 [==============================] - 11s 234ms/step - loss: 0.3204 - accuracy: 0.8991 - val_loss: 0.3504 - val_accuracy: 0.8943\n",
      "Epoch 6/20\n",
      "49/49 [==============================] - 12s 236ms/step - loss: 0.3126 - accuracy: 0.8999 - val_loss: 0.3565 - val_accuracy: 0.8936\n",
      "Epoch 7/20\n",
      "49/49 [==============================] - 12s 238ms/step - loss: 0.3106 - accuracy: 0.9007 - val_loss: 0.3500 - val_accuracy: 0.8949\n",
      "Epoch 8/20\n",
      "49/49 [==============================] - 12s 242ms/step - loss: 0.3042 - accuracy: 0.9028 - val_loss: 0.3516 - val_accuracy: 0.8943\n",
      "Epoch 9/20\n",
      "49/49 [==============================] - 12s 236ms/step - loss: 0.3031 - accuracy: 0.9028 - val_loss: 0.3452 - val_accuracy: 0.8956\n",
      "Epoch 10/20\n",
      "49/49 [==============================] - 11s 234ms/step - loss: 0.2974 - accuracy: 0.9035 - val_loss: 0.3448 - val_accuracy: 0.8943\n",
      "Epoch 11/20\n",
      "49/49 [==============================] - 11s 231ms/step - loss: 0.2975 - accuracy: 0.9038 - val_loss: 0.3411 - val_accuracy: 0.8962\n",
      "Epoch 12/20\n",
      "49/49 [==============================] - 11s 234ms/step - loss: 0.2900 - accuracy: 0.9053 - val_loss: 0.3444 - val_accuracy: 0.8975\n",
      "Epoch 13/20\n",
      "49/49 [==============================] - 12s 249ms/step - loss: 0.2893 - accuracy: 0.9072 - val_loss: 0.3582 - val_accuracy: 0.9008\n",
      "Epoch 14/20\n",
      "49/49 [==============================] - 12s 253ms/step - loss: 0.2911 - accuracy: 0.9085 - val_loss: 0.3539 - val_accuracy: 0.9014\n",
      "Epoch 15/20\n",
      "49/49 [==============================] - 13s 259ms/step - loss: 0.2847 - accuracy: 0.9103 - val_loss: 0.3467 - val_accuracy: 0.8995\n",
      "Epoch 16/20\n",
      "49/49 [==============================] - 13s 276ms/step - loss: 0.2881 - accuracy: 0.9093 - val_loss: 0.3532 - val_accuracy: 0.9040\n",
      "Epoch 17/20\n",
      "49/49 [==============================] - 13s 262ms/step - loss: 0.2854 - accuracy: 0.9117 - val_loss: 0.3339 - val_accuracy: 0.9021\n",
      "Epoch 18/20\n",
      "49/49 [==============================] - 13s 257ms/step - loss: 0.2798 - accuracy: 0.9135 - val_loss: 0.3379 - val_accuracy: 0.9079\n",
      "Epoch 19/20\n",
      "49/49 [==============================] - 12s 245ms/step - loss: 0.2741 - accuracy: 0.9163 - val_loss: 0.3258 - val_accuracy: 0.9112\n",
      "Epoch 20/20\n",
      "49/49 [==============================] - 12s 247ms/step - loss: 0.2743 - accuracy: 0.9158 - val_loss: 0.3343 - val_accuracy: 0.9105\n"
     ]
    }
   ],
   "source": [
    "model.compile(optimizer=keras.optimizers.Adam(1e-4),loss=tf.losses.SparseCategoricalCrossentropy(), metrics=[\"accuracy\"])\n",
    "history=model.fit(X_train, y_train, validation_data=(X_validation, y_validation),epochs = 20, batch_size = 128, verbose = 1)\n"
   ]
  },
  {
   "cell_type": "code",
   "execution_count": 159,
   "id": "norwegian-apollo",
   "metadata": {},
   "outputs": [],
   "source": [
    "from sklearn.metrics import confusion_matrix\n",
    "\n",
    "pred = model.predict(X_train)\n",
    "y_pred = [0 if y[0]>0.40 else 1 for y in pred]   #thereshold=50 y[0]>0.50"
   ]
  },
  {
   "cell_type": "code",
   "execution_count": 161,
   "id": "false-valentine",
   "metadata": {},
   "outputs": [
    {
     "name": "stdout",
     "output_type": "stream",
     "text": [
      "Accuracy: 0.903958\n",
      "Precision: 0.903552\n",
      "Recall: 1.000000\n",
      "F1 score: 0.949332\n",
      "Cohens kappa: 0.073243\n",
      "ROC AUC: 0.521036\n",
      "[[  26  592]\n",
      " [   0 5546]]\n"
     ]
    }
   ],
   "source": [
    "from sklearn.datasets import make_circles\n",
    "from sklearn.metrics import accuracy_score\n",
    "from sklearn.metrics import precision_score\n",
    "from sklearn.metrics import recall_score\n",
    "from sklearn.metrics import f1_score\n",
    "from sklearn.metrics import cohen_kappa_score\n",
    "from sklearn.metrics import roc_auc_score\n",
    "from sklearn.metrics import confusion_matrix\n",
    "# accuracy: (tp + tn) / (p + n)\n",
    "accuracy = accuracy_score(y_train, y_pred)\n",
    "print('Accuracy: %f' % accuracy)\n",
    "# precision tp / (tp + fp)\n",
    "precision = precision_score(y_train, y_pred)\n",
    "print('Precision: %f' % precision)\n",
    "# recall: tp / (tp + fn)\n",
    "recall = recall_score(y_train, y_pred)\n",
    "print('Recall: %f' % recall)\n",
    "# f1: 2 tp / (2 tp + fp + fn)\n",
    "f1 = f1_score(y_train, y_pred)\n",
    "print('F1 score: %f' % f1)\n",
    "# kappa\n",
    "kappa = cohen_kappa_score(y_train, y_pred)\n",
    "print('Cohens kappa: %f' % kappa)\n",
    "# ROC AUC\n",
    "auc = roc_auc_score(y_train, y_pred)\n",
    "print('ROC AUC: %f' % auc)\n",
    "# confusion matrix\n",
    "matrix = confusion_matrix(y_train, y_pred)\n",
    "print(matrix)"
   ]
  },
  {
   "cell_type": "code",
   "execution_count": 162,
   "id": "brazilian-prime",
   "metadata": {},
   "outputs": [
    {
     "data": {
      "image/png": "[encoded data removed]",
      "text/plain": [
       "<Figure size 432x288 with 1 Axes>"
      ]
     },
     "metadata": {
      "needs_background": "light"
     },
     "output_type": "display_data"
    },
    {
     "data": {
      "image/png": "[encoded data removed]",
      "text/plain": [
       "<Figure size 432x288 with 1 Axes>"
      ]
     },
     "metadata": {
      "needs_background": "light"
     },
     "output_type": "display_data"
    }
   ],
   "source": [
    "# summarize history for accuracy\n",
    "plt.plot(history.history['accuracy'])\n",
    "plt.plot(history.history['val_accuracy'])\n",
    "plt.title('model accuracy')\n",
    "plt.ylabel('accuracy')\n",
    "plt.xlabel('epoch')\n",
    "plt.legend(['train', 'validation'], loc='upper left')\n",
    "plt.show()\n",
    "# summarize history for loss\n",
    "plt.plot(history.history['loss'])\n",
    "plt.plot(history.history['val_loss'][1:43])\n",
    "plt.title('model loss')\n",
    "plt.ylabel('loss')\n",
    "plt.xlabel('epoch')\n",
    "plt.legend(['train', 'validation'], loc='upper left')\n",
    "plt.show()\n"
   ]
  },
  {
   "cell_type": "code",
   "execution_count": 164,
   "id": "statutory-postcard",
   "metadata": {},
   "outputs": [
    {
     "ename": "ValueError",
     "evalue": "operands could not be broadcast together with shapes (6164,2) (6164,129,259) ",
     "output_type": "error",
     "traceback": [
      "\u001b[0;31m---------------------------------------------------------------------------\u001b[0m",
      "\u001b[0;31mValueError\u001b[0m                                Traceback (most recent call last)",
      "\u001b[0;32m<ipython-input-164-b896f0b18d37>\u001b[0m in \u001b[0;36m<module>\u001b[0;34m\u001b[0m\n\u001b[1;32m      1\u001b[0m \u001b[0;31m# Get train MAE loss.\u001b[0m\u001b[0;34m\u001b[0m\u001b[0;34m\u001b[0m\u001b[0;34m\u001b[0m\u001b[0m\n\u001b[1;32m      2\u001b[0m \u001b[0mpred\u001b[0m \u001b[0;34m=\u001b[0m \u001b[0mmodel\u001b[0m\u001b[0;34m.\u001b[0m\u001b[0mpredict\u001b[0m\u001b[0;34m(\u001b[0m\u001b[0mX_train\u001b[0m\u001b[0;34m)\u001b[0m\u001b[0;34m\u001b[0m\u001b[0;34m\u001b[0m\u001b[0m\n\u001b[0;32m----> 3\u001b[0;31m \u001b[0mtrain_mae_loss\u001b[0m \u001b[0;34m=\u001b[0m \u001b[0mnp\u001b[0m\u001b[0;34m.\u001b[0m\u001b[0mmean\u001b[0m\u001b[0;34m(\u001b[0m\u001b[0mnp\u001b[0m\u001b[0;34m.\u001b[0m\u001b[0mabs\u001b[0m\u001b[0;34m(\u001b[0m\u001b[0mpred\u001b[0m \u001b[0;34m-\u001b[0m \u001b[0mX_train\u001b[0m\u001b[0;34m)\u001b[0m\u001b[0;34m,\u001b[0m \u001b[0maxis\u001b[0m\u001b[0;34m=\u001b[0m\u001b[0;36m1\u001b[0m\u001b[0;34m)\u001b[0m\u001b[0;34m\u001b[0m\u001b[0;34m\u001b[0m\u001b[0m\n\u001b[0m\u001b[1;32m      4\u001b[0m \u001b[0;34m\u001b[0m\u001b[0m\n\u001b[1;32m      5\u001b[0m \u001b[0mplt\u001b[0m\u001b[0;34m.\u001b[0m\u001b[0mhist\u001b[0m\u001b[0;34m(\u001b[0m\u001b[0mtrain_mae_loss\u001b[0m\u001b[0;34m,\u001b[0m \u001b[0mbins\u001b[0m\u001b[0;34m=\u001b[0m\u001b[0;36m50\u001b[0m\u001b[0;34m)\u001b[0m\u001b[0;34m\u001b[0m\u001b[0;34m\u001b[0m\u001b[0m\n",
      "\u001b[0;31mValueError\u001b[0m: operands could not be broadcast together with shapes (6164,2) (6164,129,259) "
     ]
    }
   ],
   "source": [
    "# Get train MAE loss.\n",
    "pred = model.predict(X_train)\n",
    "train_mae_loss = np.mean(np.abs(pred - X_train), axis=1)\n",
    "\n",
    "plt.hist(train_mae_loss, bins=50)\n",
    "plt.xlabel(\"Train MAE loss\")\n",
    "plt.ylabel(\"No of samples\")\n",
    "plt.show()\n",
    "\n",
    "# Get reconstruction loss threshold.\n",
    "threshold = np.max(train_mae_loss)\n",
    "print(\"Reconstruction error threshold: \", threshold)"
   ]
  },
  {
   "cell_type": "code",
   "execution_count": 167,
   "id": "affiliated-disabled",
   "metadata": {},
   "outputs": [],
   "source": [
    "#test\n",
    "pred = model.predict(X_test)\n",
    "y_pred = [0 if y[0]>y[1] else 1 for y in pred]"
   ]
  },
  {
   "cell_type": "code",
   "execution_count": 168,
   "id": "fifteen-astrology",
   "metadata": {},
   "outputs": [
    {
     "name": "stdout",
     "output_type": "stream",
     "text": [
      "Accuracy: 0.898287\n",
      "Precision: 0.897059\n",
      "Recall: 1.000000\n",
      "F1 score: 0.945736\n",
      "Cohens kappa: 0.172200\n",
      "ROC AUC: 0.552511\n",
      "[[  23  196]\n",
      " [   0 1708]]\n"
     ]
    }
   ],
   "source": [
    "#test\n",
    "\n",
    "from sklearn.datasets import make_circles\n",
    "from sklearn.metrics import accuracy_score\n",
    "from sklearn.metrics import precision_score\n",
    "from sklearn.metrics import recall_score\n",
    "from sklearn.metrics import f1_score\n",
    "from sklearn.metrics import cohen_kappa_score\n",
    "from sklearn.metrics import roc_auc_score\n",
    "from sklearn.metrics import confusion_matrix\n",
    "# accuracy: (tp + tn) / (p + n)\n",
    "accuracy = accuracy_score(y_test, y_pred)\n",
    "print('Accuracy: %f' % accuracy)\n",
    "# precision tp / (tp + fp)\n",
    "precision = precision_score(y_test, y_pred)\n",
    "print('Precision: %f' % precision)\n",
    "# recall: tp / (tp + fn)\n",
    "recall = recall_score(y_test, y_pred)\n",
    "print('Recall: %f' % recall)\n",
    "# f1: 2 tp / (2 tp + fp + fn)\n",
    "f1 = f1_score(y_test, y_pred)\n",
    "print('F1 score: %f' % f1)\n",
    "# kappa\n",
    "kappa = cohen_kappa_score(y_test, y_pred)\n",
    "print('Cohens kappa: %f' % kappa)\n",
    "# ROC AUC\n",
    "auc = roc_auc_score(y_test, y_pred)\n",
    "print('ROC AUC: %f' % auc)\n",
    "# confusion matrix\n",
    "matrix = confusion_matrix(y_test, y_pred)\n",
    "print(matrix)"
   ]
  },
  {
   "cell_type": "code",
   "execution_count": 174,
   "id": "apart-element",
   "metadata": {},
   "outputs": [
    {
     "ename": "ValueError",
     "evalue": "Input 0 of layer \"conv1d_63\" is incompatible with the layer: expected min_ndim=3, found ndim=2. Full shape received: (None, 20)",
     "output_type": "error",
     "traceback": [
      "\u001b[0;31m---------------------------------------------------------------------------\u001b[0m",
      "\u001b[0;31mValueError\u001b[0m                                Traceback (most recent call last)",
      "\u001b[0;32m<ipython-input-174-239649f820bc>\u001b[0m in \u001b[0;36m<module>\u001b[0;34m\u001b[0m\n\u001b[1;32m      3\u001b[0m \u001b[0mmodel\u001b[0m \u001b[0;34m=\u001b[0m \u001b[0mSequential\u001b[0m\u001b[0;34m(\u001b[0m\u001b[0;34m)\u001b[0m\u001b[0;34m\u001b[0m\u001b[0;34m\u001b[0m\u001b[0m\n\u001b[1;32m      4\u001b[0m \u001b[0mmodel\u001b[0m\u001b[0;34m.\u001b[0m\u001b[0madd\u001b[0m\u001b[0;34m(\u001b[0m\u001b[0mLSTM\u001b[0m\u001b[0;34m(\u001b[0m\u001b[0;36m20\u001b[0m\u001b[0;34m,\u001b[0m \u001b[0minput_shape\u001b[0m\u001b[0;34m=\u001b[0m\u001b[0;34m(\u001b[0m\u001b[0;36m129\u001b[0m\u001b[0;34m,\u001b[0m \u001b[0;36m259\u001b[0m\u001b[0;34m)\u001b[0m\u001b[0;34m)\u001b[0m\u001b[0;34m)\u001b[0m\u001b[0;34m\u001b[0m\u001b[0;34m\u001b[0m\u001b[0m\n\u001b[0;32m----> 5\u001b[0;31m \u001b[0mmodel\u001b[0m\u001b[0;34m.\u001b[0m\u001b[0madd\u001b[0m\u001b[0;34m(\u001b[0m\u001b[0mConv1D\u001b[0m\u001b[0;34m(\u001b[0m\u001b[0;36m200\u001b[0m\u001b[0;34m,\u001b[0m \u001b[0mkernel_size\u001b[0m\u001b[0;34m=\u001b[0m\u001b[0;36m3\u001b[0m\u001b[0;34m,\u001b[0m \u001b[0mactivation\u001b[0m \u001b[0;34m=\u001b[0m \u001b[0;34m'relu'\u001b[0m\u001b[0;34m)\u001b[0m\u001b[0;34m)\u001b[0m\u001b[0;34m\u001b[0m\u001b[0;34m\u001b[0m\u001b[0m\n\u001b[0m\u001b[1;32m      6\u001b[0m \u001b[0mmodel\u001b[0m\u001b[0;34m.\u001b[0m\u001b[0madd\u001b[0m\u001b[0;34m(\u001b[0m\u001b[0mGlobalMaxPooling1D\u001b[0m\u001b[0;34m(\u001b[0m\u001b[0;34m)\u001b[0m\u001b[0;34m)\u001b[0m\u001b[0;34m\u001b[0m\u001b[0;34m\u001b[0m\u001b[0m\n\u001b[1;32m      7\u001b[0m \u001b[0mmodel\u001b[0m\u001b[0;34m.\u001b[0m\u001b[0madd\u001b[0m\u001b[0;34m(\u001b[0m\u001b[0mDropout\u001b[0m\u001b[0;34m(\u001b[0m\u001b[0mrate\u001b[0m\u001b[0;34m=\u001b[0m\u001b[0;36m0.2\u001b[0m\u001b[0;34m)\u001b[0m\u001b[0;34m)\u001b[0m\u001b[0;34m\u001b[0m\u001b[0;34m\u001b[0m\u001b[0m\n",
      "\u001b[0;32m~/opt/miniconda3/lib/python3.8/site-packages/tensorflow/python/training/tracking/base.py\u001b[0m in \u001b[0;36m_method_wrapper\u001b[0;34m(self, *args, **kwargs)\u001b[0m\n\u001b[1;32m    627\u001b[0m     \u001b[0mself\u001b[0m\u001b[0;34m.\u001b[0m\u001b[0m_self_setattr_tracking\u001b[0m \u001b[0;34m=\u001b[0m \u001b[0;32mFalse\u001b[0m  \u001b[0;31m# pylint: disable=protected-access\u001b[0m\u001b[0;34m\u001b[0m\u001b[0;34m\u001b[0m\u001b[0m\n\u001b[1;32m    628\u001b[0m     \u001b[0;32mtry\u001b[0m\u001b[0;34m:\u001b[0m\u001b[0;34m\u001b[0m\u001b[0;34m\u001b[0m\u001b[0m\n\u001b[0;32m--> 629\u001b[0;31m       \u001b[0mresult\u001b[0m \u001b[0;34m=\u001b[0m \u001b[0mmethod\u001b[0m\u001b[0;34m(\u001b[0m\u001b[0mself\u001b[0m\u001b[0;34m,\u001b[0m \u001b[0;34m*\u001b[0m\u001b[0margs\u001b[0m\u001b[0;34m,\u001b[0m \u001b[0;34m**\u001b[0m\u001b[0mkwargs\u001b[0m\u001b[0;34m)\u001b[0m\u001b[0;34m\u001b[0m\u001b[0;34m\u001b[0m\u001b[0m\n\u001b[0m\u001b[1;32m    630\u001b[0m     \u001b[0;32mfinally\u001b[0m\u001b[0;34m:\u001b[0m\u001b[0;34m\u001b[0m\u001b[0;34m\u001b[0m\u001b[0m\n\u001b[1;32m    631\u001b[0m       \u001b[0mself\u001b[0m\u001b[0;34m.\u001b[0m\u001b[0m_self_setattr_tracking\u001b[0m \u001b[0;34m=\u001b[0m \u001b[0mprevious_value\u001b[0m  \u001b[0;31m# pylint: disable=protected-access\u001b[0m\u001b[0;34m\u001b[0m\u001b[0;34m\u001b[0m\u001b[0m\n",
      "\u001b[0;32m~/opt/miniconda3/lib/python3.8/site-packages/keras/utils/traceback_utils.py\u001b[0m in \u001b[0;36merror_handler\u001b[0;34m(*args, **kwargs)\u001b[0m\n\u001b[1;32m     65\u001b[0m     \u001b[0;32mexcept\u001b[0m \u001b[0mException\u001b[0m \u001b[0;32mas\u001b[0m \u001b[0me\u001b[0m\u001b[0;34m:\u001b[0m  \u001b[0;31m# pylint: disable=broad-except\u001b[0m\u001b[0;34m\u001b[0m\u001b[0;34m\u001b[0m\u001b[0m\n\u001b[1;32m     66\u001b[0m       \u001b[0mfiltered_tb\u001b[0m \u001b[0;34m=\u001b[0m \u001b[0m_process_traceback_frames\u001b[0m\u001b[0;34m(\u001b[0m\u001b[0me\u001b[0m\u001b[0;34m.\u001b[0m\u001b[0m__traceback__\u001b[0m\u001b[0;34m)\u001b[0m\u001b[0;34m\u001b[0m\u001b[0;34m\u001b[0m\u001b[0m\n\u001b[0;32m---> 67\u001b[0;31m       \u001b[0;32mraise\u001b[0m \u001b[0me\u001b[0m\u001b[0;34m.\u001b[0m\u001b[0mwith_traceback\u001b[0m\u001b[0;34m(\u001b[0m\u001b[0mfiltered_tb\u001b[0m\u001b[0;34m)\u001b[0m \u001b[0;32mfrom\u001b[0m \u001b[0;32mNone\u001b[0m\u001b[0;34m\u001b[0m\u001b[0;34m\u001b[0m\u001b[0m\n\u001b[0m\u001b[1;32m     68\u001b[0m     \u001b[0;32mfinally\u001b[0m\u001b[0;34m:\u001b[0m\u001b[0;34m\u001b[0m\u001b[0;34m\u001b[0m\u001b[0m\n\u001b[1;32m     69\u001b[0m       \u001b[0;32mdel\u001b[0m \u001b[0mfiltered_tb\u001b[0m\u001b[0;34m\u001b[0m\u001b[0;34m\u001b[0m\u001b[0m\n",
      "\u001b[0;32m~/opt/miniconda3/lib/python3.8/site-packages/keras/engine/input_spec.py\u001b[0m in \u001b[0;36massert_input_compatibility\u001b[0;34m(input_spec, inputs, layer_name)\u001b[0m\n\u001b[1;32m    226\u001b[0m       \u001b[0mndim\u001b[0m \u001b[0;34m=\u001b[0m \u001b[0mx\u001b[0m\u001b[0;34m.\u001b[0m\u001b[0mshape\u001b[0m\u001b[0;34m.\u001b[0m\u001b[0mrank\u001b[0m\u001b[0;34m\u001b[0m\u001b[0;34m\u001b[0m\u001b[0m\n\u001b[1;32m    227\u001b[0m       \u001b[0;32mif\u001b[0m \u001b[0mndim\u001b[0m \u001b[0;32mis\u001b[0m \u001b[0;32mnot\u001b[0m \u001b[0;32mNone\u001b[0m \u001b[0;32mand\u001b[0m \u001b[0mndim\u001b[0m \u001b[0;34m<\u001b[0m \u001b[0mspec\u001b[0m\u001b[0;34m.\u001b[0m\u001b[0mmin_ndim\u001b[0m\u001b[0;34m:\u001b[0m\u001b[0;34m\u001b[0m\u001b[0;34m\u001b[0m\u001b[0m\n\u001b[0;32m--> 228\u001b[0;31m         raise ValueError(f'Input {input_index} of layer \"{layer_name}\" '\n\u001b[0m\u001b[1;32m    229\u001b[0m                          \u001b[0;34m'is incompatible with the layer: '\u001b[0m\u001b[0;34m\u001b[0m\u001b[0;34m\u001b[0m\u001b[0m\n\u001b[1;32m    230\u001b[0m                          \u001b[0;34mf'expected min_ndim={spec.min_ndim}, '\u001b[0m\u001b[0;34m\u001b[0m\u001b[0;34m\u001b[0m\u001b[0m\n",
      "\u001b[0;31mValueError\u001b[0m: Input 0 of layer \"conv1d_63\" is incompatible with the layer: expected min_ndim=3, found ndim=2. Full shape received: (None, 20)"
     ]
    }
   ],
   "source": [
    "#linear \n",
    "\n",
    "model = Sequential()\n",
    "model.add(LSTM(20, input_shape=(129, 259)))\n",
    "model.add(Conv1D(200, kernel_size=3, activation = 'relu'))\n",
    "model.add(GlobalMaxPooling1D())\n",
    "model.add(Dropout(rate=0.2))\n",
    "model.add(RepeatVector(129)) \n",
    "model.add(LSTM(20, return_sequences=True))\n",
    "#model.add(Dense(2, activation = \"linear\"))\n",
    "model.add(Dropout(rate=0.2))\n",
    "model.add(TimeDistributed(Dense(129))) #applies a specific layer such as Dense to every sample it receives as an input. \n",
    "model.add(LSTM(20, input_shape=(129,259)))\n",
    "model.add(Conv1D(200, kernel_size=3, activation = 'relu'))\n",
    "model.add(GlobalMaxPooling1D())\n",
    "\n",
    "model.add(Dense(2, activation = \"softmax\"))\n",
    "model.summary()"
   ]
  },
  {
   "cell_type": "code",
   "execution_count": 178,
   "id": "exposed-benchmark",
   "metadata": {},
   "outputs": [
    {
     "name": "stdout",
     "output_type": "stream",
     "text": [
      "Epoch 1/20\n",
      "49/49 [==============================] - 14s 240ms/step - loss: 0.4898 - accuracy: 0.8741 - mean_squared_error: 0.3455 - val_loss: 0.3654 - val_accuracy: 0.8943 - val_mean_squared_error: 0.2883\n",
      "Epoch 2/20\n",
      "49/49 [==============================] - 11s 229ms/step - loss: 0.3433 - accuracy: 0.8999 - mean_squared_error: 0.2770 - val_loss: 0.3570 - val_accuracy: 0.8949 - val_mean_squared_error: 0.2553\n",
      "Epoch 3/20\n",
      "49/49 [==============================] - 12s 236ms/step - loss: 0.3326 - accuracy: 0.8993 - mean_squared_error: 0.2364 - val_loss: 0.3674 - val_accuracy: 0.8943 - val_mean_squared_error: 0.2532\n",
      "Epoch 4/20\n",
      "49/49 [==============================] - 12s 240ms/step - loss: 0.3276 - accuracy: 0.8986 - mean_squared_error: 0.2308 - val_loss: 0.3592 - val_accuracy: 0.8943 - val_mean_squared_error: 0.2381\n",
      "Epoch 5/20\n",
      "49/49 [==============================] - 12s 240ms/step - loss: 0.3111 - accuracy: 0.9001 - mean_squared_error: 0.2445 - val_loss: 0.3579 - val_accuracy: 0.8943 - val_mean_squared_error: 0.3049\n",
      "Epoch 6/20\n",
      "49/49 [==============================] - 12s 243ms/step - loss: 0.3144 - accuracy: 0.9002 - mean_squared_error: 0.2866 - val_loss: 0.3567 - val_accuracy: 0.8943 - val_mean_squared_error: 0.2998\n",
      "Epoch 7/20\n",
      "49/49 [==============================] - 12s 244ms/step - loss: 0.3027 - accuracy: 0.9014 - mean_squared_error: 0.2592 - val_loss: 0.3427 - val_accuracy: 0.8936 - val_mean_squared_error: 0.2758\n",
      "Epoch 8/20\n",
      "49/49 [==============================] - 12s 245ms/step - loss: 0.3016 - accuracy: 0.9020 - mean_squared_error: 0.2863 - val_loss: 0.3352 - val_accuracy: 0.8936 - val_mean_squared_error: 0.2964\n",
      "Epoch 9/20\n",
      "49/49 [==============================] - 12s 246ms/step - loss: 0.3038 - accuracy: 0.9018 - mean_squared_error: 0.2750 - val_loss: 0.3464 - val_accuracy: 0.8943 - val_mean_squared_error: 0.2996\n",
      "Epoch 10/20\n",
      "49/49 [==============================] - 12s 237ms/step - loss: 0.3038 - accuracy: 0.9025 - mean_squared_error: 0.2807 - val_loss: 0.3433 - val_accuracy: 0.8943 - val_mean_squared_error: 0.2870\n",
      "Epoch 11/20\n",
      "49/49 [==============================] - 12s 242ms/step - loss: 0.2958 - accuracy: 0.9061 - mean_squared_error: 0.2658 - val_loss: 0.3445 - val_accuracy: 0.8943 - val_mean_squared_error: 0.2736\n",
      "Epoch 12/20\n",
      "49/49 [==============================] - 13s 263ms/step - loss: 0.3005 - accuracy: 0.9075 - mean_squared_error: 0.2665 - val_loss: 0.3310 - val_accuracy: 0.8969 - val_mean_squared_error: 0.2466\n",
      "Epoch 13/20\n",
      "49/49 [==============================] - 13s 262ms/step - loss: 0.2838 - accuracy: 0.9091 - mean_squared_error: 0.2479 - val_loss: 0.3301 - val_accuracy: 0.9001 - val_mean_squared_error: 0.2653\n",
      "Epoch 14/20\n",
      "49/49 [==============================] - 13s 257ms/step - loss: 0.2871 - accuracy: 0.9122 - mean_squared_error: 0.2711 - val_loss: 0.3344 - val_accuracy: 0.8988 - val_mean_squared_error: 0.3070\n",
      "Epoch 15/20\n",
      "49/49 [==============================] - 12s 253ms/step - loss: 0.2824 - accuracy: 0.9130 - mean_squared_error: 0.2773 - val_loss: 0.3269 - val_accuracy: 0.9034 - val_mean_squared_error: 0.2786\n",
      "Epoch 16/20\n",
      "49/49 [==============================] - 12s 251ms/step - loss: 0.2778 - accuracy: 0.9155 - mean_squared_error: 0.2611 - val_loss: 0.3146 - val_accuracy: 0.9118 - val_mean_squared_error: 0.2556\n",
      "Epoch 17/20\n",
      "49/49 [==============================] - 13s 256ms/step - loss: 0.2738 - accuracy: 0.9176 - mean_squared_error: 0.2634 - val_loss: 0.3187 - val_accuracy: 0.9112 - val_mean_squared_error: 0.2719\n",
      "Epoch 18/20\n",
      "49/49 [==============================] - 13s 257ms/step - loss: 0.2735 - accuracy: 0.9181 - mean_squared_error: 0.2657 - val_loss: 0.3096 - val_accuracy: 0.9131 - val_mean_squared_error: 0.2851\n",
      "Epoch 19/20\n",
      "49/49 [==============================] - 13s 260ms/step - loss: 0.2691 - accuracy: 0.9174 - mean_squared_error: 0.2817 - val_loss: 0.3121 - val_accuracy: 0.9137 - val_mean_squared_error: 0.2706\n",
      "Epoch 20/20\n",
      "49/49 [==============================] - 12s 255ms/step - loss: 0.2662 - accuracy: 0.9179 - mean_squared_error: 0.2762 - val_loss: 0.3119 - val_accuracy: 0.9137 - val_mean_squared_error: 0.2945\n"
     ]
    }
   ],
   "source": [
    "model.compile(optimizer=keras.optimizers.Adam(1e-4),loss=tf.losses.SparseCategoricalCrossentropy(), metrics=[\"accuracy\", \"MeanSquaredError\"])\n",
    "history=model.fit(X_train, y_train, validation_data=(X_validation, y_validation),epochs = 20, batch_size = 128, verbose = 1)\n"
   ]
  },
  {
   "cell_type": "code",
   "execution_count": 179,
   "id": "annual-vegetation",
   "metadata": {},
   "outputs": [
    {
     "data": {
      "image/png": "[encoded data removed]",
      "text/plain": [
       "<Figure size 432x288 with 1 Axes>"
      ]
     },
     "metadata": {
      "needs_background": "light"
     },
     "output_type": "display_data"
    }
   ],
   "source": [
    "# summarize history for mse\n",
    "plt.plot(history.history['mean_squared_error'])\n",
    "plt.plot(history.history['val_mean_squared_error'])\n",
    "plt.title('model mse')\n",
    "plt.ylabel('mse')\n",
    "plt.xlabel('epoch')\n",
    "plt.legend(['train', 'validation'], loc='upper left')\n",
    "plt.show()"
   ]
  },
  {
   "cell_type": "code",
   "execution_count": 183,
   "id": "international-terminal",
   "metadata": {},
   "outputs": [
    {
     "data": {
      "image/png": "[encoded data removed]",
      "text/plain": [
       "<Figure size 432x288 with 1 Axes>"
      ]
     },
     "metadata": {
      "needs_background": "light"
     },
     "output_type": "display_data"
    }
   ],
   "source": [
    "import matplotlib.pyplot \n",
    "\n",
    "plt.plot(history.history['mean_squared_error'])\n",
    "plt.show()\n"
   ]
  },
  {
   "cell_type": "code",
   "execution_count": 187,
   "id": "dense-means",
   "metadata": {},
   "outputs": [
    {
     "data": {
      "image/png": "[encoded data removed]",
      "text/plain": [
       "<Figure size 720x504 with 1 Axes>"
      ]
     },
     "metadata": {
      "needs_background": "light"
     },
     "output_type": "display_data"
    }
   ],
   "source": [
    "from matplotlib import pyplot as plt\n",
    "import numpy as np\n",
    " \n",
    " \n",
    "# Creating dataset\n",
    "\n",
    " \n",
    "# Creating histogram\n",
    "fig, ax = plt.subplots(figsize =(10, 7))\n",
    "ax.hist(history.history[\"mean_squared_error\"], bins = 150)\n",
    " \n",
    "# Show plot\n",
    "plt.show()"
   ]
  },
  {
   "cell_type": "code",
   "execution_count": 191,
   "id": "approximate-primary",
   "metadata": {},
   "outputs": [],
   "source": [
    "# two sided model\n",
    "#from keras.layers.core import Input, Model\n",
    "from keras.layers import *\n",
    "from keras.models import *\n",
    "from keras.utils import *\n",
    "from keras.initializers import *\n",
    "import tensorflow as tf\n",
    "\n",
    "\n",
    "inputs = Input((129,259))\n",
    "\n",
    "side1 = Bidirectional(LSTM(100, return_sequences=True))(inputs) #200 total units\n",
    "side2 = Conv1D(200, kernel_size=3, activation = 'tanh', padding = 'same', kernel_regularizer='l2')(inputs) #same activation \n",
    "                                                                   #same length\n",
    "\n",
    "merged = Add()([side1, side2]) \n",
    "     #or Concatenate()([side1, side2]) if different number of units/channels/features\n",
    "\n",
    "outputs = Conv1D(200, kernel_size=3, kernel_regularizer='l2')(merged)\n",
    "outputs = GlobalMaxPooling1D()(outputs)\n",
    "outputs = Dense(100, kernel_regularizer='l2')(outputs)\n",
    "outputs = Dense(2, activation='sigmoid')(outputs)\n",
    "\n",
    "model = Model(inputs, outputs)"
   ]
  },
  {
   "cell_type": "code",
   "execution_count": 190,
   "id": "signed-election",
   "metadata": {},
   "outputs": [
    {
     "name": "stdout",
     "output_type": "stream",
     "text": [
      "Epoch 1/20\n",
      "49/49 [==============================] - 15s 248ms/step - loss: 5.9836 - accuracy: 0.8874 - mean_squared_error: 0.3821 - val_loss: 5.8181 - val_accuracy: 0.8930 - val_mean_squared_error: 0.3612\n",
      "Epoch 2/20\n",
      "49/49 [==============================] - 11s 234ms/step - loss: 5.7137 - accuracy: 0.8991 - mean_squared_error: 0.3685 - val_loss: 5.6711 - val_accuracy: 0.8917 - val_mean_squared_error: 0.3906\n",
      "Epoch 3/20\n",
      "49/49 [==============================] - 11s 233ms/step - loss: 5.5517 - accuracy: 0.9009 - mean_squared_error: 0.3881 - val_loss: 5.5121 - val_accuracy: 0.8949 - val_mean_squared_error: 0.4027\n",
      "Epoch 4/20\n",
      "49/49 [==============================] - 12s 240ms/step - loss: 5.3932 - accuracy: 0.9012 - mean_squared_error: 0.4254 - val_loss: 5.3695 - val_accuracy: 0.8949 - val_mean_squared_error: 0.4428\n",
      "Epoch 5/20\n",
      "49/49 [==============================] - 12s 249ms/step - loss: 5.2466 - accuracy: 0.9038 - mean_squared_error: 0.4446 - val_loss: 5.2163 - val_accuracy: 0.8962 - val_mean_squared_error: 0.4399\n",
      "Epoch 6/20\n",
      "49/49 [==============================] - 12s 246ms/step - loss: 5.1018 - accuracy: 0.9033 - mean_squared_error: 0.4406 - val_loss: 5.0909 - val_accuracy: 0.8975 - val_mean_squared_error: 0.4674\n",
      "Epoch 7/20\n",
      "49/49 [==============================] - 12s 253ms/step - loss: 4.9671 - accuracy: 0.9054 - mean_squared_error: 0.4623 - val_loss: 4.9538 - val_accuracy: 0.8962 - val_mean_squared_error: 0.4730\n",
      "Epoch 8/20\n",
      "49/49 [==============================] - 12s 253ms/step - loss: 4.8379 - accuracy: 0.9083 - mean_squared_error: 0.4640 - val_loss: 4.8231 - val_accuracy: 0.8969 - val_mean_squared_error: 0.4716\n",
      "Epoch 9/20\n",
      "49/49 [==============================] - 12s 251ms/step - loss: 4.7159 - accuracy: 0.9087 - mean_squared_error: 0.4725 - val_loss: 4.7227 - val_accuracy: 0.8956 - val_mean_squared_error: 0.4784\n",
      "Epoch 10/20\n",
      "49/49 [==============================] - 12s 252ms/step - loss: 4.6048 - accuracy: 0.9109 - mean_squared_error: 0.4831 - val_loss: 4.6180 - val_accuracy: 0.8956 - val_mean_squared_error: 0.4681\n",
      "Epoch 11/20\n",
      "49/49 [==============================] - 13s 270ms/step - loss: 4.4985 - accuracy: 0.9101 - mean_squared_error: 0.4751 - val_loss: 4.4851 - val_accuracy: 0.9040 - val_mean_squared_error: 0.4814\n",
      "Epoch 12/20\n",
      "49/49 [==============================] - 12s 251ms/step - loss: 4.3870 - accuracy: 0.9140 - mean_squared_error: 0.5040 - val_loss: 4.3800 - val_accuracy: 0.9066 - val_mean_squared_error: 0.4988\n",
      "Epoch 13/20\n",
      "49/49 [==============================] - 13s 260ms/step - loss: 4.2882 - accuracy: 0.9147 - mean_squared_error: 0.4963 - val_loss: 4.2888 - val_accuracy: 0.9053 - val_mean_squared_error: 0.5019\n",
      "Epoch 14/20\n",
      "49/49 [==============================] - 14s 279ms/step - loss: 4.1935 - accuracy: 0.9143 - mean_squared_error: 0.4941 - val_loss: 4.1987 - val_accuracy: 0.9053 - val_mean_squared_error: 0.4830\n",
      "Epoch 15/20\n",
      "49/49 [==============================] - 14s 289ms/step - loss: 4.1047 - accuracy: 0.9152 - mean_squared_error: 0.4893 - val_loss: 4.0993 - val_accuracy: 0.9125 - val_mean_squared_error: 0.4865\n",
      "Epoch 16/20\n",
      "49/49 [==============================] - 14s 290ms/step - loss: 4.0191 - accuracy: 0.9163 - mean_squared_error: 0.4911 - val_loss: 4.0172 - val_accuracy: 0.9144 - val_mean_squared_error: 0.4969\n",
      "Epoch 17/20\n",
      "49/49 [==============================] - 15s 297ms/step - loss: 3.9303 - accuracy: 0.9173 - mean_squared_error: 0.4840 - val_loss: 3.9525 - val_accuracy: 0.9118 - val_mean_squared_error: 0.4629\n",
      "Epoch 18/20\n",
      "49/49 [==============================] - 15s 300ms/step - loss: 3.8581 - accuracy: 0.9173 - mean_squared_error: 0.4653 - val_loss: 3.8604 - val_accuracy: 0.9137 - val_mean_squared_error: 0.4683\n",
      "Epoch 19/20\n",
      "49/49 [==============================] - 15s 300ms/step - loss: 3.7698 - accuracy: 0.9181 - mean_squared_error: 0.4573 - val_loss: 3.7805 - val_accuracy: 0.9144 - val_mean_squared_error: 0.4475\n",
      "Epoch 20/20\n",
      "49/49 [==============================] - 14s 293ms/step - loss: 3.7000 - accuracy: 0.9177 - mean_squared_error: 0.4467 - val_loss: 3.7376 - val_accuracy: 0.9112 - val_mean_squared_error: 0.4536\n"
     ]
    }
   ],
   "source": [
    "#l2 regularize\n",
    "\n",
    "model.compile(optimizer=keras.optimizers.Adam(1e-4),loss=tf.losses.SparseCategoricalCrossentropy(), metrics=[\"accuracy\", \"MeanSquaredError\"])\n",
    "history=model.fit(X_train, y_train, validation_data=(X_validation, y_validation),epochs = 20, batch_size = 128, verbose = 1)\n"
   ]
  },
  {
   "cell_type": "code",
   "execution_count": 192,
   "id": "biblical-canal",
   "metadata": {},
   "outputs": [],
   "source": [
    "#test\n",
    "pred = model.predict(X_test)\n",
    "y_pred = [0 if y[0]>y[1] else 1 for y in pred]"
   ]
  },
  {
   "cell_type": "code",
   "execution_count": 193,
   "id": "amino-scenario",
   "metadata": {},
   "outputs": [
    {
     "name": "stdout",
     "output_type": "stream",
     "text": [
      "Accuracy: 0.854177\n",
      "Precision: 0.886302\n",
      "Recall: 0.958431\n",
      "F1 score: 0.920956\n",
      "Cohens kappa: -0.000654\n",
      "ROC AUC: 0.499763\n",
      "[[   9  210]\n",
      " [  71 1637]]\n"
     ]
    }
   ],
   "source": [
    "from sklearn.metrics import accuracy_score\n",
    "from sklearn.metrics import precision_score\n",
    "from sklearn.metrics import recall_score\n",
    "from sklearn.metrics import f1_score\n",
    "from sklearn.metrics import cohen_kappa_score\n",
    "from sklearn.metrics import roc_auc_score\n",
    "from sklearn.metrics import confusion_matrix\n",
    "# accuracy: (tp + tn) / (p + n)\n",
    "accuracy = accuracy_score(y_test, y_pred)\n",
    "print('Accuracy: %f' % accuracy)\n",
    "# precision tp / (tp + fp)\n",
    "precision = precision_score(y_test, y_pred)\n",
    "print('Precision: %f' % precision)\n",
    "# recall: tp / (tp + fn)\n",
    "recall = recall_score(y_test, y_pred)\n",
    "print('Recall: %f' % recall)\n",
    "# f1: 2 tp / (2 tp + fp + fn)\n",
    "f1 = f1_score(y_test, y_pred)\n",
    "print('F1 score: %f' % f1)\n",
    "# kappa\n",
    "kappa = cohen_kappa_score(y_test, y_pred)\n",
    "print('Cohens kappa: %f' % kappa)\n",
    "# ROC AUC\n",
    "auc = roc_auc_score(y_test, y_pred)\n",
    "print('ROC AUC: %f' % auc)\n",
    "# confusion matrix\n",
    "matrix = confusion_matrix(y_test, y_pred)\n",
    "print(matrix)"
   ]
  },
  {
   "cell_type": "code",
   "execution_count": 195,
   "id": "positive-nature",
   "metadata": {},
   "outputs": [
    {
     "name": "stdout",
     "output_type": "stream",
     "text": [
      "Model: \"sequential_65\"\n",
      "_________________________________________________________________\n",
      " Layer (type)                Output Shape              Param #   \n",
      "=================================================================\n",
      " embedding_1 (Embedding)     (None, None, 259)         33411     \n",
      "                                                                 \n",
      " dropout_26 (Dropout)        (None, None, 259)         0         \n",
      "                                                                 \n",
      " lstm_64 (LSTM)              (None, 100)               144000    \n",
      "                                                                 \n",
      " dropout_27 (Dropout)        (None, 100)               0         \n",
      "                                                                 \n",
      " dense_74 (Dense)            (None, 64)                6464      \n",
      "                                                                 \n",
      " dropout_28 (Dropout)        (None, 64)                0         \n",
      "                                                                 \n",
      " dense_75 (Dense)            (None, 2)                 130       \n",
      "                                                                 \n",
      "=================================================================\n",
      "Total params: 184,005\n",
      "Trainable params: 184,005\n",
      "Non-trainable params: 0\n",
      "_________________________________________________________________\n"
     ]
    }
   ],
   "source": [
    "# Building an LSTM Model with an embedding layer #\n",
    "model = Sequential()\n",
    "model.add(Embedding(129, 259))  # 40 : dimension of each vector, input_length : sentence length\n",
    "model.add(Dropout(0.3))\n",
    "model.add(LSTM(100))  # 100 memory cells / Neurons \n",
    "model.add(Dropout(0.3))\n",
    "model.add(Dense(64,activation='relu'))\n",
    "model.add(Dropout(0.3))\n",
    "model.add(Dense(2,activation='sigmoid'))  \n",
    "model.summary()"
   ]
  },
  {
   "cell_type": "code",
   "execution_count": 196,
   "id": "owned-graphic",
   "metadata": {
    "scrolled": true
   },
   "outputs": [
    {
     "name": "stdout",
     "output_type": "stream",
     "text": [
      "Epoch 1/20\n",
      "WARNING:tensorflow:Model was constructed with shape (None, None) for input KerasTensor(type_spec=TensorSpec(shape=(None, None), dtype=tf.float32, name='embedding_1_input'), name='embedding_1_input', description=\"created by layer 'embedding_1_input'\"), but it was called on an input with incompatible shape (None, 129, 259).\n"
     ]
    },
    {
     "ename": "ValueError",
     "evalue": "in user code:\n\n    File \"/Users/pooyan/opt/miniconda3/lib/python3.8/site-packages/keras/engine/training.py\", line 1021, in train_function  *\n        return step_function(self, iterator)\n    File \"/Users/pooyan/opt/miniconda3/lib/python3.8/site-packages/keras/engine/training.py\", line 1010, in step_function  **\n        outputs = model.distribute_strategy.run(run_step, args=(data,))\n    File \"/Users/pooyan/opt/miniconda3/lib/python3.8/site-packages/keras/engine/training.py\", line 1000, in run_step  **\n        outputs = model.train_step(data)\n    File \"/Users/pooyan/opt/miniconda3/lib/python3.8/site-packages/keras/engine/training.py\", line 859, in train_step\n        y_pred = self(x, training=True)\n    File \"/Users/pooyan/opt/miniconda3/lib/python3.8/site-packages/keras/utils/traceback_utils.py\", line 67, in error_handler\n        raise e.with_traceback(filtered_tb) from None\n    File \"/Users/pooyan/opt/miniconda3/lib/python3.8/site-packages/keras/engine/input_spec.py\", line 214, in assert_input_compatibility\n        raise ValueError(f'Input {input_index} of layer \"{layer_name}\" '\n\n    ValueError: Exception encountered when calling layer \"sequential_65\" (type Sequential).\n    \n    Input 0 of layer \"lstm_64\" is incompatible with the layer: expected ndim=3, found ndim=4. Full shape received: (None, 129, 259, 259)\n    \n    Call arguments received:\n      • inputs=tf.Tensor(shape=(None, 129, 259), dtype=float32)\n      • training=True\n      • mask=None\n",
     "output_type": "error",
     "traceback": [
      "\u001b[0;31m---------------------------------------------------------------------------\u001b[0m",
      "\u001b[0;31mValueError\u001b[0m                                Traceback (most recent call last)",
      "\u001b[0;32m<ipython-input-196-f665dc03078c>\u001b[0m in \u001b[0;36m<module>\u001b[0;34m\u001b[0m\n\u001b[1;32m      1\u001b[0m \u001b[0mmodel\u001b[0m\u001b[0;34m.\u001b[0m\u001b[0mcompile\u001b[0m\u001b[0;34m(\u001b[0m\u001b[0moptimizer\u001b[0m\u001b[0;34m=\u001b[0m\u001b[0mkeras\u001b[0m\u001b[0;34m.\u001b[0m\u001b[0moptimizers\u001b[0m\u001b[0;34m.\u001b[0m\u001b[0mAdam\u001b[0m\u001b[0;34m(\u001b[0m\u001b[0;36m1e-4\u001b[0m\u001b[0;34m)\u001b[0m\u001b[0;34m,\u001b[0m\u001b[0mloss\u001b[0m\u001b[0;34m=\u001b[0m\u001b[0mtf\u001b[0m\u001b[0;34m.\u001b[0m\u001b[0mlosses\u001b[0m\u001b[0;34m.\u001b[0m\u001b[0mSparseCategoricalCrossentropy\u001b[0m\u001b[0;34m(\u001b[0m\u001b[0;34m)\u001b[0m\u001b[0;34m,\u001b[0m \u001b[0mmetrics\u001b[0m\u001b[0;34m=\u001b[0m\u001b[0;34m[\u001b[0m\u001b[0;34m\"accuracy\"\u001b[0m\u001b[0;34m,\u001b[0m \u001b[0;34m\"MeanSquaredError\"\u001b[0m\u001b[0;34m]\u001b[0m\u001b[0;34m)\u001b[0m\u001b[0;34m\u001b[0m\u001b[0;34m\u001b[0m\u001b[0m\n\u001b[0;32m----> 2\u001b[0;31m \u001b[0mhistory\u001b[0m\u001b[0;34m=\u001b[0m\u001b[0mmodel\u001b[0m\u001b[0;34m.\u001b[0m\u001b[0mfit\u001b[0m\u001b[0;34m(\u001b[0m\u001b[0mX_train\u001b[0m\u001b[0;34m,\u001b[0m \u001b[0my_train\u001b[0m\u001b[0;34m,\u001b[0m \u001b[0mvalidation_data\u001b[0m\u001b[0;34m=\u001b[0m\u001b[0;34m(\u001b[0m\u001b[0mX_validation\u001b[0m\u001b[0;34m,\u001b[0m \u001b[0my_validation\u001b[0m\u001b[0;34m)\u001b[0m\u001b[0;34m,\u001b[0m\u001b[0mepochs\u001b[0m \u001b[0;34m=\u001b[0m \u001b[0;36m20\u001b[0m\u001b[0;34m,\u001b[0m \u001b[0mbatch_size\u001b[0m \u001b[0;34m=\u001b[0m \u001b[0;36m128\u001b[0m\u001b[0;34m,\u001b[0m \u001b[0mverbose\u001b[0m \u001b[0;34m=\u001b[0m \u001b[0;36m1\u001b[0m\u001b[0;34m)\u001b[0m\u001b[0;34m\u001b[0m\u001b[0;34m\u001b[0m\u001b[0m\n\u001b[0m",
      "\u001b[0;32m~/opt/miniconda3/lib/python3.8/site-packages/keras/utils/traceback_utils.py\u001b[0m in \u001b[0;36merror_handler\u001b[0;34m(*args, **kwargs)\u001b[0m\n\u001b[1;32m     65\u001b[0m     \u001b[0;32mexcept\u001b[0m \u001b[0mException\u001b[0m \u001b[0;32mas\u001b[0m \u001b[0me\u001b[0m\u001b[0;34m:\u001b[0m  \u001b[0;31m# pylint: disable=broad-except\u001b[0m\u001b[0;34m\u001b[0m\u001b[0;34m\u001b[0m\u001b[0m\n\u001b[1;32m     66\u001b[0m       \u001b[0mfiltered_tb\u001b[0m \u001b[0;34m=\u001b[0m \u001b[0m_process_traceback_frames\u001b[0m\u001b[0;34m(\u001b[0m\u001b[0me\u001b[0m\u001b[0;34m.\u001b[0m\u001b[0m__traceback__\u001b[0m\u001b[0;34m)\u001b[0m\u001b[0;34m\u001b[0m\u001b[0;34m\u001b[0m\u001b[0m\n\u001b[0;32m---> 67\u001b[0;31m       \u001b[0;32mraise\u001b[0m \u001b[0me\u001b[0m\u001b[0;34m.\u001b[0m\u001b[0mwith_traceback\u001b[0m\u001b[0;34m(\u001b[0m\u001b[0mfiltered_tb\u001b[0m\u001b[0;34m)\u001b[0m \u001b[0;32mfrom\u001b[0m \u001b[0;32mNone\u001b[0m\u001b[0;34m\u001b[0m\u001b[0;34m\u001b[0m\u001b[0m\n\u001b[0m\u001b[1;32m     68\u001b[0m     \u001b[0;32mfinally\u001b[0m\u001b[0;34m:\u001b[0m\u001b[0;34m\u001b[0m\u001b[0;34m\u001b[0m\u001b[0m\n\u001b[1;32m     69\u001b[0m       \u001b[0;32mdel\u001b[0m \u001b[0mfiltered_tb\u001b[0m\u001b[0;34m\u001b[0m\u001b[0;34m\u001b[0m\u001b[0m\n",
      "\u001b[0;32m~/opt/miniconda3/lib/python3.8/site-packages/tensorflow/python/framework/func_graph.py\u001b[0m in \u001b[0;36mautograph_handler\u001b[0;34m(*args, **kwargs)\u001b[0m\n\u001b[1;32m   1145\u001b[0m           \u001b[0;32mexcept\u001b[0m \u001b[0mException\u001b[0m \u001b[0;32mas\u001b[0m \u001b[0me\u001b[0m\u001b[0;34m:\u001b[0m  \u001b[0;31m# pylint:disable=broad-except\u001b[0m\u001b[0;34m\u001b[0m\u001b[0;34m\u001b[0m\u001b[0m\n\u001b[1;32m   1146\u001b[0m             \u001b[0;32mif\u001b[0m \u001b[0mhasattr\u001b[0m\u001b[0;34m(\u001b[0m\u001b[0me\u001b[0m\u001b[0;34m,\u001b[0m \u001b[0;34m\"ag_error_metadata\"\u001b[0m\u001b[0;34m)\u001b[0m\u001b[0;34m:\u001b[0m\u001b[0;34m\u001b[0m\u001b[0;34m\u001b[0m\u001b[0m\n\u001b[0;32m-> 1147\u001b[0;31m               \u001b[0;32mraise\u001b[0m \u001b[0me\u001b[0m\u001b[0;34m.\u001b[0m\u001b[0mag_error_metadata\u001b[0m\u001b[0;34m.\u001b[0m\u001b[0mto_exception\u001b[0m\u001b[0;34m(\u001b[0m\u001b[0me\u001b[0m\u001b[0;34m)\u001b[0m\u001b[0;34m\u001b[0m\u001b[0;34m\u001b[0m\u001b[0m\n\u001b[0m\u001b[1;32m   1148\u001b[0m             \u001b[0;32melse\u001b[0m\u001b[0;34m:\u001b[0m\u001b[0;34m\u001b[0m\u001b[0;34m\u001b[0m\u001b[0m\n\u001b[1;32m   1149\u001b[0m               \u001b[0;32mraise\u001b[0m\u001b[0;34m\u001b[0m\u001b[0;34m\u001b[0m\u001b[0m\n",
      "\u001b[0;31mValueError\u001b[0m: in user code:\n\n    File \"/Users/pooyan/opt/miniconda3/lib/python3.8/site-packages/keras/engine/training.py\", line 1021, in train_function  *\n        return step_function(self, iterator)\n    File \"/Users/pooyan/opt/miniconda3/lib/python3.8/site-packages/keras/engine/training.py\", line 1010, in step_function  **\n        outputs = model.distribute_strategy.run(run_step, args=(data,))\n    File \"/Users/pooyan/opt/miniconda3/lib/python3.8/site-packages/keras/engine/training.py\", line 1000, in run_step  **\n        outputs = model.train_step(data)\n    File \"/Users/pooyan/opt/miniconda3/lib/python3.8/site-packages/keras/engine/training.py\", line 859, in train_step\n        y_pred = self(x, training=True)\n    File \"/Users/pooyan/opt/miniconda3/lib/python3.8/site-packages/keras/utils/traceback_utils.py\", line 67, in error_handler\n        raise e.with_traceback(filtered_tb) from None\n    File \"/Users/pooyan/opt/miniconda3/lib/python3.8/site-packages/keras/engine/input_spec.py\", line 214, in assert_input_compatibility\n        raise ValueError(f'Input {input_index} of layer \"{layer_name}\" '\n\n    ValueError: Exception encountered when calling layer \"sequential_65\" (type Sequential).\n    \n    Input 0 of layer \"lstm_64\" is incompatible with the layer: expected ndim=3, found ndim=4. Full shape received: (None, 129, 259, 259)\n    \n    Call arguments received:\n      • inputs=tf.Tensor(shape=(None, 129, 259), dtype=float32)\n      • training=True\n      • mask=None\n"
     ]
    }
   ],
   "source": [
    "model.compile(optimizer=keras.optimizers.Adam(1e-4),loss=tf.losses.SparseCategoricalCrossentropy(), metrics=[\"accuracy\", \"MeanSquaredError\"])\n",
    "history=model.fit(X_train, y_train, validation_data=(X_validation, y_validation),epochs = 20, batch_size = 128, verbose = 1)\n"
   ]
  },
  {
   "cell_type": "code",
   "execution_count": 197,
   "id": "blind-devon",
   "metadata": {},
   "outputs": [
    {
     "name": "stdout",
     "output_type": "stream",
     "text": [
      "Model: \"model_4\"\n",
      "__________________________________________________________________________________________________\n",
      " Layer (type)                   Output Shape         Param #     Connected to                     \n",
      "==================================================================================================\n",
      " input_11 (InputLayer)          [(None, 129, 259)]   0           []                               \n",
      "                                                                                                  \n",
      " bidirectional_18 (Bidirectiona  (None, 129, 200)    288000      ['input_11[0][0]']               \n",
      " l)                                                                                               \n",
      "                                                                                                  \n",
      " conv1d_70 (Conv1D)             (None, 129, 200)     155600      ['input_11[0][0]']               \n",
      "                                                                                                  \n",
      " add_5 (Add)                    (None, 129, 200)     0           ['bidirectional_18[0][0]',       \n",
      "                                                                  'conv1d_70[0][0]']              \n",
      "                                                                                                  \n",
      " conv1d_71 (Conv1D)             (None, 127, 200)     120200      ['add_5[0][0]']                  \n",
      "                                                                                                  \n",
      " global_max_pooling1d_5 (Global  (None, 200)         0           ['conv1d_71[0][0]']              \n",
      " MaxPooling1D)                                                                                    \n",
      "                                                                                                  \n",
      " dense_76 (Dense)               (None, 100)          20100       ['global_max_pooling1d_5[0][0]'] \n",
      "                                                                                                  \n",
      " dense_77 (Dense)               (None, 2)            202         ['dense_76[0][0]']               \n",
      "                                                                                                  \n",
      "==================================================================================================\n",
      "Total params: 584,102\n",
      "Trainable params: 584,102\n",
      "Non-trainable params: 0\n",
      "__________________________________________________________________________________________________\n"
     ]
    }
   ],
   "source": [
    "# two sided model\n",
    "#from keras.layers.core import Input, Model\n",
    "from keras.layers import *\n",
    "from keras.models import *\n",
    "from keras.utils import *\n",
    "from keras.initializers import *\n",
    "import tensorflow as tf\n",
    "\n",
    "\n",
    "inputs = Input((129,259))\n",
    "\n",
    "side1 = Bidirectional(LSTM(100, return_sequences=True))(inputs) #200 total units\n",
    "side2 = Conv1D(200, kernel_size=3, activation = 'tanh', padding = 'same')(inputs) #same activation \n",
    "                                                                   #same length\n",
    "\n",
    "merged = Add()([side1, side2]) \n",
    "     #or Concatenate()([side1, side2]) if different number of units/channels/features\n",
    "\n",
    "outputs = Conv1D(200, kernel_size=3)(merged)\n",
    "outputs = GlobalMaxPooling1D()(outputs)\n",
    "outputs = Dense(100)(outputs)\n",
    "outputs = Dense(2, activation='sigmoid')(outputs)\n",
    "\n",
    "model = Model(inputs, outputs)\n",
    "model.summary()"
   ]
  },
  {
   "cell_type": "code",
   "execution_count": 199,
   "id": "imperial-ballet",
   "metadata": {},
   "outputs": [
    {
     "name": "stdout",
     "output_type": "stream",
     "text": [
      "Epoch 1/20\n",
      "49/49 [==============================] - 17s 290ms/step - loss: 0.9349 - accuracy: 0.8735 - mean_squared_error: 0.6950 - val_loss: 0.4758 - val_accuracy: 0.8943 - val_mean_squared_error: 0.6660\n",
      "Epoch 2/20\n",
      "49/49 [==============================] - 11s 233ms/step - loss: 0.3708 - accuracy: 0.8983 - mean_squared_error: 0.7020 - val_loss: 0.4150 - val_accuracy: 0.8943 - val_mean_squared_error: 0.7312\n",
      "Epoch 3/20\n",
      "49/49 [==============================] - 12s 246ms/step - loss: 0.3409 - accuracy: 0.8997 - mean_squared_error: 0.6636 - val_loss: 0.5708 - val_accuracy: 0.8379 - val_mean_squared_error: 0.6928\n",
      "Epoch 4/20\n",
      "49/49 [==============================] - 12s 245ms/step - loss: 0.3505 - accuracy: 0.8988 - mean_squared_error: 0.6320 - val_loss: 0.5136 - val_accuracy: 0.8878 - val_mean_squared_error: 0.6839\n",
      "Epoch 5/20\n",
      "49/49 [==============================] - 12s 251ms/step - loss: 0.3411 - accuracy: 0.8996 - mean_squared_error: 0.6375 - val_loss: 0.6692 - val_accuracy: 0.6167 - val_mean_squared_error: 0.6751\n",
      "Epoch 6/20\n",
      "49/49 [==============================] - 13s 263ms/step - loss: 0.3327 - accuracy: 0.8933 - mean_squared_error: 0.6171 - val_loss: 0.3354 - val_accuracy: 0.8943 - val_mean_squared_error: 0.6013\n",
      "Epoch 7/20\n",
      "49/49 [==============================] - 13s 269ms/step - loss: 0.3192 - accuracy: 0.8997 - mean_squared_error: 0.6181 - val_loss: 0.3553 - val_accuracy: 0.8943 - val_mean_squared_error: 0.6048\n",
      "Epoch 8/20\n",
      "49/49 [==============================] - 12s 251ms/step - loss: 0.3172 - accuracy: 0.8997 - mean_squared_error: 0.6212 - val_loss: 0.3316 - val_accuracy: 0.8943 - val_mean_squared_error: 0.6187\n",
      "Epoch 9/20\n",
      "49/49 [==============================] - 12s 244ms/step - loss: 0.3159 - accuracy: 0.8997 - mean_squared_error: 0.6284 - val_loss: 0.3349 - val_accuracy: 0.8943 - val_mean_squared_error: 0.6206\n",
      "Epoch 10/20\n",
      "49/49 [==============================] - 12s 240ms/step - loss: 0.3142 - accuracy: 0.8994 - mean_squared_error: 0.6249 - val_loss: 0.3895 - val_accuracy: 0.8943 - val_mean_squared_error: 0.5717\n",
      "Epoch 11/20\n",
      "49/49 [==============================] - 12s 236ms/step - loss: 0.3082 - accuracy: 0.8999 - mean_squared_error: 0.6347 - val_loss: 0.3896 - val_accuracy: 0.8943 - val_mean_squared_error: 0.5793\n",
      "Epoch 12/20\n",
      "49/49 [==============================] - 12s 237ms/step - loss: 0.3094 - accuracy: 0.8999 - mean_squared_error: 0.6281 - val_loss: 0.3476 - val_accuracy: 0.8943 - val_mean_squared_error: 0.6256\n",
      "Epoch 13/20\n",
      "49/49 [==============================] - 13s 264ms/step - loss: 0.3097 - accuracy: 0.8997 - mean_squared_error: 0.5915 - val_loss: 0.3822 - val_accuracy: 0.8943 - val_mean_squared_error: 0.5402\n",
      "Epoch 14/20\n",
      "49/49 [==============================] - 14s 283ms/step - loss: 0.3120 - accuracy: 0.9004 - mean_squared_error: 0.5815 - val_loss: 0.3232 - val_accuracy: 0.8936 - val_mean_squared_error: 0.5817\n",
      "Epoch 15/20\n",
      "49/49 [==============================] - 15s 300ms/step - loss: 0.3024 - accuracy: 0.9004 - mean_squared_error: 0.5878 - val_loss: 0.3450 - val_accuracy: 0.8943 - val_mean_squared_error: 0.5635\n",
      "Epoch 16/20\n",
      "49/49 [==============================] - 15s 304ms/step - loss: 0.3100 - accuracy: 0.8996 - mean_squared_error: 0.6042 - val_loss: 0.3255 - val_accuracy: 0.8936 - val_mean_squared_error: 0.6121\n",
      "Epoch 17/20\n",
      "49/49 [==============================] - 14s 285ms/step - loss: 0.3065 - accuracy: 0.9004 - mean_squared_error: 0.6085 - val_loss: 0.3711 - val_accuracy: 0.8943 - val_mean_squared_error: 0.5437\n",
      "Epoch 18/20\n",
      "49/49 [==============================] - 14s 283ms/step - loss: 0.3055 - accuracy: 0.9007 - mean_squared_error: 0.5772 - val_loss: 0.3319 - val_accuracy: 0.8943 - val_mean_squared_error: 0.5565\n",
      "Epoch 19/20\n",
      "49/49 [==============================] - 15s 298ms/step - loss: 0.3108 - accuracy: 0.9020 - mean_squared_error: 0.5822 - val_loss: 1.0431 - val_accuracy: 0.1089 - val_mean_squared_error: 0.6197\n",
      "Epoch 20/20\n",
      "49/49 [==============================] - 15s 305ms/step - loss: 0.3303 - accuracy: 0.8858 - mean_squared_error: 0.5612 - val_loss: 0.3635 - val_accuracy: 0.8943 - val_mean_squared_error: 0.5281\n"
     ]
    }
   ],
   "source": [
    "#SGD opimizers\n",
    "model.compile(optimizer=tf.keras.optimizers.SGD(\n",
    "    learning_rate=0.01, momentum=0.0, nesterov=False, name=\"SGD\"),loss=tf.losses.SparseCategoricalCrossentropy(), metrics=[\"accuracy\", \"MeanSquaredError\"])\n",
    "history=model.fit(X_train, y_train, validation_data=(X_validation, y_validation),epochs = 20, batch_size = 128, verbose = 1)\n"
   ]
  },
  {
   "cell_type": "code",
   "execution_count": 200,
   "id": "subjective-gasoline",
   "metadata": {},
   "outputs": [],
   "source": [
    "#test\n",
    "pred = model.predict(X_test)\n",
    "y_pred = [0 if y[0]>y[1] else 1 for y in pred]"
   ]
  },
  {
   "cell_type": "code",
   "execution_count": 201,
   "id": "blessed-spice",
   "metadata": {},
   "outputs": [
    {
     "name": "stdout",
     "output_type": "stream",
     "text": [
      "Accuracy: 0.886352\n",
      "Precision: 0.886352\n",
      "Recall: 1.000000\n",
      "F1 score: 0.939752\n",
      "Cohens kappa: 0.000000\n",
      "ROC AUC: 0.500000\n",
      "[[   0  219]\n",
      " [   0 1708]]\n"
     ]
    }
   ],
   "source": [
    "from sklearn.metrics import accuracy_score\n",
    "from sklearn.metrics import precision_score\n",
    "from sklearn.metrics import recall_score\n",
    "from sklearn.metrics import f1_score\n",
    "from sklearn.metrics import cohen_kappa_score\n",
    "from sklearn.metrics import roc_auc_score\n",
    "from sklearn.metrics import confusion_matrix\n",
    "# accuracy: (tp + tn) / (p + n)\n",
    "accuracy = accuracy_score(y_test, y_pred)\n",
    "print('Accuracy: %f' % accuracy)\n",
    "# precision tp / (tp + fp)\n",
    "precision = precision_score(y_test, y_pred)\n",
    "print('Precision: %f' % precision)\n",
    "# recall: tp / (tp + fn)\n",
    "recall = recall_score(y_test, y_pred)\n",
    "print('Recall: %f' % recall)\n",
    "# f1: 2 tp / (2 tp + fp + fn)\n",
    "f1 = f1_score(y_test, y_pred)\n",
    "print('F1 score: %f' % f1)\n",
    "# kappa\n",
    "kappa = cohen_kappa_score(y_test, y_pred)\n",
    "print('Cohens kappa: %f' % kappa)\n",
    "# ROC AUC\n",
    "auc = roc_auc_score(y_test, y_pred)\n",
    "print('ROC AUC: %f' % auc)\n",
    "# confusion matrix\n",
    "matrix = confusion_matrix(y_test, y_pred)\n",
    "print(matrix)"
   ]
  },
  {
   "cell_type": "code",
   "execution_count": 205,
   "id": "revised-scope",
   "metadata": {},
   "outputs": [],
   "source": [
    "timesteps=129\n",
    "num_features=259\n",
    "hidden=50\n",
    "\n",
    "model = Sequential([\n",
    "        Flatten(input_shape=(timesteps, num_features)),\n",
    "       # MyLayer(timesteps*num_features),\n",
    "        Reshape(target_shape=(timesteps, num_features)),\n",
    "        LSTM(hidden, input_shape=(timesteps, num_features)),\n",
    "        RepeatVector(timesteps),\n",
    "        LSTM(hidden, return_sequences=True),\n",
    "        TimeDistributed(Dense(num_features)),\n",
    "       # model.add(LSTM(50, input_shape=(n_features,dim3))),\n",
    "        Dense(2, activation = \"softmax\")\n",
    "    ])"
   ]
  },
  {
   "cell_type": "code",
   "execution_count": 206,
   "id": "danish-sussex",
   "metadata": {},
   "outputs": [
    {
     "name": "stdout",
     "output_type": "stream",
     "text": [
      "Model: \"sequential_68\"\n",
      "_________________________________________________________________\n",
      " Layer (type)                Output Shape              Param #   \n",
      "=================================================================\n",
      " flatten_29 (Flatten)        (None, 33411)             0         \n",
      "                                                                 \n",
      " reshape_5 (Reshape)         (None, 129, 259)          0         \n",
      "                                                                 \n",
      " lstm_70 (LSTM)              (None, 50)                62000     \n",
      "                                                                 \n",
      " repeat_vector_18 (RepeatVec  (None, 129, 50)          0         \n",
      " tor)                                                            \n",
      "                                                                 \n",
      " lstm_71 (LSTM)              (None, 129, 50)           20200     \n",
      "                                                                 \n",
      " time_distributed_18 (TimeDi  (None, 129, 259)         13209     \n",
      " stributed)                                                      \n",
      "                                                                 \n",
      " dense_82 (Dense)            (None, 129, 2)            520       \n",
      "                                                                 \n",
      "=================================================================\n",
      "Total params: 95,929\n",
      "Trainable params: 95,929\n",
      "Non-trainable params: 0\n",
      "_________________________________________________________________\n"
     ]
    }
   ],
   "source": [
    "model.summary()"
   ]
  },
  {
   "cell_type": "code",
   "execution_count": 207,
   "id": "federal-humidity",
   "metadata": {},
   "outputs": [
    {
     "name": "stdout",
     "output_type": "stream",
     "text": [
      "Epoch 1/20\n"
     ]
    },
    {
     "ename": "InvalidArgumentError",
     "evalue": "Graph execution error:\n\nDetected at node 'sparse_categorical_crossentropy/SparseSoftmaxCrossEntropyWithLogits/SparseSoftmaxCrossEntropyWithLogits' defined at (most recent call last):\n    File \"/Users/pooyan/opt/miniconda3/lib/python3.8/runpy.py\", line 194, in _run_module_as_main\n      return _run_code(code, main_globals, None,\n    File \"/Users/pooyan/opt/miniconda3/lib/python3.8/runpy.py\", line 87, in _run_code\n      exec(code, run_globals)\n    File \"/Users/pooyan/opt/miniconda3/lib/python3.8/site-packages/ipykernel_launcher.py\", line 16, in <module>\n      app.launch_new_instance()\n    File \"/Users/pooyan/opt/miniconda3/lib/python3.8/site-packages/traitlets/config/application.py\", line 845, in launch_instance\n      app.start()\n    File \"/Users/pooyan/opt/miniconda3/lib/python3.8/site-packages/ipykernel/kernelapp.py\", line 612, in start\n      self.io_loop.start()\n    File \"/Users/pooyan/opt/miniconda3/lib/python3.8/site-packages/tornado/platform/asyncio.py\", line 199, in start\n      self.asyncio_loop.run_forever()\n    File \"/Users/pooyan/opt/miniconda3/lib/python3.8/asyncio/base_events.py\", line 570, in run_forever\n      self._run_once()\n    File \"/Users/pooyan/opt/miniconda3/lib/python3.8/asyncio/base_events.py\", line 1859, in _run_once\n      handle._run()\n    File \"/Users/pooyan/opt/miniconda3/lib/python3.8/asyncio/events.py\", line 81, in _run\n      self._context.run(self._callback, *self._args)\n    File \"/Users/pooyan/opt/miniconda3/lib/python3.8/site-packages/tornado/ioloop.py\", line 688, in <lambda>\n      lambda f: self._run_callback(functools.partial(callback, future))\n    File \"/Users/pooyan/opt/miniconda3/lib/python3.8/site-packages/tornado/ioloop.py\", line 741, in _run_callback\n      ret = callback()\n    File \"/Users/pooyan/opt/miniconda3/lib/python3.8/site-packages/tornado/gen.py\", line 814, in inner\n      self.ctx_run(self.run)\n    File \"/Users/pooyan/opt/miniconda3/lib/python3.8/site-packages/tornado/gen.py\", line 775, in run\n      yielded = self.gen.send(value)\n    File \"/Users/pooyan/opt/miniconda3/lib/python3.8/site-packages/ipykernel/kernelbase.py\", line 365, in process_one\n      yield gen.maybe_future(dispatch(*args))\n    File \"/Users/pooyan/opt/miniconda3/lib/python3.8/site-packages/tornado/gen.py\", line 234, in wrapper\n      yielded = ctx_run(next, result)\n    File \"/Users/pooyan/opt/miniconda3/lib/python3.8/site-packages/ipykernel/kernelbase.py\", line 268, in dispatch_shell\n      yield gen.maybe_future(handler(stream, idents, msg))\n    File \"/Users/pooyan/opt/miniconda3/lib/python3.8/site-packages/tornado/gen.py\", line 234, in wrapper\n      yielded = ctx_run(next, result)\n    File \"/Users/pooyan/opt/miniconda3/lib/python3.8/site-packages/ipykernel/kernelbase.py\", line 543, in execute_request\n      self.do_execute(\n    File \"/Users/pooyan/opt/miniconda3/lib/python3.8/site-packages/tornado/gen.py\", line 234, in wrapper\n      yielded = ctx_run(next, result)\n    File \"/Users/pooyan/opt/miniconda3/lib/python3.8/site-packages/ipykernel/ipkernel.py\", line 306, in do_execute\n      res = shell.run_cell(code, store_history=store_history, silent=silent)\n    File \"/Users/pooyan/opt/miniconda3/lib/python3.8/site-packages/ipykernel/zmqshell.py\", line 536, in run_cell\n      return super(ZMQInteractiveShell, self).run_cell(*args, **kwargs)\n    File \"/Users/pooyan/opt/miniconda3/lib/python3.8/site-packages/IPython/core/interactiveshell.py\", line 2886, in run_cell\n      result = self._run_cell(\n    File \"/Users/pooyan/opt/miniconda3/lib/python3.8/site-packages/IPython/core/interactiveshell.py\", line 2932, in _run_cell\n      return runner(coro)\n    File \"/Users/pooyan/opt/miniconda3/lib/python3.8/site-packages/IPython/core/async_helpers.py\", line 68, in _pseudo_sync_runner\n      coro.send(None)\n    File \"/Users/pooyan/opt/miniconda3/lib/python3.8/site-packages/IPython/core/interactiveshell.py\", line 3155, in run_cell_async\n      has_raised = await self.run_ast_nodes(code_ast.body, cell_name,\n    File \"/Users/pooyan/opt/miniconda3/lib/python3.8/site-packages/IPython/core/interactiveshell.py\", line 3347, in run_ast_nodes\n      if (await self.run_code(code, result,  async_=asy)):\n    File \"/Users/pooyan/opt/miniconda3/lib/python3.8/site-packages/IPython/core/interactiveshell.py\", line 3427, in run_code\n      exec(code_obj, self.user_global_ns, self.user_ns)\n    File \"<ipython-input-207-d5a51e03eaa1>\", line 4, in <module>\n      history=model.fit(X_train, y_train, validation_data=(X_validation, y_validation),epochs = 20, batch_size = 128, verbose = 1)\n    File \"/Users/pooyan/opt/miniconda3/lib/python3.8/site-packages/keras/utils/traceback_utils.py\", line 64, in error_handler\n      return fn(*args, **kwargs)\n    File \"/Users/pooyan/opt/miniconda3/lib/python3.8/site-packages/keras/engine/training.py\", line 1384, in fit\n      tmp_logs = self.train_function(iterator)\n    File \"/Users/pooyan/opt/miniconda3/lib/python3.8/site-packages/keras/engine/training.py\", line 1021, in train_function\n      return step_function(self, iterator)\n    File \"/Users/pooyan/opt/miniconda3/lib/python3.8/site-packages/keras/engine/training.py\", line 1010, in step_function\n      outputs = model.distribute_strategy.run(run_step, args=(data,))\n    File \"/Users/pooyan/opt/miniconda3/lib/python3.8/site-packages/keras/engine/training.py\", line 1000, in run_step\n      outputs = model.train_step(data)\n    File \"/Users/pooyan/opt/miniconda3/lib/python3.8/site-packages/keras/engine/training.py\", line 860, in train_step\n      loss = self.compute_loss(x, y, y_pred, sample_weight)\n    File \"/Users/pooyan/opt/miniconda3/lib/python3.8/site-packages/keras/engine/training.py\", line 918, in compute_loss\n      return self.compiled_loss(\n    File \"/Users/pooyan/opt/miniconda3/lib/python3.8/site-packages/keras/engine/compile_utils.py\", line 201, in __call__\n      loss_value = loss_obj(y_t, y_p, sample_weight=sw)\n    File \"/Users/pooyan/opt/miniconda3/lib/python3.8/site-packages/keras/losses.py\", line 141, in __call__\n      losses = call_fn(y_true, y_pred)\n    File \"/Users/pooyan/opt/miniconda3/lib/python3.8/site-packages/keras/losses.py\", line 245, in call\n      return ag_fn(y_true, y_pred, **self._fn_kwargs)\n    File \"/Users/pooyan/opt/miniconda3/lib/python3.8/site-packages/keras/losses.py\", line 1862, in sparse_categorical_crossentropy\n      return backend.sparse_categorical_crossentropy(\n    File \"/Users/pooyan/opt/miniconda3/lib/python3.8/site-packages/keras/backend.py\", line 5202, in sparse_categorical_crossentropy\n      res = tf.nn.sparse_softmax_cross_entropy_with_logits(\nNode: 'sparse_categorical_crossentropy/SparseSoftmaxCrossEntropyWithLogits/SparseSoftmaxCrossEntropyWithLogits'\nlogits and labels must have the same first dimension, got logits shape [16512,2] and labels shape [128]\n\t [[{{node sparse_categorical_crossentropy/SparseSoftmaxCrossEntropyWithLogits/SparseSoftmaxCrossEntropyWithLogits}}]] [Op:__inference_train_function_314308]",
     "output_type": "error",
     "traceback": [
      "\u001b[0;31m---------------------------------------------------------------------------\u001b[0m",
      "\u001b[0;31mInvalidArgumentError\u001b[0m                      Traceback (most recent call last)",
      "\u001b[0;32m<ipython-input-207-d5a51e03eaa1>\u001b[0m in \u001b[0;36m<module>\u001b[0;34m\u001b[0m\n\u001b[1;32m      2\u001b[0m model.compile(optimizer=tf.keras.optimizers.SGD(\n\u001b[1;32m      3\u001b[0m     learning_rate=0.01, momentum=0.0, nesterov=False, name=\"SGD\"),loss=tf.losses.SparseCategoricalCrossentropy(), metrics=[\"accuracy\", \"MeanSquaredError\"])\n\u001b[0;32m----> 4\u001b[0;31m \u001b[0mhistory\u001b[0m\u001b[0;34m=\u001b[0m\u001b[0mmodel\u001b[0m\u001b[0;34m.\u001b[0m\u001b[0mfit\u001b[0m\u001b[0;34m(\u001b[0m\u001b[0mX_train\u001b[0m\u001b[0;34m,\u001b[0m \u001b[0my_train\u001b[0m\u001b[0;34m,\u001b[0m \u001b[0mvalidation_data\u001b[0m\u001b[0;34m=\u001b[0m\u001b[0;34m(\u001b[0m\u001b[0mX_validation\u001b[0m\u001b[0;34m,\u001b[0m \u001b[0my_validation\u001b[0m\u001b[0;34m)\u001b[0m\u001b[0;34m,\u001b[0m\u001b[0mepochs\u001b[0m \u001b[0;34m=\u001b[0m \u001b[0;36m20\u001b[0m\u001b[0;34m,\u001b[0m \u001b[0mbatch_size\u001b[0m \u001b[0;34m=\u001b[0m \u001b[0;36m128\u001b[0m\u001b[0;34m,\u001b[0m \u001b[0mverbose\u001b[0m \u001b[0;34m=\u001b[0m \u001b[0;36m1\u001b[0m\u001b[0;34m)\u001b[0m\u001b[0;34m\u001b[0m\u001b[0;34m\u001b[0m\u001b[0m\n\u001b[0m",
      "\u001b[0;32m~/opt/miniconda3/lib/python3.8/site-packages/keras/utils/traceback_utils.py\u001b[0m in \u001b[0;36merror_handler\u001b[0;34m(*args, **kwargs)\u001b[0m\n\u001b[1;32m     65\u001b[0m     \u001b[0;32mexcept\u001b[0m \u001b[0mException\u001b[0m \u001b[0;32mas\u001b[0m \u001b[0me\u001b[0m\u001b[0;34m:\u001b[0m  \u001b[0;31m# pylint: disable=broad-except\u001b[0m\u001b[0;34m\u001b[0m\u001b[0;34m\u001b[0m\u001b[0m\n\u001b[1;32m     66\u001b[0m       \u001b[0mfiltered_tb\u001b[0m \u001b[0;34m=\u001b[0m \u001b[0m_process_traceback_frames\u001b[0m\u001b[0;34m(\u001b[0m\u001b[0me\u001b[0m\u001b[0;34m.\u001b[0m\u001b[0m__traceback__\u001b[0m\u001b[0;34m)\u001b[0m\u001b[0;34m\u001b[0m\u001b[0;34m\u001b[0m\u001b[0m\n\u001b[0;32m---> 67\u001b[0;31m       \u001b[0;32mraise\u001b[0m \u001b[0me\u001b[0m\u001b[0;34m.\u001b[0m\u001b[0mwith_traceback\u001b[0m\u001b[0;34m(\u001b[0m\u001b[0mfiltered_tb\u001b[0m\u001b[0;34m)\u001b[0m \u001b[0;32mfrom\u001b[0m \u001b[0;32mNone\u001b[0m\u001b[0;34m\u001b[0m\u001b[0;34m\u001b[0m\u001b[0m\n\u001b[0m\u001b[1;32m     68\u001b[0m     \u001b[0;32mfinally\u001b[0m\u001b[0;34m:\u001b[0m\u001b[0;34m\u001b[0m\u001b[0;34m\u001b[0m\u001b[0m\n\u001b[1;32m     69\u001b[0m       \u001b[0;32mdel\u001b[0m \u001b[0mfiltered_tb\u001b[0m\u001b[0;34m\u001b[0m\u001b[0;34m\u001b[0m\u001b[0m\n",
      "\u001b[0;32m~/opt/miniconda3/lib/python3.8/site-packages/tensorflow/python/eager/execute.py\u001b[0m in \u001b[0;36mquick_execute\u001b[0;34m(op_name, num_outputs, inputs, attrs, ctx, name)\u001b[0m\n\u001b[1;32m     52\u001b[0m   \u001b[0;32mtry\u001b[0m\u001b[0;34m:\u001b[0m\u001b[0;34m\u001b[0m\u001b[0;34m\u001b[0m\u001b[0m\n\u001b[1;32m     53\u001b[0m     \u001b[0mctx\u001b[0m\u001b[0;34m.\u001b[0m\u001b[0mensure_initialized\u001b[0m\u001b[0;34m(\u001b[0m\u001b[0;34m)\u001b[0m\u001b[0;34m\u001b[0m\u001b[0;34m\u001b[0m\u001b[0m\n\u001b[0;32m---> 54\u001b[0;31m     tensors = pywrap_tfe.TFE_Py_Execute(ctx._handle, device_name, op_name,\n\u001b[0m\u001b[1;32m     55\u001b[0m                                         inputs, attrs, num_outputs)\n\u001b[1;32m     56\u001b[0m   \u001b[0;32mexcept\u001b[0m \u001b[0mcore\u001b[0m\u001b[0;34m.\u001b[0m\u001b[0m_NotOkStatusException\u001b[0m \u001b[0;32mas\u001b[0m \u001b[0me\u001b[0m\u001b[0;34m:\u001b[0m\u001b[0;34m\u001b[0m\u001b[0;34m\u001b[0m\u001b[0m\n",
      "\u001b[0;31mInvalidArgumentError\u001b[0m: Graph execution error:\n\nDetected at node 'sparse_categorical_crossentropy/SparseSoftmaxCrossEntropyWithLogits/SparseSoftmaxCrossEntropyWithLogits' defined at (most recent call last):\n    File \"/Users/pooyan/opt/miniconda3/lib/python3.8/runpy.py\", line 194, in _run_module_as_main\n      return _run_code(code, main_globals, None,\n    File \"/Users/pooyan/opt/miniconda3/lib/python3.8/runpy.py\", line 87, in _run_code\n      exec(code, run_globals)\n    File \"/Users/pooyan/opt/miniconda3/lib/python3.8/site-packages/ipykernel_launcher.py\", line 16, in <module>\n      app.launch_new_instance()\n    File \"/Users/pooyan/opt/miniconda3/lib/python3.8/site-packages/traitlets/config/application.py\", line 845, in launch_instance\n      app.start()\n    File \"/Users/pooyan/opt/miniconda3/lib/python3.8/site-packages/ipykernel/kernelapp.py\", line 612, in start\n      self.io_loop.start()\n    File \"/Users/pooyan/opt/miniconda3/lib/python3.8/site-packages/tornado/platform/asyncio.py\", line 199, in start\n      self.asyncio_loop.run_forever()\n    File \"/Users/pooyan/opt/miniconda3/lib/python3.8/asyncio/base_events.py\", line 570, in run_forever\n      self._run_once()\n    File \"/Users/pooyan/opt/miniconda3/lib/python3.8/asyncio/base_events.py\", line 1859, in _run_once\n      handle._run()\n    File \"/Users/pooyan/opt/miniconda3/lib/python3.8/asyncio/events.py\", line 81, in _run\n      self._context.run(self._callback, *self._args)\n    File \"/Users/pooyan/opt/miniconda3/lib/python3.8/site-packages/tornado/ioloop.py\", line 688, in <lambda>\n      lambda f: self._run_callback(functools.partial(callback, future))\n    File \"/Users/pooyan/opt/miniconda3/lib/python3.8/site-packages/tornado/ioloop.py\", line 741, in _run_callback\n      ret = callback()\n    File \"/Users/pooyan/opt/miniconda3/lib/python3.8/site-packages/tornado/gen.py\", line 814, in inner\n      self.ctx_run(self.run)\n    File \"/Users/pooyan/opt/miniconda3/lib/python3.8/site-packages/tornado/gen.py\", line 775, in run\n      yielded = self.gen.send(value)\n    File \"/Users/pooyan/opt/miniconda3/lib/python3.8/site-packages/ipykernel/kernelbase.py\", line 365, in process_one\n      yield gen.maybe_future(dispatch(*args))\n    File \"/Users/pooyan/opt/miniconda3/lib/python3.8/site-packages/tornado/gen.py\", line 234, in wrapper\n      yielded = ctx_run(next, result)\n    File \"/Users/pooyan/opt/miniconda3/lib/python3.8/site-packages/ipykernel/kernelbase.py\", line 268, in dispatch_shell\n      yield gen.maybe_future(handler(stream, idents, msg))\n    File \"/Users/pooyan/opt/miniconda3/lib/python3.8/site-packages/tornado/gen.py\", line 234, in wrapper\n      yielded = ctx_run(next, result)\n    File \"/Users/pooyan/opt/miniconda3/lib/python3.8/site-packages/ipykernel/kernelbase.py\", line 543, in execute_request\n      self.do_execute(\n    File \"/Users/pooyan/opt/miniconda3/lib/python3.8/site-packages/tornado/gen.py\", line 234, in wrapper\n      yielded = ctx_run(next, result)\n    File \"/Users/pooyan/opt/miniconda3/lib/python3.8/site-packages/ipykernel/ipkernel.py\", line 306, in do_execute\n      res = shell.run_cell(code, store_history=store_history, silent=silent)\n    File \"/Users/pooyan/opt/miniconda3/lib/python3.8/site-packages/ipykernel/zmqshell.py\", line 536, in run_cell\n      return super(ZMQInteractiveShell, self).run_cell(*args, **kwargs)\n    File \"/Users/pooyan/opt/miniconda3/lib/python3.8/site-packages/IPython/core/interactiveshell.py\", line 2886, in run_cell\n      result = self._run_cell(\n    File \"/Users/pooyan/opt/miniconda3/lib/python3.8/site-packages/IPython/core/interactiveshell.py\", line 2932, in _run_cell\n      return runner(coro)\n    File \"/Users/pooyan/opt/miniconda3/lib/python3.8/site-packages/IPython/core/async_helpers.py\", line 68, in _pseudo_sync_runner\n      coro.send(None)\n    File \"/Users/pooyan/opt/miniconda3/lib/python3.8/site-packages/IPython/core/interactiveshell.py\", line 3155, in run_cell_async\n      has_raised = await self.run_ast_nodes(code_ast.body, cell_name,\n    File \"/Users/pooyan/opt/miniconda3/lib/python3.8/site-packages/IPython/core/interactiveshell.py\", line 3347, in run_ast_nodes\n      if (await self.run_code(code, result,  async_=asy)):\n    File \"/Users/pooyan/opt/miniconda3/lib/python3.8/site-packages/IPython/core/interactiveshell.py\", line 3427, in run_code\n      exec(code_obj, self.user_global_ns, self.user_ns)\n    File \"<ipython-input-207-d5a51e03eaa1>\", line 4, in <module>\n      history=model.fit(X_train, y_train, validation_data=(X_validation, y_validation),epochs = 20, batch_size = 128, verbose = 1)\n    File \"/Users/pooyan/opt/miniconda3/lib/python3.8/site-packages/keras/utils/traceback_utils.py\", line 64, in error_handler\n      return fn(*args, **kwargs)\n    File \"/Users/pooyan/opt/miniconda3/lib/python3.8/site-packages/keras/engine/training.py\", line 1384, in fit\n      tmp_logs = self.train_function(iterator)\n    File \"/Users/pooyan/opt/miniconda3/lib/python3.8/site-packages/keras/engine/training.py\", line 1021, in train_function\n      return step_function(self, iterator)\n    File \"/Users/pooyan/opt/miniconda3/lib/python3.8/site-packages/keras/engine/training.py\", line 1010, in step_function\n      outputs = model.distribute_strategy.run(run_step, args=(data,))\n    File \"/Users/pooyan/opt/miniconda3/lib/python3.8/site-packages/keras/engine/training.py\", line 1000, in run_step\n      outputs = model.train_step(data)\n    File \"/Users/pooyan/opt/miniconda3/lib/python3.8/site-packages/keras/engine/training.py\", line 860, in train_step\n      loss = self.compute_loss(x, y, y_pred, sample_weight)\n    File \"/Users/pooyan/opt/miniconda3/lib/python3.8/site-packages/keras/engine/training.py\", line 918, in compute_loss\n      return self.compiled_loss(\n    File \"/Users/pooyan/opt/miniconda3/lib/python3.8/site-packages/keras/engine/compile_utils.py\", line 201, in __call__\n      loss_value = loss_obj(y_t, y_p, sample_weight=sw)\n    File \"/Users/pooyan/opt/miniconda3/lib/python3.8/site-packages/keras/losses.py\", line 141, in __call__\n      losses = call_fn(y_true, y_pred)\n    File \"/Users/pooyan/opt/miniconda3/lib/python3.8/site-packages/keras/losses.py\", line 245, in call\n      return ag_fn(y_true, y_pred, **self._fn_kwargs)\n    File \"/Users/pooyan/opt/miniconda3/lib/python3.8/site-packages/keras/losses.py\", line 1862, in sparse_categorical_crossentropy\n      return backend.sparse_categorical_crossentropy(\n    File \"/Users/pooyan/opt/miniconda3/lib/python3.8/site-packages/keras/backend.py\", line 5202, in sparse_categorical_crossentropy\n      res = tf.nn.sparse_softmax_cross_entropy_with_logits(\nNode: 'sparse_categorical_crossentropy/SparseSoftmaxCrossEntropyWithLogits/SparseSoftmaxCrossEntropyWithLogits'\nlogits and labels must have the same first dimension, got logits shape [16512,2] and labels shape [128]\n\t [[{{node sparse_categorical_crossentropy/SparseSoftmaxCrossEntropyWithLogits/SparseSoftmaxCrossEntropyWithLogits}}]] [Op:__inference_train_function_314308]"
     ]
    }
   ],
   "source": [
    "#SGD opimizers\n",
    "model.compile(optimizer=tf.keras.optimizers.SGD(\n",
    "    learning_rate=0.01, momentum=0.0, nesterov=False, name=\"SGD\"),loss=tf.losses.SparseCategoricalCrossentropy(), metrics=[\"accuracy\", \"MeanSquaredError\"])\n",
    "history=model.fit(X_train, y_train, validation_data=(X_validation, y_validation),epochs = 20, batch_size = 128, verbose = 1)\n"
   ]
  },
  {
   "cell_type": "code",
   "execution_count": 209,
   "id": "occupational-planning",
   "metadata": {},
   "outputs": [
    {
     "name": "stdout",
     "output_type": "stream",
     "text": [
      "Model: \"sequential_70\"\n",
      "_________________________________________________________________\n",
      " Layer (type)                Output Shape              Param #   \n",
      "=================================================================\n",
      " conv1d_74 (Conv1D)          (None, 127, 64)           49792     \n",
      "                                                                 \n",
      " conv1d_75 (Conv1D)          (None, 127, 64)           12352     \n",
      "                                                                 \n",
      " dropout_30 (Dropout)        (None, 127, 64)           0         \n",
      "                                                                 \n",
      " max_pooling1d_33 (MaxPoolin  (None, 63, 64)           0         \n",
      " g1D)                                                            \n",
      "                                                                 \n",
      " flatten_31 (Flatten)        (None, 4032)              0         \n",
      "                                                                 \n",
      " dense_84 (Dense)            (None, 100)               403300    \n",
      "                                                                 \n",
      " dense_85 (Dense)            (None, 2)                 202       \n",
      "                                                                 \n",
      "=================================================================\n",
      "Total params: 465,646\n",
      "Trainable params: 465,646\n",
      "Non-trainable params: 0\n",
      "_________________________________________________________________\n"
     ]
    }
   ],
   "source": [
    "model = Sequential()\n",
    "model.add(Conv1D(filters=64, kernel_size=3, activation='relu', input_shape=(129,259)))\n",
    "model.add(Conv1D(filters=64, kernel_size=3, activation='relu', padding = 'same'))\n",
    "model.add(Dropout(0.3))\n",
    "model.add(MaxPooling1D(pool_size=2))\n",
    "model.add(Flatten())\n",
    "model.add(Dense(100, activation='relu'))\n",
    "model.add(Dense(2, activation='softmax'))\n",
    "#model.compile(loss='categorical_crossentropy', optimizer='adam', metrics=['accuracy'])\n",
    "model.summary()"
   ]
  },
  {
   "cell_type": "code",
   "execution_count": 210,
   "id": "classical-alert",
   "metadata": {},
   "outputs": [
    {
     "name": "stdout",
     "output_type": "stream",
     "text": [
      "Epoch 1/20\n",
      "49/49 [==============================] - 3s 58ms/step - loss: 43.6799 - accuracy: 0.8310 - mean_squared_error: 0.4994 - val_loss: 20.4518 - val_accuracy: 0.8962 - val_mean_squared_error: 0.4996\n",
      "Epoch 2/20\n",
      "49/49 [==============================] - 3s 55ms/step - loss: 22.1199 - accuracy: 0.8379 - mean_squared_error: 0.4987 - val_loss: 10.0470 - val_accuracy: 0.8528 - val_mean_squared_error: 0.4975\n",
      "Epoch 3/20\n",
      "49/49 [==============================] - 3s 55ms/step - loss: 15.2092 - accuracy: 0.8363 - mean_squared_error: 0.4980 - val_loss: 11.3367 - val_accuracy: 0.8943 - val_mean_squared_error: 0.4996\n",
      "Epoch 4/20\n",
      "49/49 [==============================] - 3s 55ms/step - loss: 12.0510 - accuracy: 0.8409 - mean_squared_error: 0.4981 - val_loss: 6.7199 - val_accuracy: 0.7983 - val_mean_squared_error: 0.4941\n",
      "Epoch 5/20\n",
      "49/49 [==============================] - 3s 58ms/step - loss: 9.1956 - accuracy: 0.8405 - mean_squared_error: 0.4973 - val_loss: 6.3091 - val_accuracy: 0.8703 - val_mean_squared_error: 0.4973\n",
      "Epoch 6/20\n",
      "49/49 [==============================] - 3s 58ms/step - loss: 7.5815 - accuracy: 0.8421 - mean_squared_error: 0.4964 - val_loss: 4.6230 - val_accuracy: 0.8418 - val_mean_squared_error: 0.4952\n",
      "Epoch 7/20\n",
      "49/49 [==============================] - 3s 56ms/step - loss: 5.9973 - accuracy: 0.8423 - mean_squared_error: 0.4959 - val_loss: 5.2819 - val_accuracy: 0.6997 - val_mean_squared_error: 0.4837\n",
      "Epoch 8/20\n",
      "49/49 [==============================] - 2s 51ms/step - loss: 5.0879 - accuracy: 0.8459 - mean_squared_error: 0.4958 - val_loss: 3.7433 - val_accuracy: 0.7977 - val_mean_squared_error: 0.4881\n",
      "Epoch 9/20\n",
      "49/49 [==============================] - 3s 52ms/step - loss: 4.1673 - accuracy: 0.8485 - mean_squared_error: 0.4947 - val_loss: 3.3888 - val_accuracy: 0.7685 - val_mean_squared_error: 0.4848\n",
      "Epoch 10/20\n",
      "49/49 [==============================] - 3s 56ms/step - loss: 3.6431 - accuracy: 0.8494 - mean_squared_error: 0.4938 - val_loss: 2.8344 - val_accuracy: 0.8281 - val_mean_squared_error: 0.4891\n",
      "Epoch 11/20\n",
      "49/49 [==============================] - 3s 53ms/step - loss: 3.1225 - accuracy: 0.8512 - mean_squared_error: 0.4929 - val_loss: 2.6624 - val_accuracy: 0.7626 - val_mean_squared_error: 0.4790\n",
      "Epoch 12/20\n",
      "49/49 [==============================] - 3s 56ms/step - loss: 2.8813 - accuracy: 0.8538 - mean_squared_error: 0.4928 - val_loss: 2.2275 - val_accuracy: 0.8067 - val_mean_squared_error: 0.4806\n",
      "Epoch 13/20\n",
      "49/49 [==============================] - 3s 57ms/step - loss: 2.5133 - accuracy: 0.8519 - mean_squared_error: 0.4915 - val_loss: 2.0760 - val_accuracy: 0.8048 - val_mean_squared_error: 0.4805\n",
      "Epoch 14/20\n",
      "49/49 [==============================] - 3s 55ms/step - loss: 2.5581 - accuracy: 0.8473 - mean_squared_error: 0.4909 - val_loss: 2.5158 - val_accuracy: 0.9008 - val_mean_squared_error: 0.4974\n",
      "Epoch 15/20\n",
      "49/49 [==============================] - 3s 55ms/step - loss: 2.1474 - accuracy: 0.8563 - mean_squared_error: 0.4907 - val_loss: 1.6578 - val_accuracy: 0.8444 - val_mean_squared_error: 0.4801\n",
      "Epoch 16/20\n",
      "49/49 [==============================] - 3s 55ms/step - loss: 1.8299 - accuracy: 0.8574 - mean_squared_error: 0.4889 - val_loss: 1.7983 - val_accuracy: 0.8936 - val_mean_squared_error: 0.4951\n",
      "Epoch 17/20\n",
      "49/49 [==============================] - 3s 54ms/step - loss: 1.6615 - accuracy: 0.8576 - mean_squared_error: 0.4875 - val_loss: 1.9281 - val_accuracy: 0.9040 - val_mean_squared_error: 0.4976\n",
      "Epoch 18/20\n",
      "49/49 [==============================] - 3s 57ms/step - loss: 1.4213 - accuracy: 0.8673 - mean_squared_error: 0.4867 - val_loss: 1.3402 - val_accuracy: 0.7821 - val_mean_squared_error: 0.4606\n",
      "Epoch 19/20\n",
      "49/49 [==============================] - 3s 57ms/step - loss: 1.2844 - accuracy: 0.8613 - mean_squared_error: 0.4848 - val_loss: 1.2168 - val_accuracy: 0.7918 - val_mean_squared_error: 0.4603\n",
      "Epoch 20/20\n",
      "49/49 [==============================] - 3s 59ms/step - loss: 1.1575 - accuracy: 0.8655 - mean_squared_error: 0.4829 - val_loss: 1.1388 - val_accuracy: 0.8755 - val_mean_squared_error: 0.4820\n"
     ]
    }
   ],
   "source": [
    "model.compile(optimizer=keras.optimizers.Adam(1e-4),loss=tf.losses.SparseCategoricalCrossentropy(), metrics=[\"accuracy\", \"MeanSquaredError\"])\n",
    "history=model.fit(X_train, y_train, validation_data=(X_validation, y_validation),epochs = 20, batch_size = 128, verbose = 1)\n"
   ]
  },
  {
   "cell_type": "code",
   "execution_count": 211,
   "id": "binary-valuable",
   "metadata": {},
   "outputs": [
    {
     "name": "stdout",
     "output_type": "stream",
     "text": [
      "Accuracy: 0.864037\n",
      "Precision: 0.903911\n",
      "Recall: 0.947307\n",
      "F1 score: 0.925100\n",
      "Cohens kappa: 0.193500\n",
      "ROC AUC: 0.580959\n",
      "[[  47  172]\n",
      " [  90 1618]]\n"
     ]
    }
   ],
   "source": [
    "#test\n",
    "pred = model.predict(X_test)\n",
    "y_pred = [0 if y[0]>.40 else 1 for y in pred]\n",
    "\n",
    "from sklearn.metrics import accuracy_score\n",
    "from sklearn.metrics import precision_score\n",
    "from sklearn.metrics import recall_score\n",
    "from sklearn.metrics import f1_score\n",
    "from sklearn.metrics import cohen_kappa_score\n",
    "from sklearn.metrics import roc_auc_score\n",
    "from sklearn.metrics import confusion_matrix\n",
    "# accuracy: (tp + tn) / (p + n)\n",
    "accuracy = accuracy_score(y_test, y_pred)\n",
    "print('Accuracy: %f' % accuracy)\n",
    "# precision tp / (tp + fp)\n",
    "precision = precision_score(y_test, y_pred)\n",
    "print('Precision: %f' % precision)\n",
    "# recall: tp / (tp + fn)\n",
    "recall = recall_score(y_test, y_pred)\n",
    "print('Recall: %f' % recall)\n",
    "# f1: 2 tp / (2 tp + fp + fn)\n",
    "f1 = f1_score(y_test, y_pred)\n",
    "print('F1 score: %f' % f1)\n",
    "# kappa\n",
    "kappa = cohen_kappa_score(y_test, y_pred)\n",
    "print('Cohens kappa: %f' % kappa)\n",
    "# ROC AUC\n",
    "auc = roc_auc_score(y_test, y_pred)\n",
    "print('ROC AUC: %f' % auc)\n",
    "# confusion matrix\n",
    "matrix = confusion_matrix(y_test, y_pred)\n",
    "print(matrix)"
   ]
  },
  {
   "cell_type": "code",
   "execution_count": 214,
   "id": "flexible-recipe",
   "metadata": {},
   "outputs": [
    {
     "name": "stdout",
     "output_type": "stream",
     "text": [
      "Model: \"sequential_71\"\n",
      "_________________________________________________________________\n",
      " Layer (type)                Output Shape              Param #   \n",
      "=================================================================\n",
      " conv1d_77 (Conv1D)          (None, 127, 40)           31120     \n",
      "                                                                 \n",
      " lstm_73 (LSTM)              (None, 127, 30)           8520      \n",
      "                                                                 \n",
      " conv1d_78 (Conv1D)          (None, 125, 20)           1820      \n",
      "                                                                 \n",
      " dropout_31 (Dropout)        (None, 125, 20)           0         \n",
      "                                                                 \n",
      " lstm_74 (LSTM)              (None, 100)               48400     \n",
      "                                                                 \n",
      " dropout_32 (Dropout)        (None, 100)               0         \n",
      "                                                                 \n",
      " dense_87 (Dense)            (None, 100)               10100     \n",
      "                                                                 \n",
      " dropout_33 (Dropout)        (None, 100)               0         \n",
      "                                                                 \n",
      " dense_88 (Dense)            (None, 2)                 202       \n",
      "                                                                 \n",
      "=================================================================\n",
      "Total params: 100,162\n",
      "Trainable params: 100,162\n",
      "Non-trainable params: 0\n",
      "_________________________________________________________________\n"
     ]
    }
   ],
   "source": [
    "model = Sequential()\n",
    "model.add(Conv1D(40, kernel_size=3, activation = 'relu', input_shape=(129,259)))\n",
    "model.add(LSTM(30, return_sequences=True))\n",
    "model.add(Conv1D(20, kernel_size=3, activation = 'relu'))\n",
    "model.add(Dropout(rate=0.2))\n",
    "model.add(LSTM(100))\n",
    "model.add(Dropout(rate=0.2))\n",
    "model.add(Dense(100))\n",
    "model.add(Dropout(rate=0.2))\n",
    "model.add(Dense(2, activation='softmax'))\n",
    "model.summary()"
   ]
  },
  {
   "cell_type": "code",
   "execution_count": 215,
   "id": "composed-closing",
   "metadata": {
    "scrolled": true
   },
   "outputs": [
    {
     "name": "stdout",
     "output_type": "stream",
     "text": [
      "Epoch 1/20\n",
      "49/49 [==============================] - 10s 165ms/step - loss: 0.4945 - accuracy: 0.8994 - mean_squared_error: 0.3015 - val_loss: 0.3230 - val_accuracy: 0.8943 - val_mean_squared_error: 0.4397\n",
      "Epoch 2/20\n",
      "49/49 [==============================] - 7s 152ms/step - loss: 0.3080 - accuracy: 0.8997 - mean_squared_error: 0.4205 - val_loss: 0.3144 - val_accuracy: 0.8943 - val_mean_squared_error: 0.4115\n",
      "Epoch 3/20\n",
      "49/49 [==============================] - 8s 153ms/step - loss: 0.3066 - accuracy: 0.8997 - mean_squared_error: 0.4140 - val_loss: 0.3134 - val_accuracy: 0.8943 - val_mean_squared_error: 0.4140\n",
      "Epoch 4/20\n",
      "49/49 [==============================] - 7s 153ms/step - loss: 0.3073 - accuracy: 0.8997 - mean_squared_error: 0.4128 - val_loss: 0.3149 - val_accuracy: 0.8943 - val_mean_squared_error: 0.4296\n",
      "Epoch 5/20\n",
      "49/49 [==============================] - 7s 153ms/step - loss: 0.3060 - accuracy: 0.8997 - mean_squared_error: 0.4195 - val_loss: 0.3120 - val_accuracy: 0.8943 - val_mean_squared_error: 0.4023\n",
      "Epoch 6/20\n",
      "49/49 [==============================] - 7s 153ms/step - loss: 0.3048 - accuracy: 0.8997 - mean_squared_error: 0.4138 - val_loss: 0.3092 - val_accuracy: 0.8943 - val_mean_squared_error: 0.4132\n",
      "Epoch 7/20\n",
      "49/49 [==============================] - 8s 155ms/step - loss: 0.3013 - accuracy: 0.8997 - mean_squared_error: 0.4168 - val_loss: 0.3073 - val_accuracy: 0.8943 - val_mean_squared_error: 0.4194\n",
      "Epoch 8/20\n",
      "49/49 [==============================] - 7s 152ms/step - loss: 0.2990 - accuracy: 0.9010 - mean_squared_error: 0.4165 - val_loss: 0.3061 - val_accuracy: 0.9125 - val_mean_squared_error: 0.4062\n",
      "Epoch 9/20\n",
      "49/49 [==============================] - 7s 153ms/step - loss: 0.2991 - accuracy: 0.9166 - mean_squared_error: 0.4158 - val_loss: 0.3033 - val_accuracy: 0.9137 - val_mean_squared_error: 0.4204\n",
      "Epoch 10/20\n",
      "49/49 [==============================] - 8s 155ms/step - loss: 0.2949 - accuracy: 0.9179 - mean_squared_error: 0.4183 - val_loss: 0.3003 - val_accuracy: 0.9137 - val_mean_squared_error: 0.4112\n",
      "Epoch 11/20\n",
      "49/49 [==============================] - 8s 158ms/step - loss: 0.2918 - accuracy: 0.9181 - mean_squared_error: 0.4162 - val_loss: 0.3013 - val_accuracy: 0.9144 - val_mean_squared_error: 0.4404\n",
      "Epoch 12/20\n",
      "49/49 [==============================] - 8s 157ms/step - loss: 0.2900 - accuracy: 0.9182 - mean_squared_error: 0.4219 - val_loss: 0.2960 - val_accuracy: 0.9144 - val_mean_squared_error: 0.4359\n",
      "Epoch 13/20\n",
      "49/49 [==============================] - 8s 154ms/step - loss: 0.2877 - accuracy: 0.9182 - mean_squared_error: 0.4263 - val_loss: 0.2922 - val_accuracy: 0.9144 - val_mean_squared_error: 0.4247\n",
      "Epoch 14/20\n",
      "49/49 [==============================] - 8s 160ms/step - loss: 0.2873 - accuracy: 0.9179 - mean_squared_error: 0.4217 - val_loss: 0.2917 - val_accuracy: 0.9144 - val_mean_squared_error: 0.4232\n",
      "Epoch 15/20\n",
      "49/49 [==============================] - 8s 170ms/step - loss: 0.2847 - accuracy: 0.9182 - mean_squared_error: 0.4234 - val_loss: 0.2932 - val_accuracy: 0.9144 - val_mean_squared_error: 0.4352\n",
      "Epoch 16/20\n",
      "49/49 [==============================] - 8s 172ms/step - loss: 0.2868 - accuracy: 0.9181 - mean_squared_error: 0.4257 - val_loss: 0.2921 - val_accuracy: 0.9144 - val_mean_squared_error: 0.4315\n",
      "Epoch 17/20\n",
      "49/49 [==============================] - 8s 165ms/step - loss: 0.2853 - accuracy: 0.9182 - mean_squared_error: 0.4235 - val_loss: 0.2911 - val_accuracy: 0.9144 - val_mean_squared_error: 0.4188\n",
      "Epoch 18/20\n",
      "49/49 [==============================] - 7s 153ms/step - loss: 0.2867 - accuracy: 0.9181 - mean_squared_error: 0.4219 - val_loss: 0.2911 - val_accuracy: 0.9144 - val_mean_squared_error: 0.4244\n",
      "Epoch 19/20\n",
      "49/49 [==============================] - 8s 155ms/step - loss: 0.2825 - accuracy: 0.9181 - mean_squared_error: 0.4239 - val_loss: 0.2912 - val_accuracy: 0.9144 - val_mean_squared_error: 0.4259\n",
      "Epoch 20/20\n",
      "49/49 [==============================] - 8s 161ms/step - loss: 0.2825 - accuracy: 0.9181 - mean_squared_error: 0.4216 - val_loss: 0.3000 - val_accuracy: 0.9144 - val_mean_squared_error: 0.4498\n"
     ]
    }
   ],
   "source": [
    "model.compile(optimizer=keras.optimizers.Adam(1e-4),loss=tf.losses.SparseCategoricalCrossentropy(), metrics=[\"accuracy\", \"MeanSquaredError\"])\n",
    "history=model.fit(X_train, y_train, validation_data=(X_validation, y_validation),epochs = 20, batch_size = 128, verbose = 1)\n"
   ]
  },
  {
   "cell_type": "code",
   "execution_count": 216,
   "id": "lovely-radiation",
   "metadata": {},
   "outputs": [
    {
     "name": "stdout",
     "output_type": "stream",
     "text": [
      "Accuracy: 0.908147\n",
      "Precision: 0.906101\n",
      "Recall: 1.000000\n",
      "F1 score: 0.950738\n",
      "Cohens kappa: 0.296093\n",
      "ROC AUC: 0.595890\n",
      "[[  42  177]\n",
      " [   0 1708]]\n"
     ]
    }
   ],
   "source": [
    "#test\n",
    "pred = model.predict(X_test)\n",
    "y_pred = [0 if y[0]>.40 else 1 for y in pred]\n",
    "\n",
    "from sklearn.metrics import accuracy_score\n",
    "from sklearn.metrics import precision_score\n",
    "from sklearn.metrics import recall_score\n",
    "from sklearn.metrics import f1_score\n",
    "from sklearn.metrics import cohen_kappa_score\n",
    "from sklearn.metrics import roc_auc_score\n",
    "from sklearn.metrics import confusion_matrix\n",
    "# accuracy: (tp + tn) / (p + n)\n",
    "accuracy = accuracy_score(y_test, y_pred)\n",
    "print('Accuracy: %f' % accuracy)\n",
    "# precision tp / (tp + fp)\n",
    "precision = precision_score(y_test, y_pred)\n",
    "print('Precision: %f' % precision)\n",
    "# recall: tp / (tp + fn)\n",
    "recall = recall_score(y_test, y_pred)\n",
    "print('Recall: %f' % recall)\n",
    "# f1: 2 tp / (2 tp + fp + fn)\n",
    "f1 = f1_score(y_test, y_pred)\n",
    "print('F1 score: %f' % f1)\n",
    "# kappa\n",
    "kappa = cohen_kappa_score(y_test, y_pred)\n",
    "print('Cohens kappa: %f' % kappa)\n",
    "# ROC AUC\n",
    "auc = roc_auc_score(y_test, y_pred)\n",
    "print('ROC AUC: %f' % auc)\n",
    "# confusion matrix\n",
    "matrix = confusion_matrix(y_test, y_pred)\n",
    "print(matrix)"
   ]
  },
  {
   "cell_type": "code",
   "execution_count": 222,
   "id": "failing-possibility",
   "metadata": {},
   "outputs": [
    {
     "name": "stdout",
     "output_type": "stream",
     "text": [
      "Model: \"sequential_75\"\n",
      "_________________________________________________________________\n",
      " Layer (type)                Output Shape              Param #   \n",
      "=================================================================\n",
      " conv1d_81 (Conv1D)          (None, 127, 128)          99584     \n",
      "                                                                 \n",
      " lstm_77 (LSTM)              (None, 127, 128)          131584    \n",
      "                                                                 \n",
      " time_distributed_20 (TimeDi  (None, 127, 2)           258       \n",
      " stributed)                                                      \n",
      "                                                                 \n",
      "=================================================================\n",
      "Total params: 231,426\n",
      "Trainable params: 231,426\n",
      "Non-trainable params: 0\n",
      "_________________________________________________________________\n"
     ]
    }
   ],
   "source": [
    "model = Sequential()\n",
    "model.add(Conv1D(128, kernel_size=3, activation = 'relu', input_shape=(129,259)))\n",
    "model.add(LSTM(128, return_sequences=True))\n",
    "model.add(TimeDistributed(Dense(2, activation='softmax')))\n",
    "model.summary()"
   ]
  },
  {
   "cell_type": "code",
   "execution_count": 223,
   "id": "solved-marker",
   "metadata": {},
   "outputs": [
    {
     "name": "stdout",
     "output_type": "stream",
     "text": [
      "Epoch 1/20\n"
     ]
    },
    {
     "ename": "InvalidArgumentError",
     "evalue": "Graph execution error:\n\nDetected at node 'SquaredDifference' defined at (most recent call last):\n    File \"/Users/pooyan/opt/miniconda3/lib/python3.8/runpy.py\", line 194, in _run_module_as_main\n      return _run_code(code, main_globals, None,\n    File \"/Users/pooyan/opt/miniconda3/lib/python3.8/runpy.py\", line 87, in _run_code\n      exec(code, run_globals)\n    File \"/Users/pooyan/opt/miniconda3/lib/python3.8/site-packages/ipykernel_launcher.py\", line 16, in <module>\n      app.launch_new_instance()\n    File \"/Users/pooyan/opt/miniconda3/lib/python3.8/site-packages/traitlets/config/application.py\", line 845, in launch_instance\n      app.start()\n    File \"/Users/pooyan/opt/miniconda3/lib/python3.8/site-packages/ipykernel/kernelapp.py\", line 612, in start\n      self.io_loop.start()\n    File \"/Users/pooyan/opt/miniconda3/lib/python3.8/site-packages/tornado/platform/asyncio.py\", line 199, in start\n      self.asyncio_loop.run_forever()\n    File \"/Users/pooyan/opt/miniconda3/lib/python3.8/asyncio/base_events.py\", line 570, in run_forever\n      self._run_once()\n    File \"/Users/pooyan/opt/miniconda3/lib/python3.8/asyncio/base_events.py\", line 1859, in _run_once\n      handle._run()\n    File \"/Users/pooyan/opt/miniconda3/lib/python3.8/asyncio/events.py\", line 81, in _run\n      self._context.run(self._callback, *self._args)\n    File \"/Users/pooyan/opt/miniconda3/lib/python3.8/site-packages/tornado/ioloop.py\", line 688, in <lambda>\n      lambda f: self._run_callback(functools.partial(callback, future))\n    File \"/Users/pooyan/opt/miniconda3/lib/python3.8/site-packages/tornado/ioloop.py\", line 741, in _run_callback\n      ret = callback()\n    File \"/Users/pooyan/opt/miniconda3/lib/python3.8/site-packages/tornado/gen.py\", line 814, in inner\n      self.ctx_run(self.run)\n    File \"/Users/pooyan/opt/miniconda3/lib/python3.8/site-packages/tornado/gen.py\", line 775, in run\n      yielded = self.gen.send(value)\n    File \"/Users/pooyan/opt/miniconda3/lib/python3.8/site-packages/ipykernel/kernelbase.py\", line 365, in process_one\n      yield gen.maybe_future(dispatch(*args))\n    File \"/Users/pooyan/opt/miniconda3/lib/python3.8/site-packages/tornado/gen.py\", line 234, in wrapper\n      yielded = ctx_run(next, result)\n    File \"/Users/pooyan/opt/miniconda3/lib/python3.8/site-packages/ipykernel/kernelbase.py\", line 268, in dispatch_shell\n      yield gen.maybe_future(handler(stream, idents, msg))\n    File \"/Users/pooyan/opt/miniconda3/lib/python3.8/site-packages/tornado/gen.py\", line 234, in wrapper\n      yielded = ctx_run(next, result)\n    File \"/Users/pooyan/opt/miniconda3/lib/python3.8/site-packages/ipykernel/kernelbase.py\", line 543, in execute_request\n      self.do_execute(\n    File \"/Users/pooyan/opt/miniconda3/lib/python3.8/site-packages/tornado/gen.py\", line 234, in wrapper\n      yielded = ctx_run(next, result)\n    File \"/Users/pooyan/opt/miniconda3/lib/python3.8/site-packages/ipykernel/ipkernel.py\", line 306, in do_execute\n      res = shell.run_cell(code, store_history=store_history, silent=silent)\n    File \"/Users/pooyan/opt/miniconda3/lib/python3.8/site-packages/ipykernel/zmqshell.py\", line 536, in run_cell\n      return super(ZMQInteractiveShell, self).run_cell(*args, **kwargs)\n    File \"/Users/pooyan/opt/miniconda3/lib/python3.8/site-packages/IPython/core/interactiveshell.py\", line 2886, in run_cell\n      result = self._run_cell(\n    File \"/Users/pooyan/opt/miniconda3/lib/python3.8/site-packages/IPython/core/interactiveshell.py\", line 2932, in _run_cell\n      return runner(coro)\n    File \"/Users/pooyan/opt/miniconda3/lib/python3.8/site-packages/IPython/core/async_helpers.py\", line 68, in _pseudo_sync_runner\n      coro.send(None)\n    File \"/Users/pooyan/opt/miniconda3/lib/python3.8/site-packages/IPython/core/interactiveshell.py\", line 3155, in run_cell_async\n      has_raised = await self.run_ast_nodes(code_ast.body, cell_name,\n    File \"/Users/pooyan/opt/miniconda3/lib/python3.8/site-packages/IPython/core/interactiveshell.py\", line 3347, in run_ast_nodes\n      if (await self.run_code(code, result,  async_=asy)):\n    File \"/Users/pooyan/opt/miniconda3/lib/python3.8/site-packages/IPython/core/interactiveshell.py\", line 3427, in run_code\n      exec(code_obj, self.user_global_ns, self.user_ns)\n    File \"<ipython-input-223-f665dc03078c>\", line 2, in <module>\n      history=model.fit(X_train, y_train, validation_data=(X_validation, y_validation),epochs = 20, batch_size = 128, verbose = 1)\n    File \"/Users/pooyan/opt/miniconda3/lib/python3.8/site-packages/keras/utils/traceback_utils.py\", line 64, in error_handler\n      return fn(*args, **kwargs)\n    File \"/Users/pooyan/opt/miniconda3/lib/python3.8/site-packages/keras/engine/training.py\", line 1384, in fit\n      tmp_logs = self.train_function(iterator)\n    File \"/Users/pooyan/opt/miniconda3/lib/python3.8/site-packages/keras/engine/training.py\", line 1021, in train_function\n      return step_function(self, iterator)\n    File \"/Users/pooyan/opt/miniconda3/lib/python3.8/site-packages/keras/engine/training.py\", line 1010, in step_function\n      outputs = model.distribute_strategy.run(run_step, args=(data,))\n    File \"/Users/pooyan/opt/miniconda3/lib/python3.8/site-packages/keras/engine/training.py\", line 1000, in run_step\n      outputs = model.train_step(data)\n    File \"/Users/pooyan/opt/miniconda3/lib/python3.8/site-packages/keras/engine/training.py\", line 864, in train_step\n      return self.compute_metrics(x, y, y_pred, sample_weight)\n    File \"/Users/pooyan/opt/miniconda3/lib/python3.8/site-packages/keras/engine/training.py\", line 957, in compute_metrics\n      self.compiled_metrics.update_state(y, y_pred, sample_weight)\n    File \"/Users/pooyan/opt/miniconda3/lib/python3.8/site-packages/keras/engine/compile_utils.py\", line 459, in update_state\n      metric_obj.update_state(y_t, y_p, sample_weight=mask)\n    File \"/Users/pooyan/opt/miniconda3/lib/python3.8/site-packages/keras/utils/metrics_utils.py\", line 70, in decorated\n      update_op = update_state_fn(*args, **kwargs)\n    File \"/Users/pooyan/opt/miniconda3/lib/python3.8/site-packages/keras/metrics.py\", line 178, in update_state_fn\n      return ag_update_state(*args, **kwargs)\n    File \"/Users/pooyan/opt/miniconda3/lib/python3.8/site-packages/keras/metrics.py\", line 729, in update_state\n      matches = ag_fn(y_true, y_pred, **self._fn_kwargs)\n    File \"/Users/pooyan/opt/miniconda3/lib/python3.8/site-packages/keras/losses.py\", line 1329, in mean_squared_error\n      return backend.mean(tf.math.squared_difference(y_pred, y_true), axis=-1)\nNode: 'SquaredDifference'\nIncompatible shapes: [128] vs. [128,127,2]\n\t [[{{node SquaredDifference}}]] [Op:__inference_train_function_354835]",
     "output_type": "error",
     "traceback": [
      "\u001b[0;31m---------------------------------------------------------------------------\u001b[0m",
      "\u001b[0;31mInvalidArgumentError\u001b[0m                      Traceback (most recent call last)",
      "\u001b[0;32m<ipython-input-223-f665dc03078c>\u001b[0m in \u001b[0;36m<module>\u001b[0;34m\u001b[0m\n\u001b[1;32m      1\u001b[0m \u001b[0mmodel\u001b[0m\u001b[0;34m.\u001b[0m\u001b[0mcompile\u001b[0m\u001b[0;34m(\u001b[0m\u001b[0moptimizer\u001b[0m\u001b[0;34m=\u001b[0m\u001b[0mkeras\u001b[0m\u001b[0;34m.\u001b[0m\u001b[0moptimizers\u001b[0m\u001b[0;34m.\u001b[0m\u001b[0mAdam\u001b[0m\u001b[0;34m(\u001b[0m\u001b[0;36m1e-4\u001b[0m\u001b[0;34m)\u001b[0m\u001b[0;34m,\u001b[0m\u001b[0mloss\u001b[0m\u001b[0;34m=\u001b[0m\u001b[0mtf\u001b[0m\u001b[0;34m.\u001b[0m\u001b[0mlosses\u001b[0m\u001b[0;34m.\u001b[0m\u001b[0mSparseCategoricalCrossentropy\u001b[0m\u001b[0;34m(\u001b[0m\u001b[0;34m)\u001b[0m\u001b[0;34m,\u001b[0m \u001b[0mmetrics\u001b[0m\u001b[0;34m=\u001b[0m\u001b[0;34m[\u001b[0m\u001b[0;34m\"accuracy\"\u001b[0m\u001b[0;34m,\u001b[0m \u001b[0;34m\"MeanSquaredError\"\u001b[0m\u001b[0;34m]\u001b[0m\u001b[0;34m)\u001b[0m\u001b[0;34m\u001b[0m\u001b[0;34m\u001b[0m\u001b[0m\n\u001b[0;32m----> 2\u001b[0;31m \u001b[0mhistory\u001b[0m\u001b[0;34m=\u001b[0m\u001b[0mmodel\u001b[0m\u001b[0;34m.\u001b[0m\u001b[0mfit\u001b[0m\u001b[0;34m(\u001b[0m\u001b[0mX_train\u001b[0m\u001b[0;34m,\u001b[0m \u001b[0my_train\u001b[0m\u001b[0;34m,\u001b[0m \u001b[0mvalidation_data\u001b[0m\u001b[0;34m=\u001b[0m\u001b[0;34m(\u001b[0m\u001b[0mX_validation\u001b[0m\u001b[0;34m,\u001b[0m \u001b[0my_validation\u001b[0m\u001b[0;34m)\u001b[0m\u001b[0;34m,\u001b[0m\u001b[0mepochs\u001b[0m \u001b[0;34m=\u001b[0m \u001b[0;36m20\u001b[0m\u001b[0;34m,\u001b[0m \u001b[0mbatch_size\u001b[0m \u001b[0;34m=\u001b[0m \u001b[0;36m128\u001b[0m\u001b[0;34m,\u001b[0m \u001b[0mverbose\u001b[0m \u001b[0;34m=\u001b[0m \u001b[0;36m1\u001b[0m\u001b[0;34m)\u001b[0m\u001b[0;34m\u001b[0m\u001b[0;34m\u001b[0m\u001b[0m\n\u001b[0m",
      "\u001b[0;32m~/opt/miniconda3/lib/python3.8/site-packages/keras/utils/traceback_utils.py\u001b[0m in \u001b[0;36merror_handler\u001b[0;34m(*args, **kwargs)\u001b[0m\n\u001b[1;32m     65\u001b[0m     \u001b[0;32mexcept\u001b[0m \u001b[0mException\u001b[0m \u001b[0;32mas\u001b[0m \u001b[0me\u001b[0m\u001b[0;34m:\u001b[0m  \u001b[0;31m# pylint: disable=broad-except\u001b[0m\u001b[0;34m\u001b[0m\u001b[0;34m\u001b[0m\u001b[0m\n\u001b[1;32m     66\u001b[0m       \u001b[0mfiltered_tb\u001b[0m \u001b[0;34m=\u001b[0m \u001b[0m_process_traceback_frames\u001b[0m\u001b[0;34m(\u001b[0m\u001b[0me\u001b[0m\u001b[0;34m.\u001b[0m\u001b[0m__traceback__\u001b[0m\u001b[0;34m)\u001b[0m\u001b[0;34m\u001b[0m\u001b[0;34m\u001b[0m\u001b[0m\n\u001b[0;32m---> 67\u001b[0;31m       \u001b[0;32mraise\u001b[0m \u001b[0me\u001b[0m\u001b[0;34m.\u001b[0m\u001b[0mwith_traceback\u001b[0m\u001b[0;34m(\u001b[0m\u001b[0mfiltered_tb\u001b[0m\u001b[0;34m)\u001b[0m \u001b[0;32mfrom\u001b[0m \u001b[0;32mNone\u001b[0m\u001b[0;34m\u001b[0m\u001b[0;34m\u001b[0m\u001b[0m\n\u001b[0m\u001b[1;32m     68\u001b[0m     \u001b[0;32mfinally\u001b[0m\u001b[0;34m:\u001b[0m\u001b[0;34m\u001b[0m\u001b[0;34m\u001b[0m\u001b[0m\n\u001b[1;32m     69\u001b[0m       \u001b[0;32mdel\u001b[0m \u001b[0mfiltered_tb\u001b[0m\u001b[0;34m\u001b[0m\u001b[0;34m\u001b[0m\u001b[0m\n",
      "\u001b[0;32m~/opt/miniconda3/lib/python3.8/site-packages/tensorflow/python/eager/execute.py\u001b[0m in \u001b[0;36mquick_execute\u001b[0;34m(op_name, num_outputs, inputs, attrs, ctx, name)\u001b[0m\n\u001b[1;32m     52\u001b[0m   \u001b[0;32mtry\u001b[0m\u001b[0;34m:\u001b[0m\u001b[0;34m\u001b[0m\u001b[0;34m\u001b[0m\u001b[0m\n\u001b[1;32m     53\u001b[0m     \u001b[0mctx\u001b[0m\u001b[0;34m.\u001b[0m\u001b[0mensure_initialized\u001b[0m\u001b[0;34m(\u001b[0m\u001b[0;34m)\u001b[0m\u001b[0;34m\u001b[0m\u001b[0;34m\u001b[0m\u001b[0m\n\u001b[0;32m---> 54\u001b[0;31m     tensors = pywrap_tfe.TFE_Py_Execute(ctx._handle, device_name, op_name,\n\u001b[0m\u001b[1;32m     55\u001b[0m                                         inputs, attrs, num_outputs)\n\u001b[1;32m     56\u001b[0m   \u001b[0;32mexcept\u001b[0m \u001b[0mcore\u001b[0m\u001b[0;34m.\u001b[0m\u001b[0m_NotOkStatusException\u001b[0m \u001b[0;32mas\u001b[0m \u001b[0me\u001b[0m\u001b[0;34m:\u001b[0m\u001b[0;34m\u001b[0m\u001b[0;34m\u001b[0m\u001b[0m\n",
      "\u001b[0;31mInvalidArgumentError\u001b[0m: Graph execution error:\n\nDetected at node 'SquaredDifference' defined at (most recent call last):\n    File \"/Users/pooyan/opt/miniconda3/lib/python3.8/runpy.py\", line 194, in _run_module_as_main\n      return _run_code(code, main_globals, None,\n    File \"/Users/pooyan/opt/miniconda3/lib/python3.8/runpy.py\", line 87, in _run_code\n      exec(code, run_globals)\n    File \"/Users/pooyan/opt/miniconda3/lib/python3.8/site-packages/ipykernel_launcher.py\", line 16, in <module>\n      app.launch_new_instance()\n    File \"/Users/pooyan/opt/miniconda3/lib/python3.8/site-packages/traitlets/config/application.py\", line 845, in launch_instance\n      app.start()\n    File \"/Users/pooyan/opt/miniconda3/lib/python3.8/site-packages/ipykernel/kernelapp.py\", line 612, in start\n      self.io_loop.start()\n    File \"/Users/pooyan/opt/miniconda3/lib/python3.8/site-packages/tornado/platform/asyncio.py\", line 199, in start\n      self.asyncio_loop.run_forever()\n    File \"/Users/pooyan/opt/miniconda3/lib/python3.8/asyncio/base_events.py\", line 570, in run_forever\n      self._run_once()\n    File \"/Users/pooyan/opt/miniconda3/lib/python3.8/asyncio/base_events.py\", line 1859, in _run_once\n      handle._run()\n    File \"/Users/pooyan/opt/miniconda3/lib/python3.8/asyncio/events.py\", line 81, in _run\n      self._context.run(self._callback, *self._args)\n    File \"/Users/pooyan/opt/miniconda3/lib/python3.8/site-packages/tornado/ioloop.py\", line 688, in <lambda>\n      lambda f: self._run_callback(functools.partial(callback, future))\n    File \"/Users/pooyan/opt/miniconda3/lib/python3.8/site-packages/tornado/ioloop.py\", line 741, in _run_callback\n      ret = callback()\n    File \"/Users/pooyan/opt/miniconda3/lib/python3.8/site-packages/tornado/gen.py\", line 814, in inner\n      self.ctx_run(self.run)\n    File \"/Users/pooyan/opt/miniconda3/lib/python3.8/site-packages/tornado/gen.py\", line 775, in run\n      yielded = self.gen.send(value)\n    File \"/Users/pooyan/opt/miniconda3/lib/python3.8/site-packages/ipykernel/kernelbase.py\", line 365, in process_one\n      yield gen.maybe_future(dispatch(*args))\n    File \"/Users/pooyan/opt/miniconda3/lib/python3.8/site-packages/tornado/gen.py\", line 234, in wrapper\n      yielded = ctx_run(next, result)\n    File \"/Users/pooyan/opt/miniconda3/lib/python3.8/site-packages/ipykernel/kernelbase.py\", line 268, in dispatch_shell\n      yield gen.maybe_future(handler(stream, idents, msg))\n    File \"/Users/pooyan/opt/miniconda3/lib/python3.8/site-packages/tornado/gen.py\", line 234, in wrapper\n      yielded = ctx_run(next, result)\n    File \"/Users/pooyan/opt/miniconda3/lib/python3.8/site-packages/ipykernel/kernelbase.py\", line 543, in execute_request\n      self.do_execute(\n    File \"/Users/pooyan/opt/miniconda3/lib/python3.8/site-packages/tornado/gen.py\", line 234, in wrapper\n      yielded = ctx_run(next, result)\n    File \"/Users/pooyan/opt/miniconda3/lib/python3.8/site-packages/ipykernel/ipkernel.py\", line 306, in do_execute\n      res = shell.run_cell(code, store_history=store_history, silent=silent)\n    File \"/Users/pooyan/opt/miniconda3/lib/python3.8/site-packages/ipykernel/zmqshell.py\", line 536, in run_cell\n      return super(ZMQInteractiveShell, self).run_cell(*args, **kwargs)\n    File \"/Users/pooyan/opt/miniconda3/lib/python3.8/site-packages/IPython/core/interactiveshell.py\", line 2886, in run_cell\n      result = self._run_cell(\n    File \"/Users/pooyan/opt/miniconda3/lib/python3.8/site-packages/IPython/core/interactiveshell.py\", line 2932, in _run_cell\n      return runner(coro)\n    File \"/Users/pooyan/opt/miniconda3/lib/python3.8/site-packages/IPython/core/async_helpers.py\", line 68, in _pseudo_sync_runner\n      coro.send(None)\n    File \"/Users/pooyan/opt/miniconda3/lib/python3.8/site-packages/IPython/core/interactiveshell.py\", line 3155, in run_cell_async\n      has_raised = await self.run_ast_nodes(code_ast.body, cell_name,\n    File \"/Users/pooyan/opt/miniconda3/lib/python3.8/site-packages/IPython/core/interactiveshell.py\", line 3347, in run_ast_nodes\n      if (await self.run_code(code, result,  async_=asy)):\n    File \"/Users/pooyan/opt/miniconda3/lib/python3.8/site-packages/IPython/core/interactiveshell.py\", line 3427, in run_code\n      exec(code_obj, self.user_global_ns, self.user_ns)\n    File \"<ipython-input-223-f665dc03078c>\", line 2, in <module>\n      history=model.fit(X_train, y_train, validation_data=(X_validation, y_validation),epochs = 20, batch_size = 128, verbose = 1)\n    File \"/Users/pooyan/opt/miniconda3/lib/python3.8/site-packages/keras/utils/traceback_utils.py\", line 64, in error_handler\n      return fn(*args, **kwargs)\n    File \"/Users/pooyan/opt/miniconda3/lib/python3.8/site-packages/keras/engine/training.py\", line 1384, in fit\n      tmp_logs = self.train_function(iterator)\n    File \"/Users/pooyan/opt/miniconda3/lib/python3.8/site-packages/keras/engine/training.py\", line 1021, in train_function\n      return step_function(self, iterator)\n    File \"/Users/pooyan/opt/miniconda3/lib/python3.8/site-packages/keras/engine/training.py\", line 1010, in step_function\n      outputs = model.distribute_strategy.run(run_step, args=(data,))\n    File \"/Users/pooyan/opt/miniconda3/lib/python3.8/site-packages/keras/engine/training.py\", line 1000, in run_step\n      outputs = model.train_step(data)\n    File \"/Users/pooyan/opt/miniconda3/lib/python3.8/site-packages/keras/engine/training.py\", line 864, in train_step\n      return self.compute_metrics(x, y, y_pred, sample_weight)\n    File \"/Users/pooyan/opt/miniconda3/lib/python3.8/site-packages/keras/engine/training.py\", line 957, in compute_metrics\n      self.compiled_metrics.update_state(y, y_pred, sample_weight)\n    File \"/Users/pooyan/opt/miniconda3/lib/python3.8/site-packages/keras/engine/compile_utils.py\", line 459, in update_state\n      metric_obj.update_state(y_t, y_p, sample_weight=mask)\n    File \"/Users/pooyan/opt/miniconda3/lib/python3.8/site-packages/keras/utils/metrics_utils.py\", line 70, in decorated\n      update_op = update_state_fn(*args, **kwargs)\n    File \"/Users/pooyan/opt/miniconda3/lib/python3.8/site-packages/keras/metrics.py\", line 178, in update_state_fn\n      return ag_update_state(*args, **kwargs)\n    File \"/Users/pooyan/opt/miniconda3/lib/python3.8/site-packages/keras/metrics.py\", line 729, in update_state\n      matches = ag_fn(y_true, y_pred, **self._fn_kwargs)\n    File \"/Users/pooyan/opt/miniconda3/lib/python3.8/site-packages/keras/losses.py\", line 1329, in mean_squared_error\n      return backend.mean(tf.math.squared_difference(y_pred, y_true), axis=-1)\nNode: 'SquaredDifference'\nIncompatible shapes: [128] vs. [128,127,2]\n\t [[{{node SquaredDifference}}]] [Op:__inference_train_function_354835]"
     ]
    }
   ],
   "source": [
    "model.compile(optimizer=keras.optimizers.Adam(1e-4),loss=tf.losses.SparseCategoricalCrossentropy(), metrics=[\"accuracy\", \"MeanSquaredError\"])\n",
    "history=model.fit(X_train, y_train, validation_data=(X_validation, y_validation),epochs = 20, batch_size = 128, verbose = 1)\n"
   ]
  },
  {
   "cell_type": "code",
   "execution_count": 227,
   "id": "stunning-veteran",
   "metadata": {},
   "outputs": [
    {
     "ename": "ValueError",
     "evalue": "Input 0 of layer \"conv_lstm1d_6\" is incompatible with the layer: expected ndim=4, found ndim=3. Full shape received: (None, 129, 259)",
     "output_type": "error",
     "traceback": [
      "\u001b[0;31m---------------------------------------------------------------------------\u001b[0m",
      "\u001b[0;31mValueError\u001b[0m                                Traceback (most recent call last)",
      "\u001b[0;32m<ipython-input-227-3d05ca6730c6>\u001b[0m in \u001b[0;36m<module>\u001b[0;34m\u001b[0m\n\u001b[1;32m      1\u001b[0m \u001b[0mmodel\u001b[0m \u001b[0;34m=\u001b[0m \u001b[0mSequential\u001b[0m\u001b[0;34m(\u001b[0m\u001b[0;34m)\u001b[0m\u001b[0;34m\u001b[0m\u001b[0;34m\u001b[0m\u001b[0m\n\u001b[0;32m----> 2\u001b[0;31m \u001b[0mmodel\u001b[0m\u001b[0;34m.\u001b[0m\u001b[0madd\u001b[0m\u001b[0;34m(\u001b[0m\u001b[0mConvLSTM1D\u001b[0m\u001b[0;34m(\u001b[0m\u001b[0mfilters\u001b[0m\u001b[0;34m=\u001b[0m\u001b[0;36m64\u001b[0m\u001b[0;34m,\u001b[0m \u001b[0mkernel_size\u001b[0m\u001b[0;34m=\u001b[0m\u001b[0;34m(\u001b[0m\u001b[0;36m1\u001b[0m\u001b[0;34m)\u001b[0m\u001b[0;34m,\u001b[0m \u001b[0minput_shape\u001b[0m\u001b[0;34m=\u001b[0m\u001b[0;34m(\u001b[0m\u001b[0;36m129\u001b[0m\u001b[0;34m,\u001b[0m \u001b[0;36m259\u001b[0m\u001b[0;34m)\u001b[0m\u001b[0;34m)\u001b[0m\u001b[0;34m)\u001b[0m\u001b[0;34m\u001b[0m\u001b[0;34m\u001b[0m\u001b[0m\n\u001b[0m\u001b[1;32m      3\u001b[0m \u001b[0mmodel\u001b[0m\u001b[0;34m.\u001b[0m\u001b[0madd\u001b[0m\u001b[0;34m(\u001b[0m\u001b[0mFlatten\u001b[0m\u001b[0;34m(\u001b[0m\u001b[0;34m)\u001b[0m\u001b[0;34m)\u001b[0m\u001b[0;34m\u001b[0m\u001b[0;34m\u001b[0m\u001b[0m\n\u001b[1;32m      4\u001b[0m \u001b[0mmodel\u001b[0m\u001b[0;34m.\u001b[0m\u001b[0madd\u001b[0m\u001b[0;34m(\u001b[0m\u001b[0mDense\u001b[0m\u001b[0;34m(\u001b[0m\u001b[0;36m2\u001b[0m\u001b[0;34m)\u001b[0m\u001b[0;34m)\u001b[0m\u001b[0;34m\u001b[0m\u001b[0;34m\u001b[0m\u001b[0m\n",
      "\u001b[0;32m~/opt/miniconda3/lib/python3.8/site-packages/tensorflow/python/training/tracking/base.py\u001b[0m in \u001b[0;36m_method_wrapper\u001b[0;34m(self, *args, **kwargs)\u001b[0m\n\u001b[1;32m    627\u001b[0m     \u001b[0mself\u001b[0m\u001b[0;34m.\u001b[0m\u001b[0m_self_setattr_tracking\u001b[0m \u001b[0;34m=\u001b[0m \u001b[0;32mFalse\u001b[0m  \u001b[0;31m# pylint: disable=protected-access\u001b[0m\u001b[0;34m\u001b[0m\u001b[0;34m\u001b[0m\u001b[0m\n\u001b[1;32m    628\u001b[0m     \u001b[0;32mtry\u001b[0m\u001b[0;34m:\u001b[0m\u001b[0;34m\u001b[0m\u001b[0;34m\u001b[0m\u001b[0m\n\u001b[0;32m--> 629\u001b[0;31m       \u001b[0mresult\u001b[0m \u001b[0;34m=\u001b[0m \u001b[0mmethod\u001b[0m\u001b[0;34m(\u001b[0m\u001b[0mself\u001b[0m\u001b[0;34m,\u001b[0m \u001b[0;34m*\u001b[0m\u001b[0margs\u001b[0m\u001b[0;34m,\u001b[0m \u001b[0;34m**\u001b[0m\u001b[0mkwargs\u001b[0m\u001b[0;34m)\u001b[0m\u001b[0;34m\u001b[0m\u001b[0;34m\u001b[0m\u001b[0m\n\u001b[0m\u001b[1;32m    630\u001b[0m     \u001b[0;32mfinally\u001b[0m\u001b[0;34m:\u001b[0m\u001b[0;34m\u001b[0m\u001b[0;34m\u001b[0m\u001b[0m\n\u001b[1;32m    631\u001b[0m       \u001b[0mself\u001b[0m\u001b[0;34m.\u001b[0m\u001b[0m_self_setattr_tracking\u001b[0m \u001b[0;34m=\u001b[0m \u001b[0mprevious_value\u001b[0m  \u001b[0;31m# pylint: disable=protected-access\u001b[0m\u001b[0;34m\u001b[0m\u001b[0;34m\u001b[0m\u001b[0m\n",
      "\u001b[0;32m~/opt/miniconda3/lib/python3.8/site-packages/keras/utils/traceback_utils.py\u001b[0m in \u001b[0;36merror_handler\u001b[0;34m(*args, **kwargs)\u001b[0m\n\u001b[1;32m     65\u001b[0m     \u001b[0;32mexcept\u001b[0m \u001b[0mException\u001b[0m \u001b[0;32mas\u001b[0m \u001b[0me\u001b[0m\u001b[0;34m:\u001b[0m  \u001b[0;31m# pylint: disable=broad-except\u001b[0m\u001b[0;34m\u001b[0m\u001b[0;34m\u001b[0m\u001b[0m\n\u001b[1;32m     66\u001b[0m       \u001b[0mfiltered_tb\u001b[0m \u001b[0;34m=\u001b[0m \u001b[0m_process_traceback_frames\u001b[0m\u001b[0;34m(\u001b[0m\u001b[0me\u001b[0m\u001b[0;34m.\u001b[0m\u001b[0m__traceback__\u001b[0m\u001b[0;34m)\u001b[0m\u001b[0;34m\u001b[0m\u001b[0;34m\u001b[0m\u001b[0m\n\u001b[0;32m---> 67\u001b[0;31m       \u001b[0;32mraise\u001b[0m \u001b[0me\u001b[0m\u001b[0;34m.\u001b[0m\u001b[0mwith_traceback\u001b[0m\u001b[0;34m(\u001b[0m\u001b[0mfiltered_tb\u001b[0m\u001b[0;34m)\u001b[0m \u001b[0;32mfrom\u001b[0m \u001b[0;32mNone\u001b[0m\u001b[0;34m\u001b[0m\u001b[0;34m\u001b[0m\u001b[0m\n\u001b[0m\u001b[1;32m     68\u001b[0m     \u001b[0;32mfinally\u001b[0m\u001b[0;34m:\u001b[0m\u001b[0;34m\u001b[0m\u001b[0;34m\u001b[0m\u001b[0m\n\u001b[1;32m     69\u001b[0m       \u001b[0;32mdel\u001b[0m \u001b[0mfiltered_tb\u001b[0m\u001b[0;34m\u001b[0m\u001b[0;34m\u001b[0m\u001b[0m\n",
      "\u001b[0;32m~/opt/miniconda3/lib/python3.8/site-packages/keras/engine/input_spec.py\u001b[0m in \u001b[0;36massert_input_compatibility\u001b[0;34m(input_spec, inputs, layer_name)\u001b[0m\n\u001b[1;32m    212\u001b[0m       \u001b[0mndim\u001b[0m \u001b[0;34m=\u001b[0m \u001b[0mshape\u001b[0m\u001b[0;34m.\u001b[0m\u001b[0mrank\u001b[0m\u001b[0;34m\u001b[0m\u001b[0;34m\u001b[0m\u001b[0m\n\u001b[1;32m    213\u001b[0m       \u001b[0;32mif\u001b[0m \u001b[0mndim\u001b[0m \u001b[0;34m!=\u001b[0m \u001b[0mspec\u001b[0m\u001b[0;34m.\u001b[0m\u001b[0mndim\u001b[0m\u001b[0;34m:\u001b[0m\u001b[0;34m\u001b[0m\u001b[0;34m\u001b[0m\u001b[0m\n\u001b[0;32m--> 214\u001b[0;31m         raise ValueError(f'Input {input_index} of layer \"{layer_name}\" '\n\u001b[0m\u001b[1;32m    215\u001b[0m                          \u001b[0;34m'is incompatible with the layer: '\u001b[0m\u001b[0;34m\u001b[0m\u001b[0;34m\u001b[0m\u001b[0m\n\u001b[1;32m    216\u001b[0m                          \u001b[0;34mf'expected ndim={spec.ndim}, found ndim={ndim}. '\u001b[0m\u001b[0;34m\u001b[0m\u001b[0;34m\u001b[0m\u001b[0m\n",
      "\u001b[0;31mValueError\u001b[0m: Input 0 of layer \"conv_lstm1d_6\" is incompatible with the layer: expected ndim=4, found ndim=3. Full shape received: (None, 129, 259)"
     ]
    }
   ],
   "source": [
    "model = Sequential()\n",
    "model.add(ConvLSTM1D(filters=64, kernel_size=(1), input_shape=(129, 259)))\n",
    "model.add(Flatten())\n",
    "model.add(Dense(2))"
   ]
  },
  {
   "cell_type": "code",
   "execution_count": 228,
   "id": "fifty-template",
   "metadata": {},
   "outputs": [
    {
     "name": "stdout",
     "output_type": "stream",
     "text": [
      "Model: \"model_6\"\n",
      "__________________________________________________________________________________________________\n",
      " Layer (type)                   Output Shape         Param #     Connected to                     \n",
      "==================================================================================================\n",
      " input_13 (InputLayer)          [(None, 129, 259)]   0           []                               \n",
      "                                                                                                  \n",
      " bidirectional_21 (Bidirectiona  (None, 129, 200)    288000      ['input_13[0][0]']               \n",
      " l)                                                                                               \n",
      "                                                                                                  \n",
      " conv1d_82 (Conv1D)             (None, 129, 200)     155600      ['input_13[0][0]']               \n",
      "                                                                                                  \n",
      " add_6 (Add)                    (None, 129, 200)     0           ['bidirectional_21[0][0]',       \n",
      "                                                                  'conv1d_82[0][0]']              \n",
      "                                                                                                  \n",
      " conv1d_83 (Conv1D)             (None, 127, 200)     120200      ['add_6[0][0]']                  \n",
      "                                                                                                  \n",
      " global_max_pooling1d_6 (Global  (None, 200)         0           ['conv1d_83[0][0]']              \n",
      " MaxPooling1D)                                                                                    \n",
      "                                                                                                  \n",
      " dense_98 (Dense)               (None, 100)          20100       ['global_max_pooling1d_6[0][0]'] \n",
      "                                                                                                  \n",
      " dense_99 (Dense)               (None, 2)            202         ['dense_98[0][0]']               \n",
      "                                                                                                  \n",
      "==================================================================================================\n",
      "Total params: 584,102\n",
      "Trainable params: 584,102\n",
      "Non-trainable params: 0\n",
      "__________________________________________________________________________________________________\n"
     ]
    }
   ],
   "source": [
    "# two sided model\n",
    "#from keras.layers.core import Input, Model\n",
    "from keras.layers import *\n",
    "from keras.models import *\n",
    "from keras.utils import *\n",
    "from keras.initializers import *\n",
    "import tensorflow as tf\n",
    "\n",
    "\n",
    "inputs = Input((129,259))\n",
    "\n",
    "side1 = Bidirectional(LSTM(100, return_sequences=True))(inputs) #200 total units\n",
    "side2 = Conv1D(200, kernel_size=3, activation = 'relu', padding = 'same')(inputs) #same activation \n",
    "                                                                   #same length\n",
    "\n",
    "merged = Add()([side1, side2]) \n",
    "     #or Concatenate()([side1, side2]) if different number of units/channels/features\n",
    "\n",
    "outputs = Conv1D(200, kernel_size=3)(merged)\n",
    "outputs = GlobalMaxPooling1D()(outputs)\n",
    "outputs = Dense(100)(outputs)\n",
    "outputs = Dense(2, activation='softmax')(outputs)\n",
    "\n",
    "model = Model(inputs, outputs)\n",
    "model.summary()"
   ]
  },
  {
   "cell_type": "code",
   "execution_count": 229,
   "id": "english-kentucky",
   "metadata": {},
   "outputs": [
    {
     "name": "stdout",
     "output_type": "stream",
     "text": [
      "Epoch 1/20\n",
      "49/49 [==============================] - 15s 248ms/step - loss: 141.3748 - accuracy: 0.8277 - mean_squared_error: 0.4997 - val_loss: 71.9901 - val_accuracy: 0.8820 - val_mean_squared_error: 0.4999\n",
      "Epoch 2/20\n",
      "49/49 [==============================] - 12s 247ms/step - loss: 50.2744 - accuracy: 0.8488 - mean_squared_error: 0.4994 - val_loss: 55.7242 - val_accuracy: 0.7815 - val_mean_squared_error: 0.4989\n",
      "Epoch 3/20\n",
      "49/49 [==============================] - 12s 248ms/step - loss: 39.3156 - accuracy: 0.8467 - mean_squared_error: 0.4991 - val_loss: 50.9765 - val_accuracy: 0.8230 - val_mean_squared_error: 0.4998\n",
      "Epoch 4/20\n",
      "49/49 [==============================] - 12s 238ms/step - loss: 38.3435 - accuracy: 0.8512 - mean_squared_error: 0.4993 - val_loss: 80.8637 - val_accuracy: 0.8949 - val_mean_squared_error: 0.5000\n",
      "Epoch 5/20\n",
      "49/49 [==============================] - 12s 238ms/step - loss: 34.3950 - accuracy: 0.8584 - mean_squared_error: 0.4995 - val_loss: 48.1032 - val_accuracy: 0.7782 - val_mean_squared_error: 0.4990\n",
      "Epoch 6/20\n",
      "49/49 [==============================] - 12s 249ms/step - loss: 33.1692 - accuracy: 0.8579 - mean_squared_error: 0.4995 - val_loss: 112.3584 - val_accuracy: 0.4663 - val_mean_squared_error: 0.4980\n",
      "Epoch 7/20\n",
      "49/49 [==============================] - 14s 282ms/step - loss: 30.9862 - accuracy: 0.8550 - mean_squared_error: 0.4991 - val_loss: 50.4607 - val_accuracy: 0.8852 - val_mean_squared_error: 0.4998\n",
      "Epoch 8/20\n",
      "49/49 [==============================] - 13s 272ms/step - loss: 20.6213 - accuracy: 0.8702 - mean_squared_error: 0.4992 - val_loss: 41.6437 - val_accuracy: 0.8100 - val_mean_squared_error: 0.4989\n",
      "Epoch 9/20\n",
      "49/49 [==============================] - 12s 255ms/step - loss: 17.7647 - accuracy: 0.8757 - mean_squared_error: 0.4992 - val_loss: 51.7209 - val_accuracy: 0.6984 - val_mean_squared_error: 0.4989\n",
      "Epoch 10/20\n",
      "49/49 [==============================] - 12s 244ms/step - loss: 17.7702 - accuracy: 0.8772 - mean_squared_error: 0.4991 - val_loss: 39.9715 - val_accuracy: 0.8184 - val_mean_squared_error: 0.4991\n",
      "Epoch 11/20\n",
      "49/49 [==============================] - 12s 251ms/step - loss: 13.3880 - accuracy: 0.8894 - mean_squared_error: 0.4991 - val_loss: 41.1006 - val_accuracy: 0.8677 - val_mean_squared_error: 0.4996\n",
      "Epoch 12/20\n",
      "49/49 [==============================] - 13s 264ms/step - loss: 13.0540 - accuracy: 0.8903 - mean_squared_error: 0.4989 - val_loss: 40.5447 - val_accuracy: 0.8489 - val_mean_squared_error: 0.4995\n",
      "Epoch 13/20\n",
      "49/49 [==============================] - 13s 275ms/step - loss: 12.8739 - accuracy: 0.8871 - mean_squared_error: 0.4993 - val_loss: 40.0700 - val_accuracy: 0.8074 - val_mean_squared_error: 0.4990\n",
      "Epoch 14/20\n",
      "49/49 [==============================] - 13s 263ms/step - loss: 13.7246 - accuracy: 0.8887 - mean_squared_error: 0.4992 - val_loss: 40.9691 - val_accuracy: 0.7970 - val_mean_squared_error: 0.4989\n",
      "Epoch 15/20\n",
      "49/49 [==============================] - 13s 258ms/step - loss: 10.4855 - accuracy: 0.8962 - mean_squared_error: 0.4992 - val_loss: 44.6721 - val_accuracy: 0.7270 - val_mean_squared_error: 0.4990\n",
      "Epoch 16/20\n",
      "49/49 [==============================] - 13s 256ms/step - loss: 9.7093 - accuracy: 0.8983 - mean_squared_error: 0.4992 - val_loss: 48.6451 - val_accuracy: 0.8898 - val_mean_squared_error: 0.4999\n",
      "Epoch 17/20\n",
      "49/49 [==============================] - 13s 263ms/step - loss: 8.3948 - accuracy: 0.9040 - mean_squared_error: 0.4989 - val_loss: 40.2152 - val_accuracy: 0.7990 - val_mean_squared_error: 0.4986\n",
      "Epoch 18/20\n",
      "49/49 [==============================] - 13s 267ms/step - loss: 7.9214 - accuracy: 0.9062 - mean_squared_error: 0.4991 - val_loss: 39.8682 - val_accuracy: 0.7659 - val_mean_squared_error: 0.4989\n",
      "Epoch 19/20\n",
      "49/49 [==============================] - 13s 260ms/step - loss: 8.1978 - accuracy: 0.9082 - mean_squared_error: 0.4992 - val_loss: 49.2450 - val_accuracy: 0.6933 - val_mean_squared_error: 0.4984\n",
      "Epoch 20/20\n",
      "49/49 [==============================] - 13s 270ms/step - loss: 11.1859 - accuracy: 0.8962 - mean_squared_error: 0.4993 - val_loss: 42.9713 - val_accuracy: 0.8787 - val_mean_squared_error: 0.4996\n"
     ]
    }
   ],
   "source": [
    "model.compile(optimizer=keras.optimizers.Adam(1e-4),loss=tf.losses.SparseCategoricalCrossentropy(), metrics=[\"accuracy\", \"MeanSquaredError\"])\n",
    "history=model.fit(X_train, y_train, validation_data=(X_validation, y_validation),epochs = 20, batch_size = 128, verbose = 1)\n"
   ]
  },
  {
   "cell_type": "code",
   "execution_count": 230,
   "id": "amino-municipality",
   "metadata": {},
   "outputs": [
    {
     "ename": "SyntaxError",
     "evalue": "invalid syntax (<ipython-input-230-8a9da4cd0bce>, line 2)",
     "output_type": "error",
     "traceback": [
      "\u001b[0;36m  File \u001b[0;32m\"<ipython-input-230-8a9da4cd0bce>\"\u001b[0;36m, line \u001b[0;32m2\u001b[0m\n\u001b[0;31m    a_ip_img = Input(shape=(129, 259, name=\"Input_a\")\u001b[0m\n\u001b[0m                                          ^\u001b[0m\n\u001b[0;31mSyntaxError\u001b[0m\u001b[0;31m:\u001b[0m invalid syntax\n"
     ]
    }
   ],
   "source": [
    "# Model A\n",
    "a_ip_img = Input(shape=(129, 259, name=\"Input_a\")\n",
    "al_1 = Dense(64, activation = \"relu\",name =\"a_layer_1\")(a_ip_img)\n",
    "al_2 = Dense(128, activation=\"relu\",name =\"a_layer_2\")(al_1)\n",
    "al_3 = Dense(64, activation=\"relu\",name =\"a_layer_3\")(al_2)\n",
    "al_4 = Dense(32, activation=\"sigmoid\",name =\"a_output_layer\")(al_3)\n",
    "\n",
    "#Model B\n",
    "b_ip_img = Input(shape=(32,32,1), name=\"Input_b\")\n",
    "bl_1 = Dense(64, activation=\"relu\",name =\"b_layer_1\")(b_ip_img)\n",
    "bl_2 = Dense(32, activation = \"sigmoid\",name =\"b_output_layer\")(bl_1)\n",
    "\n",
    "#Merging model A and B\n",
    "a_b = concatenate([al_4,bl_2],name=\"concatenated_layer\")\n",
    "\n",
    "#Final Layer\n",
    "output_layer = Dense(2, activation = \"sigmoid\", name = \"output_layer\")(a_b)\n",
    "\n",
    "#Model Definition \n",
    "merged = Model(inputs=[(a_ip_img,b_ip_img)],outputs=[output_layer], name = \"merged model\")\n",
    "\n",
    "#Model Details\n",
    "merged.summary()"
   ]
  },
  {
   "cell_type": "code",
   "execution_count": 233,
   "id": "directed-horse",
   "metadata": {},
   "outputs": [],
   "source": [
    "#merged\n",
    "model1 = Sequential()\n",
    "#input \n",
    "model1.add(Dense(32, input_shape=(129, 259)))\n",
    "model1.add(Activation(\"elu\"))\n",
    "model1.add(Dropout(0.5))\n",
    "model1.add(Dense(16))\n",
    "model1.add(Activation(\"elu\"))\n",
    "model1.add(Dropout(0.25))\n",
    "model1.add(Flatten())\n",
    "\n",
    "model2 = Sequential()\n",
    "#input \n",
    "model2.add(Dense(32, input_shape=(129, 259)))\n",
    "model2.add(Activation(\"elu\"))\n",
    "model2.add(Dropout(0.5))\n",
    "model2.add(Dense(16))\n",
    "model2.add(Activation(\"elu\"))\n",
    "model2.add(Dropout(0.25))\n",
    "model2.add(Flatten())\n",
    "\n",
    "merged = Concatenate()([model1.output,model2.output])\n",
    "z = Dense(128, activation=\"relu\")(merged)\n",
    "z = Dropout(0.25)(z)\n",
    "z = Dense(100, activation=\"relu\")(z)\n",
    "z = Dense(2, activation=\"sigmoid\")(z)\n",
    "\n",
    "model = Model(inputs=[model1.input, model2.input], outputs=z)"
   ]
  },
  {
   "cell_type": "code",
   "execution_count": 234,
   "id": "identified-cannon",
   "metadata": {},
   "outputs": [
    {
     "name": "stdout",
     "output_type": "stream",
     "text": [
      "Model: \"model_7\"\n",
      "__________________________________________________________________________________________________\n",
      " Layer (type)                   Output Shape         Param #     Connected to                     \n",
      "==================================================================================================\n",
      " dense_100_input (InputLayer)   [(None, 129, 259)]   0           []                               \n",
      "                                                                                                  \n",
      " dense_102_input (InputLayer)   [(None, 129, 259)]   0           []                               \n",
      "                                                                                                  \n",
      " dense_100 (Dense)              (None, 129, 32)      8320        ['dense_100_input[0][0]']        \n",
      "                                                                                                  \n",
      " dense_102 (Dense)              (None, 129, 32)      8320        ['dense_102_input[0][0]']        \n",
      "                                                                                                  \n",
      " activation (Activation)        (None, 129, 32)      0           ['dense_100[0][0]']              \n",
      "                                                                                                  \n",
      " activation_2 (Activation)      (None, 129, 32)      0           ['dense_102[0][0]']              \n",
      "                                                                                                  \n",
      " dropout_34 (Dropout)           (None, 129, 32)      0           ['activation[0][0]']             \n",
      "                                                                                                  \n",
      " dropout_36 (Dropout)           (None, 129, 32)      0           ['activation_2[0][0]']           \n",
      "                                                                                                  \n",
      " dense_101 (Dense)              (None, 129, 16)      528         ['dropout_34[0][0]']             \n",
      "                                                                                                  \n",
      " dense_103 (Dense)              (None, 129, 16)      528         ['dropout_36[0][0]']             \n",
      "                                                                                                  \n",
      " activation_1 (Activation)      (None, 129, 16)      0           ['dense_101[0][0]']              \n",
      "                                                                                                  \n",
      " activation_3 (Activation)      (None, 129, 16)      0           ['dense_103[0][0]']              \n",
      "                                                                                                  \n",
      " dropout_35 (Dropout)           (None, 129, 16)      0           ['activation_1[0][0]']           \n",
      "                                                                                                  \n",
      " dropout_37 (Dropout)           (None, 129, 16)      0           ['activation_3[0][0]']           \n",
      "                                                                                                  \n",
      " flatten_35 (Flatten)           (None, 2064)         0           ['dropout_35[0][0]']             \n",
      "                                                                                                  \n",
      " flatten_36 (Flatten)           (None, 2064)         0           ['dropout_37[0][0]']             \n",
      "                                                                                                  \n",
      " concatenate (Concatenate)      (None, 4128)         0           ['flatten_35[0][0]',             \n",
      "                                                                  'flatten_36[0][0]']             \n",
      "                                                                                                  \n",
      " dense_104 (Dense)              (None, 128)          528512      ['concatenate[0][0]']            \n",
      "                                                                                                  \n",
      " dropout_38 (Dropout)           (None, 128)          0           ['dense_104[0][0]']              \n",
      "                                                                                                  \n",
      " dense_105 (Dense)              (None, 100)          12900       ['dropout_38[0][0]']             \n",
      "                                                                                                  \n",
      " dense_106 (Dense)              (None, 2)            202         ['dense_105[0][0]']              \n",
      "                                                                                                  \n",
      "==================================================================================================\n",
      "Total params: 559,310\n",
      "Trainable params: 559,310\n",
      "Non-trainable params: 0\n",
      "__________________________________________________________________________________________________\n"
     ]
    }
   ],
   "source": [
    "model.summary()"
   ]
  },
  {
   "cell_type": "code",
   "execution_count": 235,
   "id": "opponent-strain",
   "metadata": {
    "scrolled": true
   },
   "outputs": [
    {
     "name": "stdout",
     "output_type": "stream",
     "text": [
      "Epoch 1/20\n"
     ]
    },
    {
     "ename": "ValueError",
     "evalue": "in user code:\n\n    File \"/Users/pooyan/opt/miniconda3/lib/python3.8/site-packages/keras/engine/training.py\", line 1021, in train_function  *\n        return step_function(self, iterator)\n    File \"/Users/pooyan/opt/miniconda3/lib/python3.8/site-packages/keras/engine/training.py\", line 1010, in step_function  **\n        outputs = model.distribute_strategy.run(run_step, args=(data,))\n    File \"/Users/pooyan/opt/miniconda3/lib/python3.8/site-packages/keras/engine/training.py\", line 1000, in run_step  **\n        outputs = model.train_step(data)\n    File \"/Users/pooyan/opt/miniconda3/lib/python3.8/site-packages/keras/engine/training.py\", line 859, in train_step\n        y_pred = self(x, training=True)\n    File \"/Users/pooyan/opt/miniconda3/lib/python3.8/site-packages/keras/utils/traceback_utils.py\", line 67, in error_handler\n        raise e.with_traceback(filtered_tb) from None\n    File \"/Users/pooyan/opt/miniconda3/lib/python3.8/site-packages/keras/engine/input_spec.py\", line 200, in assert_input_compatibility\n        raise ValueError(f'Layer \"{layer_name}\" expects {len(input_spec)} input(s),'\n\n    ValueError: Layer \"model_7\" expects 2 input(s), but it received 1 input tensors. Inputs received: [<tf.Tensor 'IteratorGetNext:0' shape=(None, 129, 259) dtype=float32>]\n",
     "output_type": "error",
     "traceback": [
      "\u001b[0;31m---------------------------------------------------------------------------\u001b[0m",
      "\u001b[0;31mValueError\u001b[0m                                Traceback (most recent call last)",
      "\u001b[0;32m<ipython-input-235-f665dc03078c>\u001b[0m in \u001b[0;36m<module>\u001b[0;34m\u001b[0m\n\u001b[1;32m      1\u001b[0m \u001b[0mmodel\u001b[0m\u001b[0;34m.\u001b[0m\u001b[0mcompile\u001b[0m\u001b[0;34m(\u001b[0m\u001b[0moptimizer\u001b[0m\u001b[0;34m=\u001b[0m\u001b[0mkeras\u001b[0m\u001b[0;34m.\u001b[0m\u001b[0moptimizers\u001b[0m\u001b[0;34m.\u001b[0m\u001b[0mAdam\u001b[0m\u001b[0;34m(\u001b[0m\u001b[0;36m1e-4\u001b[0m\u001b[0;34m)\u001b[0m\u001b[0;34m,\u001b[0m\u001b[0mloss\u001b[0m\u001b[0;34m=\u001b[0m\u001b[0mtf\u001b[0m\u001b[0;34m.\u001b[0m\u001b[0mlosses\u001b[0m\u001b[0;34m.\u001b[0m\u001b[0mSparseCategoricalCrossentropy\u001b[0m\u001b[0;34m(\u001b[0m\u001b[0;34m)\u001b[0m\u001b[0;34m,\u001b[0m \u001b[0mmetrics\u001b[0m\u001b[0;34m=\u001b[0m\u001b[0;34m[\u001b[0m\u001b[0;34m\"accuracy\"\u001b[0m\u001b[0;34m,\u001b[0m \u001b[0;34m\"MeanSquaredError\"\u001b[0m\u001b[0;34m]\u001b[0m\u001b[0;34m)\u001b[0m\u001b[0;34m\u001b[0m\u001b[0;34m\u001b[0m\u001b[0m\n\u001b[0;32m----> 2\u001b[0;31m \u001b[0mhistory\u001b[0m\u001b[0;34m=\u001b[0m\u001b[0mmodel\u001b[0m\u001b[0;34m.\u001b[0m\u001b[0mfit\u001b[0m\u001b[0;34m(\u001b[0m\u001b[0mX_train\u001b[0m\u001b[0;34m,\u001b[0m \u001b[0my_train\u001b[0m\u001b[0;34m,\u001b[0m \u001b[0mvalidation_data\u001b[0m\u001b[0;34m=\u001b[0m\u001b[0;34m(\u001b[0m\u001b[0mX_validation\u001b[0m\u001b[0;34m,\u001b[0m \u001b[0my_validation\u001b[0m\u001b[0;34m)\u001b[0m\u001b[0;34m,\u001b[0m\u001b[0mepochs\u001b[0m \u001b[0;34m=\u001b[0m \u001b[0;36m20\u001b[0m\u001b[0;34m,\u001b[0m \u001b[0mbatch_size\u001b[0m \u001b[0;34m=\u001b[0m \u001b[0;36m128\u001b[0m\u001b[0;34m,\u001b[0m \u001b[0mverbose\u001b[0m \u001b[0;34m=\u001b[0m \u001b[0;36m1\u001b[0m\u001b[0;34m)\u001b[0m\u001b[0;34m\u001b[0m\u001b[0;34m\u001b[0m\u001b[0m\n\u001b[0m",
      "\u001b[0;32m~/opt/miniconda3/lib/python3.8/site-packages/keras/utils/traceback_utils.py\u001b[0m in \u001b[0;36merror_handler\u001b[0;34m(*args, **kwargs)\u001b[0m\n\u001b[1;32m     65\u001b[0m     \u001b[0;32mexcept\u001b[0m \u001b[0mException\u001b[0m \u001b[0;32mas\u001b[0m \u001b[0me\u001b[0m\u001b[0;34m:\u001b[0m  \u001b[0;31m# pylint: disable=broad-except\u001b[0m\u001b[0;34m\u001b[0m\u001b[0;34m\u001b[0m\u001b[0m\n\u001b[1;32m     66\u001b[0m       \u001b[0mfiltered_tb\u001b[0m \u001b[0;34m=\u001b[0m \u001b[0m_process_traceback_frames\u001b[0m\u001b[0;34m(\u001b[0m\u001b[0me\u001b[0m\u001b[0;34m.\u001b[0m\u001b[0m__traceback__\u001b[0m\u001b[0;34m)\u001b[0m\u001b[0;34m\u001b[0m\u001b[0;34m\u001b[0m\u001b[0m\n\u001b[0;32m---> 67\u001b[0;31m       \u001b[0;32mraise\u001b[0m \u001b[0me\u001b[0m\u001b[0;34m.\u001b[0m\u001b[0mwith_traceback\u001b[0m\u001b[0;34m(\u001b[0m\u001b[0mfiltered_tb\u001b[0m\u001b[0;34m)\u001b[0m \u001b[0;32mfrom\u001b[0m \u001b[0;32mNone\u001b[0m\u001b[0;34m\u001b[0m\u001b[0;34m\u001b[0m\u001b[0m\n\u001b[0m\u001b[1;32m     68\u001b[0m     \u001b[0;32mfinally\u001b[0m\u001b[0;34m:\u001b[0m\u001b[0;34m\u001b[0m\u001b[0;34m\u001b[0m\u001b[0m\n\u001b[1;32m     69\u001b[0m       \u001b[0;32mdel\u001b[0m \u001b[0mfiltered_tb\u001b[0m\u001b[0;34m\u001b[0m\u001b[0;34m\u001b[0m\u001b[0m\n",
      "\u001b[0;32m~/opt/miniconda3/lib/python3.8/site-packages/tensorflow/python/framework/func_graph.py\u001b[0m in \u001b[0;36mautograph_handler\u001b[0;34m(*args, **kwargs)\u001b[0m\n\u001b[1;32m   1145\u001b[0m           \u001b[0;32mexcept\u001b[0m \u001b[0mException\u001b[0m \u001b[0;32mas\u001b[0m \u001b[0me\u001b[0m\u001b[0;34m:\u001b[0m  \u001b[0;31m# pylint:disable=broad-except\u001b[0m\u001b[0;34m\u001b[0m\u001b[0;34m\u001b[0m\u001b[0m\n\u001b[1;32m   1146\u001b[0m             \u001b[0;32mif\u001b[0m \u001b[0mhasattr\u001b[0m\u001b[0;34m(\u001b[0m\u001b[0me\u001b[0m\u001b[0;34m,\u001b[0m \u001b[0;34m\"ag_error_metadata\"\u001b[0m\u001b[0;34m)\u001b[0m\u001b[0;34m:\u001b[0m\u001b[0;34m\u001b[0m\u001b[0;34m\u001b[0m\u001b[0m\n\u001b[0;32m-> 1147\u001b[0;31m               \u001b[0;32mraise\u001b[0m \u001b[0me\u001b[0m\u001b[0;34m.\u001b[0m\u001b[0mag_error_metadata\u001b[0m\u001b[0;34m.\u001b[0m\u001b[0mto_exception\u001b[0m\u001b[0;34m(\u001b[0m\u001b[0me\u001b[0m\u001b[0;34m)\u001b[0m\u001b[0;34m\u001b[0m\u001b[0;34m\u001b[0m\u001b[0m\n\u001b[0m\u001b[1;32m   1148\u001b[0m             \u001b[0;32melse\u001b[0m\u001b[0;34m:\u001b[0m\u001b[0;34m\u001b[0m\u001b[0;34m\u001b[0m\u001b[0m\n\u001b[1;32m   1149\u001b[0m               \u001b[0;32mraise\u001b[0m\u001b[0;34m\u001b[0m\u001b[0;34m\u001b[0m\u001b[0m\n",
      "\u001b[0;31mValueError\u001b[0m: in user code:\n\n    File \"/Users/pooyan/opt/miniconda3/lib/python3.8/site-packages/keras/engine/training.py\", line 1021, in train_function  *\n        return step_function(self, iterator)\n    File \"/Users/pooyan/opt/miniconda3/lib/python3.8/site-packages/keras/engine/training.py\", line 1010, in step_function  **\n        outputs = model.distribute_strategy.run(run_step, args=(data,))\n    File \"/Users/pooyan/opt/miniconda3/lib/python3.8/site-packages/keras/engine/training.py\", line 1000, in run_step  **\n        outputs = model.train_step(data)\n    File \"/Users/pooyan/opt/miniconda3/lib/python3.8/site-packages/keras/engine/training.py\", line 859, in train_step\n        y_pred = self(x, training=True)\n    File \"/Users/pooyan/opt/miniconda3/lib/python3.8/site-packages/keras/utils/traceback_utils.py\", line 67, in error_handler\n        raise e.with_traceback(filtered_tb) from None\n    File \"/Users/pooyan/opt/miniconda3/lib/python3.8/site-packages/keras/engine/input_spec.py\", line 200, in assert_input_compatibility\n        raise ValueError(f'Layer \"{layer_name}\" expects {len(input_spec)} input(s),'\n\n    ValueError: Layer \"model_7\" expects 2 input(s), but it received 1 input tensors. Inputs received: [<tf.Tensor 'IteratorGetNext:0' shape=(None, 129, 259) dtype=float32>]\n"
     ]
    }
   ],
   "source": [
    "model.compile(optimizer=keras.optimizers.Adam(1e-4),loss=tf.losses.SparseCategoricalCrossentropy(), metrics=[\"accuracy\", \"MeanSquaredError\"])\n",
    "history=model.fit(X_train, y_train, validation_data=(X_validation, y_validation),epochs = 20, batch_size = 128, verbose = 1)\n"
   ]
  },
  {
   "cell_type": "code",
   "execution_count": 237,
   "id": "exceptional-begin",
   "metadata": {},
   "outputs": [
    {
     "name": "stdout",
     "output_type": "stream",
     "text": [
      "Collecting scikeras\n",
      "  Downloading scikeras-0.9.0-py3-none-any.whl (27 kB)\n",
      "Collecting scikit-learn>=1.0.0\n",
      "  Downloading scikit_learn-1.1.2-cp38-cp38-macosx_10_9_x86_64.whl (8.6 MB)\n",
      "\u001b[K     |████████████████████████████████| 8.6 MB 2.2 MB/s eta 0:00:01\n",
      "\u001b[?25hRequirement already satisfied: packaging>=0.21 in ./opt/miniconda3/lib/python3.8/site-packages (from scikeras) (20.9)\n",
      "Requirement already satisfied: numpy>=1.17.3 in ./opt/miniconda3/lib/python3.8/site-packages (from scikit-learn>=1.0.0->scikeras) (1.21.2)\n",
      "Requirement already satisfied: threadpoolctl>=2.0.0 in ./opt/miniconda3/lib/python3.8/site-packages (from scikit-learn>=1.0.0->scikeras) (2.2.0)\n",
      "Requirement already satisfied: joblib>=1.0.0 in ./opt/miniconda3/lib/python3.8/site-packages (from scikit-learn>=1.0.0->scikeras) (1.1.0)\n",
      "Requirement already satisfied: scipy>=1.3.2 in ./opt/miniconda3/lib/python3.8/site-packages (from scikit-learn>=1.0.0->scikeras) (1.7.1)\n",
      "Requirement already satisfied: pyparsing>=2.0.2 in ./opt/miniconda3/lib/python3.8/site-packages (from packaging>=0.21->scikeras) (2.4.7)\n",
      "Installing collected packages: scikit-learn, scikeras\n",
      "  Attempting uninstall: scikit-learn\n",
      "    Found existing installation: scikit-learn 0.24.2\n",
      "    Uninstalling scikit-learn-0.24.2:\n",
      "      Successfully uninstalled scikit-learn-0.24.2\n",
      "Successfully installed scikeras-0.9.0 scikit-learn-1.1.2\n",
      "Note: you may need to restart the kernel to use updated packages.\n"
     ]
    }
   ],
   "source": [
    "pip install scikeras\n"
   ]
  },
  {
   "cell_type": "code",
   "execution_count": 239,
   "id": "vertical-sampling",
   "metadata": {},
   "outputs": [
    {
     "ename": "ImportError",
     "evalue": "cannot import name 'available_if' from 'sklearn.utils.metaestimators' (/Users/pooyan/opt/miniconda3/lib/python3.8/site-packages/sklearn/utils/metaestimators.py)",
     "output_type": "error",
     "traceback": [
      "\u001b[0;31m---------------------------------------------------------------------------\u001b[0m",
      "\u001b[0;31mImportError\u001b[0m                               Traceback (most recent call last)",
      "\u001b[0;32m<ipython-input-239-c0d0b8052144>\u001b[0m in \u001b[0;36m<module>\u001b[0;34m\u001b[0m\n\u001b[0;32m----> 1\u001b[0;31m \u001b[0;32mfrom\u001b[0m \u001b[0mscikeras\u001b[0m\u001b[0;34m.\u001b[0m\u001b[0mwrappers\u001b[0m \u001b[0;32mimport\u001b[0m \u001b[0mKerasClassifier\u001b[0m\u001b[0;34m\u001b[0m\u001b[0;34m\u001b[0m\u001b[0m\n\u001b[0m",
      "\u001b[0;32m~/opt/miniconda3/lib/python3.8/site-packages/scikeras/wrappers.py\u001b[0m in \u001b[0;36m<module>\u001b[0;34m\u001b[0m\n\u001b[1;32m     36\u001b[0m \u001b[0;32mfrom\u001b[0m \u001b[0mscikeras\u001b[0m\u001b[0;34m.\u001b[0m\u001b[0mutils\u001b[0m \u001b[0;32mimport\u001b[0m \u001b[0mloss_name\u001b[0m\u001b[0;34m,\u001b[0m \u001b[0mmetric_name\u001b[0m\u001b[0;34m\u001b[0m\u001b[0;34m\u001b[0m\u001b[0m\n\u001b[1;32m     37\u001b[0m \u001b[0;32mfrom\u001b[0m \u001b[0mscikeras\u001b[0m\u001b[0;34m.\u001b[0m\u001b[0mutils\u001b[0m\u001b[0;34m.\u001b[0m\u001b[0mrandom_state\u001b[0m \u001b[0;32mimport\u001b[0m \u001b[0mtensorflow_random_state\u001b[0m\u001b[0;34m\u001b[0m\u001b[0;34m\u001b[0m\u001b[0m\n\u001b[0;32m---> 38\u001b[0;31m \u001b[0;32mfrom\u001b[0m \u001b[0mscikeras\u001b[0m\u001b[0;34m.\u001b[0m\u001b[0mutils\u001b[0m\u001b[0;34m.\u001b[0m\u001b[0mtransformers\u001b[0m \u001b[0;32mimport\u001b[0m \u001b[0mClassifierLabelEncoder\u001b[0m\u001b[0;34m,\u001b[0m \u001b[0mRegressorTargetEncoder\u001b[0m\u001b[0;34m\u001b[0m\u001b[0;34m\u001b[0m\u001b[0m\n\u001b[0m\u001b[1;32m     39\u001b[0m \u001b[0;34m\u001b[0m\u001b[0m\n\u001b[1;32m     40\u001b[0m \u001b[0;34m\u001b[0m\u001b[0m\n",
      "\u001b[0;32m~/opt/miniconda3/lib/python3.8/site-packages/scikeras/utils/transformers.py\u001b[0m in \u001b[0;36m<module>\u001b[0;34m\u001b[0m\n\u001b[1;32m      6\u001b[0m \u001b[0;32mfrom\u001b[0m \u001b[0msklearn\u001b[0m\u001b[0;34m.\u001b[0m\u001b[0mbase\u001b[0m \u001b[0;32mimport\u001b[0m \u001b[0mBaseEstimator\u001b[0m\u001b[0;34m,\u001b[0m \u001b[0mTransformerMixin\u001b[0m\u001b[0;34m\u001b[0m\u001b[0;34m\u001b[0m\u001b[0m\n\u001b[1;32m      7\u001b[0m \u001b[0;32mfrom\u001b[0m \u001b[0msklearn\u001b[0m\u001b[0;34m.\u001b[0m\u001b[0mexceptions\u001b[0m \u001b[0;32mimport\u001b[0m \u001b[0mNotFittedError\u001b[0m\u001b[0;34m\u001b[0m\u001b[0;34m\u001b[0m\u001b[0m\n\u001b[0;32m----> 8\u001b[0;31m \u001b[0;32mfrom\u001b[0m \u001b[0msklearn\u001b[0m\u001b[0;34m.\u001b[0m\u001b[0mpipeline\u001b[0m \u001b[0;32mimport\u001b[0m \u001b[0mmake_pipeline\u001b[0m\u001b[0;34m\u001b[0m\u001b[0;34m\u001b[0m\u001b[0m\n\u001b[0m\u001b[1;32m      9\u001b[0m \u001b[0;32mfrom\u001b[0m \u001b[0msklearn\u001b[0m\u001b[0;34m.\u001b[0m\u001b[0mpreprocessing\u001b[0m \u001b[0;32mimport\u001b[0m \u001b[0mFunctionTransformer\u001b[0m\u001b[0;34m,\u001b[0m \u001b[0mOneHotEncoder\u001b[0m\u001b[0;34m,\u001b[0m \u001b[0mOrdinalEncoder\u001b[0m\u001b[0;34m\u001b[0m\u001b[0;34m\u001b[0m\u001b[0m\n\u001b[1;32m     10\u001b[0m \u001b[0;32mfrom\u001b[0m \u001b[0msklearn\u001b[0m\u001b[0;34m.\u001b[0m\u001b[0mutils\u001b[0m\u001b[0;34m.\u001b[0m\u001b[0mmulticlass\u001b[0m \u001b[0;32mimport\u001b[0m \u001b[0mtype_of_target\u001b[0m\u001b[0;34m\u001b[0m\u001b[0;34m\u001b[0m\u001b[0m\n",
      "\u001b[0;32m~/opt/miniconda3/lib/python3.8/site-packages/sklearn/pipeline.py\u001b[0m in \u001b[0;36m<module>\u001b[0;34m\u001b[0m\n\u001b[1;32m     20\u001b[0m \u001b[0;32mfrom\u001b[0m \u001b[0;34m.\u001b[0m\u001b[0mpreprocessing\u001b[0m \u001b[0;32mimport\u001b[0m \u001b[0mFunctionTransformer\u001b[0m\u001b[0;34m\u001b[0m\u001b[0;34m\u001b[0m\u001b[0m\n\u001b[1;32m     21\u001b[0m \u001b[0;32mfrom\u001b[0m \u001b[0;34m.\u001b[0m\u001b[0mutils\u001b[0m\u001b[0;34m.\u001b[0m\u001b[0m_estimator_html_repr\u001b[0m \u001b[0;32mimport\u001b[0m \u001b[0m_VisualBlock\u001b[0m\u001b[0;34m\u001b[0m\u001b[0;34m\u001b[0m\u001b[0m\n\u001b[0;32m---> 22\u001b[0;31m \u001b[0;32mfrom\u001b[0m \u001b[0;34m.\u001b[0m\u001b[0mutils\u001b[0m\u001b[0;34m.\u001b[0m\u001b[0mmetaestimators\u001b[0m \u001b[0;32mimport\u001b[0m \u001b[0mavailable_if\u001b[0m\u001b[0;34m\u001b[0m\u001b[0;34m\u001b[0m\u001b[0m\n\u001b[0m\u001b[1;32m     23\u001b[0m from .utils import (\n\u001b[1;32m     24\u001b[0m     \u001b[0mBunch\u001b[0m\u001b[0;34m,\u001b[0m\u001b[0;34m\u001b[0m\u001b[0;34m\u001b[0m\u001b[0m\n",
      "\u001b[0;31mImportError\u001b[0m: cannot import name 'available_if' from 'sklearn.utils.metaestimators' (/Users/pooyan/opt/miniconda3/lib/python3.8/site-packages/sklearn/utils/metaestimators.py)"
     ]
    }
   ],
   "source": [
    "from scikeras.wrappers import KerasClassifier\n"
   ]
  },
  {
   "cell_type": "code",
   "execution_count": 240,
   "id": "mineral-string",
   "metadata": {},
   "outputs": [
    {
     "ename": "ImportError",
     "evalue": "cannot import name 'available_if' from 'sklearn.utils.metaestimators' (/Users/pooyan/opt/miniconda3/lib/python3.8/site-packages/sklearn/utils/metaestimators.py)",
     "output_type": "error",
     "traceback": [
      "\u001b[0;31m---------------------------------------------------------------------------\u001b[0m",
      "\u001b[0;31mImportError\u001b[0m                               Traceback (most recent call last)",
      "\u001b[0;32m<ipython-input-240-75f19f4869ea>\u001b[0m in \u001b[0;36m<module>\u001b[0;34m\u001b[0m\n\u001b[1;32m      4\u001b[0m \u001b[0;32mfrom\u001b[0m \u001b[0mtensorflow\u001b[0m\u001b[0;34m.\u001b[0m\u001b[0mkeras\u001b[0m\u001b[0;34m.\u001b[0m\u001b[0mmodels\u001b[0m \u001b[0;32mimport\u001b[0m \u001b[0mSequential\u001b[0m\u001b[0;34m\u001b[0m\u001b[0;34m\u001b[0m\u001b[0m\n\u001b[1;32m      5\u001b[0m \u001b[0;32mfrom\u001b[0m \u001b[0mtensorflow\u001b[0m\u001b[0;34m.\u001b[0m\u001b[0mkeras\u001b[0m\u001b[0;34m.\u001b[0m\u001b[0mlayers\u001b[0m \u001b[0;32mimport\u001b[0m \u001b[0mDense\u001b[0m\u001b[0;34m\u001b[0m\u001b[0;34m\u001b[0m\u001b[0m\n\u001b[0;32m----> 6\u001b[0;31m \u001b[0;32mfrom\u001b[0m \u001b[0mscikeras\u001b[0m\u001b[0;34m.\u001b[0m\u001b[0mwrappers\u001b[0m \u001b[0;32mimport\u001b[0m \u001b[0mKerasClassifier\u001b[0m\u001b[0;34m\u001b[0m\u001b[0;34m\u001b[0m\u001b[0m\n\u001b[0m\u001b[1;32m      7\u001b[0m \u001b[0;34m\u001b[0m\u001b[0m\n\u001b[1;32m      8\u001b[0m \u001b[0mmodel\u001b[0m \u001b[0;34m=\u001b[0m \u001b[0mKerasClassifier\u001b[0m\u001b[0;34m(\u001b[0m\u001b[0mmodel\u001b[0m\u001b[0;34m=\u001b[0m\u001b[0mcreate_model\u001b[0m\u001b[0;34m,\u001b[0m \u001b[0mverbose\u001b[0m\u001b[0;34m=\u001b[0m\u001b[0;36m0\u001b[0m\u001b[0;34m)\u001b[0m\u001b[0;34m\u001b[0m\u001b[0;34m\u001b[0m\u001b[0m\n",
      "\u001b[0;32m~/opt/miniconda3/lib/python3.8/site-packages/scikeras/wrappers.py\u001b[0m in \u001b[0;36m<module>\u001b[0;34m\u001b[0m\n\u001b[1;32m     36\u001b[0m \u001b[0;32mfrom\u001b[0m \u001b[0mscikeras\u001b[0m\u001b[0;34m.\u001b[0m\u001b[0mutils\u001b[0m \u001b[0;32mimport\u001b[0m \u001b[0mloss_name\u001b[0m\u001b[0;34m,\u001b[0m \u001b[0mmetric_name\u001b[0m\u001b[0;34m\u001b[0m\u001b[0;34m\u001b[0m\u001b[0m\n\u001b[1;32m     37\u001b[0m \u001b[0;32mfrom\u001b[0m \u001b[0mscikeras\u001b[0m\u001b[0;34m.\u001b[0m\u001b[0mutils\u001b[0m\u001b[0;34m.\u001b[0m\u001b[0mrandom_state\u001b[0m \u001b[0;32mimport\u001b[0m \u001b[0mtensorflow_random_state\u001b[0m\u001b[0;34m\u001b[0m\u001b[0;34m\u001b[0m\u001b[0m\n\u001b[0;32m---> 38\u001b[0;31m \u001b[0;32mfrom\u001b[0m \u001b[0mscikeras\u001b[0m\u001b[0;34m.\u001b[0m\u001b[0mutils\u001b[0m\u001b[0;34m.\u001b[0m\u001b[0mtransformers\u001b[0m \u001b[0;32mimport\u001b[0m \u001b[0mClassifierLabelEncoder\u001b[0m\u001b[0;34m,\u001b[0m \u001b[0mRegressorTargetEncoder\u001b[0m\u001b[0;34m\u001b[0m\u001b[0;34m\u001b[0m\u001b[0m\n\u001b[0m\u001b[1;32m     39\u001b[0m \u001b[0;34m\u001b[0m\u001b[0m\n\u001b[1;32m     40\u001b[0m \u001b[0;34m\u001b[0m\u001b[0m\n",
      "\u001b[0;32m~/opt/miniconda3/lib/python3.8/site-packages/scikeras/utils/transformers.py\u001b[0m in \u001b[0;36m<module>\u001b[0;34m\u001b[0m\n\u001b[1;32m      6\u001b[0m \u001b[0;32mfrom\u001b[0m \u001b[0msklearn\u001b[0m\u001b[0;34m.\u001b[0m\u001b[0mbase\u001b[0m \u001b[0;32mimport\u001b[0m \u001b[0mBaseEstimator\u001b[0m\u001b[0;34m,\u001b[0m \u001b[0mTransformerMixin\u001b[0m\u001b[0;34m\u001b[0m\u001b[0;34m\u001b[0m\u001b[0m\n\u001b[1;32m      7\u001b[0m \u001b[0;32mfrom\u001b[0m \u001b[0msklearn\u001b[0m\u001b[0;34m.\u001b[0m\u001b[0mexceptions\u001b[0m \u001b[0;32mimport\u001b[0m \u001b[0mNotFittedError\u001b[0m\u001b[0;34m\u001b[0m\u001b[0;34m\u001b[0m\u001b[0m\n\u001b[0;32m----> 8\u001b[0;31m \u001b[0;32mfrom\u001b[0m \u001b[0msklearn\u001b[0m\u001b[0;34m.\u001b[0m\u001b[0mpipeline\u001b[0m \u001b[0;32mimport\u001b[0m \u001b[0mmake_pipeline\u001b[0m\u001b[0;34m\u001b[0m\u001b[0;34m\u001b[0m\u001b[0m\n\u001b[0m\u001b[1;32m      9\u001b[0m \u001b[0;32mfrom\u001b[0m \u001b[0msklearn\u001b[0m\u001b[0;34m.\u001b[0m\u001b[0mpreprocessing\u001b[0m \u001b[0;32mimport\u001b[0m \u001b[0mFunctionTransformer\u001b[0m\u001b[0;34m,\u001b[0m \u001b[0mOneHotEncoder\u001b[0m\u001b[0;34m,\u001b[0m \u001b[0mOrdinalEncoder\u001b[0m\u001b[0;34m\u001b[0m\u001b[0;34m\u001b[0m\u001b[0m\n\u001b[1;32m     10\u001b[0m \u001b[0;32mfrom\u001b[0m \u001b[0msklearn\u001b[0m\u001b[0;34m.\u001b[0m\u001b[0mutils\u001b[0m\u001b[0;34m.\u001b[0m\u001b[0mmulticlass\u001b[0m \u001b[0;32mimport\u001b[0m \u001b[0mtype_of_target\u001b[0m\u001b[0;34m\u001b[0m\u001b[0;34m\u001b[0m\u001b[0m\n",
      "\u001b[0;32m~/opt/miniconda3/lib/python3.8/site-packages/sklearn/pipeline.py\u001b[0m in \u001b[0;36m<module>\u001b[0;34m\u001b[0m\n\u001b[1;32m     20\u001b[0m \u001b[0;32mfrom\u001b[0m \u001b[0;34m.\u001b[0m\u001b[0mpreprocessing\u001b[0m \u001b[0;32mimport\u001b[0m \u001b[0mFunctionTransformer\u001b[0m\u001b[0;34m\u001b[0m\u001b[0;34m\u001b[0m\u001b[0m\n\u001b[1;32m     21\u001b[0m \u001b[0;32mfrom\u001b[0m \u001b[0;34m.\u001b[0m\u001b[0mutils\u001b[0m\u001b[0;34m.\u001b[0m\u001b[0m_estimator_html_repr\u001b[0m \u001b[0;32mimport\u001b[0m \u001b[0m_VisualBlock\u001b[0m\u001b[0;34m\u001b[0m\u001b[0;34m\u001b[0m\u001b[0m\n\u001b[0;32m---> 22\u001b[0;31m \u001b[0;32mfrom\u001b[0m \u001b[0;34m.\u001b[0m\u001b[0mutils\u001b[0m\u001b[0;34m.\u001b[0m\u001b[0mmetaestimators\u001b[0m \u001b[0;32mimport\u001b[0m \u001b[0mavailable_if\u001b[0m\u001b[0;34m\u001b[0m\u001b[0;34m\u001b[0m\u001b[0m\n\u001b[0m\u001b[1;32m     23\u001b[0m from .utils import (\n\u001b[1;32m     24\u001b[0m     \u001b[0mBunch\u001b[0m\u001b[0;34m,\u001b[0m\u001b[0;34m\u001b[0m\u001b[0;34m\u001b[0m\u001b[0m\n",
      "\u001b[0;31mImportError\u001b[0m: cannot import name 'available_if' from 'sklearn.utils.metaestimators' (/Users/pooyan/opt/miniconda3/lib/python3.8/site-packages/sklearn/utils/metaestimators.py)"
     ]
    }
   ],
   "source": [
    "import numpy as np\n",
    "import tensorflow as tf\n",
    "from sklearn.model_selection import GridSearchCV\n",
    "from tensorflow.keras.models import Sequential\n",
    "from tensorflow.keras.layers import Dense\n",
    "from scikeras.wrappers import KerasClassifier\n",
    "\n",
    "model = KerasClassifier(model=create_model, verbose=0)\n",
    "# define the grid search parameters\n",
    "batch_size = [10, 20, 40, 60, 80, 100]\n",
    "epochs = [10, 50, 100]\n",
    "param_grid = dict(batch_size=batch_size, epochs=epochs)\n",
    "grid = GridSearchCV(estimator=model, param_grid=param_grid, n_jobs=-1, cv=3)\n"
   ]
  },
  {
   "cell_type": "code",
   "execution_count": 255,
   "id": "welcome-palestine",
   "metadata": {},
   "outputs": [
    {
     "name": "stdout",
     "output_type": "stream",
     "text": [
      "Model: \"model_13\"\n",
      "__________________________________________________________________________________________________\n",
      " Layer (type)                   Output Shape         Param #     Connected to                     \n",
      "==================================================================================================\n",
      " input_28 (InputLayer)          [(None, 129, 259)]   0           []                               \n",
      "                                                                                                  \n",
      " bidirectional_33 (Bidirectiona  (None, 129, 200)    288000      ['input_28[0][0]']               \n",
      " l)                                                                                               \n",
      "                                                                                                  \n",
      " conv1d_103 (Conv1D)            (None, 129, 200)     155600      ['input_28[0][0]']               \n",
      "                                                                                                  \n",
      " add_21 (Add)                   (None, 129, 200)     0           ['bidirectional_33[0][0]',       \n",
      "                                                                  'conv1d_103[0][0]']             \n",
      "                                                                                                  \n",
      " conv1d_104 (Conv1D)            (None, 127, 100)     60100       ['add_21[0][0]']                 \n",
      "                                                                                                  \n",
      " global_max_pooling1d_12 (Globa  (None, 100)         0           ['conv1d_104[0][0]']             \n",
      " lMaxPooling1D)                                                                                   \n",
      "                                                                                                  \n",
      " dense_117 (Dense)              (None, 100)          10100       ['global_max_pooling1d_12[0][0]']\n",
      "                                                                                                  \n",
      " dense_118 (Dense)              (None, 2)            202         ['dense_117[0][0]']              \n",
      "                                                                                                  \n",
      "==================================================================================================\n",
      "Total params: 514,002\n",
      "Trainable params: 514,002\n",
      "Non-trainable params: 0\n",
      "__________________________________________________________________________________________________\n"
     ]
    }
   ],
   "source": [
    "# two sided model\n",
    "#from keras.layers.core import Input, Model\n",
    "from keras.layers import *\n",
    "from keras.models import *\n",
    "from keras.utils import *\n",
    "from keras.initializers import *\n",
    "import tensorflow as tf\n",
    "\n",
    "\n",
    "inputs = Input((129,259))\n",
    "\n",
    "side1 = Bidirectional(LSTM(100, return_sequences=True))(inputs) #200 total units\n",
    "side2 = Conv1D(200, kernel_size=3, activation = 'relu', padding = 'same')(inputs) #same activation \n",
    "                                                                   #same length\n",
    "\n",
    "merged = Add()([side1, side2]) \n",
    "     #or Concatenate()([side1, side2]) if different number of units/channels/features\n",
    "\n",
    "outputs = Conv1D(100, kernel_size=3)(merged)\n",
    "outputs = GlobalMaxPooling1D()(outputs)\n",
    "outputs = Dense(100)(outputs)\n",
    "outputs = Dense(2, activation='softmax')(outputs)\n",
    "\n",
    "model = Model(inputs, outputs)\n",
    "model.summary()"
   ]
  },
  {
   "cell_type": "code",
   "execution_count": 256,
   "id": "chubby-silly",
   "metadata": {},
   "outputs": [
    {
     "name": "stdout",
     "output_type": "stream",
     "text": [
      "Epoch 1/20\n",
      "49/49 [==============================] - 16s 277ms/step - loss: 92.1628 - accuracy: 0.8290 - mean_squared_error: 0.4998 - val_loss: 47.9626 - val_accuracy: 0.7983 - val_mean_squared_error: 0.4995\n",
      "Epoch 2/20\n",
      "49/49 [==============================] - 11s 225ms/step - loss: 42.7177 - accuracy: 0.8318 - mean_squared_error: 0.4994 - val_loss: 36.7084 - val_accuracy: 0.8178 - val_mean_squared_error: 0.4994\n",
      "Epoch 3/20\n",
      "49/49 [==============================] - 11s 223ms/step - loss: 33.8463 - accuracy: 0.8383 - mean_squared_error: 0.4992 - val_loss: 57.8554 - val_accuracy: 0.6206 - val_mean_squared_error: 0.4984\n",
      "Epoch 4/20\n",
      "49/49 [==============================] - 12s 250ms/step - loss: 31.1950 - accuracy: 0.8386 - mean_squared_error: 0.4992 - val_loss: 30.8109 - val_accuracy: 0.8061 - val_mean_squared_error: 0.4988\n",
      "Epoch 5/20\n",
      "49/49 [==============================] - 12s 244ms/step - loss: 27.3279 - accuracy: 0.8438 - mean_squared_error: 0.4990 - val_loss: 29.7786 - val_accuracy: 0.8580 - val_mean_squared_error: 0.4991\n",
      "Epoch 6/20\n",
      "49/49 [==============================] - 12s 253ms/step - loss: 22.0150 - accuracy: 0.8519 - mean_squared_error: 0.4987 - val_loss: 27.7965 - val_accuracy: 0.8606 - val_mean_squared_error: 0.4995\n",
      "Epoch 7/20\n",
      "49/49 [==============================] - 13s 259ms/step - loss: 23.8794 - accuracy: 0.8574 - mean_squared_error: 0.4993 - val_loss: 39.1120 - val_accuracy: 0.6796 - val_mean_squared_error: 0.4981\n",
      "Epoch 8/20\n",
      "49/49 [==============================] - 12s 251ms/step - loss: 25.4984 - accuracy: 0.8486 - mean_squared_error: 0.4989 - val_loss: 37.2204 - val_accuracy: 0.6744 - val_mean_squared_error: 0.4975\n",
      "Epoch 9/20\n",
      "49/49 [==============================] - 11s 231ms/step - loss: 16.8666 - accuracy: 0.8551 - mean_squared_error: 0.4987 - val_loss: 27.0136 - val_accuracy: 0.8398 - val_mean_squared_error: 0.4990\n",
      "Epoch 10/20\n",
      "49/49 [==============================] - 12s 240ms/step - loss: 12.8884 - accuracy: 0.8666 - mean_squared_error: 0.4988 - val_loss: 25.3445 - val_accuracy: 0.8482 - val_mean_squared_error: 0.4984\n",
      "Epoch 11/20\n",
      "49/49 [==============================] - 11s 229ms/step - loss: 15.4079 - accuracy: 0.8675 - mean_squared_error: 0.4992 - val_loss: 25.0593 - val_accuracy: 0.8087 - val_mean_squared_error: 0.4974\n",
      "Epoch 12/20\n",
      "49/49 [==============================] - 11s 228ms/step - loss: 13.4672 - accuracy: 0.8616 - mean_squared_error: 0.4987 - val_loss: 30.0741 - val_accuracy: 0.8820 - val_mean_squared_error: 0.4996\n",
      "Epoch 13/20\n",
      "49/49 [==============================] - 11s 235ms/step - loss: 11.1654 - accuracy: 0.8710 - mean_squared_error: 0.4987 - val_loss: 24.7213 - val_accuracy: 0.8093 - val_mean_squared_error: 0.4985\n",
      "Epoch 14/20\n",
      "49/49 [==============================] - 13s 265ms/step - loss: 11.7326 - accuracy: 0.8738 - mean_squared_error: 0.4988 - val_loss: 25.1831 - val_accuracy: 0.8502 - val_mean_squared_error: 0.4989\n",
      "Epoch 15/20\n",
      "49/49 [==============================] - 14s 284ms/step - loss: 10.7193 - accuracy: 0.8717 - mean_squared_error: 0.4989 - val_loss: 24.8096 - val_accuracy: 0.7704 - val_mean_squared_error: 0.4980\n",
      "Epoch 16/20\n",
      "49/49 [==============================] - 14s 290ms/step - loss: 8.9342 - accuracy: 0.8720 - mean_squared_error: 0.4986 - val_loss: 24.6838 - val_accuracy: 0.8554 - val_mean_squared_error: 0.4991\n",
      "Epoch 17/20\n",
      "49/49 [==============================] - 13s 271ms/step - loss: 9.2129 - accuracy: 0.8791 - mean_squared_error: 0.4985 - val_loss: 23.6209 - val_accuracy: 0.8087 - val_mean_squared_error: 0.4992\n",
      "Epoch 18/20\n",
      "49/49 [==============================] - 14s 278ms/step - loss: 7.1328 - accuracy: 0.8835 - mean_squared_error: 0.4981 - val_loss: 29.5519 - val_accuracy: 0.7121 - val_mean_squared_error: 0.4983\n",
      "Epoch 19/20\n",
      "49/49 [==============================] - 13s 271ms/step - loss: 8.0859 - accuracy: 0.8847 - mean_squared_error: 0.4984 - val_loss: 23.3280 - val_accuracy: 0.7977 - val_mean_squared_error: 0.4983\n",
      "Epoch 20/20\n",
      "49/49 [==============================] - 13s 269ms/step - loss: 6.3092 - accuracy: 0.8924 - mean_squared_error: 0.4981 - val_loss: 25.2827 - val_accuracy: 0.7464 - val_mean_squared_error: 0.4981\n"
     ]
    }
   ],
   "source": [
    "model.compile(optimizer=keras.optimizers.Adam(1e-4),loss=tf.losses.SparseCategoricalCrossentropy(), metrics=[\"accuracy\", \"MeanSquaredError\"])\n",
    "history=model.fit(X_train, y_train, validation_data=(X_validation, y_validation),epochs = 20, batch_size = 128, verbose = 1)\n"
   ]
  },
  {
   "cell_type": "code",
   "execution_count": 257,
   "id": "simple-coalition",
   "metadata": {},
   "outputs": [
    {
     "name": "stdout",
     "output_type": "stream",
     "text": [
      "Accuracy: 0.744681\n",
      "Precision: 0.891753\n",
      "Recall: 0.810304\n",
      "F1 score: 0.849080\n",
      "Cohens kappa: 0.032950\n",
      "ROC AUC: 0.521591\n",
      "[[  51  168]\n",
      " [ 324 1384]]\n"
     ]
    }
   ],
   "source": [
    "#test\n",
    "pred = model.predict(X_test)\n",
    "y_pred = [0 if y[0]>.40 else 1 for y in pred]\n",
    "\n",
    "from sklearn.metrics import accuracy_score\n",
    "from sklearn.metrics import precision_score\n",
    "from sklearn.metrics import recall_score\n",
    "from sklearn.metrics import f1_score\n",
    "from sklearn.metrics import cohen_kappa_score\n",
    "from sklearn.metrics import roc_auc_score\n",
    "from sklearn.metrics import confusion_matrix\n",
    "# accuracy: (tp + tn) / (p + n)\n",
    "accuracy = accuracy_score(y_test, y_pred)\n",
    "print('Accuracy: %f' % accuracy)\n",
    "# precision tp / (tp + fp)\n",
    "precision = precision_score(y_test, y_pred)\n",
    "print('Precision: %f' % precision)\n",
    "# recall: tp / (tp + fn)\n",
    "recall = recall_score(y_test, y_pred)\n",
    "print('Recall: %f' % recall)\n",
    "# f1: 2 tp / (2 tp + fp + fn)\n",
    "f1 = f1_score(y_test, y_pred)\n",
    "print('F1 score: %f' % f1)\n",
    "# kappa\n",
    "kappa = cohen_kappa_score(y_test, y_pred)\n",
    "print('Cohens kappa: %f' % kappa)\n",
    "# ROC AUC\n",
    "auc = roc_auc_score(y_test, y_pred)\n",
    "print('ROC AUC: %f' % auc)\n",
    "# confusion matrix\n",
    "matrix = confusion_matrix(y_test, y_pred)\n",
    "print(matrix)"
   ]
  },
  {
   "cell_type": "code",
   "execution_count": 259,
   "id": "amber-competition",
   "metadata": {},
   "outputs": [
    {
     "name": "stdout",
     "output_type": "stream",
     "text": [
      "Model: \"model_14\"\n",
      "__________________________________________________________________________________________________\n",
      " Layer (type)                   Output Shape         Param #     Connected to                     \n",
      "==================================================================================================\n",
      " input_30 (InputLayer)          [(None, 129, 259)]   0           []                               \n",
      "                                                                                                  \n",
      " bidirectional_35 (Bidirectiona  (None, 129, 200)    288000      ['input_30[0][0]']               \n",
      " l)                                                                                               \n",
      "                                                                                                  \n",
      " conv1d_107 (Conv1D)            (None, 129, 200)     155600      ['input_30[0][0]']               \n",
      "                                                                                                  \n",
      " add_23 (Add)                   (None, 129, 200)     0           ['bidirectional_35[0][0]',       \n",
      "                                                                  'conv1d_107[0][0]']             \n",
      "                                                                                                  \n",
      " conv1d_108 (Conv1D)            (None, 127, 100)     60100       ['add_23[0][0]']                 \n",
      "                                                                                                  \n",
      " global_max_pooling1d_14 (Globa  (None, 100)         0           ['conv1d_108[0][0]']             \n",
      " lMaxPooling1D)                                                                                   \n",
      "                                                                                                  \n",
      " dense_119 (Dense)              (None, 100)          10100       ['global_max_pooling1d_14[0][0]']\n",
      "                                                                                                  \n",
      " dense_120 (Dense)              (None, 2)            202         ['dense_119[0][0]']              \n",
      "                                                                                                  \n",
      "==================================================================================================\n",
      "Total params: 514,002\n",
      "Trainable params: 514,002\n",
      "Non-trainable params: 0\n",
      "__________________________________________________________________________________________________\n"
     ]
    }
   ],
   "source": [
    "# two sided model\n",
    "#from keras.layers.core import Input, Model\n",
    "from keras.layers import *\n",
    "from keras.models import *\n",
    "from keras.utils import *\n",
    "from keras.initializers import *\n",
    "import tensorflow as tf\n",
    "\n",
    "\n",
    "inputs = Input((129,259))\n",
    "\n",
    "side1 = Bidirectional(LSTM(100, return_sequences=True))(inputs) #200 total units\n",
    "side2 = Conv1D(200, kernel_size=3, activation = 'relu', padding = 'same')(inputs) #same activation \n",
    "                                                                   #same length\n",
    "\n",
    "merged = Add()([side1, side2]) \n",
    "     #or Concatenate()([side1, side2]) if different number of units/channels/features\n",
    "\n",
    "outputs = Conv1D(100, kernel_size=3)(merged)\n",
    "outputs = GlobalMaxPooling1D()(outputs)\n",
    "outputs = Dense(100)(outputs)\n",
    "outputs = Dense(2, activation='softmax')(outputs)\n",
    "\n",
    "model = Model(inputs, outputs)\n",
    "model.summary()"
   ]
  },
  {
   "cell_type": "code",
   "execution_count": null,
   "id": "unknown-devil",
   "metadata": {},
   "outputs": [],
   "source": []
  }
 ],
 "metadata": {
  "kernelspec": {
   "display_name": "Python 3",
   "language": "python",
   "name": "python3"
  },
  "language_info": {
   "codemirror_mode": {
    "name": "ipython",
    "version": 3
   },
   "file_extension": ".py",
   "mimetype": "text/x-python",
   "name": "python",
   "nbconvert_exporter": "python",
   "pygments_lexer": "ipython3",
   "version": "3.8.5"
  }
 },
 "nbformat": 4,
 "nbformat_minor": 5
}
