{
 "cells": [
  {
   "cell_type": "code",
   "execution_count": 1,
   "id": "occasional-samuel",
   "metadata": {},
   "outputs": [],
   "source": [
    "### import required libraries and pkgs ###\n",
    "import glob\n",
    "import os\n",
    "import librosa\n",
    "import numpy as np\n",
    "#from sklearn.model_selection import KFold\n",
    "#from sklearn.metrics import accuracy_score\n",
    "from sklearn.model_selection import train_test_split\n",
    "from sklearn.preprocessing import LabelEncoder\n",
    "#import tensorflow as tf\n",
    "from tensorflow import keras\n",
    "import matplotlib.pyplot as plt"
   ]
  },
  {
   "cell_type": "code",
   "execution_count": 2,
   "id": "automatic-latin",
   "metadata": {},
   "outputs": [],
   "source": [
    "\n",
    "def Myextract_features(filePath, sampleRate=44100):\n",
    "    factor = 0.4 #alpha\n",
    "    \n",
    "    signal,sr = librosa.load(filePath, sampleRate)\n",
    "    signal = librosa.effects.time_stretch(signal,factor)\n",
    "    centroid = librosa.feature.spectral_centroid(y=signal,sr=sr)\n",
    "    mfcc = librosa.feature.mfcc(y=signal, sr=sr)\n",
    "    #features = librosa.feature.melspectrogram(y=signal,sr=sr, n_mels=1)\n",
    "    mel = librosa.feature.melspectrogram(y=signal, sr=sr)\n",
    "\n",
    "    features = np.concatenate((mel,mfcc,centroid),axis=0)\n",
    "    #features = np.concatenate((centroid,slope),axis=0)\n",
    "    \n",
    "    return features"
   ]
  },
  {
   "cell_type": "code",
   "execution_count": 3,
   "id": "generous-idaho",
   "metadata": {},
   "outputs": [
    {
     "name": "stdout",
     "output_type": "stream",
     "text": [
      "(9428, 149, 646)\n",
      "(9428,)\n",
      "(1282, 149, 646)\n",
      "(1282,)\n",
      "(10710, 149, 646)\n"
     ]
    }
   ],
   "source": [
    "#read all noraml files\n",
    "parent_dir = '/Users/pooyan/Desktop/suction/'\n",
    "sub_dir = 'normal/'\n",
    "file_ext='*.ogg'\n",
    "all_Normalfiles = glob.glob(os.path.join(parent_dir, sub_dir, file_ext))#[0:350]\n",
    "\n",
    "all_noraml_features = [] #define an empty array\n",
    "all_noraml_labels = []\n",
    "for i in range(0,len(all_Normalfiles)):\n",
    "    my_features = Myextract_features(all_Normalfiles[i])\n",
    "    all_noraml_features.append(my_features)\n",
    "    all_noraml_labels.append(\"normal\")\n",
    "\n",
    "#use reshape to conver outputs into arrays\n",
    "dim_1 = len(all_Normalfiles)\n",
    "dim_2 = my_features.shape[0] #number of features\n",
    "dim_3 = my_features.shape[1]\n",
    "all_noraml_features = np.asarray(all_noraml_features).reshape(dim_1, dim_2, dim_3)\n",
    "all_noraml_labels = np.asarray(all_noraml_labels).reshape(dim_1)\n",
    "\n",
    "#check the dimentions\n",
    "print(all_noraml_features.shape)\n",
    "print(all_noraml_labels.shape)\n",
    "\n",
    "#read all anoamly files\n",
    "parent_dir = '/Users/pooyan/Desktop/suction/'\n",
    "sub_dir = 'anomaly/'\n",
    "file_ext='*.ogg'\n",
    "all_Anomalyfiles = glob.glob(os.path.join(parent_dir, sub_dir, file_ext))#[0:350]\n",
    "\n",
    "all_anomaly_features = [] #define an empty array\n",
    "all_anomaly_labels = []\n",
    "for i in range(0,len(all_Anomalyfiles)):\n",
    "    my_features = Myextract_features(all_Anomalyfiles[i])\n",
    "    all_anomaly_features.append(my_features)\n",
    "    all_anomaly_labels.append(\"anomaly\")\n",
    "\n",
    "#use reshape to conver outputs into arrays\n",
    "dim_1 = len(all_Anomalyfiles)\n",
    "dim_2 = my_features.shape[0] #number of features\n",
    "dim_3 = my_features.shape[1]\n",
    "all_anomaly_features = np.asarray(all_anomaly_features).reshape(dim_1, dim_2, dim_3)\n",
    "all_anomaly_labels = np.asarray(all_anomaly_labels).reshape(dim_1)\n",
    "\n",
    "#check the dimentions\n",
    "print(all_anomaly_features.shape)\n",
    "print(all_anomaly_labels.shape)\n",
    "\n",
    "#Merge noraml and anomaly arrays\n",
    "all_data = np.concatenate((all_noraml_features,all_anomaly_features),axis=0)\n",
    "all_label = np.concatenate((all_noraml_labels,all_anomaly_labels),axis=0)\n",
    "\n",
    "#check the dimentions\n",
    "print(all_data.shape)"
   ]
  },
  {
   "cell_type": "code",
   "execution_count": 4,
   "id": "classical-taxation",
   "metadata": {},
   "outputs": [
    {
     "name": "stdout",
     "output_type": "stream",
     "text": [
      "(6854, 149, 646)\n",
      "(2142, 149, 646)\n",
      "(1714, 149, 646)\n",
      "(6854, 149, 646)\n",
      "(2142, 149, 646)\n",
      "(1714, 149, 646)\n"
     ]
    }
   ],
   "source": [
    "#endocding labels\n",
    "my_ec = LabelEncoder()\n",
    "all_label = my_ec.fit_transform(all_label)\n",
    "\n",
    "my_ec.transform([\"normal\"])\n",
    "my_ec.inverse_transform(all_label)\n",
    "\n",
    "#split data into train. validation, and test\n",
    "X_train, X_test, y_train, y_test = train_test_split(all_data,all_label,test_size=0.2,shuffle=True)\n",
    "X_train, X_validation, y_train, y_validation = train_test_split(X_train,y_train,test_size=0.2,shuffle=True)\n",
    "\n",
    "#check the dimentions\n",
    "print(X_train.shape)\n",
    "print(X_test.shape)\n",
    "print(X_validation.shape)\n",
    "\n",
    "#check the dimentions\n",
    "print(X_train.shape)\n",
    "print(X_test.shape)\n",
    "print(X_validation.shape)"
   ]
  },
  {
   "cell_type": "code",
   "execution_count": 5,
   "id": "impressed-boutique",
   "metadata": {},
   "outputs": [
    {
     "name": "stdout",
     "output_type": "stream",
     "text": [
      "Model: \"model\"\n",
      "__________________________________________________________________________________________________\n",
      " Layer (type)                   Output Shape         Param #     Connected to                     \n",
      "==================================================================================================\n",
      " input_1 (InputLayer)           [(None, 149, 646)]   0           []                               \n",
      "                                                                                                  \n",
      " bidirectional (Bidirectional)  (None, 149, 200)     597600      ['input_1[0][0]']                \n",
      "                                                                                                  \n",
      " conv1d (Conv1D)                (None, 149, 200)     387800      ['input_1[0][0]']                \n",
      "                                                                                                  \n",
      " add (Add)                      (None, 149, 200)     0           ['bidirectional[0][0]',          \n",
      "                                                                  'conv1d[0][0]']                 \n",
      "                                                                                                  \n",
      " conv1d_1 (Conv1D)              (None, 147, 200)     120200      ['add[0][0]']                    \n",
      "                                                                                                  \n",
      " global_max_pooling1d (GlobalMa  (None, 200)         0           ['conv1d_1[0][0]']               \n",
      " xPooling1D)                                                                                      \n",
      "                                                                                                  \n",
      " dense (Dense)                  (None, 100)          20100       ['global_max_pooling1d[0][0]']   \n",
      "                                                                                                  \n",
      " dropout (Dropout)              (None, 100)          0           ['dense[0][0]']                  \n",
      "                                                                                                  \n",
      " dense_1 (Dense)                (None, 2)            202         ['dropout[0][0]']                \n",
      "                                                                                                  \n",
      "==================================================================================================\n",
      "Total params: 1,125,902\n",
      "Trainable params: 1,125,902\n",
      "Non-trainable params: 0\n",
      "__________________________________________________________________________________________________\n"
     ]
    }
   ],
   "source": [
    "# two sided model\n",
    "#from keras.layers.core import Input, Model\n",
    "#with dropout\n",
    "from keras.layers import *\n",
    "from keras.models import *\n",
    "from keras.utils import *\n",
    "from keras.initializers import *\n",
    "import tensorflow as tf\n",
    "\n",
    "\n",
    "inputs = Input((149,646))\n",
    "\n",
    "side1 = Bidirectional(LSTM(100, return_sequences=True))(inputs) #200 total units\n",
    "side2 = Conv1D(200, kernel_size=3, activation = 'relu', padding = 'same')(inputs) #same activation \n",
    "                                                                   #same length\n",
    "\n",
    "merged = Add()([side1, side2]) \n",
    "     #or Concatenate()([side1, side2]) if different number of units/channels/features\n",
    "\n",
    "outputs = Conv1D(200, kernel_size=3)(merged)\n",
    "outputs = GlobalMaxPooling1D()(outputs)\n",
    "outputs = Dense(100)(outputs)\n",
    "outputs = Dropout(0.2)(outputs)\n",
    "outputs = Dense(2, activation='softmax')(outputs)\n",
    "\n",
    "model = Model(inputs, outputs)\n",
    "model.summary()"
   ]
  },
  {
   "cell_type": "code",
   "execution_count": 6,
   "id": "bound-typing",
   "metadata": {
    "scrolled": true
   },
   "outputs": [
    {
     "name": "stdout",
     "output_type": "stream",
     "text": [
      "Epoch 1/20\n",
      "54/54 [==============================] - 30s 509ms/step - loss: 228.6824 - accuracy: 0.8912 - mean_squared_error: 0.5000 - val_loss: 27.0919 - val_accuracy: 0.9755 - val_mean_squared_error: 0.5000\n",
      "Epoch 2/20\n",
      "54/54 [==============================] - 20s 379ms/step - loss: 30.3910 - accuracy: 0.9608 - mean_squared_error: 0.5000 - val_loss: 12.9208 - val_accuracy: 0.9842 - val_mean_squared_error: 0.5000\n",
      "Epoch 3/20\n",
      "54/54 [==============================] - 21s 382ms/step - loss: 16.5733 - accuracy: 0.9743 - mean_squared_error: 0.5000 - val_loss: 7.5532 - val_accuracy: 0.9877 - val_mean_squared_error: 0.5000\n",
      "Epoch 4/20\n",
      "54/54 [==============================] - 24s 438ms/step - loss: 13.0069 - accuracy: 0.9764 - mean_squared_error: 0.4999 - val_loss: 6.7603 - val_accuracy: 0.9889 - val_mean_squared_error: 0.5000\n",
      "Epoch 5/20\n",
      "54/54 [==============================] - 23s 422ms/step - loss: 8.1074 - accuracy: 0.9856 - mean_squared_error: 0.4999 - val_loss: 5.4824 - val_accuracy: 0.9889 - val_mean_squared_error: 0.5000\n",
      "Epoch 6/20\n",
      "54/54 [==============================] - 22s 401ms/step - loss: 6.4139 - accuracy: 0.9866 - mean_squared_error: 0.5000 - val_loss: 5.7584 - val_accuracy: 0.9895 - val_mean_squared_error: 0.5000\n",
      "Epoch 7/20\n",
      "54/54 [==============================] - 21s 391ms/step - loss: 5.7801 - accuracy: 0.9872 - mean_squared_error: 0.5000 - val_loss: 5.1776 - val_accuracy: 0.9901 - val_mean_squared_error: 0.5000\n",
      "Epoch 8/20\n",
      "54/54 [==============================] - 21s 385ms/step - loss: 6.5307 - accuracy: 0.9867 - mean_squared_error: 0.5000 - val_loss: 5.2258 - val_accuracy: 0.9895 - val_mean_squared_error: 0.5000\n",
      "Epoch 9/20\n",
      "54/54 [==============================] - 21s 382ms/step - loss: 5.2017 - accuracy: 0.9898 - mean_squared_error: 0.5000 - val_loss: 6.1213 - val_accuracy: 0.9848 - val_mean_squared_error: 0.4999\n",
      "Epoch 10/20\n",
      "54/54 [==============================] - 21s 393ms/step - loss: 6.5805 - accuracy: 0.9867 - mean_squared_error: 0.4999 - val_loss: 5.5930 - val_accuracy: 0.9883 - val_mean_squared_error: 0.5000\n",
      "Epoch 11/20\n",
      "54/54 [==============================] - 21s 388ms/step - loss: 5.2129 - accuracy: 0.9896 - mean_squared_error: 0.5000 - val_loss: 6.0952 - val_accuracy: 0.9901 - val_mean_squared_error: 0.5000\n",
      "Epoch 12/20\n",
      "54/54 [==============================] - 21s 394ms/step - loss: 5.4475 - accuracy: 0.9891 - mean_squared_error: 0.5000 - val_loss: 5.9414 - val_accuracy: 0.9901 - val_mean_squared_error: 0.5000\n",
      "Epoch 13/20\n",
      "54/54 [==============================] - 21s 390ms/step - loss: 5.5244 - accuracy: 0.9883 - mean_squared_error: 0.5000 - val_loss: 8.0305 - val_accuracy: 0.9901 - val_mean_squared_error: 0.5000\n",
      "Epoch 14/20\n",
      "54/54 [==============================] - 22s 412ms/step - loss: 6.3469 - accuracy: 0.9875 - mean_squared_error: 0.5000 - val_loss: 9.1710 - val_accuracy: 0.9924 - val_mean_squared_error: 0.5000\n",
      "Epoch 15/20\n",
      "54/54 [==============================] - 23s 421ms/step - loss: 5.4962 - accuracy: 0.9888 - mean_squared_error: 0.5000 - val_loss: 9.7309 - val_accuracy: 0.9907 - val_mean_squared_error: 0.5000\n",
      "Epoch 16/20\n",
      "54/54 [==============================] - 23s 435ms/step - loss: 5.4663 - accuracy: 0.9905 - mean_squared_error: 0.4999 - val_loss: 7.8131 - val_accuracy: 0.9918 - val_mean_squared_error: 0.5000\n",
      "Epoch 17/20\n",
      "54/54 [==============================] - 24s 439ms/step - loss: 3.6103 - accuracy: 0.9914 - mean_squared_error: 0.5000 - val_loss: 5.3482 - val_accuracy: 0.9895 - val_mean_squared_error: 0.5000\n",
      "Epoch 18/20\n",
      "54/54 [==============================] - 22s 413ms/step - loss: 3.8096 - accuracy: 0.9895 - mean_squared_error: 0.5000 - val_loss: 7.1430 - val_accuracy: 0.9912 - val_mean_squared_error: 0.5000\n",
      "Epoch 19/20\n",
      "54/54 [==============================] - 21s 390ms/step - loss: 5.7955 - accuracy: 0.9889 - mean_squared_error: 0.5000 - val_loss: 10.4620 - val_accuracy: 0.9918 - val_mean_squared_error: 0.4999\n",
      "Epoch 20/20\n",
      "54/54 [==============================] - 21s 391ms/step - loss: 5.1044 - accuracy: 0.9902 - mean_squared_error: 0.5000 - val_loss: 6.4127 - val_accuracy: 0.9883 - val_mean_squared_error: 0.5000\n"
     ]
    }
   ],
   "source": [
    "model.compile(optimizer=keras.optimizers.Adam(1e-4),loss=tf.losses.SparseCategoricalCrossentropy(), metrics=[\"accuracy\", \"MeanSquaredError\"])\n",
    "history=model.fit(X_train, y_train, validation_data=(X_validation, y_validation),epochs = 20, batch_size = 128, verbose = 1)"
   ]
  },
  {
   "cell_type": "code",
   "execution_count": 7,
   "id": "clinical-shaft",
   "metadata": {},
   "outputs": [
    {
     "name": "stdout",
     "output_type": "stream",
     "text": [
      "Accuracy: 0.980392\n",
      "Precision: 0.979855\n",
      "Recall: 0.998421\n",
      "F1 score: 0.989051\n",
      "Cohens kappa: 0.895380\n",
      "ROC AUC: 0.918632\n",
      "[[ 203   39]\n",
      " [   3 1897]]\n"
     ]
    }
   ],
   "source": [
    "#test\n",
    "pred = model.predict(X_test)\n",
    "y_pred = [0 if y[0]>y[1] else 1 for y in pred]\n",
    "\n",
    "#test\n",
    "\n",
    "from sklearn.datasets import make_circles\n",
    "from sklearn.metrics import accuracy_score\n",
    "from sklearn.metrics import precision_score\n",
    "from sklearn.metrics import recall_score\n",
    "from sklearn.metrics import f1_score\n",
    "from sklearn.metrics import cohen_kappa_score\n",
    "from sklearn.metrics import roc_auc_score\n",
    "from sklearn.metrics import confusion_matrix\n",
    "# accuracy: (tp + tn) / (p + n)\n",
    "accuracy = accuracy_score(y_test, y_pred)\n",
    "print('Accuracy: %f' % accuracy)\n",
    "# precision tp / (tp + fp)\n",
    "precision = precision_score(y_test, y_pred)\n",
    "print('Precision: %f' % precision)\n",
    "# recall: tp / (tp + fn)\n",
    "recall = recall_score(y_test, y_pred)\n",
    "print('Recall: %f' % recall)\n",
    "# f1: 2 tp / (2 tp + fp + fn)\n",
    "f1 = f1_score(y_test, y_pred)\n",
    "print('F1 score: %f' % f1)\n",
    "# kappa\n",
    "kappa = cohen_kappa_score(y_test, y_pred)\n",
    "print('Cohens kappa: %f' % kappa)\n",
    "# ROC AUC\n",
    "auc = roc_auc_score(y_test, y_pred)\n",
    "print('ROC AUC: %f' % auc)\n",
    "# confusion matrix\n",
    "matrix = confusion_matrix(y_test, y_pred)\n",
    "print(matrix)"
   ]
  },
  {
   "cell_type": "code",
   "execution_count": 8,
   "id": "powered-radar",
   "metadata": {},
   "outputs": [
    {
     "name": "stdout",
     "output_type": "stream",
     "text": [
      "Accuracy: 0.986577\n",
      "Precision: 0.985231\n",
      "Recall: 0.999667\n",
      "F1 score: 0.992397\n",
      "Cohens kappa: 0.935209\n",
      "ROC AUC: 0.946767\n",
      "[[ 758   90]\n",
      " [   2 6004]]\n"
     ]
    }
   ],
   "source": [
    "#train\n",
    "from sklearn.metrics import confusion_matrix\n",
    "\n",
    "pred = model.predict(X_train)\n",
    "y_pred = [0 if y[0]>y[1] else 1 for y in pred]   #thereshold=50 y[0]>0.50\n",
    "\n",
    "\n",
    "from sklearn.datasets import make_circles\n",
    "from sklearn.metrics import accuracy_score\n",
    "from sklearn.metrics import precision_score\n",
    "from sklearn.metrics import recall_score\n",
    "from sklearn.metrics import f1_score\n",
    "from sklearn.metrics import cohen_kappa_score\n",
    "from sklearn.metrics import roc_auc_score\n",
    "from sklearn.metrics import confusion_matrix\n",
    "# accuracy: (tp + tn) / (p + n)\n",
    "accuracy = accuracy_score(y_train, y_pred)\n",
    "print('Accuracy: %f' % accuracy)\n",
    "# precision tp / (tp + fp)\n",
    "precision = precision_score(y_train, y_pred)\n",
    "print('Precision: %f' % precision)\n",
    "# recall: tp / (tp + fn)\n",
    "recall = recall_score(y_train, y_pred)\n",
    "print('Recall: %f' % recall)\n",
    "# f1: 2 tp / (2 tp + fp + fn)\n",
    "f1 = f1_score(y_train, y_pred)\n",
    "print('F1 score: %f' % f1)\n",
    "# kappa\n",
    "kappa = cohen_kappa_score(y_train, y_pred)\n",
    "print('Cohens kappa: %f' % kappa)\n",
    "# ROC AUC\n",
    "auc = roc_auc_score(y_train, y_pred)\n",
    "print('ROC AUC: %f' % auc)\n",
    "# confusion matrix\n",
    "matrix = confusion_matrix(y_train, y_pred)\n",
    "print(matrix)"
   ]
  },
  {
   "cell_type": "code",
   "execution_count": 9,
   "id": "present-coast",
   "metadata": {},
   "outputs": [
    {
     "data": {
      "image/png": "[encoded data removed]",
      "text/plain": [
       "<Figure size 432x288 with 1 Axes>"
      ]
     },
     "metadata": {
      "needs_background": "light"
     },
     "output_type": "display_data"
    },
    {
     "data": {
      "image/png": "[encoded data removed]",
      "text/plain": [
       "<Figure size 432x288 with 1 Axes>"
      ]
     },
     "metadata": {
      "needs_background": "light"
     },
     "output_type": "display_data"
    }
   ],
   "source": [
    "# summarize history for accuracy\n",
    "plt.plot(history.history['accuracy'])\n",
    "plt.plot(history.history['val_accuracy'])\n",
    "plt.title('model accuracy')\n",
    "plt.ylabel('accuracy')\n",
    "plt.xlabel('epoch')\n",
    "plt.legend(['train', 'validation'], loc='upper left')\n",
    "plt.show()\n",
    "# summarize history for loss\n",
    "plt.plot(history.history['loss'])\n",
    "plt.plot(history.history['val_loss'][1:43])\n",
    "plt.title('model loss')\n",
    "plt.ylabel('loss')\n",
    "plt.xlabel('epoch')\n",
    "plt.legend(['train', 'validation'], loc='upper left')\n",
    "plt.show()"
   ]
  },
  {
   "cell_type": "code",
   "execution_count": 10,
   "id": "thick-transfer",
   "metadata": {},
   "outputs": [
    {
     "name": "stdout",
     "output_type": "stream",
     "text": [
      "Model: \"model_1\"\n",
      "__________________________________________________________________________________________________\n",
      " Layer (type)                   Output Shape         Param #     Connected to                     \n",
      "==================================================================================================\n",
      " input_2 (InputLayer)           [(None, 149, 646)]   0           []                               \n",
      "                                                                                                  \n",
      " bidirectional_1 (Bidirectional  (None, 149, 200)    597600      ['input_2[0][0]']                \n",
      " )                                                                                                \n",
      "                                                                                                  \n",
      " conv1d_2 (Conv1D)              (None, 149, 200)     387800      ['input_2[0][0]']                \n",
      "                                                                                                  \n",
      " add_1 (Add)                    (None, 149, 200)     0           ['bidirectional_1[0][0]',        \n",
      "                                                                  'conv1d_2[0][0]']               \n",
      "                                                                                                  \n",
      " conv1d_3 (Conv1D)              (None, 147, 200)     120200      ['add_1[0][0]']                  \n",
      "                                                                                                  \n",
      " global_max_pooling1d_1 (Global  (None, 200)         0           ['conv1d_3[0][0]']               \n",
      " MaxPooling1D)                                                                                    \n",
      "                                                                                                  \n",
      " batch_normalization (BatchNorm  (None, 200)         800         ['global_max_pooling1d_1[0][0]'] \n",
      " alization)                                                                                       \n",
      "                                                                                                  \n",
      " dense_2 (Dense)                (None, 100)          20100       ['batch_normalization[0][0]']    \n",
      "                                                                                                  \n",
      " dropout_1 (Dropout)            (None, 100)          0           ['dense_2[0][0]']                \n",
      "                                                                                                  \n",
      " dense_3 (Dense)                (None, 2)            202         ['dropout_1[0][0]']              \n",
      "                                                                                                  \n",
      "==================================================================================================\n",
      "Total params: 1,126,702\n",
      "Trainable params: 1,126,302\n",
      "Non-trainable params: 400\n",
      "__________________________________________________________________________________________________\n"
     ]
    }
   ],
   "source": [
    "# two sided model\n",
    "#from keras.layers.core import Input, Model\n",
    "#with dropout\n",
    "from keras.layers import *\n",
    "from keras.models import *\n",
    "from keras.utils import *\n",
    "from keras.initializers import *\n",
    "import tensorflow as tf\n",
    "\n",
    "\n",
    "inputs = Input((149,646))\n",
    "\n",
    "side1 = Bidirectional(LSTM(100, return_sequences=True))(inputs) #200 total units\n",
    "side2 = Conv1D(200, kernel_size=3, activation = 'relu', padding = 'same')(inputs) #same activation \n",
    "                                                                   #same length\n",
    "\n",
    "merged = Add()([side1, side2]) \n",
    "     #or Concatenate()([side1, side2]) if different number of units/channels/features\n",
    "\n",
    "outputs = Conv1D(200, kernel_size=3)(merged)\n",
    "outputs = GlobalMaxPooling1D()(outputs)\n",
    "outputs = BatchNormalization()(outputs)\n",
    "outputs = Dense(100)(outputs)\n",
    "outputs = Dropout(0.2)(outputs)\n",
    "outputs = Dense(2, activation='softmax')(outputs)\n",
    "\n",
    "model = Model(inputs, outputs)\n",
    "model.summary()"
   ]
  },
  {
   "cell_type": "code",
   "execution_count": 11,
   "id": "prescribed-riverside",
   "metadata": {
    "scrolled": true
   },
   "outputs": [
    {
     "name": "stdout",
     "output_type": "stream",
     "text": [
      "Epoch 1/20\n",
      "54/54 [==============================] - 27s 443ms/step - loss: 0.3037 - accuracy: 0.9006 - mean_squared_error: 0.3910 - val_loss: 0.2278 - val_accuracy: 0.9726 - val_mean_squared_error: 0.4995\n",
      "Epoch 2/20\n",
      "54/54 [==============================] - 23s 425ms/step - loss: 0.0932 - accuracy: 0.9848 - mean_squared_error: 0.4515 - val_loss: 0.0457 - val_accuracy: 0.9889 - val_mean_squared_error: 0.4939\n",
      "Epoch 3/20\n",
      "54/54 [==============================] - 23s 432ms/step - loss: 0.0617 - accuracy: 0.9875 - mean_squared_error: 0.4727 - val_loss: 0.0446 - val_accuracy: 0.9854 - val_mean_squared_error: 0.4962\n",
      "Epoch 4/20\n",
      "54/54 [==============================] - 23s 424ms/step - loss: 0.0487 - accuracy: 0.9905 - mean_squared_error: 0.4797 - val_loss: 0.0337 - val_accuracy: 0.9895 - val_mean_squared_error: 0.4958\n",
      "Epoch 5/20\n",
      "54/54 [==============================] - 22s 411ms/step - loss: 0.0446 - accuracy: 0.9911 - mean_squared_error: 0.4852 - val_loss: 0.1120 - val_accuracy: 0.9942 - val_mean_squared_error: 0.4378\n",
      "Epoch 6/20\n",
      "54/54 [==============================] - 21s 397ms/step - loss: 0.0383 - accuracy: 0.9910 - mean_squared_error: 0.4871 - val_loss: 0.0359 - val_accuracy: 0.9889 - val_mean_squared_error: 0.4957\n",
      "Epoch 7/20\n",
      "54/54 [==============================] - 21s 386ms/step - loss: 0.0356 - accuracy: 0.9920 - mean_squared_error: 0.4892 - val_loss: 0.0275 - val_accuracy: 0.9901 - val_mean_squared_error: 0.4943\n",
      "Epoch 8/20\n",
      "54/54 [==============================] - 21s 388ms/step - loss: 0.0310 - accuracy: 0.9926 - mean_squared_error: 0.4896 - val_loss: 0.0411 - val_accuracy: 0.9924 - val_mean_squared_error: 0.4858\n",
      "Epoch 9/20\n",
      "54/54 [==============================] - 21s 392ms/step - loss: 0.0359 - accuracy: 0.9898 - mean_squared_error: 0.4899 - val_loss: 0.0314 - val_accuracy: 0.9912 - val_mean_squared_error: 0.4944\n",
      "Epoch 10/20\n",
      "54/54 [==============================] - 22s 402ms/step - loss: 0.0300 - accuracy: 0.9923 - mean_squared_error: 0.4905 - val_loss: 0.0292 - val_accuracy: 0.9907 - val_mean_squared_error: 0.4952\n",
      "Epoch 11/20\n",
      "54/54 [==============================] - 22s 407ms/step - loss: 0.0300 - accuracy: 0.9927 - mean_squared_error: 0.4928 - val_loss: 0.0413 - val_accuracy: 0.9918 - val_mean_squared_error: 0.4888\n",
      "Epoch 12/20\n",
      "54/54 [==============================] - 22s 402ms/step - loss: 0.0240 - accuracy: 0.9937 - mean_squared_error: 0.4937 - val_loss: 0.0332 - val_accuracy: 0.9901 - val_mean_squared_error: 0.4945\n",
      "Epoch 13/20\n",
      "54/54 [==============================] - 22s 400ms/step - loss: 0.0272 - accuracy: 0.9936 - mean_squared_error: 0.4928 - val_loss: 0.0528 - val_accuracy: 0.9924 - val_mean_squared_error: 0.4812\n",
      "Epoch 14/20\n",
      "54/54 [==============================] - 22s 401ms/step - loss: 0.0276 - accuracy: 0.9936 - mean_squared_error: 0.4935 - val_loss: 0.0319 - val_accuracy: 0.9912 - val_mean_squared_error: 0.4931\n",
      "Epoch 15/20\n",
      "54/54 [==============================] - 22s 400ms/step - loss: 0.0237 - accuracy: 0.9942 - mean_squared_error: 0.4933 - val_loss: 0.0337 - val_accuracy: 0.9918 - val_mean_squared_error: 0.4940\n",
      "Epoch 16/20\n",
      "54/54 [==============================] - 23s 420ms/step - loss: 0.0275 - accuracy: 0.9920 - mean_squared_error: 0.4943 - val_loss: 0.0474 - val_accuracy: 0.9924 - val_mean_squared_error: 0.4885\n",
      "Epoch 17/20\n",
      "54/54 [==============================] - 23s 417ms/step - loss: 0.0232 - accuracy: 0.9933 - mean_squared_error: 0.4950 - val_loss: 0.0482 - val_accuracy: 0.9918 - val_mean_squared_error: 0.4879\n",
      "Epoch 18/20\n",
      "54/54 [==============================] - 235s 4s/step - loss: 0.0191 - accuracy: 0.9946 - mean_squared_error: 0.4957 - val_loss: 0.3980 - val_accuracy: 0.8880 - val_mean_squared_error: 0.3386\n",
      "Epoch 19/20\n",
      "54/54 [==============================] - 24s 436ms/step - loss: 0.0248 - accuracy: 0.9942 - mean_squared_error: 0.4943 - val_loss: 1.0175 - val_accuracy: 0.3308 - val_mean_squared_error: 0.3325\n",
      "Epoch 20/20\n",
      "54/54 [==============================] - 22s 408ms/step - loss: 0.0192 - accuracy: 0.9962 - mean_squared_error: 0.4947 - val_loss: 0.0351 - val_accuracy: 0.9924 - val_mean_squared_error: 0.4913\n"
     ]
    }
   ],
   "source": [
    "model.compile(optimizer=keras.optimizers.Adam(1e-4),loss=tf.losses.SparseCategoricalCrossentropy(), metrics=[\"accuracy\", \"MeanSquaredError\"])\n",
    "history=model.fit(X_train, y_train, validation_data=(X_validation, y_validation),epochs = 20, batch_size = 128, verbose = 1)"
   ]
  },
  {
   "cell_type": "code",
   "execution_count": 12,
   "id": "productive-spanking",
   "metadata": {},
   "outputs": [
    {
     "name": "stdout",
     "output_type": "stream",
     "text": [
      "Accuracy: 0.989262\n",
      "Precision: 0.993169\n",
      "Recall: 0.994737\n",
      "F1 score: 0.993952\n",
      "Cohens kappa: 0.946135\n",
      "ROC AUC: 0.970509\n",
      "[[ 229   13]\n",
      " [  10 1890]]\n"
     ]
    }
   ],
   "source": [
    "#test\n",
    "pred = model.predict(X_test)\n",
    "y_pred = [0 if y[0]>y[1] else 1 for y in pred]\n",
    "\n",
    "#test\n",
    "\n",
    "from sklearn.datasets import make_circles\n",
    "from sklearn.metrics import accuracy_score\n",
    "from sklearn.metrics import precision_score\n",
    "from sklearn.metrics import recall_score\n",
    "from sklearn.metrics import f1_score\n",
    "from sklearn.metrics import cohen_kappa_score\n",
    "from sklearn.metrics import roc_auc_score\n",
    "from sklearn.metrics import confusion_matrix\n",
    "# accuracy: (tp + tn) / (p + n)\n",
    "accuracy = accuracy_score(y_test, y_pred)\n",
    "print('Accuracy: %f' % accuracy)\n",
    "# precision tp / (tp + fp)\n",
    "precision = precision_score(y_test, y_pred)\n",
    "print('Precision: %f' % precision)\n",
    "# recall: tp / (tp + fn)\n",
    "recall = recall_score(y_test, y_pred)\n",
    "print('Recall: %f' % recall)\n",
    "# f1: 2 tp / (2 tp + fp + fn)\n",
    "f1 = f1_score(y_test, y_pred)\n",
    "print('F1 score: %f' % f1)\n",
    "# kappa\n",
    "kappa = cohen_kappa_score(y_test, y_pred)\n",
    "print('Cohens kappa: %f' % kappa)\n",
    "# ROC AUC\n",
    "auc = roc_auc_score(y_test, y_pred)\n",
    "print('ROC AUC: %f' % auc)\n",
    "# confusion matrix\n",
    "matrix = confusion_matrix(y_test, y_pred)\n",
    "print(matrix)"
   ]
  },
  {
   "cell_type": "code",
   "execution_count": 13,
   "id": "excited-entrance",
   "metadata": {},
   "outputs": [
    {
     "name": "stdout",
     "output_type": "stream",
     "text": [
      "Accuracy: 0.995623\n",
      "Precision: 0.998665\n",
      "Recall: 0.996337\n",
      "F1 score: 0.997500\n",
      "Cohens kappa: 0.979956\n",
      "ROC AUC: 0.993452\n",
      "[[ 840    8]\n",
      " [  22 5984]]\n"
     ]
    }
   ],
   "source": [
    "#train\n",
    "from sklearn.metrics import confusion_matrix\n",
    "\n",
    "pred = model.predict(X_train)\n",
    "y_pred = [0 if y[0]>y[1] else 1 for y in pred]   #thereshold=50 y[0]>0.50\n",
    "\n",
    "\n",
    "from sklearn.datasets import make_circles\n",
    "from sklearn.metrics import accuracy_score\n",
    "from sklearn.metrics import precision_score\n",
    "from sklearn.metrics import recall_score\n",
    "from sklearn.metrics import f1_score\n",
    "from sklearn.metrics import cohen_kappa_score\n",
    "from sklearn.metrics import roc_auc_score\n",
    "from sklearn.metrics import confusion_matrix\n",
    "# accuracy: (tp + tn) / (p + n)\n",
    "accuracy = accuracy_score(y_train, y_pred)\n",
    "print('Accuracy: %f' % accuracy)\n",
    "# precision tp / (tp + fp)\n",
    "precision = precision_score(y_train, y_pred)\n",
    "print('Precision: %f' % precision)\n",
    "# recall: tp / (tp + fn)\n",
    "recall = recall_score(y_train, y_pred)\n",
    "print('Recall: %f' % recall)\n",
    "# f1: 2 tp / (2 tp + fp + fn)\n",
    "f1 = f1_score(y_train, y_pred)\n",
    "print('F1 score: %f' % f1)\n",
    "# kappa\n",
    "kappa = cohen_kappa_score(y_train, y_pred)\n",
    "print('Cohens kappa: %f' % kappa)\n",
    "# ROC AUC\n",
    "auc = roc_auc_score(y_train, y_pred)\n",
    "print('ROC AUC: %f' % auc)\n",
    "# confusion matrix\n",
    "matrix = confusion_matrix(y_train, y_pred)\n",
    "print(matrix)"
   ]
  },
  {
   "cell_type": "code",
   "execution_count": 14,
   "id": "improving-reform",
   "metadata": {},
   "outputs": [
    {
     "data": {
      "image/png": "[encoded data removed]",
      "text/plain": [
       "<Figure size 432x288 with 1 Axes>"
      ]
     },
     "metadata": {
      "needs_background": "light"
     },
     "output_type": "display_data"
    },
    {
     "data": {
      "image/png": "[encoded data removed]",
      "text/plain": [
       "<Figure size 432x288 with 1 Axes>"
      ]
     },
     "metadata": {
      "needs_background": "light"
     },
     "output_type": "display_data"
    }
   ],
   "source": [
    "# summarize history for accuracy\n",
    "plt.plot(history.history['accuracy'])\n",
    "plt.plot(history.history['val_accuracy'])\n",
    "plt.title('model accuracy')\n",
    "plt.ylabel('accuracy')\n",
    "plt.xlabel('epoch')\n",
    "plt.legend(['train', 'validation'], loc='upper left')\n",
    "plt.show()\n",
    "# summarize history for loss\n",
    "plt.plot(history.history['loss'])\n",
    "plt.plot(history.history['val_loss'][1:43])\n",
    "plt.title('model loss')\n",
    "plt.ylabel('loss')\n",
    "plt.xlabel('epoch')\n",
    "plt.legend(['train', 'validation'], loc='upper left')\n",
    "plt.show()"
   ]
  },
  {
   "cell_type": "code",
   "execution_count": 18,
   "id": "instructional-penetration",
   "metadata": {},
   "outputs": [
    {
     "name": "stdout",
     "output_type": "stream",
     "text": [
      "Model: \"model_3\"\n",
      "__________________________________________________________________________________________________\n",
      " Layer (type)                   Output Shape         Param #     Connected to                     \n",
      "==================================================================================================\n",
      " input_4 (InputLayer)           [(None, 149, 646)]   0           []                               \n",
      "                                                                                                  \n",
      " bidirectional_3 (Bidirectional  (None, 149, 200)    597600      ['input_4[0][0]']                \n",
      " )                                                                                                \n",
      "                                                                                                  \n",
      " conv1d_6 (Conv1D)              (None, 149, 200)     387800      ['input_4[0][0]']                \n",
      "                                                                                                  \n",
      " add_3 (Add)                    (None, 149, 200)     0           ['bidirectional_3[0][0]',        \n",
      "                                                                  'conv1d_6[0][0]']               \n",
      "                                                                                                  \n",
      " conv1d_7 (Conv1D)              (None, 147, 200)     120200      ['add_3[0][0]']                  \n",
      "                                                                                                  \n",
      " global_max_pooling1d_3 (Global  (None, 200)         0           ['conv1d_7[0][0]']               \n",
      " MaxPooling1D)                                                                                    \n",
      "                                                                                                  \n",
      " batch_normalization_2 (BatchNo  (None, 200)         800         ['global_max_pooling1d_3[0][0]'] \n",
      " rmalization)                                                                                     \n",
      "                                                                                                  \n",
      " dense_6 (Dense)                (None, 100)          20100       ['batch_normalization_2[0][0]']  \n",
      "                                                                                                  \n",
      " dropout_3 (Dropout)            (None, 100)          0           ['dense_6[0][0]']                \n",
      "                                                                                                  \n",
      " dense_7 (Dense)                (None, 2)            202         ['dropout_3[0][0]']              \n",
      "                                                                                                  \n",
      "==================================================================================================\n",
      "Total params: 1,126,702\n",
      "Trainable params: 1,126,302\n",
      "Non-trainable params: 400\n",
      "__________________________________________________________________________________________________\n"
     ]
    }
   ],
   "source": [
    "# two sided model\n",
    "#from keras.layers.core import Input, Model\n",
    "#with dropout\n",
    "from keras.layers import *\n",
    "from keras.models import *\n",
    "from keras.utils import *\n",
    "from keras.initializers import *\n",
    "import tensorflow as tf\n",
    "\n",
    "\n",
    "inputs = Input((149,646))\n",
    "\n",
    "side1 = Bidirectional(LSTM(100, return_sequences=True))(inputs) #200 total units\n",
    "side2 = Conv1D(200, kernel_size=3, activation = 'relu', padding = 'same')(inputs) #same activation \n",
    "                                                                   #same length\n",
    "\n",
    "merged = Add()([side1, side2]) \n",
    "     #or Concatenate()([side1, side2]) if different number of units/channels/features\n",
    "\n",
    "outputs = Conv1D(200, kernel_size=3)(merged)\n",
    "outputs = GlobalMaxPooling1D()(outputs)\n",
    "outputs = BatchNormalization()(outputs)\n",
    "outputs = Dense(100)(outputs)\n",
    "outputs = Dropout(0.2)(outputs)\n",
    "outputs = Dense(2, activation='softmax')(outputs)\n",
    "\n",
    "model2 = Model(inputs, outputs)\n",
    "model2.summary()"
   ]
  },
  {
   "cell_type": "code",
   "execution_count": 19,
   "id": "sufficient-algorithm",
   "metadata": {},
   "outputs": [
    {
     "name": "stdout",
     "output_type": "stream",
     "text": [
      "Epoch 1/20\n",
      "54/54 [==============================] - 25s 418ms/step - loss: 0.3053 - accuracy: 0.8990 - mean_squared_error: 0.3912 - val_loss: 0.2829 - val_accuracy: 0.9714 - val_mean_squared_error: 0.4996\n",
      "Epoch 2/20\n",
      "54/54 [==============================] - 21s 394ms/step - loss: 0.0902 - accuracy: 0.9834 - mean_squared_error: 0.4555 - val_loss: 0.0706 - val_accuracy: 0.9796 - val_mean_squared_error: 0.4969\n",
      "Epoch 3/20\n",
      "54/54 [==============================] - 21s 386ms/step - loss: 0.0614 - accuracy: 0.9888 - mean_squared_error: 0.4738 - val_loss: 0.0557 - val_accuracy: 0.9813 - val_mean_squared_error: 0.4964\n",
      "Epoch 4/20\n",
      "54/54 [==============================] - 21s 392ms/step - loss: 0.0447 - accuracy: 0.9910 - mean_squared_error: 0.4808 - val_loss: 0.0417 - val_accuracy: 0.9889 - val_mean_squared_error: 0.4963\n",
      "Epoch 5/20\n",
      "54/54 [==============================] - 21s 391ms/step - loss: 0.0381 - accuracy: 0.9911 - mean_squared_error: 0.4862 - val_loss: 0.0316 - val_accuracy: 0.9889 - val_mean_squared_error: 0.4956\n",
      "Epoch 6/20\n",
      "54/54 [==============================] - 21s 390ms/step - loss: 0.0443 - accuracy: 0.9914 - mean_squared_error: 0.4880 - val_loss: 0.0388 - val_accuracy: 0.9883 - val_mean_squared_error: 0.4966\n",
      "Epoch 7/20\n",
      "54/54 [==============================] - 21s 387ms/step - loss: 0.0286 - accuracy: 0.9931 - mean_squared_error: 0.4900 - val_loss: 0.0333 - val_accuracy: 0.9924 - val_mean_squared_error: 0.4902\n",
      "Epoch 8/20\n",
      "54/54 [==============================] - 21s 392ms/step - loss: 0.0332 - accuracy: 0.9921 - mean_squared_error: 0.4911 - val_loss: 0.0330 - val_accuracy: 0.9930 - val_mean_squared_error: 0.4904\n",
      "Epoch 9/20\n",
      "54/54 [==============================] - 22s 413ms/step - loss: 0.0284 - accuracy: 0.9933 - mean_squared_error: 0.4922 - val_loss: 0.0708 - val_accuracy: 0.9936 - val_mean_squared_error: 0.4639\n",
      "Epoch 10/20\n",
      "54/54 [==============================] - 22s 404ms/step - loss: 0.0273 - accuracy: 0.9937 - mean_squared_error: 0.4928 - val_loss: 0.0317 - val_accuracy: 0.9924 - val_mean_squared_error: 0.4967\n",
      "Epoch 11/20\n",
      "54/54 [==============================] - 22s 400ms/step - loss: 0.0252 - accuracy: 0.9939 - mean_squared_error: 0.4937 - val_loss: 0.0343 - val_accuracy: 0.9918 - val_mean_squared_error: 0.4891\n",
      "Epoch 12/20\n",
      "54/54 [==============================] - 22s 409ms/step - loss: 0.0263 - accuracy: 0.9927 - mean_squared_error: 0.4926 - val_loss: 0.1450 - val_accuracy: 0.9942 - val_mean_squared_error: 0.4118\n",
      "Epoch 13/20\n",
      "54/54 [==============================] - 23s 432ms/step - loss: 0.0220 - accuracy: 0.9936 - mean_squared_error: 0.4940 - val_loss: 0.0351 - val_accuracy: 0.9912 - val_mean_squared_error: 0.4910\n",
      "Epoch 14/20\n",
      "54/54 [==============================] - 23s 424ms/step - loss: 0.0237 - accuracy: 0.9947 - mean_squared_error: 0.4942 - val_loss: 0.0409 - val_accuracy: 0.9848 - val_mean_squared_error: 0.4953\n",
      "Epoch 15/20\n",
      "54/54 [==============================] - 23s 433ms/step - loss: 0.0206 - accuracy: 0.9945 - mean_squared_error: 0.4946 - val_loss: 0.0398 - val_accuracy: 0.9918 - val_mean_squared_error: 0.4911\n",
      "Epoch 16/20\n",
      "54/54 [==============================] - 23s 418ms/step - loss: 0.0192 - accuracy: 0.9943 - mean_squared_error: 0.4952 - val_loss: 0.0425 - val_accuracy: 0.9877 - val_mean_squared_error: 0.4966\n",
      "Epoch 17/20\n",
      "54/54 [==============================] - 22s 407ms/step - loss: 0.0192 - accuracy: 0.9943 - mean_squared_error: 0.4949 - val_loss: 0.0318 - val_accuracy: 0.9924 - val_mean_squared_error: 0.4955\n",
      "Epoch 18/20\n",
      "54/54 [==============================] - 22s 406ms/step - loss: 0.0187 - accuracy: 0.9945 - mean_squared_error: 0.4955 - val_loss: 0.8865 - val_accuracy: 0.3932 - val_mean_squared_error: 0.3288\n",
      "Epoch 19/20\n",
      "54/54 [==============================] - 22s 402ms/step - loss: 0.0247 - accuracy: 0.9946 - mean_squared_error: 0.4948 - val_loss: 0.0289 - val_accuracy: 0.9918 - val_mean_squared_error: 0.4972\n",
      "Epoch 20/20\n",
      "54/54 [==============================] - 22s 408ms/step - loss: 0.0196 - accuracy: 0.9940 - mean_squared_error: 0.4955 - val_loss: 0.0312 - val_accuracy: 0.9918 - val_mean_squared_error: 0.4982\n"
     ]
    }
   ],
   "source": [
    "model2.compile(optimizer=keras.optimizers.Adam(1e-4),loss=tf.losses.SparseCategoricalCrossentropy(), metrics=[\"accuracy\", \"MeanSquaredError\"])\n",
    "history=model2.fit(X_train, y_train, validation_data=(X_validation, y_validation),epochs = 20, batch_size = 128, verbose = 1)"
   ]
  },
  {
   "cell_type": "code",
   "execution_count": 20,
   "id": "controlling-commission",
   "metadata": {},
   "outputs": [
    {
     "name": "stdout",
     "output_type": "stream",
     "text": [
      "Accuracy: 0.988329\n",
      "Precision: 0.990581\n",
      "Recall: 0.996316\n",
      "F1 score: 0.993440\n",
      "Cohens kappa: 0.940590\n",
      "ROC AUC: 0.960968\n",
      "[[ 224   18]\n",
      " [   7 1893]]\n"
     ]
    }
   ],
   "source": [
    "#test\n",
    "pred = model2.predict(X_test)\n",
    "y_pred = [0 if y[0]>y[1] else 1 for y in pred]\n",
    "\n",
    "#test\n",
    "\n",
    "from sklearn.datasets import make_circles\n",
    "from sklearn.metrics import accuracy_score\n",
    "from sklearn.metrics import precision_score\n",
    "from sklearn.metrics import recall_score\n",
    "from sklearn.metrics import f1_score\n",
    "from sklearn.metrics import cohen_kappa_score\n",
    "from sklearn.metrics import roc_auc_score\n",
    "from sklearn.metrics import confusion_matrix\n",
    "# accuracy: (tp + tn) / (p + n)\n",
    "accuracy = accuracy_score(y_test, y_pred)\n",
    "print('Accuracy: %f' % accuracy)\n",
    "# precision tp / (tp + fp)\n",
    "precision = precision_score(y_test, y_pred)\n",
    "print('Precision: %f' % precision)\n",
    "# recall: tp / (tp + fn)\n",
    "recall = recall_score(y_test, y_pred)\n",
    "print('Recall: %f' % recall)\n",
    "# f1: 2 tp / (2 tp + fp + fn)\n",
    "f1 = f1_score(y_test, y_pred)\n",
    "print('F1 score: %f' % f1)\n",
    "# kappa\n",
    "kappa = cohen_kappa_score(y_test, y_pred)\n",
    "print('Cohens kappa: %f' % kappa)\n",
    "# ROC AUC\n",
    "auc = roc_auc_score(y_test, y_pred)\n",
    "print('ROC AUC: %f' % auc)\n",
    "# confusion matrix\n",
    "matrix = confusion_matrix(y_test, y_pred)\n",
    "print(matrix)"
   ]
  },
  {
   "cell_type": "code",
   "execution_count": 21,
   "id": "significant-position",
   "metadata": {},
   "outputs": [
    {
     "name": "stdout",
     "output_type": "stream",
     "text": [
      "Accuracy: 0.995039\n",
      "Precision: 0.995355\n",
      "Recall: 0.999001\n",
      "F1 score: 0.997175\n",
      "Cohens kappa: 0.976865\n",
      "ROC AUC: 0.982991\n",
      "[[ 820   28]\n",
      " [   6 6000]]\n"
     ]
    }
   ],
   "source": [
    "#train\n",
    "from sklearn.metrics import confusion_matrix\n",
    "\n",
    "pred = model2.predict(X_train)\n",
    "y_pred = [0 if y[0]>y[1] else 1 for y in pred]   #thereshold=50 y[0]>0.50\n",
    "\n",
    "\n",
    "from sklearn.datasets import make_circles\n",
    "from sklearn.metrics import accuracy_score\n",
    "from sklearn.metrics import precision_score\n",
    "from sklearn.metrics import recall_score\n",
    "from sklearn.metrics import f1_score\n",
    "from sklearn.metrics import cohen_kappa_score\n",
    "from sklearn.metrics import roc_auc_score\n",
    "from sklearn.metrics import confusion_matrix\n",
    "# accuracy: (tp + tn) / (p + n)\n",
    "accuracy = accuracy_score(y_train, y_pred)\n",
    "print('Accuracy: %f' % accuracy)\n",
    "# precision tp / (tp + fp)\n",
    "precision = precision_score(y_train, y_pred)\n",
    "print('Precision: %f' % precision)\n",
    "# recall: tp / (tp + fn)\n",
    "recall = recall_score(y_train, y_pred)\n",
    "print('Recall: %f' % recall)\n",
    "# f1: 2 tp / (2 tp + fp + fn)\n",
    "f1 = f1_score(y_train, y_pred)\n",
    "print('F1 score: %f' % f1)\n",
    "# kappa\n",
    "kappa = cohen_kappa_score(y_train, y_pred)\n",
    "print('Cohens kappa: %f' % kappa)\n",
    "# ROC AUC\n",
    "auc = roc_auc_score(y_train, y_pred)\n",
    "print('ROC AUC: %f' % auc)\n",
    "# confusion matrix\n",
    "matrix = confusion_matrix(y_train, y_pred)\n",
    "print(matrix)"
   ]
  },
  {
   "cell_type": "code",
   "execution_count": 22,
   "id": "opening-asian",
   "metadata": {},
   "outputs": [
    {
     "data": {
      "image/png": "[encoded data removed]",
      "text/plain": [
       "<Figure size 432x288 with 1 Axes>"
      ]
     },
     "metadata": {
      "needs_background": "light"
     },
     "output_type": "display_data"
    },
    {
     "data": {
      "image/png": "[encoded data removed]",
      "text/plain": [
       "<Figure size 432x288 with 1 Axes>"
      ]
     },
     "metadata": {
      "needs_background": "light"
     },
     "output_type": "display_data"
    }
   ],
   "source": [
    "# summarize history for accuracy\n",
    "plt.plot(history.history['accuracy'])\n",
    "plt.plot(history.history['val_accuracy'])\n",
    "plt.title('model accuracy')\n",
    "plt.ylabel('accuracy')\n",
    "plt.xlabel('epoch')\n",
    "plt.legend(['train', 'validation'], loc='upper left')\n",
    "plt.show()\n",
    "# summarize history for loss\n",
    "plt.plot(history.history['loss'])\n",
    "plt.plot(history.history['val_loss'][1:43])\n",
    "plt.title('model loss')\n",
    "plt.ylabel('loss')\n",
    "plt.xlabel('epoch')\n",
    "plt.legend(['train', 'validation'], loc='upper left')\n",
    "plt.show()"
   ]
  },
  {
   "cell_type": "code",
   "execution_count": 25,
   "id": "collective-richmond",
   "metadata": {},
   "outputs": [
    {
     "name": "stdout",
     "output_type": "stream",
     "text": [
      "Model: \"model_5\"\n",
      "__________________________________________________________________________________________________\n",
      " Layer (type)                   Output Shape         Param #     Connected to                     \n",
      "==================================================================================================\n",
      " input_6 (InputLayer)           [(None, 149, 646)]   0           []                               \n",
      "                                                                                                  \n",
      " bidirectional_5 (Bidirectional  (None, 149, 200)    597600      ['input_6[0][0]']                \n",
      " )                                                                                                \n",
      "                                                                                                  \n",
      " conv1d_10 (Conv1D)             (None, 149, 200)     387800      ['input_6[0][0]']                \n",
      "                                                                                                  \n",
      " add_5 (Add)                    (None, 149, 200)     0           ['bidirectional_5[0][0]',        \n",
      "                                                                  'conv1d_10[0][0]']              \n",
      "                                                                                                  \n",
      " conv1d_11 (Conv1D)             (None, 147, 200)     120200      ['add_5[0][0]']                  \n",
      "                                                                                                  \n",
      " global_max_pooling1d_5 (Global  (None, 200)         0           ['conv1d_11[0][0]']              \n",
      " MaxPooling1D)                                                                                    \n",
      "                                                                                                  \n",
      " batch_normalization_4 (BatchNo  (None, 200)         800         ['global_max_pooling1d_5[0][0]'] \n",
      " rmalization)                                                                                     \n",
      "                                                                                                  \n",
      " dense_10 (Dense)               (None, 100)          20100       ['batch_normalization_4[0][0]']  \n",
      "                                                                                                  \n",
      " dropout_5 (Dropout)            (None, 100)          0           ['dense_10[0][0]']               \n",
      "                                                                                                  \n",
      " dense_11 (Dense)               (None, 2)            202         ['dropout_5[0][0]']              \n",
      "                                                                                                  \n",
      "==================================================================================================\n",
      "Total params: 1,126,702\n",
      "Trainable params: 1,126,302\n",
      "Non-trainable params: 400\n",
      "__________________________________________________________________________________________________\n"
     ]
    }
   ],
   "source": [
    "# two sided model\n",
    "#from keras.layers.core import Input, Model\n",
    "#with dropout\n",
    "from keras.layers import *\n",
    "from keras.models import *\n",
    "from keras.utils import *\n",
    "from keras.initializers import *\n",
    "import tensorflow as tf\n",
    "\n",
    "\n",
    "inputs = Input((149,646))\n",
    "\n",
    "side1 = Bidirectional(LSTM(100, return_sequences=True))(inputs) #200 total units\n",
    "side2 = Conv1D(200, kernel_size=3, activation = 'relu', padding = 'same')(inputs) #same activation \n",
    "                                                                   #same length\n",
    "\n",
    "merged = Add()([side1, side2]) \n",
    "     #or Concatenate()([side1, side2]) if different number of units/channels/features\n",
    "\n",
    "outputs = Conv1D(200, kernel_size=3)(merged)\n",
    "outputs = GlobalMaxPooling1D()(outputs)\n",
    "outputs = BatchNormalization()(outputs)\n",
    "outputs = Dense(100)(outputs)\n",
    "outputs = Dropout(0.2)(outputs)\n",
    "outputs = Dense(2, activation='softmax')(outputs)\n",
    "\n",
    "model4 = Model(inputs, outputs)\n",
    "model4.summary()"
   ]
  },
  {
   "cell_type": "code",
   "execution_count": 26,
   "id": "resident-biodiversity",
   "metadata": {},
   "outputs": [
    {
     "name": "stdout",
     "output_type": "stream",
     "text": [
      "Epoch 1/30\n",
      "54/54 [==============================] - 24s 410ms/step - loss: 0.3554 - accuracy: 0.8783 - mean_squared_error: 0.3880 - val_loss: 0.2392 - val_accuracy: 0.9726 - val_mean_squared_error: 0.4994\n",
      "Epoch 2/30\n",
      "54/54 [==============================] - 21s 388ms/step - loss: 0.0988 - accuracy: 0.9825 - mean_squared_error: 0.4514 - val_loss: 0.0802 - val_accuracy: 0.9784 - val_mean_squared_error: 0.4970\n",
      "Epoch 3/30\n",
      "54/54 [==============================] - 21s 386ms/step - loss: 0.0635 - accuracy: 0.9882 - mean_squared_error: 0.4702 - val_loss: 0.0471 - val_accuracy: 0.9848 - val_mean_squared_error: 0.4958\n",
      "Epoch 4/30\n",
      "54/54 [==============================] - 23s 422ms/step - loss: 0.0554 - accuracy: 0.9891 - mean_squared_error: 0.4784 - val_loss: 0.0431 - val_accuracy: 0.9860 - val_mean_squared_error: 0.4963\n",
      "Epoch 5/30\n",
      "54/54 [==============================] - 22s 403ms/step - loss: 0.0431 - accuracy: 0.9905 - mean_squared_error: 0.4835 - val_loss: 0.0383 - val_accuracy: 0.9918 - val_mean_squared_error: 0.4886\n",
      "Epoch 6/30\n",
      "54/54 [==============================] - 21s 391ms/step - loss: 0.0353 - accuracy: 0.9930 - mean_squared_error: 0.4858 - val_loss: 0.0463 - val_accuracy: 0.9842 - val_mean_squared_error: 0.4965\n",
      "Epoch 7/30\n",
      "54/54 [==============================] - 22s 411ms/step - loss: 0.0414 - accuracy: 0.9915 - mean_squared_error: 0.4884 - val_loss: 0.0364 - val_accuracy: 0.9866 - val_mean_squared_error: 0.4957\n",
      "Epoch 8/30\n",
      "54/54 [==============================] - 22s 404ms/step - loss: 0.0335 - accuracy: 0.9910 - mean_squared_error: 0.4901 - val_loss: 0.0526 - val_accuracy: 0.9930 - val_mean_squared_error: 0.4805\n",
      "Epoch 9/30\n",
      "54/54 [==============================] - 22s 404ms/step - loss: 0.0319 - accuracy: 0.9923 - mean_squared_error: 0.4907 - val_loss: 0.0286 - val_accuracy: 0.9912 - val_mean_squared_error: 0.4949\n",
      "Epoch 10/30\n",
      "54/54 [==============================] - 22s 407ms/step - loss: 0.0295 - accuracy: 0.9921 - mean_squared_error: 0.4911 - val_loss: 0.0392 - val_accuracy: 0.9930 - val_mean_squared_error: 0.4897\n",
      "Epoch 11/30\n",
      "54/54 [==============================] - 22s 407ms/step - loss: 0.0329 - accuracy: 0.9920 - mean_squared_error: 0.4917 - val_loss: 0.0472 - val_accuracy: 0.9930 - val_mean_squared_error: 0.4904\n",
      "Epoch 12/30\n",
      "54/54 [==============================] - 22s 403ms/step - loss: 0.0293 - accuracy: 0.9942 - mean_squared_error: 0.4928 - val_loss: 0.0517 - val_accuracy: 0.9837 - val_mean_squared_error: 0.4970\n",
      "Epoch 13/30\n",
      "54/54 [==============================] - 22s 411ms/step - loss: 0.0315 - accuracy: 0.9920 - mean_squared_error: 0.4917 - val_loss: 1.9835 - val_accuracy: 0.1692 - val_mean_squared_error: 0.4016\n",
      "Epoch 14/30\n",
      "54/54 [==============================] - 22s 413ms/step - loss: 0.0260 - accuracy: 0.9937 - mean_squared_error: 0.4921 - val_loss: 0.3076 - val_accuracy: 0.9539 - val_mean_squared_error: 0.3529\n",
      "Epoch 15/30\n",
      "54/54 [==============================] - 23s 428ms/step - loss: 0.0161 - accuracy: 0.9955 - mean_squared_error: 0.4941 - val_loss: 0.0382 - val_accuracy: 0.9924 - val_mean_squared_error: 0.4892\n",
      "Epoch 16/30\n",
      "54/54 [==============================] - 22s 415ms/step - loss: 0.0274 - accuracy: 0.9927 - mean_squared_error: 0.4931 - val_loss: 0.0366 - val_accuracy: 0.9918 - val_mean_squared_error: 0.4949\n",
      "Epoch 17/30\n",
      "54/54 [==============================] - 23s 418ms/step - loss: 0.0218 - accuracy: 0.9943 - mean_squared_error: 0.4942 - val_loss: 0.0369 - val_accuracy: 0.9854 - val_mean_squared_error: 0.4964\n",
      "Epoch 18/30\n",
      "54/54 [==============================] - 22s 409ms/step - loss: 0.0178 - accuracy: 0.9950 - mean_squared_error: 0.4947 - val_loss: 0.0434 - val_accuracy: 0.9924 - val_mean_squared_error: 0.4855\n",
      "Epoch 19/30\n",
      "54/54 [==============================] - 22s 409ms/step - loss: 0.0198 - accuracy: 0.9943 - mean_squared_error: 0.4947 - val_loss: 0.0335 - val_accuracy: 0.9924 - val_mean_squared_error: 0.4940\n",
      "Epoch 20/30\n",
      "54/54 [==============================] - 22s 416ms/step - loss: 0.0212 - accuracy: 0.9937 - mean_squared_error: 0.4953 - val_loss: 0.0740 - val_accuracy: 0.9883 - val_mean_squared_error: 0.4807\n",
      "Epoch 21/30\n",
      "54/54 [==============================] - 22s 407ms/step - loss: 0.0213 - accuracy: 0.9949 - mean_squared_error: 0.4944 - val_loss: 0.0595 - val_accuracy: 0.9924 - val_mean_squared_error: 0.4872\n",
      "Epoch 22/30\n",
      "54/54 [==============================] - 22s 416ms/step - loss: 0.0235 - accuracy: 0.9933 - mean_squared_error: 0.4942 - val_loss: 0.0504 - val_accuracy: 0.9918 - val_mean_squared_error: 0.4889\n",
      "Epoch 23/30\n",
      "54/54 [==============================] - 23s 419ms/step - loss: 0.0175 - accuracy: 0.9956 - mean_squared_error: 0.4953 - val_loss: 0.0373 - val_accuracy: 0.9918 - val_mean_squared_error: 0.4970\n",
      "Epoch 24/30\n",
      "54/54 [==============================] - 22s 410ms/step - loss: 0.0179 - accuracy: 0.9947 - mean_squared_error: 0.4958 - val_loss: 0.0615 - val_accuracy: 0.9930 - val_mean_squared_error: 0.4829\n",
      "Epoch 25/30\n",
      "54/54 [==============================] - 23s 423ms/step - loss: 0.0157 - accuracy: 0.9949 - mean_squared_error: 0.4961 - val_loss: 0.0357 - val_accuracy: 0.9930 - val_mean_squared_error: 0.4951\n",
      "Epoch 26/30\n",
      "54/54 [==============================] - 22s 413ms/step - loss: 0.0174 - accuracy: 0.9942 - mean_squared_error: 0.4950 - val_loss: 0.0340 - val_accuracy: 0.9918 - val_mean_squared_error: 0.4966\n",
      "Epoch 27/30\n",
      "54/54 [==============================] - 22s 412ms/step - loss: 0.0195 - accuracy: 0.9947 - mean_squared_error: 0.4964 - val_loss: 0.0324 - val_accuracy: 0.9901 - val_mean_squared_error: 0.4967\n",
      "Epoch 28/30\n",
      "54/54 [==============================] - 23s 420ms/step - loss: 0.0149 - accuracy: 0.9950 - mean_squared_error: 0.4960 - val_loss: 0.0389 - val_accuracy: 0.9918 - val_mean_squared_error: 0.4926\n",
      "Epoch 29/30\n",
      "54/54 [==============================] - 24s 439ms/step - loss: 0.0192 - accuracy: 0.9947 - mean_squared_error: 0.4964 - val_loss: 0.0886 - val_accuracy: 0.9901 - val_mean_squared_error: 0.4599\n",
      "Epoch 30/30\n",
      "54/54 [==============================] - 23s 427ms/step - loss: 0.0175 - accuracy: 0.9943 - mean_squared_error: 0.4965 - val_loss: 0.0409 - val_accuracy: 0.9901 - val_mean_squared_error: 0.4974\n"
     ]
    }
   ],
   "source": [
    "model4.compile(optimizer=keras.optimizers.Adam(1e-4),loss=tf.losses.SparseCategoricalCrossentropy(), metrics=[\"accuracy\", \"MeanSquaredError\"])\n",
    "history=model4.fit(X_train, y_train, validation_data=(X_validation, y_validation),epochs = 30, batch_size = 128, verbose = 1)"
   ]
  },
  {
   "cell_type": "code",
   "execution_count": 27,
   "id": "amended-donna",
   "metadata": {},
   "outputs": [
    {
     "name": "stdout",
     "output_type": "stream",
     "text": [
      "Accuracy: 0.995039\n",
      "Precision: 0.995355\n",
      "Recall: 0.999001\n",
      "F1 score: 0.997175\n",
      "Cohens kappa: 0.976865\n",
      "ROC AUC: 0.982991\n",
      "[[ 820   28]\n",
      " [   6 6000]]\n"
     ]
    }
   ],
   "source": [
    "#train\n",
    "from sklearn.metrics import confusion_matrix\n",
    "\n",
    "pred = model2.predict(X_train)\n",
    "y_pred = [0 if y[0]>y[1] else 1 for y in pred]   #thereshold=50 y[0]>0.50\n",
    "\n",
    "\n",
    "from sklearn.datasets import make_circles\n",
    "from sklearn.metrics import accuracy_score\n",
    "from sklearn.metrics import precision_score\n",
    "from sklearn.metrics import recall_score\n",
    "from sklearn.metrics import f1_score\n",
    "from sklearn.metrics import cohen_kappa_score\n",
    "from sklearn.metrics import roc_auc_score\n",
    "from sklearn.metrics import confusion_matrix\n",
    "# accuracy: (tp + tn) / (p + n)\n",
    "accuracy = accuracy_score(y_train, y_pred)\n",
    "print('Accuracy: %f' % accuracy)\n",
    "# precision tp / (tp + fp)\n",
    "precision = precision_score(y_train, y_pred)\n",
    "print('Precision: %f' % precision)\n",
    "# recall: tp / (tp + fn)\n",
    "recall = recall_score(y_train, y_pred)\n",
    "print('Recall: %f' % recall)\n",
    "# f1: 2 tp / (2 tp + fp + fn)\n",
    "f1 = f1_score(y_train, y_pred)\n",
    "print('F1 score: %f' % f1)\n",
    "# kappa\n",
    "kappa = cohen_kappa_score(y_train, y_pred)\n",
    "print('Cohens kappa: %f' % kappa)\n",
    "# ROC AUC\n",
    "auc = roc_auc_score(y_train, y_pred)\n",
    "print('ROC AUC: %f' % auc)\n",
    "# confusion matrix\n",
    "matrix = confusion_matrix(y_train, y_pred)\n",
    "print(matrix)"
   ]
  },
  {
   "cell_type": "code",
   "execution_count": 29,
   "id": "accomplished-premises",
   "metadata": {},
   "outputs": [
    {
     "data": {
      "image/png": "[encoded data removed]",
      "text/plain": [
       "<Figure size 432x288 with 1 Axes>"
      ]
     },
     "metadata": {
      "needs_background": "light"
     },
     "output_type": "display_data"
    },
    {
     "data": {
      "image/png": "[encoded data removed]",
      "text/plain": [
       "<Figure size 432x288 with 1 Axes>"
      ]
     },
     "metadata": {
      "needs_background": "light"
     },
     "output_type": "display_data"
    }
   ],
   "source": [
    "# summarize history for accuracy\n",
    "plt.plot(history.history['accuracy'])\n",
    "plt.plot(history.history['val_accuracy'])\n",
    "plt.title('model accuracy')\n",
    "plt.ylabel('accuracy')\n",
    "plt.xlabel('epoch')\n",
    "plt.legend(['train', 'validation'], loc='upper left')\n",
    "plt.show()\n",
    "# summarize history for loss\n",
    "plt.plot(history.history['loss'])\n",
    "plt.plot(history.history['val_loss'][1:43])\n",
    "plt.title('model loss')\n",
    "plt.ylabel('loss')\n",
    "plt.xlabel('epoch')\n",
    "plt.legend(['train', 'validation'], loc='upper left')\n",
    "plt.show()"
   ]
  },
  {
   "cell_type": "code",
   "execution_count": 28,
   "id": "bacterial-surveillance",
   "metadata": {},
   "outputs": [
    {
     "name": "stdout",
     "output_type": "stream",
     "text": [
      "Accuracy: 0.988329\n",
      "Precision: 0.990581\n",
      "Recall: 0.996316\n",
      "F1 score: 0.993440\n",
      "Cohens kappa: 0.940590\n",
      "ROC AUC: 0.960968\n",
      "[[ 224   18]\n",
      " [   7 1893]]\n"
     ]
    }
   ],
   "source": [
    "#test\n",
    "pred = model2.predict(X_test)\n",
    "y_pred = [0 if y[0]>y[1] else 1 for y in pred]\n",
    "\n",
    "#test\n",
    "\n",
    "from sklearn.datasets import make_circles\n",
    "from sklearn.metrics import accuracy_score\n",
    "from sklearn.metrics import precision_score\n",
    "from sklearn.metrics import recall_score\n",
    "from sklearn.metrics import f1_score\n",
    "from sklearn.metrics import cohen_kappa_score\n",
    "from sklearn.metrics import roc_auc_score\n",
    "from sklearn.metrics import confusion_matrix\n",
    "# accuracy: (tp + tn) / (p + n)\n",
    "accuracy = accuracy_score(y_test, y_pred)\n",
    "print('Accuracy: %f' % accuracy)\n",
    "# precision tp / (tp + fp)\n",
    "precision = precision_score(y_test, y_pred)\n",
    "print('Precision: %f' % precision)\n",
    "# recall: tp / (tp + fn)\n",
    "recall = recall_score(y_test, y_pred)\n",
    "print('Recall: %f' % recall)\n",
    "# f1: 2 tp / (2 tp + fp + fn)\n",
    "f1 = f1_score(y_test, y_pred)\n",
    "print('F1 score: %f' % f1)\n",
    "# kappa\n",
    "kappa = cohen_kappa_score(y_test, y_pred)\n",
    "print('Cohens kappa: %f' % kappa)\n",
    "# ROC AUC\n",
    "auc = roc_auc_score(y_test, y_pred)\n",
    "print('ROC AUC: %f' % auc)\n",
    "# confusion matrix\n",
    "matrix = confusion_matrix(y_test, y_pred)\n",
    "print(matrix)"
   ]
  },
  {
   "cell_type": "code",
   "execution_count": 30,
   "id": "considerable-leader",
   "metadata": {},
   "outputs": [
    {
     "name": "stdout",
     "output_type": "stream",
     "text": [
      "Model: \"model_6\"\n",
      "__________________________________________________________________________________________________\n",
      " Layer (type)                   Output Shape         Param #     Connected to                     \n",
      "==================================================================================================\n",
      " input_7 (InputLayer)           [(None, 149, 646)]   0           []                               \n",
      "                                                                                                  \n",
      " bidirectional_6 (Bidirectional  (None, 149, 200)    597600      ['input_7[0][0]']                \n",
      " )                                                                                                \n",
      "                                                                                                  \n",
      " conv1d_12 (Conv1D)             (None, 149, 200)     387800      ['input_7[0][0]']                \n",
      "                                                                                                  \n",
      " add_6 (Add)                    (None, 149, 200)     0           ['bidirectional_6[0][0]',        \n",
      "                                                                  'conv1d_12[0][0]']              \n",
      "                                                                                                  \n",
      " conv1d_13 (Conv1D)             (None, 147, 200)     120200      ['add_6[0][0]']                  \n",
      "                                                                                                  \n",
      " global_max_pooling1d_6 (Global  (None, 200)         0           ['conv1d_13[0][0]']              \n",
      " MaxPooling1D)                                                                                    \n",
      "                                                                                                  \n",
      " dense_12 (Dense)               (None, 100)          20100       ['global_max_pooling1d_6[0][0]'] \n",
      "                                                                                                  \n",
      " dropout_6 (Dropout)            (None, 100)          0           ['dense_12[0][0]']               \n",
      "                                                                                                  \n",
      " dense_13 (Dense)               (None, 2)            202         ['dropout_6[0][0]']              \n",
      "                                                                                                  \n",
      "==================================================================================================\n",
      "Total params: 1,125,902\n",
      "Trainable params: 1,125,902\n",
      "Non-trainable params: 0\n",
      "__________________________________________________________________________________________________\n"
     ]
    }
   ],
   "source": [
    "# two sided model\n",
    "#from keras.layers.core import Input, Model\n",
    "#with dropout\n",
    "from keras.layers import *\n",
    "from keras.models import *\n",
    "from keras.utils import *\n",
    "from keras.initializers import *\n",
    "import tensorflow as tf\n",
    "\n",
    "\n",
    "inputs = Input((149,646))\n",
    "\n",
    "side1 = Bidirectional(LSTM(100, return_sequences=True))(inputs) #200 total units\n",
    "side2 = Conv1D(200, kernel_size=3, activation = 'relu', padding = 'same')(inputs) #same activation \n",
    "                                                                   #same length\n",
    "\n",
    "merged = Add()([side1, side2]) \n",
    "     #or Concatenate()([side1, side2]) if different number of units/channels/features\n",
    "\n",
    "outputs = Conv1D(200, kernel_size=3)(merged)\n",
    "outputs = GlobalMaxPooling1D()(outputs)\n",
    "outputs = Dense(100)(outputs)\n",
    "outputs = Dropout(0.2)(outputs)\n",
    "outputs = Dense(2, activation='softmax')(outputs)\n",
    "\n",
    "model5 = Model(inputs, outputs)\n",
    "model5.summary()"
   ]
  },
  {
   "cell_type": "code",
   "execution_count": 31,
   "id": "religious-specification",
   "metadata": {},
   "outputs": [
    {
     "name": "stdout",
     "output_type": "stream",
     "text": [
      "Epoch 1/30\n",
      "54/54 [==============================] - 25s 420ms/step - loss: 96.7507 - accuracy: 0.9200 - mean_squared_error: 0.4999 - val_loss: 20.6073 - val_accuracy: 0.9761 - val_mean_squared_error: 0.5000\n",
      "Epoch 2/30\n",
      "54/54 [==============================] - 22s 388ms/step - loss: 25.1690 - accuracy: 0.9628 - mean_squared_error: 0.4999 - val_loss: 13.9624 - val_accuracy: 0.9796 - val_mean_squared_error: 0.5000\n",
      "Epoch 3/30\n",
      "54/54 [==============================] - 21s 385ms/step - loss: 15.0418 - accuracy: 0.9771 - mean_squared_error: 0.4999 - val_loss: 9.7846 - val_accuracy: 0.9907 - val_mean_squared_error: 0.5000\n",
      "Epoch 4/30\n",
      "54/54 [==============================] - 20s 380ms/step - loss: 10.0534 - accuracy: 0.9831 - mean_squared_error: 0.4999 - val_loss: 8.8296 - val_accuracy: 0.9872 - val_mean_squared_error: 0.5000\n",
      "Epoch 5/30\n",
      "54/54 [==============================] - 21s 380ms/step - loss: 7.6334 - accuracy: 0.9854 - mean_squared_error: 0.4999 - val_loss: 6.6961 - val_accuracy: 0.9889 - val_mean_squared_error: 0.4999\n",
      "Epoch 6/30\n",
      "54/54 [==============================] - 21s 398ms/step - loss: 6.8620 - accuracy: 0.9853 - mean_squared_error: 0.5000 - val_loss: 7.3909 - val_accuracy: 0.9866 - val_mean_squared_error: 0.5000\n",
      "Epoch 7/30\n",
      "54/54 [==============================] - 22s 404ms/step - loss: 6.5872 - accuracy: 0.9882 - mean_squared_error: 0.5000 - val_loss: 7.2382 - val_accuracy: 0.9901 - val_mean_squared_error: 0.5000\n",
      "Epoch 8/30\n",
      "54/54 [==============================] - 22s 401ms/step - loss: 6.2294 - accuracy: 0.9848 - mean_squared_error: 0.5000 - val_loss: 9.8594 - val_accuracy: 0.9889 - val_mean_squared_error: 0.5000\n",
      "Epoch 9/30\n",
      "54/54 [==============================] - 22s 402ms/step - loss: 5.5759 - accuracy: 0.9892 - mean_squared_error: 0.5000 - val_loss: 8.7290 - val_accuracy: 0.9924 - val_mean_squared_error: 0.4999\n",
      "Epoch 10/30\n",
      "54/54 [==============================] - 22s 406ms/step - loss: 6.0802 - accuracy: 0.9888 - mean_squared_error: 0.5000 - val_loss: 6.8122 - val_accuracy: 0.9907 - val_mean_squared_error: 0.5000\n",
      "Epoch 11/30\n",
      "54/54 [==============================] - 22s 409ms/step - loss: 4.7835 - accuracy: 0.9901 - mean_squared_error: 0.5000 - val_loss: 7.7049 - val_accuracy: 0.9918 - val_mean_squared_error: 0.5000\n",
      "Epoch 12/30\n",
      "54/54 [==============================] - 23s 412ms/step - loss: 4.5793 - accuracy: 0.9910 - mean_squared_error: 0.5000 - val_loss: 7.8304 - val_accuracy: 0.9924 - val_mean_squared_error: 0.5000\n",
      "Epoch 13/30\n",
      "54/54 [==============================] - 22s 404ms/step - loss: 6.4487 - accuracy: 0.9877 - mean_squared_error: 0.5000 - val_loss: 7.5639 - val_accuracy: 0.9912 - val_mean_squared_error: 0.5000\n",
      "Epoch 14/30\n",
      "54/54 [==============================] - 22s 404ms/step - loss: 4.6029 - accuracy: 0.9885 - mean_squared_error: 0.5000 - val_loss: 11.8103 - val_accuracy: 0.9813 - val_mean_squared_error: 0.5000\n",
      "Epoch 15/30\n",
      "54/54 [==============================] - 22s 406ms/step - loss: 5.3934 - accuracy: 0.9912 - mean_squared_error: 0.5000 - val_loss: 7.6795 - val_accuracy: 0.9912 - val_mean_squared_error: 0.5000\n",
      "Epoch 16/30\n",
      "54/54 [==============================] - 22s 405ms/step - loss: 3.5395 - accuracy: 0.9930 - mean_squared_error: 0.5000 - val_loss: 6.8521 - val_accuracy: 0.9930 - val_mean_squared_error: 0.5000\n",
      "Epoch 17/30\n",
      "54/54 [==============================] - 22s 413ms/step - loss: 4.1744 - accuracy: 0.9891 - mean_squared_error: 0.5000 - val_loss: 9.3687 - val_accuracy: 0.9930 - val_mean_squared_error: 0.5000\n",
      "Epoch 18/30\n",
      "54/54 [==============================] - 22s 402ms/step - loss: 5.2895 - accuracy: 0.9912 - mean_squared_error: 0.5000 - val_loss: 5.5636 - val_accuracy: 0.9895 - val_mean_squared_error: 0.5000\n",
      "Epoch 19/30\n",
      "54/54 [==============================] - 22s 411ms/step - loss: 4.1102 - accuracy: 0.9912 - mean_squared_error: 0.5000 - val_loss: 8.0781 - val_accuracy: 0.9930 - val_mean_squared_error: 0.5000\n",
      "Epoch 20/30\n",
      "54/54 [==============================] - 22s 413ms/step - loss: 4.2203 - accuracy: 0.9901 - mean_squared_error: 0.5000 - val_loss: 4.6745 - val_accuracy: 0.9907 - val_mean_squared_error: 0.5000\n",
      "Epoch 21/30\n",
      "54/54 [==============================] - 22s 405ms/step - loss: 3.8306 - accuracy: 0.9931 - mean_squared_error: 0.5000 - val_loss: 5.3687 - val_accuracy: 0.9918 - val_mean_squared_error: 0.5000\n",
      "Epoch 22/30\n",
      "54/54 [==============================] - 23s 420ms/step - loss: 3.9238 - accuracy: 0.9936 - mean_squared_error: 0.5000 - val_loss: 5.6016 - val_accuracy: 0.9924 - val_mean_squared_error: 0.5000\n",
      "Epoch 23/30\n",
      "54/54 [==============================] - 24s 445ms/step - loss: 3.0828 - accuracy: 0.9927 - mean_squared_error: 0.5000 - val_loss: 3.9697 - val_accuracy: 0.9907 - val_mean_squared_error: 0.5000\n",
      "Epoch 24/30\n",
      "54/54 [==============================] - 23s 428ms/step - loss: 3.2858 - accuracy: 0.9918 - mean_squared_error: 0.5000 - val_loss: 6.0487 - val_accuracy: 0.9918 - val_mean_squared_error: 0.5000\n",
      "Epoch 25/30\n",
      "54/54 [==============================] - 23s 424ms/step - loss: 3.3745 - accuracy: 0.9918 - mean_squared_error: 0.5000 - val_loss: 8.4643 - val_accuracy: 0.9930 - val_mean_squared_error: 0.5000\n",
      "Epoch 26/30\n",
      "54/54 [==============================] - 22s 410ms/step - loss: 3.5545 - accuracy: 0.9923 - mean_squared_error: 0.5000 - val_loss: 7.5091 - val_accuracy: 0.9837 - val_mean_squared_error: 0.5000\n",
      "Epoch 27/30\n",
      "54/54 [==============================] - 22s 408ms/step - loss: 4.0824 - accuracy: 0.9924 - mean_squared_error: 0.5000 - val_loss: 5.1920 - val_accuracy: 0.9907 - val_mean_squared_error: 0.5000\n",
      "Epoch 28/30\n",
      "54/54 [==============================] - 22s 413ms/step - loss: 3.2053 - accuracy: 0.9923 - mean_squared_error: 0.5000 - val_loss: 4.5031 - val_accuracy: 0.9912 - val_mean_squared_error: 0.5000\n",
      "Epoch 29/30\n",
      "54/54 [==============================] - 22s 410ms/step - loss: 4.4447 - accuracy: 0.9912 - mean_squared_error: 0.5000 - val_loss: 5.1537 - val_accuracy: 0.9907 - val_mean_squared_error: 0.5000\n",
      "Epoch 30/30\n",
      "54/54 [==============================] - 22s 412ms/step - loss: 3.4372 - accuracy: 0.9924 - mean_squared_error: 0.5000 - val_loss: 6.4771 - val_accuracy: 0.9924 - val_mean_squared_error: 0.5000\n"
     ]
    }
   ],
   "source": [
    "model5.compile(optimizer=keras.optimizers.Adam(1e-4),loss=tf.losses.SparseCategoricalCrossentropy(), metrics=[\"accuracy\", \"MeanSquaredError\"])\n",
    "history=model5.fit(X_train, y_train, validation_data=(X_validation, y_validation),epochs = 30, batch_size = 128, verbose = 1)"
   ]
  },
  {
   "cell_type": "code",
   "execution_count": 32,
   "id": "sonic-patient",
   "metadata": {},
   "outputs": [
    {
     "data": {
      "image/png": "[encoded data removed]",
      "text/plain": [
       "<Figure size 432x288 with 1 Axes>"
      ]
     },
     "metadata": {
      "needs_background": "light"
     },
     "output_type": "display_data"
    },
    {
     "data": {
      "image/png": "[encoded data removed]",
      "text/plain": [
       "<Figure size 432x288 with 1 Axes>"
      ]
     },
     "metadata": {
      "needs_background": "light"
     },
     "output_type": "display_data"
    }
   ],
   "source": [
    "# summarize history for accuracy\n",
    "plt.plot(history.history['accuracy'])\n",
    "plt.plot(history.history['val_accuracy'])\n",
    "plt.title('model accuracy')\n",
    "plt.ylabel('accuracy')\n",
    "plt.xlabel('epoch')\n",
    "plt.legend(['train', 'validation'], loc='upper left')\n",
    "plt.show()\n",
    "# summarize history for loss\n",
    "plt.plot(history.history['loss'])\n",
    "plt.plot(history.history['val_loss'][1:43])\n",
    "plt.title('model loss')\n",
    "plt.ylabel('loss')\n",
    "plt.xlabel('epoch')\n",
    "plt.legend(['train', 'validation'], loc='upper left')\n",
    "plt.show()"
   ]
  },
  {
   "cell_type": "code",
   "execution_count": null,
   "id": "substantial-seeker",
   "metadata": {},
   "outputs": [],
   "source": []
  },
  {
   "cell_type": "code",
   "execution_count": 33,
   "id": "alpha-travel",
   "metadata": {},
   "outputs": [
    {
     "name": "stdout",
     "output_type": "stream",
     "text": [
      "Model: \"model_7\"\n",
      "__________________________________________________________________________________________________\n",
      " Layer (type)                   Output Shape         Param #     Connected to                     \n",
      "==================================================================================================\n",
      " input_8 (InputLayer)           [(None, 149, 646)]   0           []                               \n",
      "                                                                                                  \n",
      " bidirectional_7 (Bidirectional  (None, 149, 200)    597600      ['input_8[0][0]']                \n",
      " )                                                                                                \n",
      "                                                                                                  \n",
      " conv1d_14 (Conv1D)             (None, 149, 200)     387800      ['input_8[0][0]']                \n",
      "                                                                                                  \n",
      " add_7 (Add)                    (None, 149, 200)     0           ['bidirectional_7[0][0]',        \n",
      "                                                                  'conv1d_14[0][0]']              \n",
      "                                                                                                  \n",
      " conv1d_15 (Conv1D)             (None, 147, 200)     120200      ['add_7[0][0]']                  \n",
      "                                                                                                  \n",
      " global_max_pooling1d_7 (Global  (None, 200)         0           ['conv1d_15[0][0]']              \n",
      " MaxPooling1D)                                                                                    \n",
      "                                                                                                  \n",
      " dense_14 (Dense)               (None, 100)          20100       ['global_max_pooling1d_7[0][0]'] \n",
      "                                                                                                  \n",
      " dropout_7 (Dropout)            (None, 100)          0           ['dense_14[0][0]']               \n",
      "                                                                                                  \n",
      " dense_15 (Dense)               (None, 2)            202         ['dropout_7[0][0]']              \n",
      "                                                                                                  \n",
      "==================================================================================================\n",
      "Total params: 1,125,902\n",
      "Trainable params: 1,125,902\n",
      "Non-trainable params: 0\n",
      "__________________________________________________________________________________________________\n"
     ]
    }
   ],
   "source": [
    "# two sided model\n",
    "#from keras.layers.core import Input, Model\n",
    "#with dropout\n",
    "from keras.layers import *\n",
    "from keras.models import *\n",
    "from keras.utils import *\n",
    "from keras.initializers import *\n",
    "import tensorflow as tf\n",
    "\n",
    "\n",
    "inputs = Input((149,646))\n",
    "\n",
    "side1 = Bidirectional(LSTM(100, return_sequences=True))(inputs) #200 total units\n",
    "side2 = Conv1D(200, kernel_size=3, activation = 'relu', padding = 'same')(inputs) #same activation \n",
    "                                                                   #same length\n",
    "\n",
    "merged = Add()([side1, side2]) \n",
    "     #or Concatenate()([side1, side2]) if different number of units/channels/features\n",
    "\n",
    "outputs = Conv1D(200, kernel_size=3)(merged)\n",
    "outputs = GlobalMaxPooling1D()(outputs)\n",
    "outputs = Dense(100)(outputs)\n",
    "outputs = Dropout(0.2)(outputs)\n",
    "outputs = Dense(2, activation='softmax')(outputs)\n",
    "\n",
    "model9 = Model(inputs, outputs)\n",
    "model9.summary()"
   ]
  },
  {
   "cell_type": "code",
   "execution_count": 34,
   "id": "regulated-brunswick",
   "metadata": {},
   "outputs": [
    {
     "name": "stdout",
     "output_type": "stream",
     "text": [
      "Epoch 1/30\n",
      "54/54 [==============================] - 32s 519ms/step - loss: 104.8376 - accuracy: 0.9126 - mean_squared_error: 0.4999 - val_loss: 27.0548 - val_accuracy: 0.9737 - val_mean_squared_error: 0.5000\n",
      "Epoch 2/30\n",
      "54/54 [==============================] - 21s 391ms/step - loss: 24.0413 - accuracy: 0.9609 - mean_squared_error: 0.4999 - val_loss: 12.3117 - val_accuracy: 0.9860 - val_mean_squared_error: 0.5000\n",
      "Epoch 3/30\n",
      "54/54 [==============================] - 24s 445ms/step - loss: 13.2905 - accuracy: 0.9788 - mean_squared_error: 0.5000 - val_loss: 8.8063 - val_accuracy: 0.9877 - val_mean_squared_error: 0.5000\n",
      "Epoch 4/30\n",
      "54/54 [==============================] - 23s 424ms/step - loss: 11.2286 - accuracy: 0.9781 - mean_squared_error: 0.5000 - val_loss: 11.8542 - val_accuracy: 0.9872 - val_mean_squared_error: 0.5000\n",
      "Epoch 5/30\n",
      "54/54 [==============================] - 23s 428ms/step - loss: 8.0726 - accuracy: 0.9851 - mean_squared_error: 0.5000 - val_loss: 7.2926 - val_accuracy: 0.9872 - val_mean_squared_error: 0.5000\n",
      "Epoch 6/30\n",
      "54/54 [==============================] - 22s 412ms/step - loss: 6.4130 - accuracy: 0.9861 - mean_squared_error: 0.5000 - val_loss: 6.7712 - val_accuracy: 0.9895 - val_mean_squared_error: 0.5000\n",
      "Epoch 7/30\n",
      "54/54 [==============================] - 25s 463ms/step - loss: 5.8549 - accuracy: 0.9883 - mean_squared_error: 0.5000 - val_loss: 7.3441 - val_accuracy: 0.9883 - val_mean_squared_error: 0.5000\n",
      "Epoch 8/30\n",
      "54/54 [==============================] - 27s 504ms/step - loss: 6.1080 - accuracy: 0.9873 - mean_squared_error: 0.5000 - val_loss: 7.6794 - val_accuracy: 0.9901 - val_mean_squared_error: 0.5000\n",
      "Epoch 9/30\n",
      "54/54 [==============================] - 26s 491ms/step - loss: 6.0575 - accuracy: 0.9883 - mean_squared_error: 0.4999 - val_loss: 7.3612 - val_accuracy: 0.9912 - val_mean_squared_error: 0.4999\n",
      "Epoch 10/30\n",
      "54/54 [==============================] - 26s 474ms/step - loss: 4.7380 - accuracy: 0.9899 - mean_squared_error: 0.4999 - val_loss: 4.9774 - val_accuracy: 0.9912 - val_mean_squared_error: 0.5000\n",
      "Epoch 11/30\n",
      "54/54 [==============================] - 25s 471ms/step - loss: 4.9069 - accuracy: 0.9885 - mean_squared_error: 0.4999 - val_loss: 9.7506 - val_accuracy: 0.9883 - val_mean_squared_error: 0.4999\n",
      "Epoch 12/30\n",
      "54/54 [==============================] - 26s 481ms/step - loss: 6.6398 - accuracy: 0.9889 - mean_squared_error: 0.4999 - val_loss: 8.3166 - val_accuracy: 0.9930 - val_mean_squared_error: 0.4999\n",
      "Epoch 13/30\n",
      "54/54 [==============================] - 26s 474ms/step - loss: 6.1429 - accuracy: 0.9886 - mean_squared_error: 0.5000 - val_loss: 7.8145 - val_accuracy: 0.9912 - val_mean_squared_error: 0.5000\n",
      "Epoch 14/30\n",
      "54/54 [==============================] - 26s 488ms/step - loss: 5.5279 - accuracy: 0.9885 - mean_squared_error: 0.4999 - val_loss: 6.2880 - val_accuracy: 0.9907 - val_mean_squared_error: 0.5000\n",
      "Epoch 15/30\n",
      "54/54 [==============================] - 27s 499ms/step - loss: 3.6266 - accuracy: 0.9923 - mean_squared_error: 0.5000 - val_loss: 6.1238 - val_accuracy: 0.9907 - val_mean_squared_error: 0.5000\n",
      "Epoch 16/30\n",
      "54/54 [==============================] - 25s 468ms/step - loss: 3.7744 - accuracy: 0.9930 - mean_squared_error: 0.5000 - val_loss: 6.8843 - val_accuracy: 0.9912 - val_mean_squared_error: 0.5000\n",
      "Epoch 17/30\n",
      "54/54 [==============================] - 28s 511ms/step - loss: 3.9176 - accuracy: 0.9934 - mean_squared_error: 0.5000 - val_loss: 12.9526 - val_accuracy: 0.9807 - val_mean_squared_error: 0.5000\n",
      "Epoch 18/30\n",
      "54/54 [==============================] - 29s 531ms/step - loss: 5.7709 - accuracy: 0.9885 - mean_squared_error: 0.4999 - val_loss: 8.0647 - val_accuracy: 0.9912 - val_mean_squared_error: 0.5000\n",
      "Epoch 19/30\n",
      "54/54 [==============================] - 28s 515ms/step - loss: 3.6227 - accuracy: 0.9917 - mean_squared_error: 0.5000 - val_loss: 6.3291 - val_accuracy: 0.9912 - val_mean_squared_error: 0.4999\n",
      "Epoch 20/30\n",
      "54/54 [==============================] - 28s 528ms/step - loss: 4.3162 - accuracy: 0.9912 - mean_squared_error: 0.5000 - val_loss: 7.2152 - val_accuracy: 0.9907 - val_mean_squared_error: 0.5000\n",
      "Epoch 21/30\n",
      "54/54 [==============================] - 29s 539ms/step - loss: 3.9849 - accuracy: 0.9920 - mean_squared_error: 0.5000 - val_loss: 6.3454 - val_accuracy: 0.9901 - val_mean_squared_error: 0.5000\n",
      "Epoch 22/30\n",
      "54/54 [==============================] - 28s 516ms/step - loss: 3.9028 - accuracy: 0.9917 - mean_squared_error: 0.4999 - val_loss: 6.6473 - val_accuracy: 0.9924 - val_mean_squared_error: 0.5000\n",
      "Epoch 23/30\n",
      "54/54 [==============================] - 31s 584ms/step - loss: 3.7992 - accuracy: 0.9910 - mean_squared_error: 0.5000 - val_loss: 5.9551 - val_accuracy: 0.9924 - val_mean_squared_error: 0.5000\n",
      "Epoch 24/30\n",
      "54/54 [==============================] - 31s 582ms/step - loss: 3.7397 - accuracy: 0.9921 - mean_squared_error: 0.5000 - val_loss: 6.4693 - val_accuracy: 0.9924 - val_mean_squared_error: 0.5000\n",
      "Epoch 25/30\n",
      "54/54 [==============================] - 29s 542ms/step - loss: 3.2210 - accuracy: 0.9912 - mean_squared_error: 0.5000 - val_loss: 7.1880 - val_accuracy: 0.9895 - val_mean_squared_error: 0.5000\n",
      "Epoch 26/30\n",
      "54/54 [==============================] - 29s 534ms/step - loss: 4.8682 - accuracy: 0.9912 - mean_squared_error: 0.5000 - val_loss: 4.4641 - val_accuracy: 0.9924 - val_mean_squared_error: 0.5000\n",
      "Epoch 27/30\n",
      "54/54 [==============================] - 31s 569ms/step - loss: 3.3661 - accuracy: 0.9934 - mean_squared_error: 0.5000 - val_loss: 8.2964 - val_accuracy: 0.9924 - val_mean_squared_error: 0.5000\n",
      "Epoch 28/30\n",
      "54/54 [==============================] - 29s 546ms/step - loss: 4.3380 - accuracy: 0.9910 - mean_squared_error: 0.5000 - val_loss: 5.3795 - val_accuracy: 0.9918 - val_mean_squared_error: 0.5000\n",
      "Epoch 29/30\n",
      "54/54 [==============================] - 29s 545ms/step - loss: 3.0883 - accuracy: 0.9937 - mean_squared_error: 0.5000 - val_loss: 6.1622 - val_accuracy: 0.9930 - val_mean_squared_error: 0.5000\n",
      "Epoch 30/30\n",
      "54/54 [==============================] - 28s 510ms/step - loss: 3.2463 - accuracy: 0.9926 - mean_squared_error: 0.5000 - val_loss: 6.1282 - val_accuracy: 0.9889 - val_mean_squared_error: 0.5000\n"
     ]
    }
   ],
   "source": [
    "model9.compile(optimizer=keras.optimizers.Adam(1e-4),loss=tf.losses.SparseCategoricalCrossentropy(), metrics=[\"accuracy\", \"MeanSquaredError\"])\n",
    "history=model9.fit(X_train, y_train, validation_data=(X_validation, y_validation),epochs = 30, batch_size = 128, verbose = 1)"
   ]
  },
  {
   "cell_type": "code",
   "execution_count": 35,
   "id": "noticed-tennis",
   "metadata": {},
   "outputs": [
    {
     "data": {
      "image/png": "[encoded data removed]",
      "text/plain": [
       "<Figure size 432x288 with 1 Axes>"
      ]
     },
     "metadata": {
      "needs_background": "light"
     },
     "output_type": "display_data"
    },
    {
     "data": {
      "image/png": "[encoded data removed]",
      "text/plain": [
       "<Figure size 432x288 with 1 Axes>"
      ]
     },
     "metadata": {
      "needs_background": "light"
     },
     "output_type": "display_data"
    }
   ],
   "source": [
    "#summarize history for accuracy\n",
    "plt.plot(history.history['accuracy'])\n",
    "plt.plot(history.history['val_accuracy'])\n",
    "plt.title('model accuracy')\n",
    "plt.ylabel('accuracy')\n",
    "plt.xlabel('epoch')\n",
    "plt.legend(['train', 'validation'], loc='upper left')\n",
    "plt.show()\n",
    "# summarize history for loss\n",
    "plt.plot(history.history['loss'])\n",
    "plt.plot(history.history['val_loss'][1:43])\n",
    "plt.title('model loss')\n",
    "plt.ylabel('loss')\n",
    "plt.xlabel('epoch')\n",
    "plt.legend(['train', 'validation'], loc='upper left')\n",
    "plt.show()"
   ]
  },
  {
   "cell_type": "code",
   "execution_count": 36,
   "id": "julian-playlist",
   "metadata": {},
   "outputs": [
    {
     "name": "stdout",
     "output_type": "stream",
     "text": [
      "Model: \"model_8\"\n",
      "__________________________________________________________________________________________________\n",
      " Layer (type)                   Output Shape         Param #     Connected to                     \n",
      "==================================================================================================\n",
      " input_9 (InputLayer)           [(None, 149, 646)]   0           []                               \n",
      "                                                                                                  \n",
      " bidirectional_8 (Bidirectional  (None, 149, 200)    597600      ['input_9[0][0]']                \n",
      " )                                                                                                \n",
      "                                                                                                  \n",
      " conv1d_16 (Conv1D)             (None, 149, 200)     387800      ['input_9[0][0]']                \n",
      "                                                                                                  \n",
      " add_8 (Add)                    (None, 149, 200)     0           ['bidirectional_8[0][0]',        \n",
      "                                                                  'conv1d_16[0][0]']              \n",
      "                                                                                                  \n",
      " conv1d_17 (Conv1D)             (None, 147, 200)     120200      ['add_8[0][0]']                  \n",
      "                                                                                                  \n",
      " global_max_pooling1d_8 (Global  (None, 200)         0           ['conv1d_17[0][0]']              \n",
      " MaxPooling1D)                                                                                    \n",
      "                                                                                                  \n",
      " batch_normalization_5 (BatchNo  (None, 200)         800         ['global_max_pooling1d_8[0][0]'] \n",
      " rmalization)                                                                                     \n",
      "                                                                                                  \n",
      " dense_16 (Dense)               (None, 100)          20100       ['batch_normalization_5[0][0]']  \n",
      "                                                                                                  \n",
      " dropout_8 (Dropout)            (None, 100)          0           ['dense_16[0][0]']               \n",
      "                                                                                                  \n",
      " dense_17 (Dense)               (None, 2)            202         ['dropout_8[0][0]']              \n",
      "                                                                                                  \n",
      "==================================================================================================\n",
      "Total params: 1,126,702\n",
      "Trainable params: 1,126,302\n",
      "Non-trainable params: 400\n",
      "__________________________________________________________________________________________________\n"
     ]
    }
   ],
   "source": [
    "# two sided model\n",
    "#from keras.layers.core import Input, Model\n",
    "#with dropout\n",
    "from keras.layers import *\n",
    "from keras.models import *\n",
    "from keras.utils import *\n",
    "from keras.initializers import *\n",
    "import tensorflow as tf\n",
    "\n",
    "\n",
    "inputs = Input((149,646))\n",
    "\n",
    "side1 = Bidirectional(LSTM(100, return_sequences=True))(inputs) #200 total units\n",
    "side2 = Conv1D(200, kernel_size=3, activation = 'relu', padding = 'same')(inputs) #same activation \n",
    "                                                                   #same length\n",
    "\n",
    "merged = Add()([side1, side2]) \n",
    "     #or Concatenate()([side1, side2]) if different number of units/channels/features\n",
    "\n",
    "outputs = Conv1D(200, kernel_size=3)(merged)\n",
    "outputs = GlobalMaxPooling1D()(outputs)\n",
    "outputs = BatchNormalization()(outputs)\n",
    "outputs = Dense(100)(outputs)\n",
    "outputs = Dropout(0.3)(outputs)\n",
    "outputs = Dense(2, activation='softmax')(outputs)\n",
    "\n",
    "model1 = Model(inputs, outputs)\n",
    "model1.summary()"
   ]
  },
  {
   "cell_type": "code",
   "execution_count": 37,
   "id": "secret-voice",
   "metadata": {},
   "outputs": [
    {
     "name": "stdout",
     "output_type": "stream",
     "text": [
      "Epoch 1/30\n",
      "54/54 [==============================] - 27s 409ms/step - loss: 0.3245 - accuracy: 0.8865 - mean_squared_error: 0.3929 - val_loss: 0.2745 - val_accuracy: 0.9726 - val_mean_squared_error: 0.4996\n",
      "Epoch 2/30\n",
      "54/54 [==============================] - 26s 486ms/step - loss: 0.0983 - accuracy: 0.9821 - mean_squared_error: 0.4534 - val_loss: 0.0606 - val_accuracy: 0.9825 - val_mean_squared_error: 0.4966\n",
      "Epoch 3/30\n",
      "54/54 [==============================] - 31s 569ms/step - loss: 0.0586 - accuracy: 0.9901 - mean_squared_error: 0.4711 - val_loss: 0.0570 - val_accuracy: 0.9819 - val_mean_squared_error: 0.4968\n",
      "Epoch 4/30\n",
      "54/54 [==============================] - 31s 583ms/step - loss: 0.0487 - accuracy: 0.9907 - mean_squared_error: 0.4807 - val_loss: 0.0314 - val_accuracy: 0.9924 - val_mean_squared_error: 0.4943\n",
      "Epoch 5/30\n",
      "54/54 [==============================] - 31s 575ms/step - loss: 0.0483 - accuracy: 0.9910 - mean_squared_error: 0.4815 - val_loss: 0.0498 - val_accuracy: 0.9924 - val_mean_squared_error: 0.4787\n",
      "Epoch 6/30\n",
      "54/54 [==============================] - 32s 597ms/step - loss: 0.0399 - accuracy: 0.9921 - mean_squared_error: 0.4866 - val_loss: 0.0321 - val_accuracy: 0.9866 - val_mean_squared_error: 0.4958\n",
      "Epoch 7/30\n",
      "54/54 [==============================] - 35s 648ms/step - loss: 0.0334 - accuracy: 0.9911 - mean_squared_error: 0.4884 - val_loss: 0.1326 - val_accuracy: 0.9947 - val_mean_squared_error: 0.4236\n",
      "Epoch 8/30\n",
      "54/54 [==============================] - 32s 589ms/step - loss: 0.0332 - accuracy: 0.9926 - mean_squared_error: 0.4896 - val_loss: 0.0316 - val_accuracy: 0.9924 - val_mean_squared_error: 0.4959\n",
      "Epoch 9/30\n",
      "54/54 [==============================] - 30s 566ms/step - loss: 0.0363 - accuracy: 0.9908 - mean_squared_error: 0.4904 - val_loss: 0.0376 - val_accuracy: 0.9924 - val_mean_squared_error: 0.4904\n",
      "Epoch 10/30\n",
      "54/54 [==============================] - 30s 560ms/step - loss: 0.0239 - accuracy: 0.9949 - mean_squared_error: 0.4911 - val_loss: 0.0284 - val_accuracy: 0.9901 - val_mean_squared_error: 0.4955\n",
      "Epoch 11/30\n",
      "54/54 [==============================] - 28s 524ms/step - loss: 0.0340 - accuracy: 0.9923 - mean_squared_error: 0.4919 - val_loss: 0.0288 - val_accuracy: 0.9907 - val_mean_squared_error: 0.4938\n",
      "Epoch 12/30\n",
      "54/54 [==============================] - 27s 509ms/step - loss: 0.0318 - accuracy: 0.9921 - mean_squared_error: 0.4918 - val_loss: 0.0446 - val_accuracy: 0.9936 - val_mean_squared_error: 0.4813\n",
      "Epoch 13/30\n",
      "54/54 [==============================] - 27s 504ms/step - loss: 0.0251 - accuracy: 0.9930 - mean_squared_error: 0.4929 - val_loss: 0.0780 - val_accuracy: 0.9924 - val_mean_squared_error: 0.4574\n",
      "Epoch 14/30\n",
      "54/54 [==============================] - 27s 510ms/step - loss: 0.0268 - accuracy: 0.9939 - mean_squared_error: 0.4932 - val_loss: 0.0335 - val_accuracy: 0.9877 - val_mean_squared_error: 0.4951\n",
      "Epoch 15/30\n",
      "54/54 [==============================] - 27s 504ms/step - loss: 0.0253 - accuracy: 0.9924 - mean_squared_error: 0.4933 - val_loss: 0.2389 - val_accuracy: 0.9761 - val_mean_squared_error: 0.3814\n",
      "Epoch 16/30\n",
      "54/54 [==============================] - 26s 488ms/step - loss: 0.0239 - accuracy: 0.9939 - mean_squared_error: 0.4938 - val_loss: 0.0759 - val_accuracy: 0.9930 - val_mean_squared_error: 0.4583\n",
      "Epoch 17/30\n",
      "54/54 [==============================] - 26s 479ms/step - loss: 0.0221 - accuracy: 0.9939 - mean_squared_error: 0.4944 - val_loss: 0.0546 - val_accuracy: 0.9930 - val_mean_squared_error: 0.4742\n",
      "Epoch 18/30\n",
      "54/54 [==============================] - 25s 467ms/step - loss: 0.0198 - accuracy: 0.9943 - mean_squared_error: 0.4946 - val_loss: 0.1156 - val_accuracy: 0.9930 - val_mean_squared_error: 0.4341\n",
      "Epoch 19/30\n",
      "54/54 [==============================] - 25s 461ms/step - loss: 0.0238 - accuracy: 0.9942 - mean_squared_error: 0.4948 - val_loss: 0.0637 - val_accuracy: 0.9918 - val_mean_squared_error: 0.4717\n",
      "Epoch 20/30\n",
      "54/54 [==============================] - 25s 469ms/step - loss: 0.0298 - accuracy: 0.9915 - mean_squared_error: 0.4925 - val_loss: 0.0483 - val_accuracy: 0.9930 - val_mean_squared_error: 0.4879\n",
      "Epoch 21/30\n",
      "54/54 [==============================] - 25s 461ms/step - loss: 0.0235 - accuracy: 0.9937 - mean_squared_error: 0.4943 - val_loss: 0.8205 - val_accuracy: 0.4440 - val_mean_squared_error: 0.3129\n",
      "Epoch 22/30\n",
      "54/54 [==============================] - 25s 458ms/step - loss: 0.0256 - accuracy: 0.9942 - mean_squared_error: 0.4932 - val_loss: 0.0321 - val_accuracy: 0.9889 - val_mean_squared_error: 0.4946\n",
      "Epoch 23/30\n",
      "54/54 [==============================] - 25s 460ms/step - loss: 0.0226 - accuracy: 0.9942 - mean_squared_error: 0.4942 - val_loss: 0.0354 - val_accuracy: 0.9924 - val_mean_squared_error: 0.4969\n",
      "Epoch 24/30\n",
      "54/54 [==============================] - 25s 467ms/step - loss: 0.0215 - accuracy: 0.9947 - mean_squared_error: 0.4944 - val_loss: 0.0349 - val_accuracy: 0.9907 - val_mean_squared_error: 0.4948\n",
      "Epoch 25/30\n",
      "54/54 [==============================] - 25s 461ms/step - loss: 0.0300 - accuracy: 0.9926 - mean_squared_error: 0.4950 - val_loss: 0.0813 - val_accuracy: 0.9796 - val_mean_squared_error: 0.4975\n",
      "Epoch 26/30\n",
      "54/54 [==============================] - 26s 484ms/step - loss: 0.0224 - accuracy: 0.9939 - mean_squared_error: 0.4949 - val_loss: 0.0348 - val_accuracy: 0.9901 - val_mean_squared_error: 0.4950\n",
      "Epoch 27/30\n",
      "54/54 [==============================] - 25s 463ms/step - loss: 0.0223 - accuracy: 0.9943 - mean_squared_error: 0.4949 - val_loss: 0.0309 - val_accuracy: 0.9912 - val_mean_squared_error: 0.4970\n",
      "Epoch 28/30\n",
      "54/54 [==============================] - 24s 443ms/step - loss: 0.0190 - accuracy: 0.9946 - mean_squared_error: 0.4950 - val_loss: 0.0309 - val_accuracy: 0.9918 - val_mean_squared_error: 0.4971\n",
      "Epoch 29/30\n",
      "54/54 [==============================] - 26s 486ms/step - loss: 0.0164 - accuracy: 0.9952 - mean_squared_error: 0.4955 - val_loss: 0.0465 - val_accuracy: 0.9930 - val_mean_squared_error: 0.4932\n",
      "Epoch 30/30\n",
      "54/54 [==============================] - 26s 475ms/step - loss: 0.0258 - accuracy: 0.9942 - mean_squared_error: 0.4953 - val_loss: 0.0303 - val_accuracy: 0.9924 - val_mean_squared_error: 0.4939\n"
     ]
    }
   ],
   "source": [
    "model1.compile(optimizer=keras.optimizers.Adam(1e-4),loss=tf.losses.SparseCategoricalCrossentropy(), metrics=[\"accuracy\", \"MeanSquaredError\"])\n",
    "history=model1.fit(X_train, y_train, validation_data=(X_validation, y_validation),epochs = 30, batch_size = 128, verbose = 1)"
   ]
  },
  {
   "cell_type": "code",
   "execution_count": 38,
   "id": "forbidden-paradise",
   "metadata": {},
   "outputs": [
    {
     "data": {
      "image/png": "[encoded data removed]",
      "text/plain": [
       "<Figure size 432x288 with 1 Axes>"
      ]
     },
     "metadata": {
      "needs_background": "light"
     },
     "output_type": "display_data"
    },
    {
     "data": {
      "image/png": "[encoded data removed]",
      "text/plain": [
       "<Figure size 432x288 with 1 Axes>"
      ]
     },
     "metadata": {
      "needs_background": "light"
     },
     "output_type": "display_data"
    }
   ],
   "source": [
    "#summarize history for accuracy\n",
    "plt.plot(history.history['accuracy'])\n",
    "plt.plot(history.history['val_accuracy'])\n",
    "plt.title('model accuracy')\n",
    "plt.ylabel('accuracy')\n",
    "plt.xlabel('epoch')\n",
    "plt.legend(['train', 'validation'], loc='upper left')\n",
    "plt.show()\n",
    "# summarize history for loss\n",
    "plt.plot(history.history['loss'])\n",
    "plt.plot(history.history['val_loss'][1:43])\n",
    "plt.title('model loss')\n",
    "plt.ylabel('loss')\n",
    "plt.xlabel('epoch')\n",
    "plt.legend(['train', 'validation'], loc='upper left')\n",
    "plt.show()"
   ]
  },
  {
   "cell_type": "code",
   "execution_count": 39,
   "id": "compound-husband",
   "metadata": {},
   "outputs": [
    {
     "name": "stdout",
     "output_type": "stream",
     "text": [
      "Model: \"model_9\"\n",
      "__________________________________________________________________________________________________\n",
      " Layer (type)                   Output Shape         Param #     Connected to                     \n",
      "==================================================================================================\n",
      " input_10 (InputLayer)          [(None, 149, 646)]   0           []                               \n",
      "                                                                                                  \n",
      " bidirectional_9 (Bidirectional  (None, 149, 200)    597600      ['input_10[0][0]']               \n",
      " )                                                                                                \n",
      "                                                                                                  \n",
      " conv1d_18 (Conv1D)             (None, 149, 200)     387800      ['input_10[0][0]']               \n",
      "                                                                                                  \n",
      " add_9 (Add)                    (None, 149, 200)     0           ['bidirectional_9[0][0]',        \n",
      "                                                                  'conv1d_18[0][0]']              \n",
      "                                                                                                  \n",
      " conv1d_19 (Conv1D)             (None, 147, 200)     120200      ['add_9[0][0]']                  \n",
      "                                                                                                  \n",
      " global_max_pooling1d_9 (Global  (None, 200)         0           ['conv1d_19[0][0]']              \n",
      " MaxPooling1D)                                                                                    \n",
      "                                                                                                  \n",
      " dense_18 (Dense)               (None, 100)          20100       ['global_max_pooling1d_9[0][0]'] \n",
      "                                                                                                  \n",
      " dropout_9 (Dropout)            (None, 100)          0           ['dense_18[0][0]']               \n",
      "                                                                                                  \n",
      " dense_19 (Dense)               (None, 2)            202         ['dropout_9[0][0]']              \n",
      "                                                                                                  \n",
      "==================================================================================================\n",
      "Total params: 1,125,902\n",
      "Trainable params: 1,125,902\n",
      "Non-trainable params: 0\n",
      "__________________________________________________________________________________________________\n"
     ]
    }
   ],
   "source": [
    "# two sided model\n",
    "#from keras.layers.core import Input, Model\n",
    "#with dropout\n",
    "from keras.layers import *\n",
    "from keras.models import *\n",
    "from keras.utils import *\n",
    "from keras.initializers import *\n",
    "import tensorflow as tf\n",
    "\n",
    "\n",
    "inputs = Input((149,646))\n",
    "\n",
    "side1 = Bidirectional(LSTM(100, return_sequences=True))(inputs) #200 total units\n",
    "side2 = Conv1D(200, kernel_size=3, activation = 'relu', padding = 'same')(inputs) #same activation \n",
    "                                                                   #same length\n",
    "\n",
    "merged = Add()([side1, side2]) \n",
    "     #or Concatenate()([side1, side2]) if different number of units/channels/features\n",
    "\n",
    "outputs = Conv1D(200, kernel_size=3)(merged)\n",
    "outputs = GlobalMaxPooling1D()(outputs)\n",
    "outputs = Dense(100)(outputs)\n",
    "outputs = Dropout(0.3)(outputs)\n",
    "outputs = Dense(2, activation='softmax')(outputs)\n",
    "\n",
    "model10 = Model(inputs, outputs)\n",
    "model10.summary()"
   ]
  },
  {
   "cell_type": "code",
   "execution_count": 40,
   "id": "incoming-evans",
   "metadata": {},
   "outputs": [
    {
     "name": "stdout",
     "output_type": "stream",
     "text": [
      "Epoch 1/30\n",
      "54/54 [==============================] - 26s 421ms/step - loss: 117.4182 - accuracy: 0.9171 - mean_squared_error: 0.5000 - val_loss: 22.8212 - val_accuracy: 0.9796 - val_mean_squared_error: 0.5000\n",
      "Epoch 2/30\n",
      "54/54 [==============================] - 20s 379ms/step - loss: 24.6528 - accuracy: 0.9618 - mean_squared_error: 0.4999 - val_loss: 13.3605 - val_accuracy: 0.9825 - val_mean_squared_error: 0.5000\n",
      "Epoch 3/30\n",
      "54/54 [==============================] - 23s 430ms/step - loss: 13.5799 - accuracy: 0.9742 - mean_squared_error: 0.5000 - val_loss: 10.7921 - val_accuracy: 0.9842 - val_mean_squared_error: 0.5000\n",
      "Epoch 4/30\n",
      "54/54 [==============================] - 25s 458ms/step - loss: 10.3115 - accuracy: 0.9802 - mean_squared_error: 0.4999 - val_loss: 10.1139 - val_accuracy: 0.9877 - val_mean_squared_error: 0.5000\n",
      "Epoch 5/30\n",
      "54/54 [==============================] - 25s 470ms/step - loss: 8.1398 - accuracy: 0.9875 - mean_squared_error: 0.5000 - val_loss: 10.1741 - val_accuracy: 0.9848 - val_mean_squared_error: 0.4998\n",
      "Epoch 6/30\n",
      "54/54 [==============================] - 24s 444ms/step - loss: 7.3034 - accuracy: 0.9851 - mean_squared_error: 0.4999 - val_loss: 8.6182 - val_accuracy: 0.9877 - val_mean_squared_error: 0.5000\n",
      "Epoch 7/30\n",
      "54/54 [==============================] - 24s 437ms/step - loss: 6.8154 - accuracy: 0.9891 - mean_squared_error: 0.5000 - val_loss: 8.5656 - val_accuracy: 0.9837 - val_mean_squared_error: 0.5000\n",
      "Epoch 8/30\n",
      "54/54 [==============================] - 24s 441ms/step - loss: 6.2764 - accuracy: 0.9886 - mean_squared_error: 0.5000 - val_loss: 7.9913 - val_accuracy: 0.9901 - val_mean_squared_error: 0.5000\n",
      "Epoch 9/30\n",
      "54/54 [==============================] - 23s 428ms/step - loss: 6.9348 - accuracy: 0.9888 - mean_squared_error: 0.4999 - val_loss: 7.7510 - val_accuracy: 0.9907 - val_mean_squared_error: 0.5000\n",
      "Epoch 10/30\n",
      "54/54 [==============================] - 23s 436ms/step - loss: 6.3625 - accuracy: 0.9883 - mean_squared_error: 0.5000 - val_loss: 10.9019 - val_accuracy: 0.9918 - val_mean_squared_error: 0.5000\n",
      "Epoch 11/30\n",
      "54/54 [==============================] - 24s 446ms/step - loss: 6.1351 - accuracy: 0.9883 - mean_squared_error: 0.5000 - val_loss: 9.4851 - val_accuracy: 0.9877 - val_mean_squared_error: 0.5000\n",
      "Epoch 12/30\n",
      "54/54 [==============================] - 24s 437ms/step - loss: 4.6485 - accuracy: 0.9914 - mean_squared_error: 0.5000 - val_loss: 8.9158 - val_accuracy: 0.9912 - val_mean_squared_error: 0.5000\n",
      "Epoch 13/30\n",
      "54/54 [==============================] - 24s 444ms/step - loss: 4.5222 - accuracy: 0.9912 - mean_squared_error: 0.5000 - val_loss: 9.2833 - val_accuracy: 0.9860 - val_mean_squared_error: 0.4999\n",
      "Epoch 14/30\n",
      "54/54 [==============================] - 23s 435ms/step - loss: 5.4435 - accuracy: 0.9899 - mean_squared_error: 0.5000 - val_loss: 9.7111 - val_accuracy: 0.9901 - val_mean_squared_error: 0.5000\n",
      "Epoch 15/30\n",
      "54/54 [==============================] - 25s 462ms/step - loss: 5.7971 - accuracy: 0.9911 - mean_squared_error: 0.5000 - val_loss: 7.9947 - val_accuracy: 0.9907 - val_mean_squared_error: 0.5000\n",
      "Epoch 16/30\n",
      "54/54 [==============================] - 24s 451ms/step - loss: 6.4969 - accuracy: 0.9876 - mean_squared_error: 0.5000 - val_loss: 9.7272 - val_accuracy: 0.9918 - val_mean_squared_error: 0.5000\n",
      "Epoch 17/30\n",
      "54/54 [==============================] - 23s 431ms/step - loss: 6.3755 - accuracy: 0.9895 - mean_squared_error: 0.5000 - val_loss: 10.0823 - val_accuracy: 0.9924 - val_mean_squared_error: 0.5000\n",
      "Epoch 18/30\n",
      "54/54 [==============================] - 24s 437ms/step - loss: 3.8770 - accuracy: 0.9921 - mean_squared_error: 0.5000 - val_loss: 8.2275 - val_accuracy: 0.9912 - val_mean_squared_error: 0.5000\n",
      "Epoch 19/30\n",
      "54/54 [==============================] - 23s 430ms/step - loss: 5.7294 - accuracy: 0.9898 - mean_squared_error: 0.5000 - val_loss: 6.5474 - val_accuracy: 0.9907 - val_mean_squared_error: 0.5000\n",
      "Epoch 20/30\n",
      "54/54 [==============================] - 23s 435ms/step - loss: 4.5563 - accuracy: 0.9905 - mean_squared_error: 0.5000 - val_loss: 7.1844 - val_accuracy: 0.9860 - val_mean_squared_error: 0.5000\n",
      "Epoch 21/30\n",
      "54/54 [==============================] - 24s 454ms/step - loss: 5.4197 - accuracy: 0.9901 - mean_squared_error: 0.5000 - val_loss: 5.8781 - val_accuracy: 0.9901 - val_mean_squared_error: 0.5000\n",
      "Epoch 22/30\n",
      "54/54 [==============================] - 24s 445ms/step - loss: 4.6518 - accuracy: 0.9905 - mean_squared_error: 0.4999 - val_loss: 7.9358 - val_accuracy: 0.9924 - val_mean_squared_error: 0.5000\n",
      "Epoch 23/30\n",
      "54/54 [==============================] - 24s 436ms/step - loss: 4.2324 - accuracy: 0.9914 - mean_squared_error: 0.5000 - val_loss: 6.9360 - val_accuracy: 0.9912 - val_mean_squared_error: 0.5000\n",
      "Epoch 24/30\n",
      "54/54 [==============================] - 23s 429ms/step - loss: 5.1768 - accuracy: 0.9923 - mean_squared_error: 0.5000 - val_loss: 6.9504 - val_accuracy: 0.9907 - val_mean_squared_error: 0.5000\n",
      "Epoch 25/30\n",
      "54/54 [==============================] - 23s 432ms/step - loss: 3.1375 - accuracy: 0.9936 - mean_squared_error: 0.5000 - val_loss: 6.1609 - val_accuracy: 0.9883 - val_mean_squared_error: 0.5000\n",
      "Epoch 26/30\n",
      "54/54 [==============================] - 23s 428ms/step - loss: 3.4936 - accuracy: 0.9917 - mean_squared_error: 0.5000 - val_loss: 4.3370 - val_accuracy: 0.9912 - val_mean_squared_error: 0.5000\n",
      "Epoch 27/30\n",
      "54/54 [==============================] - 23s 434ms/step - loss: 2.7826 - accuracy: 0.9920 - mean_squared_error: 0.5000 - val_loss: 5.4351 - val_accuracy: 0.9912 - val_mean_squared_error: 0.5000\n",
      "Epoch 28/30\n",
      "54/54 [==============================] - 23s 432ms/step - loss: 4.5509 - accuracy: 0.9904 - mean_squared_error: 0.5000 - val_loss: 6.6236 - val_accuracy: 0.9924 - val_mean_squared_error: 0.5000\n",
      "Epoch 29/30\n",
      "54/54 [==============================] - 23s 430ms/step - loss: 2.8794 - accuracy: 0.9934 - mean_squared_error: 0.5000 - val_loss: 4.7716 - val_accuracy: 0.9918 - val_mean_squared_error: 0.5000\n",
      "Epoch 30/30\n",
      "54/54 [==============================] - 23s 426ms/step - loss: 3.6894 - accuracy: 0.9917 - mean_squared_error: 0.5000 - val_loss: 6.9801 - val_accuracy: 0.9936 - val_mean_squared_error: 0.5000\n"
     ]
    }
   ],
   "source": [
    "model10.compile(optimizer=keras.optimizers.Adam(1e-4),loss=tf.losses.SparseCategoricalCrossentropy(), metrics=[\"accuracy\", \"MeanSquaredError\"])\n",
    "history=model10.fit(X_train, y_train, validation_data=(X_validation, y_validation),epochs = 30, batch_size = 128, verbose = 1)"
   ]
  },
  {
   "cell_type": "code",
   "execution_count": 41,
   "id": "remarkable-cycling",
   "metadata": {},
   "outputs": [
    {
     "data": {
      "image/png": "[encoded data removed]",
      "text/plain": [
       "<Figure size 432x288 with 1 Axes>"
      ]
     },
     "metadata": {
      "needs_background": "light"
     },
     "output_type": "display_data"
    },
    {
     "data": {
      "image/png": "[encoded data removed]",
      "text/plain": [
       "<Figure size 432x288 with 1 Axes>"
      ]
     },
     "metadata": {
      "needs_background": "light"
     },
     "output_type": "display_data"
    }
   ],
   "source": [
    "#summarize history for accuracy\n",
    "plt.plot(history.history['accuracy'])\n",
    "plt.plot(history.history['val_accuracy'])\n",
    "plt.title('model accuracy')\n",
    "plt.ylabel('accuracy')\n",
    "plt.xlabel('epoch')\n",
    "plt.legend(['train', 'validation'], loc='upper left')\n",
    "plt.show()\n",
    "# summarize history for loss\n",
    "plt.plot(history.history['loss'])\n",
    "plt.plot(history.history['val_loss'][1:43])\n",
    "plt.title('model loss')\n",
    "plt.ylabel('loss')\n",
    "plt.xlabel('epoch')\n",
    "plt.legend(['train', 'validation'], loc='upper left')\n",
    "plt.show()"
   ]
  },
  {
   "cell_type": "code",
   "execution_count": 42,
   "id": "genetic-password",
   "metadata": {},
   "outputs": [
    {
     "name": "stdout",
     "output_type": "stream",
     "text": [
      "Model: \"model_10\"\n",
      "__________________________________________________________________________________________________\n",
      " Layer (type)                   Output Shape         Param #     Connected to                     \n",
      "==================================================================================================\n",
      " input_11 (InputLayer)          [(None, 149, 646)]   0           []                               \n",
      "                                                                                                  \n",
      " bidirectional_10 (Bidirectiona  (None, 149, 200)    597600      ['input_11[0][0]']               \n",
      " l)                                                                                               \n",
      "                                                                                                  \n",
      " conv1d_20 (Conv1D)             (None, 149, 200)     387800      ['input_11[0][0]']               \n",
      "                                                                                                  \n",
      " add_10 (Add)                   (None, 149, 200)     0           ['bidirectional_10[0][0]',       \n",
      "                                                                  'conv1d_20[0][0]']              \n",
      "                                                                                                  \n",
      " conv1d_21 (Conv1D)             (None, 147, 200)     120200      ['add_10[0][0]']                 \n",
      "                                                                                                  \n",
      " global_max_pooling1d_10 (Globa  (None, 200)         0           ['conv1d_21[0][0]']              \n",
      " lMaxPooling1D)                                                                                   \n",
      "                                                                                                  \n",
      " dense_20 (Dense)               (None, 100)          20100       ['global_max_pooling1d_10[0][0]']\n",
      "                                                                                                  \n",
      " dropout_10 (Dropout)           (None, 100)          0           ['dense_20[0][0]']               \n",
      "                                                                                                  \n",
      " dense_21 (Dense)               (None, 2)            202         ['dropout_10[0][0]']             \n",
      "                                                                                                  \n",
      "==================================================================================================\n",
      "Total params: 1,125,902\n",
      "Trainable params: 1,125,902\n",
      "Non-trainable params: 0\n",
      "__________________________________________________________________________________________________\n"
     ]
    }
   ],
   "source": [
    "# two sided model\n",
    "#from keras.layers.core import Input, Model\n",
    "#with dropout\n",
    "from keras.layers import *\n",
    "from keras.models import *\n",
    "from keras.utils import *\n",
    "from keras.initializers import *\n",
    "import tensorflow as tf\n",
    "\n",
    "\n",
    "inputs = Input((149,646))\n",
    "\n",
    "side1 = Bidirectional(LSTM(100, return_sequences=True))(inputs) #200 total units\n",
    "side2 = Conv1D(200, kernel_size=3, activation = 'relu', padding = 'same')(inputs) #same activation \n",
    "                                                                   #same length\n",
    "\n",
    "merged = Add()([side1, side2]) \n",
    "     #or Concatenate()([side1, side2]) if different number of units/channels/features\n",
    "\n",
    "outputs = Conv1D(200, kernel_size=3)(merged)\n",
    "outputs = GlobalMaxPooling1D()(outputs)\n",
    "outputs = Dense(100)(outputs)\n",
    "outputs = Dropout(0.4)(outputs)\n",
    "outputs = Dense(2, activation='softmax')(outputs)\n",
    "\n",
    "model12 = Model(inputs, outputs)\n",
    "model12.summary()"
   ]
  },
  {
   "cell_type": "code",
   "execution_count": 43,
   "id": "adjusted-piano",
   "metadata": {},
   "outputs": [
    {
     "name": "stdout",
     "output_type": "stream",
     "text": [
      "Epoch 1/30\n",
      "54/54 [==============================] - 33s 548ms/step - loss: 161.3573 - accuracy: 0.9071 - mean_squared_error: 0.4999 - val_loss: 38.2433 - val_accuracy: 0.9737 - val_mean_squared_error: 0.5000\n",
      "Epoch 2/30\n",
      "54/54 [==============================] - 20s 379ms/step - loss: 33.3298 - accuracy: 0.9615 - mean_squared_error: 0.5000 - val_loss: 17.8979 - val_accuracy: 0.9807 - val_mean_squared_error: 0.5000\n",
      "Epoch 3/30\n",
      "54/54 [==============================] - 20s 377ms/step - loss: 19.4034 - accuracy: 0.9714 - mean_squared_error: 0.4999 - val_loss: 12.5222 - val_accuracy: 0.9848 - val_mean_squared_error: 0.5000\n",
      "Epoch 4/30\n",
      "54/54 [==============================] - 21s 383ms/step - loss: 11.2317 - accuracy: 0.9821 - mean_squared_error: 0.5000 - val_loss: 8.4514 - val_accuracy: 0.9895 - val_mean_squared_error: 0.5000\n",
      "Epoch 5/30\n",
      "54/54 [==============================] - 22s 416ms/step - loss: 14.6368 - accuracy: 0.9788 - mean_squared_error: 0.5000 - val_loss: 8.4489 - val_accuracy: 0.9889 - val_mean_squared_error: 0.5000\n",
      "Epoch 6/30\n",
      "54/54 [==============================] - 23s 422ms/step - loss: 8.6197 - accuracy: 0.9857 - mean_squared_error: 0.5000 - val_loss: 8.1903 - val_accuracy: 0.9889 - val_mean_squared_error: 0.5000\n",
      "Epoch 7/30\n",
      "54/54 [==============================] - 23s 420ms/step - loss: 8.6658 - accuracy: 0.9854 - mean_squared_error: 0.4999 - val_loss: 9.0793 - val_accuracy: 0.9912 - val_mean_squared_error: 0.5000\n",
      "Epoch 8/30\n",
      "54/54 [==============================] - 24s 437ms/step - loss: 7.1798 - accuracy: 0.9864 - mean_squared_error: 0.5000 - val_loss: 9.8982 - val_accuracy: 0.9901 - val_mean_squared_error: 0.5000\n",
      "Epoch 9/30\n",
      "54/54 [==============================] - 24s 441ms/step - loss: 6.4600 - accuracy: 0.9893 - mean_squared_error: 0.4999 - val_loss: 11.6057 - val_accuracy: 0.9895 - val_mean_squared_error: 0.5000\n",
      "Epoch 10/30\n",
      "54/54 [==============================] - 22s 416ms/step - loss: 7.8227 - accuracy: 0.9856 - mean_squared_error: 0.5000 - val_loss: 8.6766 - val_accuracy: 0.9907 - val_mean_squared_error: 0.5000\n",
      "Epoch 11/30\n",
      "54/54 [==============================] - 22s 410ms/step - loss: 5.6095 - accuracy: 0.9892 - mean_squared_error: 0.5000 - val_loss: 7.3998 - val_accuracy: 0.9918 - val_mean_squared_error: 0.5000\n",
      "Epoch 12/30\n",
      "54/54 [==============================] - 23s 425ms/step - loss: 4.9728 - accuracy: 0.9911 - mean_squared_error: 0.5000 - val_loss: 7.6426 - val_accuracy: 0.9930 - val_mean_squared_error: 0.5000\n",
      "Epoch 13/30\n",
      "54/54 [==============================] - 25s 458ms/step - loss: 5.9280 - accuracy: 0.9895 - mean_squared_error: 0.5000 - val_loss: 7.0375 - val_accuracy: 0.9901 - val_mean_squared_error: 0.5000\n",
      "Epoch 14/30\n",
      "54/54 [==============================] - 23s 427ms/step - loss: 6.1419 - accuracy: 0.9896 - mean_squared_error: 0.4999 - val_loss: 6.4955 - val_accuracy: 0.9895 - val_mean_squared_error: 0.5000\n",
      "Epoch 15/30\n",
      "54/54 [==============================] - 22s 417ms/step - loss: 4.3795 - accuracy: 0.9896 - mean_squared_error: 0.5000 - val_loss: 6.3158 - val_accuracy: 0.9895 - val_mean_squared_error: 0.5000\n",
      "Epoch 16/30\n",
      "54/54 [==============================] - 23s 423ms/step - loss: 5.9075 - accuracy: 0.9920 - mean_squared_error: 0.5000 - val_loss: 7.7283 - val_accuracy: 0.9895 - val_mean_squared_error: 0.5000\n",
      "Epoch 17/30\n",
      "54/54 [==============================] - 23s 431ms/step - loss: 5.2212 - accuracy: 0.9902 - mean_squared_error: 0.5000 - val_loss: 7.2895 - val_accuracy: 0.9901 - val_mean_squared_error: 0.5000\n",
      "Epoch 18/30\n",
      "54/54 [==============================] - 24s 442ms/step - loss: 4.7809 - accuracy: 0.9918 - mean_squared_error: 0.5000 - val_loss: 6.5650 - val_accuracy: 0.9901 - val_mean_squared_error: 0.5000\n",
      "Epoch 19/30\n",
      "54/54 [==============================] - 22s 414ms/step - loss: 4.3797 - accuracy: 0.9907 - mean_squared_error: 0.5000 - val_loss: 7.0392 - val_accuracy: 0.9912 - val_mean_squared_error: 0.5000\n",
      "Epoch 20/30\n",
      "54/54 [==============================] - 23s 422ms/step - loss: 5.3105 - accuracy: 0.9896 - mean_squared_error: 0.5000 - val_loss: 7.3579 - val_accuracy: 0.9924 - val_mean_squared_error: 0.5000\n",
      "Epoch 21/30\n",
      "54/54 [==============================] - 23s 424ms/step - loss: 3.8581 - accuracy: 0.9912 - mean_squared_error: 0.5000 - val_loss: 6.6271 - val_accuracy: 0.9901 - val_mean_squared_error: 0.5000\n",
      "Epoch 22/30\n",
      "54/54 [==============================] - 22s 416ms/step - loss: 4.5733 - accuracy: 0.9910 - mean_squared_error: 0.4999 - val_loss: 7.7570 - val_accuracy: 0.9912 - val_mean_squared_error: 0.5000\n",
      "Epoch 23/30\n",
      "54/54 [==============================] - 23s 421ms/step - loss: 3.7902 - accuracy: 0.9924 - mean_squared_error: 0.5000 - val_loss: 7.6004 - val_accuracy: 0.9901 - val_mean_squared_error: 0.4999\n",
      "Epoch 24/30\n",
      "54/54 [==============================] - 23s 423ms/step - loss: 3.7251 - accuracy: 0.9923 - mean_squared_error: 0.4999 - val_loss: 6.9188 - val_accuracy: 0.9883 - val_mean_squared_error: 0.5000\n",
      "Epoch 25/30\n",
      "54/54 [==============================] - 22s 414ms/step - loss: 4.7368 - accuracy: 0.9898 - mean_squared_error: 0.5000 - val_loss: 6.8632 - val_accuracy: 0.9912 - val_mean_squared_error: 0.5000\n",
      "Epoch 26/30\n",
      "54/54 [==============================] - 23s 422ms/step - loss: 4.8940 - accuracy: 0.9910 - mean_squared_error: 0.5000 - val_loss: 6.9378 - val_accuracy: 0.9901 - val_mean_squared_error: 0.4999\n",
      "Epoch 27/30\n",
      "54/54 [==============================] - 23s 425ms/step - loss: 4.4847 - accuracy: 0.9904 - mean_squared_error: 0.5000 - val_loss: 6.6065 - val_accuracy: 0.9924 - val_mean_squared_error: 0.5000\n",
      "Epoch 28/30\n",
      "54/54 [==============================] - 23s 432ms/step - loss: 2.8554 - accuracy: 0.9937 - mean_squared_error: 0.5000 - val_loss: 7.0881 - val_accuracy: 0.9930 - val_mean_squared_error: 0.5000\n",
      "Epoch 29/30\n",
      "54/54 [==============================] - 23s 428ms/step - loss: 3.7719 - accuracy: 0.9912 - mean_squared_error: 0.4999 - val_loss: 6.7461 - val_accuracy: 0.9895 - val_mean_squared_error: 0.5000\n",
      "Epoch 30/30\n",
      "54/54 [==============================] - 23s 424ms/step - loss: 4.1336 - accuracy: 0.9923 - mean_squared_error: 0.5000 - val_loss: 7.4434 - val_accuracy: 0.9924 - val_mean_squared_error: 0.5000\n"
     ]
    }
   ],
   "source": [
    "model12.compile(optimizer=keras.optimizers.Adam(1e-4),loss=tf.losses.SparseCategoricalCrossentropy(), metrics=[\"accuracy\", \"MeanSquaredError\"])\n",
    "history=model12.fit(X_train, y_train, validation_data=(X_validation, y_validation),epochs = 30, batch_size = 128, verbose = 1)"
   ]
  },
  {
   "cell_type": "code",
   "execution_count": 44,
   "id": "compact-chrome",
   "metadata": {},
   "outputs": [
    {
     "data": {
      "image/png": "[encoded data removed]",
      "text/plain": [
       "<Figure size 432x288 with 1 Axes>"
      ]
     },
     "metadata": {
      "needs_background": "light"
     },
     "output_type": "display_data"
    },
    {
     "data": {
      "image/png": "[encoded data removed]",
      "text/plain": [
       "<Figure size 432x288 with 1 Axes>"
      ]
     },
     "metadata": {
      "needs_background": "light"
     },
     "output_type": "display_data"
    }
   ],
   "source": [
    "#summarize history for accuracy\n",
    "plt.plot(history.history['accuracy'])\n",
    "plt.plot(history.history['val_accuracy'])\n",
    "plt.title('model accuracy')\n",
    "plt.ylabel('accuracy')\n",
    "plt.xlabel('epoch')\n",
    "plt.legend(['train', 'validation'], loc='upper left')\n",
    "plt.show()\n",
    "# summarize history for loss\n",
    "plt.plot(history.history['loss'])\n",
    "plt.plot(history.history['val_loss'][1:43])\n",
    "plt.title('model loss')\n",
    "plt.ylabel('loss')\n",
    "plt.xlabel('epoch')\n",
    "plt.legend(['train', 'validation'], loc='upper left')\n",
    "plt.show()"
   ]
  },
  {
   "cell_type": "code",
   "execution_count": 50,
   "id": "complicated-roads",
   "metadata": {},
   "outputs": [
    {
     "name": "stdout",
     "output_type": "stream",
     "text": [
      "Accuracy: 0.989262\n",
      "Precision: 0.992651\n",
      "Recall: 0.995263\n",
      "F1 score: 0.993955\n",
      "Cohens kappa: 0.945939\n",
      "ROC AUC: 0.968706\n",
      "[[ 228   14]\n",
      " [   9 1891]]\n"
     ]
    }
   ],
   "source": [
    "#test\n",
    "pred = model5.predict(X_test)\n",
    "y_pred = [0 if y[0]>y[1] else 1 for y in pred]\n",
    "\n",
    "#test\n",
    "\n",
    "from sklearn.datasets import make_circles\n",
    "from sklearn.metrics import accuracy_score\n",
    "from sklearn.metrics import precision_score\n",
    "from sklearn.metrics import recall_score\n",
    "from sklearn.metrics import f1_score\n",
    "from sklearn.metrics import cohen_kappa_score\n",
    "from sklearn.metrics import roc_auc_score\n",
    "from sklearn.metrics import confusion_matrix\n",
    "# accuracy: (tp + tn) / (p + n)\n",
    "accuracy = accuracy_score(y_test, y_pred)\n",
    "print('Accuracy: %f' % accuracy)\n",
    "# precision tp / (tp + fp)\n",
    "precision = precision_score(y_test, y_pred)\n",
    "print('Precision: %f' % precision)\n",
    "# recall: tp / (tp + fn)\n",
    "recall = recall_score(y_test, y_pred)\n",
    "print('Recall: %f' % recall)\n",
    "# f1: 2 tp / (2 tp + fp + fn)\n",
    "f1 = f1_score(y_test, y_pred)\n",
    "print('F1 score: %f' % f1)\n",
    "# kappa\n",
    "kappa = cohen_kappa_score(y_test, y_pred)\n",
    "print('Cohens kappa: %f' % kappa)\n",
    "# ROC AUC\n",
    "auc = roc_auc_score(y_test, y_pred)\n",
    "print('ROC AUC: %f' % auc)\n",
    "# confusion matrix\n",
    "matrix = confusion_matrix(y_test, y_pred)\n",
    "print(matrix)"
   ]
  },
  {
   "cell_type": "code",
   "execution_count": 51,
   "id": "comic-retirement",
   "metadata": {},
   "outputs": [
    {
     "name": "stdout",
     "output_type": "stream",
     "text": [
      "Accuracy: 0.995769\n",
      "Precision: 0.998166\n",
      "Recall: 0.997003\n",
      "F1 score: 0.997584\n",
      "Cohens kappa: 0.980556\n",
      "ROC AUC: 0.992016\n",
      "[[ 837   11]\n",
      " [  18 5988]]\n"
     ]
    }
   ],
   "source": [
    "#train\n",
    "from sklearn.metrics import confusion_matrix\n",
    "\n",
    "pred = model5.predict(X_train)\n",
    "y_pred = [0 if y[0]>y[1] else 1 for y in pred]   #thereshold=50 y[0]>0.50\n",
    "\n",
    "\n",
    "from sklearn.datasets import make_circles\n",
    "from sklearn.metrics import accuracy_score\n",
    "from sklearn.metrics import precision_score\n",
    "from sklearn.metrics import recall_score\n",
    "from sklearn.metrics import f1_score\n",
    "from sklearn.metrics import cohen_kappa_score\n",
    "from sklearn.metrics import roc_auc_score\n",
    "from sklearn.metrics import confusion_matrix\n",
    "# accuracy: (tp + tn) / (p + n)\n",
    "accuracy = accuracy_score(y_train, y_pred)\n",
    "print('Accuracy: %f' % accuracy)\n",
    "# precision tp / (tp + fp)\n",
    "precision = precision_score(y_train, y_pred)\n",
    "print('Precision: %f' % precision)\n",
    "# recall: tp / (tp + fn)\n",
    "recall = recall_score(y_train, y_pred)\n",
    "print('Recall: %f' % recall)\n",
    "# f1: 2 tp / (2 tp + fp + fn)\n",
    "f1 = f1_score(y_train, y_pred)\n",
    "print('F1 score: %f' % f1)\n",
    "# kappa\n",
    "kappa = cohen_kappa_score(y_train, y_pred)\n",
    "print('Cohens kappa: %f' % kappa)\n",
    "# ROC AUC\n",
    "auc = roc_auc_score(y_train, y_pred)\n",
    "print('ROC AUC: %f' % auc)\n",
    "# confusion matrix\n",
    "matrix = confusion_matrix(y_train, y_pred)\n",
    "print(matrix)"
   ]
  },
  {
   "cell_type": "code",
   "execution_count": 52,
   "id": "connected-holder",
   "metadata": {},
   "outputs": [
    {
     "name": "stdout",
     "output_type": "stream",
     "text": [
      "Accuracy: 0.994748\n",
      "Precision: 0.996838\n",
      "Recall: 0.997169\n",
      "F1 score: 0.997003\n",
      "Cohens kappa: 0.975752\n",
      "ROC AUC: 0.987382\n",
      "[[ 829   19]\n",
      " [  17 5989]]\n"
     ]
    }
   ],
   "source": [
    "#train\n",
    "from sklearn.metrics import confusion_matrix\n",
    "\n",
    "pred = model1.predict(X_train)\n",
    "y_pred = [0 if y[0]>y[1] else 1 for y in pred]   #thereshold=50 y[0]>0.50\n",
    "\n",
    "\n",
    "from sklearn.datasets import make_circles\n",
    "from sklearn.metrics import accuracy_score\n",
    "from sklearn.metrics import precision_score\n",
    "from sklearn.metrics import recall_score\n",
    "from sklearn.metrics import f1_score\n",
    "from sklearn.metrics import cohen_kappa_score\n",
    "from sklearn.metrics import roc_auc_score\n",
    "from sklearn.metrics import confusion_matrix\n",
    "# accuracy: (tp + tn) / (p + n)\n",
    "accuracy = accuracy_score(y_train, y_pred)\n",
    "print('Accuracy: %f' % accuracy)\n",
    "# precision tp / (tp + fp)\n",
    "precision = precision_score(y_train, y_pred)\n",
    "print('Precision: %f' % precision)\n",
    "# recall: tp / (tp + fn)\n",
    "recall = recall_score(y_train, y_pred)\n",
    "print('Recall: %f' % recall)\n",
    "# f1: 2 tp / (2 tp + fp + fn)\n",
    "f1 = f1_score(y_train, y_pred)\n",
    "print('F1 score: %f' % f1)\n",
    "# kappa\n",
    "kappa = cohen_kappa_score(y_train, y_pred)\n",
    "print('Cohens kappa: %f' % kappa)\n",
    "# ROC AUC\n",
    "auc = roc_auc_score(y_train, y_pred)\n",
    "print('ROC AUC: %f' % auc)\n",
    "# confusion matrix\n",
    "matrix = confusion_matrix(y_train, y_pred)\n",
    "print(matrix)"
   ]
  },
  {
   "cell_type": "code",
   "execution_count": 62,
   "id": "related-privacy",
   "metadata": {},
   "outputs": [
    {
     "name": "stdout",
     "output_type": "stream",
     "text": [
      "Accuracy: 0.989262\n",
      "Precision: 0.990591\n",
      "Recall: 0.997368\n",
      "F1 score: 0.993968\n",
      "Cohens kappa: 0.945141\n",
      "ROC AUC: 0.961494\n",
      "[[ 224   18]\n",
      " [   5 1895]]\n"
     ]
    }
   ],
   "source": [
    "#test\n",
    "pred = model1.predict(X_test)\n",
    "y_pred = [0 if y[0]>.90 else 1 for y in pred]\n",
    "\n",
    "#test\n",
    "\n",
    "from sklearn.datasets import make_circles\n",
    "from sklearn.metrics import accuracy_score\n",
    "from sklearn.metrics import precision_score\n",
    "from sklearn.metrics import recall_score\n",
    "from sklearn.metrics import f1_score\n",
    "from sklearn.metrics import cohen_kappa_score\n",
    "from sklearn.metrics import roc_auc_score\n",
    "from sklearn.metrics import confusion_matrix\n",
    "# accuracy: (tp + tn) / (p + n)\n",
    "accuracy = accuracy_score(y_test, y_pred)\n",
    "print('Accuracy: %f' % accuracy)\n",
    "# precision tp / (tp + fp)\n",
    "precision = precision_score(y_test, y_pred)\n",
    "print('Precision: %f' % precision)\n",
    "# recall: tp / (tp + fn)\n",
    "recall = recall_score(y_test, y_pred)\n",
    "print('Recall: %f' % recall)\n",
    "# f1: 2 tp / (2 tp + fp + fn)\n",
    "f1 = f1_score(y_test, y_pred)\n",
    "print('F1 score: %f' % f1)\n",
    "# kappa\n",
    "kappa = cohen_kappa_score(y_test, y_pred)\n",
    "print('Cohens kappa: %f' % kappa)\n",
    "# ROC AUC\n",
    "auc = roc_auc_score(y_test, y_pred)\n",
    "print('ROC AUC: %f' % auc)\n",
    "# confusion matrix\n",
    "matrix = confusion_matrix(y_test, y_pred)\n",
    "print(matrix)"
   ]
  },
  {
   "cell_type": "code",
   "execution_count": null,
   "id": "satellite-apollo",
   "metadata": {},
   "outputs": [],
   "source": []
  }
 ],
 "metadata": {
  "kernelspec": {
   "display_name": "Python 3",
   "language": "python",
   "name": "python3"
  },
  "language_info": {
   "codemirror_mode": {
    "name": "ipython",
    "version": 3
   },
   "file_extension": ".py",
   "mimetype": "text/x-python",
   "name": "python",
   "nbconvert_exporter": "python",
   "pygments_lexer": "ipython3",
   "version": "3.8.5"
  }
 },
 "nbformat": 4,
 "nbformat_minor": 5
}
