{
 "cells": [
  {
   "cell_type": "code",
   "execution_count": 1,
   "id": "rotary-sector",
   "metadata": {},
   "outputs": [],
   "source": [
    "### import required libraries and pkgs ###\n",
    "import glob\n",
    "import os\n",
    "import librosa\n",
    "import numpy as np\n",
    "#from sklearn.model_selection import KFold\n",
    "#from sklearn.metrics import accuracy_score\n",
    "from sklearn.model_selection import train_test_split\n",
    "from sklearn.preprocessing import LabelEncoder\n",
    "#import tensorflow as tf\n",
    "from tensorflow import keras\n",
    "import matplotlib.pyplot as plt"
   ]
  },
  {
   "cell_type": "code",
   "execution_count": 6,
   "id": "matched-coordinate",
   "metadata": {},
   "outputs": [],
   "source": [
    "\n",
    "def Myextract_features(filePath, sampleRate=44100):\n",
    "    factor = 0.4\n",
    "    \n",
    "    signal,sr = librosa.load(filePath, sampleRate)\n",
    "    signal = librosa.effects.time_stretch(signal,factor)\n",
    "    centroid = librosa.feature.spectral_centroid(y=signal,sr=sr)\n",
    "    mfcc = librosa.feature.mfcc(y=signal, sr=sr)\n",
    "    #features = librosa.feature.melspectrogram(y=signal,sr=sr, n_mels=1)\n",
    "    mel = librosa.feature.melspectrogram(y=signal, sr=sr)\n",
    "\n",
    "    features = np.concatenate((mel,mfcc,centroid),axis=0)\n",
    "    #features = np.concatenate((centroid,slope),axis=0)\n",
    "    \n",
    "    return features"
   ]
  },
  {
   "cell_type": "code",
   "execution_count": 7,
   "id": "diagnostic-membership",
   "metadata": {},
   "outputs": [
    {
     "name": "stdout",
     "output_type": "stream",
     "text": [
      "(8633, 149, 646)\n",
      "(8633,)\n",
      "(2308, 149, 646)\n",
      "(2308,)\n",
      "(10941, 149, 646)\n"
     ]
    }
   ],
   "source": [
    "import pandas as pd\n",
    "import numpy as np\n",
    "import librosa\n",
    "\n",
    "filenames = pd.read_csv('/Users/pooyan/Documents/CMMS/normal.csv')\n",
    "#convert filenames from dataframe to array\n",
    "filenames = np.array(filenames['name'].values)\n",
    "#read all noraml files\n",
    "parent_dir = '/Users/pooyan/Desktop/data_cmms/skytraina_06252019/turbo/'\n",
    "sub_dir = 'combine/'\n",
    "file_ext='*.ogg'\n",
    "#all_Normalfiles = glob.glob(os.path.join(parent_dir, sub_dir, file_ext))[0:2500]\n",
    "all_Normalfiles = parent_dir +sub_dir+ filenames\n",
    "\n",
    "\n",
    "all_noraml_features = [] #define an empty array\n",
    "all_noraml_labels = []\n",
    "for i in range(0,len(all_Normalfiles)):\n",
    "    my_features = Myextract_features(all_Normalfiles[i])\n",
    "    all_noraml_features.append(my_features)\n",
    "    all_noraml_labels.append(\"normal\")\n",
    "\n",
    "#use reshape to conver outputs into arrays\n",
    "dim_1 = len(all_Normalfiles)\n",
    "dim_2 = my_features.shape[0] #number of features\n",
    "dim_3 = my_features.shape[1]\n",
    "all_noraml_features = np.asarray(all_noraml_features).reshape(dim_1, dim_2, dim_3)\n",
    "all_noraml_labels = np.asarray(all_noraml_labels).reshape(dim_1)\n",
    "\n",
    "#check the dimentions\n",
    "print(all_noraml_features.shape)\n",
    "print(all_noraml_labels.shape)\n",
    "\n",
    "#read all anoamly files\n",
    "filenames = pd.read_csv('/Users/pooyan/Documents/CMMS/anomaly.csv')\n",
    "#convert filenames from dataframe to array\n",
    "filenames = np.array(filenames['name'].values)\n",
    "\n",
    "parent_dir = '/Users/pooyan/Desktop/data_cmms/skytraina_06252019/turbo/'\n",
    "sub_dir = 'combine/'\n",
    "file_ext='*.ogg'\n",
    "#all_Anomalyfiles = glob.glob(os.path.join(parent_dir, sub_dir, file_ext))[0:1000]\n",
    "all_Anomalyfiles = parent_dir +sub_dir+ filenames\n",
    "\n",
    "all_anomaly_features = [] #define an empty array\n",
    "all_anomaly_labels = []\n",
    "for i in range(0,len(all_Anomalyfiles)):\n",
    "    my_features = Myextract_features(all_Anomalyfiles[i])\n",
    "    all_anomaly_features.append(my_features)\n",
    "    all_anomaly_labels.append(\"anomaly\")\n",
    "\n",
    "#use reshape to conver outputs into arrays\n",
    "dim_1 = len(all_Anomalyfiles)\n",
    "dim_2 = my_features.shape[0] #number of features\n",
    "dim_3 = my_features.shape[1]\n",
    "all_anomaly_features = np.asarray(all_anomaly_features).reshape(dim_1, dim_2, dim_3)\n",
    "all_anomaly_labels = np.asarray(all_anomaly_labels).reshape(dim_1)\n",
    "\n",
    "#check the dimentions\n",
    "print(all_anomaly_features.shape)\n",
    "print(all_anomaly_labels.shape)\n",
    "\n",
    "#Merge noraml and anomaly arrays\n",
    "all_data = np.concatenate((all_noraml_features,all_anomaly_features),axis=0)\n",
    "all_label = np.concatenate((all_noraml_labels,all_anomaly_labels),axis=0)\n",
    "\n",
    "#check the dimentions\n",
    "print(all_data.shape)"
   ]
  },
  {
   "cell_type": "code",
   "execution_count": 10,
   "id": "banned-desperate",
   "metadata": {},
   "outputs": [
    {
     "name": "stdout",
     "output_type": "stream",
     "text": [
      "(7001, 149, 646)\n",
      "(2189, 149, 646)\n",
      "(1751, 149, 646)\n",
      "(7001, 149, 646)\n",
      "(2189, 149, 646)\n",
      "(1751, 149, 646)\n"
     ]
    }
   ],
   "source": [
    "#endocding labels\n",
    "my_ec = LabelEncoder()\n",
    "all_label = my_ec.fit_transform(all_label)\n",
    "\n",
    "my_ec.transform([\"normal\"])\n",
    "my_ec.inverse_transform(all_label)\n",
    "\n",
    "#split data into train. validation, and test\n",
    "X_train, X_test, y_train, y_test = train_test_split(all_data,all_label,test_size=0.2,shuffle=True)\n",
    "X_train, X_validation, y_train, y_validation = train_test_split(X_train,y_train,test_size=0.2,shuffle=True)\n",
    "\n",
    "#check the dimentions\n",
    "print(X_train.shape)\n",
    "print(X_test.shape)\n",
    "print(X_validation.shape)\n",
    "\n",
    "#check the dimentions\n",
    "print(X_train.shape)\n",
    "print(X_test.shape)\n",
    "print(X_validation.shape)"
   ]
  },
  {
   "cell_type": "code",
   "execution_count": 11,
   "id": "facial-killer",
   "metadata": {},
   "outputs": [
    {
     "name": "stdout",
     "output_type": "stream",
     "text": [
      "Model: \"model\"\n",
      "__________________________________________________________________________________________________\n",
      " Layer (type)                   Output Shape         Param #     Connected to                     \n",
      "==================================================================================================\n",
      " input_1 (InputLayer)           [(None, 149, 646)]   0           []                               \n",
      "                                                                                                  \n",
      " bidirectional (Bidirectional)  (None, 149, 200)     597600      ['input_1[0][0]']                \n",
      "                                                                                                  \n",
      " conv1d (Conv1D)                (None, 149, 200)     387800      ['input_1[0][0]']                \n",
      "                                                                                                  \n",
      " add (Add)                      (None, 149, 200)     0           ['bidirectional[0][0]',          \n",
      "                                                                  'conv1d[0][0]']                 \n",
      "                                                                                                  \n",
      " conv1d_1 (Conv1D)              (None, 147, 200)     120200      ['add[0][0]']                    \n",
      "                                                                                                  \n",
      " global_max_pooling1d (GlobalMa  (None, 200)         0           ['conv1d_1[0][0]']               \n",
      " xPooling1D)                                                                                      \n",
      "                                                                                                  \n",
      " dense (Dense)                  (None, 100)          20100       ['global_max_pooling1d[0][0]']   \n",
      "                                                                                                  \n",
      " dense_1 (Dense)                (None, 2)            202         ['dense[0][0]']                  \n",
      "                                                                                                  \n",
      "==================================================================================================\n",
      "Total params: 1,125,902\n",
      "Trainable params: 1,125,902\n",
      "Non-trainable params: 0\n",
      "__________________________________________________________________________________________________\n"
     ]
    }
   ],
   "source": [
    "# two sided model\n",
    "#from keras.layers.core import Input, Model\n",
    "from keras.layers import *\n",
    "from keras.models import *\n",
    "from keras.utils import *\n",
    "from keras.initializers import *\n",
    "import tensorflow as tf\n",
    "\n",
    "\n",
    "inputs = Input((149,646))\n",
    "\n",
    "side1 = Bidirectional(LSTM(100, return_sequences=True))(inputs) #200 total units\n",
    "side2 = Conv1D(200, kernel_size=3, activation = 'relu', padding = 'same')(inputs) #same activation \n",
    "                                                                   #same length\n",
    "\n",
    "merged = Add()([side1, side2]) \n",
    "     #or Concatenate()([side1, side2]) if different number of units/channels/features\n",
    "\n",
    "outputs = Conv1D(200, kernel_size=3)(merged)\n",
    "outputs = GlobalMaxPooling1D()(outputs)\n",
    "outputs = Dense(100)(outputs)\n",
    "outputs = Dense(2, activation='softmax')(outputs)\n",
    "\n",
    "model = Model(inputs, outputs)\n",
    "model.summary()"
   ]
  },
  {
   "cell_type": "code",
   "execution_count": 12,
   "id": "structural-magnitude",
   "metadata": {},
   "outputs": [
    {
     "name": "stdout",
     "output_type": "stream",
     "text": [
      "Epoch 1/20\n",
      "55/55 [==============================] - 26s 414ms/step - loss: 71.5989 - accuracy: 0.8990 - mean_squared_error: 0.4999 - val_loss: 8.9791 - val_accuracy: 0.9806 - val_mean_squared_error: 0.5000\n",
      "Epoch 2/20\n",
      "55/55 [==============================] - 22s 395ms/step - loss: 4.9826 - accuracy: 0.9880 - mean_squared_error: 0.5000 - val_loss: 6.6965 - val_accuracy: 0.9783 - val_mean_squared_error: 0.4999\n",
      "Epoch 3/20\n",
      "55/55 [==============================] - 22s 400ms/step - loss: 1.5332 - accuracy: 0.9929 - mean_squared_error: 0.5000 - val_loss: 6.4982 - val_accuracy: 0.9760 - val_mean_squared_error: 0.4999\n",
      "Epoch 4/20\n",
      "55/55 [==============================] - 23s 410ms/step - loss: 0.6780 - accuracy: 0.9957 - mean_squared_error: 0.4999 - val_loss: 6.5891 - val_accuracy: 0.9846 - val_mean_squared_error: 0.5000\n",
      "Epoch 5/20\n",
      "55/55 [==============================] - 22s 403ms/step - loss: 0.4071 - accuracy: 0.9961 - mean_squared_error: 0.4999 - val_loss: 5.7654 - val_accuracy: 0.9874 - val_mean_squared_error: 0.4999\n",
      "Epoch 6/20\n",
      "55/55 [==============================] - 23s 428ms/step - loss: 1.3147 - accuracy: 0.9934 - mean_squared_error: 0.4999 - val_loss: 5.4201 - val_accuracy: 0.9880 - val_mean_squared_error: 0.5000\n",
      "Epoch 7/20\n",
      "55/55 [==============================] - 24s 434ms/step - loss: 0.1386 - accuracy: 0.9989 - mean_squared_error: 0.5000 - val_loss: 5.8179 - val_accuracy: 0.9880 - val_mean_squared_error: 0.4999\n",
      "Epoch 8/20\n",
      "55/55 [==============================] - 23s 426ms/step - loss: 0.1806 - accuracy: 0.9984 - mean_squared_error: 0.5000 - val_loss: 4.9850 - val_accuracy: 0.9874 - val_mean_squared_error: 0.5000\n",
      "Epoch 9/20\n",
      "55/55 [==============================] - 23s 426ms/step - loss: 0.0675 - accuracy: 0.9993 - mean_squared_error: 0.5000 - val_loss: 4.9018 - val_accuracy: 0.9863 - val_mean_squared_error: 0.5000\n",
      "Epoch 10/20\n",
      "55/55 [==============================] - 24s 443ms/step - loss: 0.0000e+00 - accuracy: 1.0000 - mean_squared_error: 0.5000 - val_loss: 4.9331 - val_accuracy: 0.9863 - val_mean_squared_error: 0.5000\n",
      "Epoch 11/20\n",
      "55/55 [==============================] - 24s 436ms/step - loss: 0.0000e+00 - accuracy: 1.0000 - mean_squared_error: 0.5000 - val_loss: 4.9331 - val_accuracy: 0.9863 - val_mean_squared_error: 0.5000\n",
      "Epoch 12/20\n",
      "55/55 [==============================] - 24s 430ms/step - loss: 0.0000e+00 - accuracy: 1.0000 - mean_squared_error: 0.5000 - val_loss: 4.9331 - val_accuracy: 0.9863 - val_mean_squared_error: 0.5000\n",
      "Epoch 13/20\n",
      "55/55 [==============================] - 24s 442ms/step - loss: 0.0000e+00 - accuracy: 1.0000 - mean_squared_error: 0.5000 - val_loss: 4.9331 - val_accuracy: 0.9863 - val_mean_squared_error: 0.5000\n",
      "Epoch 14/20\n",
      "55/55 [==============================] - 24s 439ms/step - loss: 0.0000e+00 - accuracy: 1.0000 - mean_squared_error: 0.5000 - val_loss: 4.9331 - val_accuracy: 0.9863 - val_mean_squared_error: 0.5000\n",
      "Epoch 15/20\n",
      "55/55 [==============================] - 23s 426ms/step - loss: 0.0000e+00 - accuracy: 1.0000 - mean_squared_error: 0.5000 - val_loss: 4.9331 - val_accuracy: 0.9863 - val_mean_squared_error: 0.5000\n",
      "Epoch 16/20\n",
      "55/55 [==============================] - 24s 435ms/step - loss: 0.0000e+00 - accuracy: 1.0000 - mean_squared_error: 0.5000 - val_loss: 4.9331 - val_accuracy: 0.9863 - val_mean_squared_error: 0.5000\n",
      "Epoch 17/20\n",
      "55/55 [==============================] - 25s 448ms/step - loss: 0.0000e+00 - accuracy: 1.0000 - mean_squared_error: 0.5000 - val_loss: 4.9331 - val_accuracy: 0.9863 - val_mean_squared_error: 0.5000\n",
      "Epoch 18/20\n",
      "55/55 [==============================] - 27s 491ms/step - loss: 0.0000e+00 - accuracy: 1.0000 - mean_squared_error: 0.5000 - val_loss: 4.9331 - val_accuracy: 0.9863 - val_mean_squared_error: 0.5000\n",
      "Epoch 19/20\n",
      "55/55 [==============================] - 26s 481ms/step - loss: 0.0000e+00 - accuracy: 1.0000 - mean_squared_error: 0.5000 - val_loss: 4.9331 - val_accuracy: 0.9863 - val_mean_squared_error: 0.5000\n",
      "Epoch 20/20\n",
      "55/55 [==============================] - 26s 467ms/step - loss: 0.0000e+00 - accuracy: 1.0000 - mean_squared_error: 0.5000 - val_loss: 4.9331 - val_accuracy: 0.9863 - val_mean_squared_error: 0.5000\n"
     ]
    }
   ],
   "source": [
    "model.compile(optimizer=keras.optimizers.Adam(1e-4),loss=tf.losses.SparseCategoricalCrossentropy(), metrics=[\"accuracy\", \"MeanSquaredError\"])\n",
    "history=model.fit(X_train, y_train, validation_data=(X_validation, y_validation),epochs = 20, batch_size = 128, verbose = 1)\n"
   ]
  },
  {
   "cell_type": "code",
   "execution_count": 13,
   "id": "nervous-welding",
   "metadata": {},
   "outputs": [
    {
     "data": {
      "image/png": "[encoded data removed]",
      "text/plain": [
       "<Figure size 432x288 with 1 Axes>"
      ]
     },
     "metadata": {
      "needs_background": "light"
     },
     "output_type": "display_data"
    },
    {
     "data": {
      "image/png": "[encoded data removed]",
      "text/plain": [
       "<Figure size 432x288 with 1 Axes>"
      ]
     },
     "metadata": {
      "needs_background": "light"
     },
     "output_type": "display_data"
    }
   ],
   "source": [
    "# summarize history for accuracy\n",
    "plt.plot(history.history['accuracy'])\n",
    "plt.plot(history.history['val_accuracy'])\n",
    "plt.title('model accuracy')\n",
    "plt.ylabel('accuracy')\n",
    "plt.xlabel('epoch')\n",
    "plt.legend(['train', 'validation'], loc='upper left')\n",
    "plt.show()\n",
    "# summarize history for loss\n",
    "plt.plot(history.history['loss'])\n",
    "plt.plot(history.history['val_loss'][1:43])\n",
    "plt.title('model loss')\n",
    "plt.ylabel('loss')\n",
    "plt.xlabel('epoch')\n",
    "plt.legend(['train', 'validation'], loc='upper left')\n",
    "plt.show()"
   ]
  },
  {
   "cell_type": "code",
   "execution_count": 14,
   "id": "center-distributor",
   "metadata": {},
   "outputs": [
    {
     "name": "stdout",
     "output_type": "stream",
     "text": [
      "Accuracy: 0.985838\n",
      "Precision: 0.994166\n",
      "Recall: 0.987826\n",
      "F1 score: 0.990986\n",
      "Cohens kappa: 0.957973\n",
      "ROC AUC: 0.983137\n",
      "[[ 454   10]\n",
      " [  21 1704]]\n"
     ]
    }
   ],
   "source": [
    "#test\n",
    "pred = model.predict(X_test)\n",
    "y_pred = [0 if y[0]>y[1] else 1 for y in pred]\n",
    "\n",
    "#test\n",
    "\n",
    "from sklearn.datasets import make_circles\n",
    "from sklearn.metrics import accuracy_score\n",
    "from sklearn.metrics import precision_score\n",
    "from sklearn.metrics import recall_score\n",
    "from sklearn.metrics import f1_score\n",
    "from sklearn.metrics import cohen_kappa_score\n",
    "from sklearn.metrics import roc_auc_score\n",
    "from sklearn.metrics import confusion_matrix\n",
    "# accuracy: (tp + tn) / (p + n)\n",
    "accuracy = accuracy_score(y_test, y_pred)\n",
    "print('Accuracy: %f' % accuracy)\n",
    "# precision tp / (tp + fp)\n",
    "precision = precision_score(y_test, y_pred)\n",
    "print('Precision: %f' % precision)\n",
    "# recall: tp / (tp + fn)\n",
    "recall = recall_score(y_test, y_pred)\n",
    "print('Recall: %f' % recall)\n",
    "# f1: 2 tp / (2 tp + fp + fn)\n",
    "f1 = f1_score(y_test, y_pred)\n",
    "print('F1 score: %f' % f1)\n",
    "# kappa\n",
    "kappa = cohen_kappa_score(y_test, y_pred)\n",
    "print('Cohens kappa: %f' % kappa)\n",
    "# ROC AUC\n",
    "auc = roc_auc_score(y_test, y_pred)\n",
    "print('ROC AUC: %f' % auc)\n",
    "# confusion matrix\n",
    "matrix = confusion_matrix(y_test, y_pred)\n",
    "print(matrix)"
   ]
  },
  {
   "cell_type": "code",
   "execution_count": 15,
   "id": "rubber-ontario",
   "metadata": {},
   "outputs": [
    {
     "name": "stdout",
     "output_type": "stream",
     "text": [
      "Accuracy: 1.000000\n",
      "Precision: 1.000000\n",
      "Recall: 1.000000\n",
      "F1 score: 1.000000\n",
      "Cohens kappa: 1.000000\n",
      "ROC AUC: 1.000000\n",
      "[[1461    0]\n",
      " [   0 5540]]\n"
     ]
    }
   ],
   "source": [
    "from sklearn.metrics import confusion_matrix\n",
    "\n",
    "pred = model.predict(X_train)\n",
    "y_pred = [0 if y[0]>y[1] else 1 for y in pred]   #thereshold=50 y[0]>0.50\n",
    "\n",
    "\n",
    "from sklearn.datasets import make_circles\n",
    "from sklearn.metrics import accuracy_score\n",
    "from sklearn.metrics import precision_score\n",
    "from sklearn.metrics import recall_score\n",
    "from sklearn.metrics import f1_score\n",
    "from sklearn.metrics import cohen_kappa_score\n",
    "from sklearn.metrics import roc_auc_score\n",
    "from sklearn.metrics import confusion_matrix\n",
    "# accuracy: (tp + tn) / (p + n)\n",
    "accuracy = accuracy_score(y_train, y_pred)\n",
    "print('Accuracy: %f' % accuracy)\n",
    "# precision tp / (tp + fp)\n",
    "precision = precision_score(y_train, y_pred)\n",
    "print('Precision: %f' % precision)\n",
    "# recall: tp / (tp + fn)\n",
    "recall = recall_score(y_train, y_pred)\n",
    "print('Recall: %f' % recall)\n",
    "# f1: 2 tp / (2 tp + fp + fn)\n",
    "f1 = f1_score(y_train, y_pred)\n",
    "print('F1 score: %f' % f1)\n",
    "# kappa\n",
    "kappa = cohen_kappa_score(y_train, y_pred)\n",
    "print('Cohens kappa: %f' % kappa)\n",
    "# ROC AUC\n",
    "auc = roc_auc_score(y_train, y_pred)\n",
    "print('ROC AUC: %f' % auc)\n",
    "# confusion matrix\n",
    "matrix = confusion_matrix(y_train, y_pred)\n",
    "print(matrix)"
   ]
  },
  {
   "cell_type": "code",
   "execution_count": 21,
   "id": "induced-plaza",
   "metadata": {},
   "outputs": [
    {
     "data": {
      "text/plain": [
       "<AxesSubplot:>"
      ]
     },
     "execution_count": 21,
     "metadata": {},
     "output_type": "execute_result"
    },
    {
     "data": {
      "image/png": "[encoded data removed]",
      "text/plain": [
       "<Figure size 432x288 with 2 Axes>"
      ]
     },
     "metadata": {
      "needs_background": "light"
     },
     "output_type": "display_data"
    }
   ],
   "source": [
    "import numpy as np\n",
    "import seaborn as sns\n",
    "\n",
    "sns.heatmap(matrix/np.sum(matrix), annot=True, \n",
    "            fmt='.2%', cmap='Blues')"
   ]
  },
  {
   "cell_type": "code",
   "execution_count": 4,
   "id": "cross-commerce",
   "metadata": {},
   "outputs": [],
   "source": [
    "#50epochs\n",
    "def Myextract_features(filePath, sampleRate=44100):\n",
    "    factor = 0.4\n",
    "    \n",
    "    signal,sr = librosa.load(filePath, sampleRate)\n",
    "    signal = librosa.effects.time_stretch(signal,factor)\n",
    "    centroid = librosa.feature.spectral_centroid(y=signal,sr=sr)\n",
    "    mfcc = librosa.feature.mfcc(y=signal, sr=sr)\n",
    "    #features = librosa.feature.melspectrogram(y=signal,sr=sr, n_mels=1)\n",
    "    mel = librosa.feature.melspectrogram(y=signal, sr=sr)\n",
    "\n",
    "    features = np.concatenate((mel,mfcc,centroid),axis=0)\n",
    "    #features = np.concatenate((centroid,slope),axis=0)\n",
    "    \n",
    "    return features"
   ]
  },
  {
   "cell_type": "code",
   "execution_count": 5,
   "id": "offensive-pledge",
   "metadata": {},
   "outputs": [
    {
     "name": "stdout",
     "output_type": "stream",
     "text": [
      "(8633, 149, 646)\n",
      "(8633,)\n",
      "(2308, 149, 646)\n",
      "(2308,)\n",
      "(10941, 149, 646)\n"
     ]
    }
   ],
   "source": [
    "import pandas as pd\n",
    "import numpy as np\n",
    "import librosa\n",
    "\n",
    "filenames = pd.read_csv('/Users/pooyan/Documents/CMMS/normal.csv')\n",
    "#convert filenames from dataframe to array\n",
    "filenames = np.array(filenames['name'].values)\n",
    "#read all noraml files\n",
    "parent_dir = '/Users/pooyan/Desktop/data_cmms/skytraina_06252019/turbo/'\n",
    "sub_dir = 'combine/'\n",
    "file_ext='*.ogg'\n",
    "#all_Normalfiles = glob.glob(os.path.join(parent_dir, sub_dir, file_ext))[0:2500]\n",
    "all_Normalfiles = parent_dir +sub_dir+ filenames\n",
    "\n",
    "\n",
    "all_noraml_features = [] #define an empty array\n",
    "all_noraml_labels = []\n",
    "for i in range(0,len(all_Normalfiles)):\n",
    "    my_features = Myextract_features(all_Normalfiles[i])\n",
    "    all_noraml_features.append(my_features)\n",
    "    all_noraml_labels.append(\"normal\")\n",
    "\n",
    "#use reshape to conver outputs into arrays\n",
    "dim_1 = len(all_Normalfiles)\n",
    "dim_2 = my_features.shape[0] #number of features\n",
    "dim_3 = my_features.shape[1]\n",
    "all_noraml_features = np.asarray(all_noraml_features).reshape(dim_1, dim_2, dim_3)\n",
    "all_noraml_labels = np.asarray(all_noraml_labels).reshape(dim_1)\n",
    "\n",
    "#check the dimentions\n",
    "print(all_noraml_features.shape)\n",
    "print(all_noraml_labels.shape)\n",
    "\n",
    "#read all anoamly files\n",
    "filenames = pd.read_csv('/Users/pooyan/Documents/CMMS/anomaly.csv')\n",
    "#convert filenames from dataframe to array\n",
    "filenames = np.array(filenames['name'].values)\n",
    "\n",
    "parent_dir = '/Users/pooyan/Desktop/data_cmms/skytraina_06252019/turbo/'\n",
    "sub_dir = 'combine/'\n",
    "file_ext='*.ogg'\n",
    "#all_Anomalyfiles = glob.glob(os.path.join(parent_dir, sub_dir, file_ext))[0:1000]\n",
    "all_Anomalyfiles = parent_dir +sub_dir+ filenames\n",
    "\n",
    "all_anomaly_features = [] #define an empty array\n",
    "all_anomaly_labels = []\n",
    "for i in range(0,len(all_Anomalyfiles)):\n",
    "    my_features = Myextract_features(all_Anomalyfiles[i])\n",
    "    all_anomaly_features.append(my_features)\n",
    "    all_anomaly_labels.append(\"anomaly\")\n",
    "\n",
    "#use reshape to conver outputs into arrays\n",
    "dim_1 = len(all_Anomalyfiles)\n",
    "dim_2 = my_features.shape[0] #number of features\n",
    "dim_3 = my_features.shape[1]\n",
    "all_anomaly_features = np.asarray(all_anomaly_features).reshape(dim_1, dim_2, dim_3)\n",
    "all_anomaly_labels = np.asarray(all_anomaly_labels).reshape(dim_1)\n",
    "\n",
    "#check the dimentions\n",
    "print(all_anomaly_features.shape)\n",
    "print(all_anomaly_labels.shape)\n",
    "\n",
    "#Merge noraml and anomaly arrays\n",
    "all_data = np.concatenate((all_noraml_features,all_anomaly_features),axis=0)\n",
    "all_label = np.concatenate((all_noraml_labels,all_anomaly_labels),axis=0)\n",
    "\n",
    "#check the dimentions\n",
    "print(all_data.shape)"
   ]
  },
  {
   "cell_type": "code",
   "execution_count": 6,
   "id": "funded-times",
   "metadata": {},
   "outputs": [
    {
     "name": "stdout",
     "output_type": "stream",
     "text": [
      "(7001, 149, 646)\n",
      "(2189, 149, 646)\n",
      "(1751, 149, 646)\n",
      "(7001, 149, 646)\n",
      "(2189, 149, 646)\n",
      "(1751, 149, 646)\n"
     ]
    }
   ],
   "source": [
    "#endocding labels\n",
    "my_ec = LabelEncoder()\n",
    "all_label = my_ec.fit_transform(all_label)\n",
    "\n",
    "my_ec.transform([\"normal\"])\n",
    "my_ec.inverse_transform(all_label)\n",
    "\n",
    "#split data into train. validation, and test\n",
    "X_train, X_test, y_train, y_test = train_test_split(all_data,all_label,test_size=0.2,shuffle=True)\n",
    "X_train, X_validation, y_train, y_validation = train_test_split(X_train,y_train,test_size=0.2,shuffle=True)\n",
    "\n",
    "#check the dimentions\n",
    "print(X_train.shape)\n",
    "print(X_test.shape)\n",
    "print(X_validation.shape)\n",
    "\n",
    "#check the dimentions\n",
    "print(X_train.shape)\n",
    "print(X_test.shape)\n",
    "print(X_validation.shape)"
   ]
  },
  {
   "cell_type": "code",
   "execution_count": 7,
   "id": "turkish-attribute",
   "metadata": {},
   "outputs": [
    {
     "name": "stdout",
     "output_type": "stream",
     "text": [
      "Model: \"model_1\"\n",
      "__________________________________________________________________________________________________\n",
      " Layer (type)                   Output Shape         Param #     Connected to                     \n",
      "==================================================================================================\n",
      " input_2 (InputLayer)           [(None, 149, 646)]   0           []                               \n",
      "                                                                                                  \n",
      " bidirectional_1 (Bidirectional  (None, 149, 200)    597600      ['input_2[0][0]']                \n",
      " )                                                                                                \n",
      "                                                                                                  \n",
      " conv1d_2 (Conv1D)              (None, 149, 200)     387800      ['input_2[0][0]']                \n",
      "                                                                                                  \n",
      " add_1 (Add)                    (None, 149, 200)     0           ['bidirectional_1[0][0]',        \n",
      "                                                                  'conv1d_2[0][0]']               \n",
      "                                                                                                  \n",
      " conv1d_3 (Conv1D)              (None, 147, 200)     120200      ['add_1[0][0]']                  \n",
      "                                                                                                  \n",
      " global_max_pooling1d_1 (Global  (None, 200)         0           ['conv1d_3[0][0]']               \n",
      " MaxPooling1D)                                                                                    \n",
      "                                                                                                  \n",
      " dense_2 (Dense)                (None, 100)          20100       ['global_max_pooling1d_1[0][0]'] \n",
      "                                                                                                  \n",
      " dense_3 (Dense)                (None, 2)            202         ['dense_2[0][0]']                \n",
      "                                                                                                  \n",
      "==================================================================================================\n",
      "Total params: 1,125,902\n",
      "Trainable params: 1,125,902\n",
      "Non-trainable params: 0\n",
      "__________________________________________________________________________________________________\n"
     ]
    }
   ],
   "source": [
    "# two sided model\n",
    "#from keras.layers.core import Input, Model\n",
    "from keras.layers import *\n",
    "from keras.models import *\n",
    "from keras.utils import *\n",
    "from keras.initializers import *\n",
    "import tensorflow as tf\n",
    "\n",
    "\n",
    "inputs = Input((149,646))\n",
    "\n",
    "side1 = Bidirectional(LSTM(100, return_sequences=True))(inputs) #200 total units\n",
    "side2 = Conv1D(200, kernel_size=3, activation = 'relu', padding = 'same')(inputs) #same activation \n",
    "                                                                   #same length\n",
    "\n",
    "merged = Add()([side1, side2]) \n",
    "     #or Concatenate()([side1, side2]) if different number of units/channels/features\n",
    "\n",
    "outputs = Conv1D(200, kernel_size=3)(merged)\n",
    "outputs = GlobalMaxPooling1D()(outputs)\n",
    "outputs = Dense(100)(outputs)\n",
    "outputs = Dense(2, activation='softmax')(outputs)\n",
    "\n",
    "model = Model(inputs, outputs)\n",
    "model.summary()"
   ]
  },
  {
   "cell_type": "code",
   "execution_count": 8,
   "id": "controversial-viewer",
   "metadata": {},
   "outputs": [
    {
     "name": "stdout",
     "output_type": "stream",
     "text": [
      "Epoch 1/50\n",
      "55/55 [==============================] - 27s 441ms/step - loss: 124.2352 - accuracy: 0.8924 - mean_squared_error: 0.4999 - val_loss: 18.3200 - val_accuracy: 0.9726 - val_mean_squared_error: 0.5000\n",
      "Epoch 2/50\n",
      "55/55 [==============================] - 22s 408ms/step - loss: 5.4266 - accuracy: 0.9876 - mean_squared_error: 0.4999 - val_loss: 10.6781 - val_accuracy: 0.9886 - val_mean_squared_error: 0.5000\n",
      "Epoch 3/50\n",
      "55/55 [==============================] - 22s 408ms/step - loss: 2.0649 - accuracy: 0.9933 - mean_squared_error: 0.5000 - val_loss: 8.9331 - val_accuracy: 0.9903 - val_mean_squared_error: 0.5000\n",
      "Epoch 4/50\n",
      "55/55 [==============================] - 23s 415ms/step - loss: 0.9882 - accuracy: 0.9954 - mean_squared_error: 0.5000 - val_loss: 10.0856 - val_accuracy: 0.9806 - val_mean_squared_error: 0.5000\n",
      "Epoch 5/50\n",
      "55/55 [==============================] - 22s 407ms/step - loss: 0.5730 - accuracy: 0.9961 - mean_squared_error: 0.4999 - val_loss: 8.7307 - val_accuracy: 0.9897 - val_mean_squared_error: 0.5000\n",
      "Epoch 6/50\n",
      "55/55 [==============================] - 25s 452ms/step - loss: 0.2320 - accuracy: 0.9980 - mean_squared_error: 0.5000 - val_loss: 7.5790 - val_accuracy: 0.9891 - val_mean_squared_error: 0.5000\n",
      "Epoch 7/50\n",
      "55/55 [==============================] - 27s 492ms/step - loss: 0.0294 - accuracy: 0.9991 - mean_squared_error: 0.5000 - val_loss: 7.2743 - val_accuracy: 0.9886 - val_mean_squared_error: 0.5000\n",
      "Epoch 8/50\n",
      "55/55 [==============================] - 24s 437ms/step - loss: 0.0203 - accuracy: 0.9997 - mean_squared_error: 0.5000 - val_loss: 7.6407 - val_accuracy: 0.9903 - val_mean_squared_error: 0.5000\n",
      "Epoch 9/50\n",
      "55/55 [==============================] - 24s 441ms/step - loss: 0.0160 - accuracy: 0.9997 - mean_squared_error: 0.5000 - val_loss: 7.4788 - val_accuracy: 0.9891 - val_mean_squared_error: 0.5000\n",
      "Epoch 10/50\n",
      "55/55 [==============================] - 25s 451ms/step - loss: 0.0056 - accuracy: 0.9997 - mean_squared_error: 0.5000 - val_loss: 7.5204 - val_accuracy: 0.9891 - val_mean_squared_error: 0.4998\n",
      "Epoch 11/50\n",
      "55/55 [==============================] - 24s 434ms/step - loss: 0.0144 - accuracy: 0.9997 - mean_squared_error: 0.5000 - val_loss: 7.9769 - val_accuracy: 0.9897 - val_mean_squared_error: 0.5000\n",
      "Epoch 12/50\n",
      "55/55 [==============================] - 24s 433ms/step - loss: 0.0592 - accuracy: 0.9990 - mean_squared_error: 0.5000 - val_loss: 8.0596 - val_accuracy: 0.9869 - val_mean_squared_error: 0.4999\n",
      "Epoch 13/50\n",
      "55/55 [==============================] - 23s 427ms/step - loss: 0.0515 - accuracy: 0.9996 - mean_squared_error: 0.5000 - val_loss: 7.8051 - val_accuracy: 0.9909 - val_mean_squared_error: 0.5000\n",
      "Epoch 14/50\n",
      "55/55 [==============================] - 24s 438ms/step - loss: 0.0000e+00 - accuracy: 1.0000 - mean_squared_error: 0.5000 - val_loss: 7.7813 - val_accuracy: 0.9909 - val_mean_squared_error: 0.5000\n",
      "Epoch 15/50\n",
      "55/55 [==============================] - 24s 428ms/step - loss: 0.0000e+00 - accuracy: 1.0000 - mean_squared_error: 0.5000 - val_loss: 7.7812 - val_accuracy: 0.9909 - val_mean_squared_error: 0.5000\n",
      "Epoch 16/50\n",
      "55/55 [==============================] - 23s 424ms/step - loss: 0.0000e+00 - accuracy: 1.0000 - mean_squared_error: 0.5000 - val_loss: 7.7812 - val_accuracy: 0.9909 - val_mean_squared_error: 0.5000\n",
      "Epoch 17/50\n",
      "55/55 [==============================] - 24s 435ms/step - loss: 0.0000e+00 - accuracy: 1.0000 - mean_squared_error: 0.5000 - val_loss: 7.7812 - val_accuracy: 0.9909 - val_mean_squared_error: 0.5000\n",
      "Epoch 18/50\n",
      "55/55 [==============================] - 24s 437ms/step - loss: 0.0000e+00 - accuracy: 1.0000 - mean_squared_error: 0.5000 - val_loss: 7.7812 - val_accuracy: 0.9909 - val_mean_squared_error: 0.5000\n",
      "Epoch 19/50\n",
      "55/55 [==============================] - 24s 432ms/step - loss: 0.0000e+00 - accuracy: 1.0000 - mean_squared_error: 0.5000 - val_loss: 7.7812 - val_accuracy: 0.9909 - val_mean_squared_error: 0.5000\n",
      "Epoch 20/50\n",
      "55/55 [==============================] - 24s 439ms/step - loss: 0.0000e+00 - accuracy: 1.0000 - mean_squared_error: 0.5000 - val_loss: 7.7812 - val_accuracy: 0.9909 - val_mean_squared_error: 0.5000\n",
      "Epoch 21/50\n",
      "55/55 [==============================] - 24s 441ms/step - loss: 0.0000e+00 - accuracy: 1.0000 - mean_squared_error: 0.5000 - val_loss: 7.7812 - val_accuracy: 0.9909 - val_mean_squared_error: 0.5000\n",
      "Epoch 22/50\n",
      "55/55 [==============================] - 25s 456ms/step - loss: 0.0000e+00 - accuracy: 1.0000 - mean_squared_error: 0.5000 - val_loss: 7.7812 - val_accuracy: 0.9909 - val_mean_squared_error: 0.5000\n",
      "Epoch 23/50\n",
      "55/55 [==============================] - 28s 520ms/step - loss: 0.0000e+00 - accuracy: 1.0000 - mean_squared_error: 0.5000 - val_loss: 7.7812 - val_accuracy: 0.9909 - val_mean_squared_error: 0.5000\n",
      "Epoch 24/50\n",
      "55/55 [==============================] - 26s 475ms/step - loss: 0.0000e+00 - accuracy: 1.0000 - mean_squared_error: 0.5000 - val_loss: 7.7812 - val_accuracy: 0.9909 - val_mean_squared_error: 0.5000\n",
      "Epoch 25/50\n",
      "55/55 [==============================] - 24s 431ms/step - loss: 0.0000e+00 - accuracy: 1.0000 - mean_squared_error: 0.5000 - val_loss: 7.7812 - val_accuracy: 0.9909 - val_mean_squared_error: 0.5000\n",
      "Epoch 26/50\n",
      "55/55 [==============================] - 23s 425ms/step - loss: 0.0000e+00 - accuracy: 1.0000 - mean_squared_error: 0.5000 - val_loss: 7.7812 - val_accuracy: 0.9909 - val_mean_squared_error: 0.5000\n",
      "Epoch 27/50\n",
      "55/55 [==============================] - 23s 422ms/step - loss: 0.0000e+00 - accuracy: 1.0000 - mean_squared_error: 0.5000 - val_loss: 7.7812 - val_accuracy: 0.9909 - val_mean_squared_error: 0.5000\n",
      "Epoch 28/50\n",
      "55/55 [==============================] - 24s 429ms/step - loss: 0.0000e+00 - accuracy: 1.0000 - mean_squared_error: 0.5000 - val_loss: 7.7812 - val_accuracy: 0.9909 - val_mean_squared_error: 0.5000\n",
      "Epoch 29/50\n",
      "55/55 [==============================] - 25s 451ms/step - loss: 0.0000e+00 - accuracy: 1.0000 - mean_squared_error: 0.5000 - val_loss: 7.7812 - val_accuracy: 0.9909 - val_mean_squared_error: 0.5000\n",
      "Epoch 30/50\n",
      "55/55 [==============================] - 24s 437ms/step - loss: 0.0000e+00 - accuracy: 1.0000 - mean_squared_error: 0.5000 - val_loss: 7.7812 - val_accuracy: 0.9909 - val_mean_squared_error: 0.5000\n",
      "Epoch 31/50\n",
      "55/55 [==============================] - 25s 462ms/step - loss: 0.0000e+00 - accuracy: 1.0000 - mean_squared_error: 0.5000 - val_loss: 7.7812 - val_accuracy: 0.9909 - val_mean_squared_error: 0.5000\n",
      "Epoch 32/50\n",
      "55/55 [==============================] - 25s 459ms/step - loss: 0.0000e+00 - accuracy: 1.0000 - mean_squared_error: 0.5000 - val_loss: 7.7812 - val_accuracy: 0.9909 - val_mean_squared_error: 0.5000\n",
      "Epoch 33/50\n",
      "55/55 [==============================] - 24s 438ms/step - loss: 0.0000e+00 - accuracy: 1.0000 - mean_squared_error: 0.5000 - val_loss: 7.7812 - val_accuracy: 0.9909 - val_mean_squared_error: 0.5000\n",
      "Epoch 34/50\n",
      "55/55 [==============================] - 24s 437ms/step - loss: 0.0000e+00 - accuracy: 1.0000 - mean_squared_error: 0.5000 - val_loss: 7.7812 - val_accuracy: 0.9909 - val_mean_squared_error: 0.5000\n",
      "Epoch 35/50\n",
      "55/55 [==============================] - 24s 435ms/step - loss: 0.0000e+00 - accuracy: 1.0000 - mean_squared_error: 0.5000 - val_loss: 7.7812 - val_accuracy: 0.9909 - val_mean_squared_error: 0.5000\n",
      "Epoch 36/50\n",
      "55/55 [==============================] - 24s 439ms/step - loss: 0.0000e+00 - accuracy: 1.0000 - mean_squared_error: 0.5000 - val_loss: 7.7812 - val_accuracy: 0.9909 - val_mean_squared_error: 0.5000\n",
      "Epoch 37/50\n",
      "55/55 [==============================] - 24s 435ms/step - loss: 0.0000e+00 - accuracy: 1.0000 - mean_squared_error: 0.5000 - val_loss: 7.7812 - val_accuracy: 0.9909 - val_mean_squared_error: 0.5000\n",
      "Epoch 38/50\n",
      "55/55 [==============================] - 24s 442ms/step - loss: 0.0000e+00 - accuracy: 1.0000 - mean_squared_error: 0.5000 - val_loss: 7.7812 - val_accuracy: 0.9909 - val_mean_squared_error: 0.5000\n",
      "Epoch 39/50\n",
      "55/55 [==============================] - 24s 439ms/step - loss: 0.0000e+00 - accuracy: 1.0000 - mean_squared_error: 0.5000 - val_loss: 7.7812 - val_accuracy: 0.9909 - val_mean_squared_error: 0.5000\n",
      "Epoch 40/50\n",
      "55/55 [==============================] - 24s 439ms/step - loss: 0.0000e+00 - accuracy: 1.0000 - mean_squared_error: 0.5000 - val_loss: 7.7812 - val_accuracy: 0.9909 - val_mean_squared_error: 0.5000\n",
      "Epoch 41/50\n",
      "55/55 [==============================] - 25s 452ms/step - loss: 0.0000e+00 - accuracy: 1.0000 - mean_squared_error: 0.5000 - val_loss: 7.7812 - val_accuracy: 0.9909 - val_mean_squared_error: 0.5000\n",
      "Epoch 42/50\n",
      "55/55 [==============================] - 24s 443ms/step - loss: 0.0000e+00 - accuracy: 1.0000 - mean_squared_error: 0.5000 - val_loss: 7.7812 - val_accuracy: 0.9909 - val_mean_squared_error: 0.5000\n",
      "Epoch 43/50\n",
      "55/55 [==============================] - 24s 443ms/step - loss: 0.0000e+00 - accuracy: 1.0000 - mean_squared_error: 0.5000 - val_loss: 7.7812 - val_accuracy: 0.9909 - val_mean_squared_error: 0.5000\n",
      "Epoch 44/50\n",
      "55/55 [==============================] - 25s 458ms/step - loss: 0.0000e+00 - accuracy: 1.0000 - mean_squared_error: 0.5000 - val_loss: 7.7812 - val_accuracy: 0.9909 - val_mean_squared_error: 0.5000\n",
      "Epoch 45/50\n",
      "55/55 [==============================] - 24s 440ms/step - loss: 0.0000e+00 - accuracy: 1.0000 - mean_squared_error: 0.5000 - val_loss: 7.7812 - val_accuracy: 0.9909 - val_mean_squared_error: 0.5000\n",
      "Epoch 46/50\n",
      "55/55 [==============================] - 24s 440ms/step - loss: 0.0000e+00 - accuracy: 1.0000 - mean_squared_error: 0.5000 - val_loss: 7.7812 - val_accuracy: 0.9909 - val_mean_squared_error: 0.5000\n",
      "Epoch 47/50\n",
      "55/55 [==============================] - 25s 464ms/step - loss: 0.0000e+00 - accuracy: 1.0000 - mean_squared_error: 0.5000 - val_loss: 7.7812 - val_accuracy: 0.9909 - val_mean_squared_error: 0.5000\n",
      "Epoch 48/50\n",
      "55/55 [==============================] - 26s 476ms/step - loss: 0.0000e+00 - accuracy: 1.0000 - mean_squared_error: 0.5000 - val_loss: 7.7812 - val_accuracy: 0.9909 - val_mean_squared_error: 0.5000\n",
      "Epoch 49/50\n",
      "55/55 [==============================] - 26s 476ms/step - loss: 0.0000e+00 - accuracy: 1.0000 - mean_squared_error: 0.5000 - val_loss: 7.7812 - val_accuracy: 0.9909 - val_mean_squared_error: 0.5000\n",
      "Epoch 50/50\n",
      "55/55 [==============================] - 26s 467ms/step - loss: 0.0000e+00 - accuracy: 1.0000 - mean_squared_error: 0.5000 - val_loss: 7.7812 - val_accuracy: 0.9909 - val_mean_squared_error: 0.5000\n"
     ]
    }
   ],
   "source": [
    "model.compile(optimizer=keras.optimizers.Adam(1e-4),loss=tf.losses.SparseCategoricalCrossentropy(), metrics=[\"accuracy\", \"MeanSquaredError\"])\n",
    "history=model.fit(X_train, y_train, validation_data=(X_validation, y_validation),epochs = 50, batch_size = 128, verbose = 1)\n"
   ]
  },
  {
   "cell_type": "code",
   "execution_count": 9,
   "id": "pacific-subscription",
   "metadata": {},
   "outputs": [
    {
     "data": {
      "image/png": "[encoded data removed]",
      "text/plain": [
       "<Figure size 432x288 with 1 Axes>"
      ]
     },
     "metadata": {
      "needs_background": "light"
     },
     "output_type": "display_data"
    },
    {
     "data": {
      "image/png": "[encoded data removed]",
      "text/plain": [
       "<Figure size 432x288 with 1 Axes>"
      ]
     },
     "metadata": {
      "needs_background": "light"
     },
     "output_type": "display_data"
    }
   ],
   "source": [
    "# summarize history for accuracy\n",
    "plt.plot(history.history['accuracy'])\n",
    "plt.plot(history.history['val_accuracy'])\n",
    "plt.title('model accuracy')\n",
    "plt.ylabel('accuracy')\n",
    "plt.xlabel('epoch')\n",
    "plt.legend(['train', 'validation'], loc='upper left')\n",
    "plt.show()\n",
    "# summarize history for loss\n",
    "plt.plot(history.history['loss'])\n",
    "plt.plot(history.history['val_loss'][1:43])\n",
    "plt.title('model loss')\n",
    "plt.ylabel('loss')\n",
    "plt.xlabel('epoch')\n",
    "plt.legend(['train', 'validation'], loc='upper left')\n",
    "plt.show()"
   ]
  },
  {
   "cell_type": "code",
   "execution_count": 10,
   "id": "pressing-direction",
   "metadata": {},
   "outputs": [
    {
     "name": "stdout",
     "output_type": "stream",
     "text": [
      "Accuracy: 0.992234\n",
      "Precision: 0.992974\n",
      "Recall: 0.997061\n",
      "F1 score: 0.995013\n",
      "Cohens kappa: 0.977470\n",
      "ROC AUC: 0.986235\n",
      "[[ 476   12]\n",
      " [   5 1696]]\n"
     ]
    }
   ],
   "source": [
    "#test\n",
    "pred = model.predict(X_test)\n",
    "y_pred = [0 if y[0]>y[1] else 1 for y in pred]\n",
    "\n",
    "#test\n",
    "\n",
    "from sklearn.datasets import make_circles\n",
    "from sklearn.metrics import accuracy_score\n",
    "from sklearn.metrics import precision_score\n",
    "from sklearn.metrics import recall_score\n",
    "from sklearn.metrics import f1_score\n",
    "from sklearn.metrics import cohen_kappa_score\n",
    "from sklearn.metrics import roc_auc_score\n",
    "from sklearn.metrics import confusion_matrix\n",
    "# accuracy: (tp + tn) / (p + n)\n",
    "accuracy = accuracy_score(y_test, y_pred)\n",
    "print('Accuracy: %f' % accuracy)\n",
    "# precision tp / (tp + fp)\n",
    "precision = precision_score(y_test, y_pred)\n",
    "print('Precision: %f' % precision)\n",
    "# recall: tp / (tp + fn)\n",
    "recall = recall_score(y_test, y_pred)\n",
    "print('Recall: %f' % recall)\n",
    "# f1: 2 tp / (2 tp + fp + fn)\n",
    "f1 = f1_score(y_test, y_pred)\n",
    "print('F1 score: %f' % f1)\n",
    "# kappa\n",
    "kappa = cohen_kappa_score(y_test, y_pred)\n",
    "print('Cohens kappa: %f' % kappa)\n",
    "# ROC AUC\n",
    "auc = roc_auc_score(y_test, y_pred)\n",
    "print('ROC AUC: %f' % auc)\n",
    "# confusion matrix\n",
    "matrix = confusion_matrix(y_test, y_pred)\n",
    "print(matrix)"
   ]
  },
  {
   "cell_type": "code",
   "execution_count": 11,
   "id": "mysterious-probe",
   "metadata": {},
   "outputs": [
    {
     "name": "stdout",
     "output_type": "stream",
     "text": [
      "Accuracy: 1.000000\n",
      "Precision: 1.000000\n",
      "Recall: 1.000000\n",
      "F1 score: 1.000000\n",
      "Cohens kappa: 1.000000\n",
      "ROC AUC: 1.000000\n",
      "[[1484    0]\n",
      " [   0 5517]]\n"
     ]
    }
   ],
   "source": [
    "#train\n",
    "from sklearn.metrics import confusion_matrix\n",
    "\n",
    "pred = model.predict(X_train)\n",
    "y_pred = [0 if y[0]>y[1] else 1 for y in pred]   #thereshold=50 y[0]>0.50\n",
    "\n",
    "\n",
    "from sklearn.datasets import make_circles\n",
    "from sklearn.metrics import accuracy_score\n",
    "from sklearn.metrics import precision_score\n",
    "from sklearn.metrics import recall_score\n",
    "from sklearn.metrics import f1_score\n",
    "from sklearn.metrics import cohen_kappa_score\n",
    "from sklearn.metrics import roc_auc_score\n",
    "from sklearn.metrics import confusion_matrix\n",
    "# accuracy: (tp + tn) / (p + n)\n",
    "accuracy = accuracy_score(y_train, y_pred)\n",
    "print('Accuracy: %f' % accuracy)\n",
    "# precision tp / (tp + fp)\n",
    "precision = precision_score(y_train, y_pred)\n",
    "print('Precision: %f' % precision)\n",
    "# recall: tp / (tp + fn)\n",
    "recall = recall_score(y_train, y_pred)\n",
    "print('Recall: %f' % recall)\n",
    "# f1: 2 tp / (2 tp + fp + fn)\n",
    "f1 = f1_score(y_train, y_pred)\n",
    "print('F1 score: %f' % f1)\n",
    "# kappa\n",
    "kappa = cohen_kappa_score(y_train, y_pred)\n",
    "print('Cohens kappa: %f' % kappa)\n",
    "# ROC AUC\n",
    "auc = roc_auc_score(y_train, y_pred)\n",
    "print('ROC AUC: %f' % auc)\n",
    "# confusion matrix\n",
    "matrix = confusion_matrix(y_train, y_pred)\n",
    "print(matrix)"
   ]
  },
  {
   "cell_type": "code",
   "execution_count": 19,
   "id": "meaning-closure",
   "metadata": {},
   "outputs": [
    {
     "data": {
      "text/plain": [
       "<AxesSubplot:>"
      ]
     },
     "execution_count": 19,
     "metadata": {},
     "output_type": "execute_result"
    },
    {
     "data": {
      "image/png": "[encoded data removed]",
      "text/plain": [
       "<Figure size 432x288 with 2 Axes>"
      ]
     },
     "metadata": {
      "needs_background": "light"
     },
     "output_type": "display_data"
    }
   ],
   "source": [
    "import numpy as np\n",
    "import seaborn as sns\n",
    "\n",
    "sns.heatmap(matrix/np.sum(matrix), annot=True, \n",
    "            fmt='.2%', cmap='Reds')"
   ]
  },
  {
   "cell_type": "code",
   "execution_count": 13,
   "id": "clinical-jungle",
   "metadata": {},
   "outputs": [
    {
     "data": {
      "text/plain": [
       "<AxesSubplot:>"
      ]
     },
     "execution_count": 13,
     "metadata": {},
     "output_type": "execute_result"
    },
    {
     "data": {
      "image/png": "[encoded data removed]",
      "text/plain": [
       "<Figure size 432x288 with 2 Axes>"
      ]
     },
     "metadata": {
      "needs_background": "light"
     },
     "output_type": "display_data"
    }
   ],
   "source": [
    "import seaborn as sns\n",
    "sns.heatmap(matrix, annot=True)"
   ]
  },
  {
   "cell_type": "code",
   "execution_count": 18,
   "id": "provincial-reggae",
   "metadata": {},
   "outputs": [
    {
     "data": {
      "image/png": "[encoded data removed]",
      "text/plain": [
       "<Figure size 432x288 with 2 Axes>"
      ]
     },
     "metadata": {
      "needs_background": "light"
     },
     "output_type": "display_data"
    }
   ],
   "source": [
    "from mlxtend.plotting import plot_confusion_matrix\n",
    "import matplotlib.pyplot as plt\n",
    "import numpy as np\n",
    "\n",
    "cm = np.array([[1484, 0],\n",
    "               [0, 5517]])\n",
    "\n",
    "# Classes\n",
    "classes = ['class A', 'class B']\n",
    "\n",
    "figure, ax = plot_confusion_matrix(conf_mat = cm,\n",
    "                                   class_names = classes,\n",
    "                                   show_absolute = True,\n",
    "                                   show_normed = False,\n",
    "                                   colorbar = True)\n",
    "\n",
    "plt.show()"
   ]
  },
  {
   "cell_type": "code",
   "execution_count": 22,
   "id": "advisory-roots",
   "metadata": {},
   "outputs": [
    {
     "data": {
      "image/png": "[encoded data removed]",
      "text/plain": [
       "<Figure size 432x288 with 1 Axes>"
      ]
     },
     "metadata": {
      "needs_background": "light"
     },
     "output_type": "display_data"
    }
   ],
   "source": [
    "plt.figure()\n",
    "lw = 2\n",
    "plt.plot(\n",
    "    1.0,\n",
    "    1.0,\n",
    "    color=\"darkorange\",\n",
    "    lw=lw,\n",
    "    label=\"ROC curve (area = %0.2f)\" % 1.0,\n",
    ")\n",
    "plt.plot([0, 1], [0, 1], color=\"navy\", lw=lw, linestyle=\"--\")\n",
    "plt.xlim([0.0, 1.0])\n",
    "plt.ylim([0.0, 1.05])\n",
    "plt.xlabel(\"False Positive Rate\")\n",
    "plt.ylabel(\"True Positive Rate\")\n",
    "plt.title(\"Receiver operating characteristic example\")\n",
    "plt.legend(loc=\"lower right\")\n",
    "plt.show()"
   ]
  },
  {
   "cell_type": "code",
   "execution_count": 25,
   "id": "retired-representation",
   "metadata": {},
   "outputs": [
    {
     "data": {
      "image/png": "[encoded data removed]",
      "text/plain": [
       "<Figure size 360x360 with 1 Axes>"
      ]
     },
     "metadata": {
      "needs_background": "light"
     },
     "output_type": "display_data"
    }
   ],
   "source": [
    "#auc\n",
    "from sklearn.metrics import roc_curve\n",
    "from sklearn.metrics import RocCurveDisplay\n",
    "\n",
    "def plot_sklearn_roc_curve(y_real, y_pred):\n",
    "    fpr, tpr, _ = roc_curve(y_real, y_pred)\n",
    "    roc_display = RocCurveDisplay(fpr=fpr, tpr=tpr).plot()\n",
    "    roc_display.figure_.set_size_inches(5,5)\n",
    "    plt.plot([0, 1], [0, 1], color = 'g')\n",
    "# Plots the ROC curve using the sklearn methods - Good plot\n",
    "#plot_sklearn_roc_curve(y_test, y_pred[:, 1])\n",
    "# Plots the ROC curve using the sklearn methods - Bad plot\n",
    "plot_sklearn_roc_curve(y_train, y_pred)"
   ]
  },
  {
   "cell_type": "code",
   "execution_count": 26,
   "id": "living-treasure",
   "metadata": {},
   "outputs": [
    {
     "data": {
      "image/png": "[encoded data removed]",
      "text/plain": [
       "<Figure size 432x288 with 1 Axes>"
      ]
     },
     "metadata": {
      "needs_background": "light"
     },
     "output_type": "display_data"
    }
   ],
   "source": [
    "import matplotlib.pyplot \n",
    "\n",
    "plt.plot(history.history['mean_squared_error'])\n",
    "plt.show()"
   ]
  },
  {
   "cell_type": "code",
   "execution_count": 28,
   "id": "finite-container",
   "metadata": {},
   "outputs": [
    {
     "data": {
      "image/png": "[encoded data removed]",
      "text/plain": [
       "<Figure size 432x288 with 1 Axes>"
      ]
     },
     "metadata": {
      "needs_background": "light"
     },
     "output_type": "display_data"
    }
   ],
   "source": [
    "# learning curves of model accuracy\n",
    "plt.plot(history.history['accuracy'], label='train')\n",
    "plt.plot(history.history['val_accuracy'], label='test')\n",
    "plt.legend()\n",
    "plt.show()"
   ]
  },
  {
   "cell_type": "code",
   "execution_count": 29,
   "id": "recorded-brunswick",
   "metadata": {},
   "outputs": [
    {
     "name": "stdout",
     "output_type": "stream",
     "text": [
      "Accuracy: 0.990862\n",
      "Precision: 0.993649\n",
      "Recall: 0.995053\n",
      "F1 score: 0.994350\n",
      "Cohens kappa: 0.970470\n",
      "ROC AUC: 0.984134\n",
      "[[ 327    9]\n",
      " [   7 1408]]\n"
     ]
    }
   ],
   "source": [
    "#validation \n",
    "from sklearn.metrics import confusion_matrix\n",
    "\n",
    "pred = model.predict(X_validation)\n",
    "y_pred = [0 if y[0]>y[1] else 1 for y in pred] \n",
    "\n",
    "from sklearn.datasets import make_circles\n",
    "from sklearn.metrics import accuracy_score\n",
    "from sklearn.metrics import precision_score\n",
    "from sklearn.metrics import recall_score\n",
    "from sklearn.metrics import f1_score\n",
    "from sklearn.metrics import cohen_kappa_score\n",
    "from sklearn.metrics import roc_auc_score\n",
    "from sklearn.metrics import confusion_matrix\n",
    "# accuracy: (tp + tn) / (p + n)\n",
    "accuracy = accuracy_score(y_validation, y_pred)\n",
    "print('Accuracy: %f' % accuracy)\n",
    "# precision tp / (tp + fp)\n",
    "precision = precision_score(y_validation, y_pred)\n",
    "print('Precision: %f' % precision)\n",
    "# recall: tp / (tp + fn)\n",
    "recall = recall_score(y_validation, y_pred)\n",
    "print('Recall: %f' % recall)\n",
    "# f1: 2 tp / (2 tp + fp + fn)\n",
    "f1 = f1_score(y_validation, y_pred)\n",
    "print('F1 score: %f' % f1)\n",
    "# kappa\n",
    "kappa = cohen_kappa_score(y_validation, y_pred)\n",
    "print('Cohens kappa: %f' % kappa)\n",
    "# ROC AUC\n",
    "auc = roc_auc_score(y_validation, y_pred)\n",
    "print('ROC AUC: %f' % auc)\n",
    "# confusion matrix\n",
    "matrix = confusion_matrix(y_validation, y_pred)\n",
    "print(matrix)"
   ]
  },
  {
   "cell_type": "code",
   "execution_count": 31,
   "id": "legendary-navigator",
   "metadata": {},
   "outputs": [
    {
     "name": "stdout",
     "output_type": "stream",
     "text": [
      "Model: \"model_2\"\n",
      "__________________________________________________________________________________________________\n",
      " Layer (type)                   Output Shape         Param #     Connected to                     \n",
      "==================================================================================================\n",
      " input_4 (InputLayer)           [(None, 149, 646)]   0           []                               \n",
      "                                                                                                  \n",
      " bidirectional_3 (Bidirectional  (None, 149, 200)    597600      ['input_4[0][0]']                \n",
      " )                                                                                                \n",
      "                                                                                                  \n",
      " conv1d_6 (Conv1D)              (None, 149, 200)     387800      ['input_4[0][0]']                \n",
      "                                                                                                  \n",
      " add_3 (Add)                    (None, 149, 200)     0           ['bidirectional_3[0][0]',        \n",
      "                                                                  'conv1d_6[0][0]']               \n",
      "                                                                                                  \n",
      " conv1d_7 (Conv1D)              (None, 147, 200)     120200      ['add_3[0][0]']                  \n",
      "                                                                                                  \n",
      " global_max_pooling1d_3 (Global  (None, 200)         0           ['conv1d_7[0][0]']               \n",
      " MaxPooling1D)                                                                                    \n",
      "                                                                                                  \n",
      " dense_6 (Dense)                (None, 100)          20100       ['global_max_pooling1d_3[0][0]'] \n",
      "                                                                                                  \n",
      " dropout_1 (Dropout)            (None, 100)          0           ['dense_6[0][0]']                \n",
      "                                                                                                  \n",
      " dense_7 (Dense)                (None, 2)            202         ['dropout_1[0][0]']              \n",
      "                                                                                                  \n",
      "==================================================================================================\n",
      "Total params: 1,125,902\n",
      "Trainable params: 1,125,902\n",
      "Non-trainable params: 0\n",
      "__________________________________________________________________________________________________\n"
     ]
    }
   ],
   "source": [
    "# two sided model\n",
    "#from keras.layers.core import Input, Model\n",
    "from keras.layers import *\n",
    "from keras.models import *\n",
    "from keras.utils import *\n",
    "from keras.initializers import *\n",
    "import tensorflow as tf\n",
    "\n",
    "\n",
    "inputs = Input((149,646))\n",
    "\n",
    "side1 = Bidirectional(LSTM(100, return_sequences=True))(inputs) #200 total units\n",
    "side2 = Conv1D(200, kernel_size=3, activation = 'relu', padding = 'same')(inputs) #same activation \n",
    "                                                                   #same length\n",
    "\n",
    "merged = Add()([side1, side2]) \n",
    "     #or Concatenate()([side1, side2]) if different number of units/channels/features\n",
    "\n",
    "outputs = Conv1D(200, kernel_size=3)(merged)\n",
    "outputs = GlobalMaxPooling1D()(outputs)\n",
    "outputs = Dense(100)(outputs)\n",
    "outputs = Dropout(0.2)(outputs)\n",
    "outputs = Dense(2, activation='softmax')(outputs)\n",
    "\n",
    "model = Model(inputs, outputs)\n",
    "model.summary()"
   ]
  },
  {
   "cell_type": "code",
   "execution_count": null,
   "id": "first-survey",
   "metadata": {},
   "outputs": [],
   "source": [
    "model.compile(optimizer=keras.optimizers.Adam(1e-4),loss=tf.losses.SparseCategoricalCrossentropy(), metrics=[\"accuracy\", \"MeanSquaredError\"])\n",
    "history=model.fit(X_train, y_train, validation_data=(X_validation, y_validation),epochs = 50, batch_size = 128, verbose = 1)\n"
   ]
  },
  {
   "cell_type": "code",
   "execution_count": null,
   "id": "colonial-legislature",
   "metadata": {},
   "outputs": [],
   "source": []
  },
  {
   "cell_type": "code",
   "execution_count": null,
   "id": "outstanding-tissue",
   "metadata": {},
   "outputs": [],
   "source": []
  }
 ],
 "metadata": {
  "kernelspec": {
   "display_name": "Python 3",
   "language": "python",
   "name": "python3"
  },
  "language_info": {
   "codemirror_mode": {
    "name": "ipython",
    "version": 3
   },
   "file_extension": ".py",
   "mimetype": "text/x-python",
   "name": "python",
   "nbconvert_exporter": "python",
   "pygments_lexer": "ipython3",
   "version": "3.8.5"
  }
 },
 "nbformat": 4,
 "nbformat_minor": 5
}
